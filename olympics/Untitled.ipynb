{
 "cells": [
  {
   "cell_type": "markdown",
   "metadata": {},
   "source": [
    "## Historical Data about the olympics\n",
    "This dataset is about the olympics from 1896 to 2016. The data is in csv format and the data is downloaded from \n",
    "https://www.kaggle.com/heesoo37/120-years-of-olympic-history-athletes-and-results"
   ]
  },
  {
   "cell_type": "code",
   "execution_count": 2,
   "metadata": {
    "ExecuteTime": {
     "end_time": "2020-12-08T16:34:50.135278Z",
     "start_time": "2020-12-08T16:34:50.087443Z"
    }
   },
   "outputs": [
    {
     "data": {
      "text/html": [
       "        <script type=\"text/javascript\">\n",
       "        window.PlotlyConfig = {MathJaxConfig: 'local'};\n",
       "        if (window.MathJax) {MathJax.Hub.Config({SVG: {font: \"STIX-Web\"}});}\n",
       "        if (typeof require !== 'undefined') {\n",
       "        require.undef(\"plotly\");\n",
       "        requirejs.config({\n",
       "            paths: {\n",
       "                'plotly': ['https://cdn.plot.ly/plotly-latest.min']\n",
       "            }\n",
       "        });\n",
       "        require(['plotly'], function(Plotly) {\n",
       "            window._Plotly = Plotly;\n",
       "        });\n",
       "        }\n",
       "        </script>\n",
       "        "
      ]
     },
     "metadata": {},
     "output_type": "display_data"
    },
    {
     "data": {
      "text/html": [
       "        <script type=\"text/javascript\">\n",
       "        window.PlotlyConfig = {MathJaxConfig: 'local'};\n",
       "        if (window.MathJax) {MathJax.Hub.Config({SVG: {font: \"STIX-Web\"}});}\n",
       "        if (typeof require !== 'undefined') {\n",
       "        require.undef(\"plotly\");\n",
       "        requirejs.config({\n",
       "            paths: {\n",
       "                'plotly': ['https://cdn.plot.ly/plotly-latest.min']\n",
       "            }\n",
       "        });\n",
       "        require(['plotly'], function(Plotly) {\n",
       "            window._Plotly = Plotly;\n",
       "        });\n",
       "        }\n",
       "        </script>\n",
       "        "
      ]
     },
     "metadata": {},
     "output_type": "display_data"
    }
   ],
   "source": [
    "import plotly.graph_objects as go\n",
    "import chart_studio.plotly as py\n",
    "import cufflinks as cf\n",
    "from plotly.offline import iplot, init_notebook_mode\n",
    "#--------------------------------------------#\n",
    "\n",
    "import pandas as pd\n",
    "import numpy as np\n",
    "\n",
    "%matplotlib inline\n",
    "\n",
    "# option for pandas to display the columns\n",
    "pd.options.display.max_columns=30\n",
    "\n",
    "# setting the notebook mode for plotly\n",
    "\n",
    "init_notebook_mode(connected=True)\n",
    "cf.go_offline(connected=True)\n",
    "\n",
    "# setting theme in cufflinks\n",
    "\n",
    "cf.set_config_file(theme=\"pearl\")\n"
   ]
  },
  {
   "cell_type": "code",
   "execution_count": 3,
   "metadata": {
    "ExecuteTime": {
     "end_time": "2020-12-08T16:34:52.643258Z",
     "start_time": "2020-12-08T16:34:50.142280Z"
    }
   },
   "outputs": [],
   "source": [
    "data = pd.read_csv('athlete_events.csv')"
   ]
  },
  {
   "cell_type": "markdown",
   "metadata": {},
   "source": [
    "## Data Description"
   ]
  },
  {
   "cell_type": "code",
   "execution_count": 4,
   "metadata": {
    "ExecuteTime": {
     "end_time": "2020-12-08T16:34:52.958623Z",
     "start_time": "2020-12-08T16:34:52.643258Z"
    }
   },
   "outputs": [
    {
     "data": {
      "text/html": [
       "<div>\n",
       "<style scoped>\n",
       "    .dataframe tbody tr th:only-of-type {\n",
       "        vertical-align: middle;\n",
       "    }\n",
       "\n",
       "    .dataframe tbody tr th {\n",
       "        vertical-align: top;\n",
       "    }\n",
       "\n",
       "    .dataframe thead th {\n",
       "        text-align: right;\n",
       "    }\n",
       "</style>\n",
       "<table border=\"1\" class=\"dataframe\">\n",
       "  <thead>\n",
       "    <tr style=\"text-align: right;\">\n",
       "      <th></th>\n",
       "      <th>ID</th>\n",
       "      <th>Age</th>\n",
       "      <th>Height</th>\n",
       "      <th>Weight</th>\n",
       "      <th>Year</th>\n",
       "    </tr>\n",
       "  </thead>\n",
       "  <tbody>\n",
       "    <tr>\n",
       "      <th>count</th>\n",
       "      <td>271116.000000</td>\n",
       "      <td>261642.000000</td>\n",
       "      <td>210945.000000</td>\n",
       "      <td>208241.000000</td>\n",
       "      <td>271116.000000</td>\n",
       "    </tr>\n",
       "    <tr>\n",
       "      <th>mean</th>\n",
       "      <td>68248.954396</td>\n",
       "      <td>25.556898</td>\n",
       "      <td>175.338970</td>\n",
       "      <td>70.702393</td>\n",
       "      <td>1978.378480</td>\n",
       "    </tr>\n",
       "    <tr>\n",
       "      <th>std</th>\n",
       "      <td>39022.286345</td>\n",
       "      <td>6.393561</td>\n",
       "      <td>10.518462</td>\n",
       "      <td>14.348020</td>\n",
       "      <td>29.877632</td>\n",
       "    </tr>\n",
       "    <tr>\n",
       "      <th>min</th>\n",
       "      <td>1.000000</td>\n",
       "      <td>10.000000</td>\n",
       "      <td>127.000000</td>\n",
       "      <td>25.000000</td>\n",
       "      <td>1896.000000</td>\n",
       "    </tr>\n",
       "    <tr>\n",
       "      <th>25%</th>\n",
       "      <td>34643.000000</td>\n",
       "      <td>21.000000</td>\n",
       "      <td>168.000000</td>\n",
       "      <td>60.000000</td>\n",
       "      <td>1960.000000</td>\n",
       "    </tr>\n",
       "    <tr>\n",
       "      <th>50%</th>\n",
       "      <td>68205.000000</td>\n",
       "      <td>24.000000</td>\n",
       "      <td>175.000000</td>\n",
       "      <td>70.000000</td>\n",
       "      <td>1988.000000</td>\n",
       "    </tr>\n",
       "    <tr>\n",
       "      <th>75%</th>\n",
       "      <td>102097.250000</td>\n",
       "      <td>28.000000</td>\n",
       "      <td>183.000000</td>\n",
       "      <td>79.000000</td>\n",
       "      <td>2002.000000</td>\n",
       "    </tr>\n",
       "    <tr>\n",
       "      <th>max</th>\n",
       "      <td>135571.000000</td>\n",
       "      <td>97.000000</td>\n",
       "      <td>226.000000</td>\n",
       "      <td>214.000000</td>\n",
       "      <td>2016.000000</td>\n",
       "    </tr>\n",
       "  </tbody>\n",
       "</table>\n",
       "</div>"
      ],
      "text/plain": [
       "                  ID            Age         Height         Weight  \\\n",
       "count  271116.000000  261642.000000  210945.000000  208241.000000   \n",
       "mean    68248.954396      25.556898     175.338970      70.702393   \n",
       "std     39022.286345       6.393561      10.518462      14.348020   \n",
       "min         1.000000      10.000000     127.000000      25.000000   \n",
       "25%     34643.000000      21.000000     168.000000      60.000000   \n",
       "50%     68205.000000      24.000000     175.000000      70.000000   \n",
       "75%    102097.250000      28.000000     183.000000      79.000000   \n",
       "max    135571.000000      97.000000     226.000000     214.000000   \n",
       "\n",
       "                Year  \n",
       "count  271116.000000  \n",
       "mean     1978.378480  \n",
       "std        29.877632  \n",
       "min      1896.000000  \n",
       "25%      1960.000000  \n",
       "50%      1988.000000  \n",
       "75%      2002.000000  \n",
       "max      2016.000000  "
      ]
     },
     "execution_count": 4,
     "metadata": {},
     "output_type": "execute_result"
    }
   ],
   "source": [
    "data.describe()"
   ]
  },
  {
   "cell_type": "code",
   "execution_count": 5,
   "metadata": {
    "ExecuteTime": {
     "end_time": "2020-12-08T16:34:53.218821Z",
     "start_time": "2020-12-08T16:34:52.961632Z"
    }
   },
   "outputs": [
    {
     "name": "stdout",
     "output_type": "stream",
     "text": [
      "<class 'pandas.core.frame.DataFrame'>\n",
      "RangeIndex: 271116 entries, 0 to 271115\n",
      "Data columns (total 15 columns):\n",
      "ID        271116 non-null int64\n",
      "Name      271116 non-null object\n",
      "Sex       271116 non-null object\n",
      "Age       261642 non-null float64\n",
      "Height    210945 non-null float64\n",
      "Weight    208241 non-null float64\n",
      "Team      271116 non-null object\n",
      "NOC       271116 non-null object\n",
      "Games     271116 non-null object\n",
      "Year      271116 non-null int64\n",
      "Season    271116 non-null object\n",
      "City      271116 non-null object\n",
      "Sport     271116 non-null object\n",
      "Event     271116 non-null object\n",
      "Medal     39783 non-null object\n",
      "dtypes: float64(3), int64(2), object(10)\n",
      "memory usage: 31.0+ MB\n"
     ]
    }
   ],
   "source": [
    "data.info()"
   ]
  },
  {
   "cell_type": "code",
   "execution_count": 6,
   "metadata": {
    "ExecuteTime": {
     "end_time": "2020-12-08T16:34:53.234815Z",
     "start_time": "2020-12-08T16:34:53.220824Z"
    }
   },
   "outputs": [
    {
     "data": {
      "text/plain": [
       "Index(['ID', 'Name', 'Sex', 'Age', 'Height', 'Weight', 'Team', 'NOC', 'Games',\n",
       "       'Year', 'Season', 'City', 'Sport', 'Event', 'Medal'],\n",
       "      dtype='object')"
      ]
     },
     "execution_count": 6,
     "metadata": {},
     "output_type": "execute_result"
    }
   ],
   "source": [
    "data.columns"
   ]
  },
  {
   "cell_type": "markdown",
   "metadata": {},
   "source": [
    "### Columns:\n",
    "We can see the available columns from the information below and the types of each column. There are few missing values in the age,height and weight column. There are missing values in Medal Columns as well, but the data is maintained such that players who did not receive medal has NaN on the Medal columns."
   ]
  },
  {
   "cell_type": "code",
   "execution_count": 7,
   "metadata": {
    "ExecuteTime": {
     "end_time": "2020-12-08T16:34:53.360823Z",
     "start_time": "2020-12-08T16:34:53.237818Z"
    }
   },
   "outputs": [
    {
     "data": {
      "text/plain": [
       "Index(['ID', 'Name', 'Sex', 'Age', 'Height', 'Weight', 'Team', 'NOC', 'Games',\n",
       "       'Year', 'Season', 'City', 'Sport', 'Event', 'Medal'],\n",
       "      dtype='object')"
      ]
     },
     "execution_count": 7,
     "metadata": {},
     "output_type": "execute_result"
    }
   ],
   "source": [
    "data.columns"
   ]
  },
  {
   "cell_type": "markdown",
   "metadata": {},
   "source": [
    "### First few data of the dataframe"
   ]
  },
  {
   "cell_type": "code",
   "execution_count": 8,
   "metadata": {
    "ExecuteTime": {
     "end_time": "2020-12-08T16:34:53.584132Z",
     "start_time": "2020-12-08T16:34:53.367840Z"
    }
   },
   "outputs": [
    {
     "data": {
      "text/html": [
       "<div>\n",
       "<style scoped>\n",
       "    .dataframe tbody tr th:only-of-type {\n",
       "        vertical-align: middle;\n",
       "    }\n",
       "\n",
       "    .dataframe tbody tr th {\n",
       "        vertical-align: top;\n",
       "    }\n",
       "\n",
       "    .dataframe thead th {\n",
       "        text-align: right;\n",
       "    }\n",
       "</style>\n",
       "<table border=\"1\" class=\"dataframe\">\n",
       "  <thead>\n",
       "    <tr style=\"text-align: right;\">\n",
       "      <th></th>\n",
       "      <th>ID</th>\n",
       "      <th>Name</th>\n",
       "      <th>Sex</th>\n",
       "      <th>Age</th>\n",
       "      <th>Height</th>\n",
       "      <th>Weight</th>\n",
       "      <th>Team</th>\n",
       "      <th>NOC</th>\n",
       "      <th>Games</th>\n",
       "      <th>Year</th>\n",
       "      <th>Season</th>\n",
       "      <th>City</th>\n",
       "      <th>Sport</th>\n",
       "      <th>Event</th>\n",
       "      <th>Medal</th>\n",
       "    </tr>\n",
       "  </thead>\n",
       "  <tbody>\n",
       "    <tr>\n",
       "      <th>0</th>\n",
       "      <td>1</td>\n",
       "      <td>A Dijiang</td>\n",
       "      <td>M</td>\n",
       "      <td>24.0</td>\n",
       "      <td>180.0</td>\n",
       "      <td>80.0</td>\n",
       "      <td>China</td>\n",
       "      <td>CHN</td>\n",
       "      <td>1992 Summer</td>\n",
       "      <td>1992</td>\n",
       "      <td>Summer</td>\n",
       "      <td>Barcelona</td>\n",
       "      <td>Basketball</td>\n",
       "      <td>Basketball Men's Basketball</td>\n",
       "      <td>NaN</td>\n",
       "    </tr>\n",
       "    <tr>\n",
       "      <th>1</th>\n",
       "      <td>2</td>\n",
       "      <td>A Lamusi</td>\n",
       "      <td>M</td>\n",
       "      <td>23.0</td>\n",
       "      <td>170.0</td>\n",
       "      <td>60.0</td>\n",
       "      <td>China</td>\n",
       "      <td>CHN</td>\n",
       "      <td>2012 Summer</td>\n",
       "      <td>2012</td>\n",
       "      <td>Summer</td>\n",
       "      <td>London</td>\n",
       "      <td>Judo</td>\n",
       "      <td>Judo Men's Extra-Lightweight</td>\n",
       "      <td>NaN</td>\n",
       "    </tr>\n",
       "    <tr>\n",
       "      <th>2</th>\n",
       "      <td>3</td>\n",
       "      <td>Gunnar Nielsen Aaby</td>\n",
       "      <td>M</td>\n",
       "      <td>24.0</td>\n",
       "      <td>NaN</td>\n",
       "      <td>NaN</td>\n",
       "      <td>Denmark</td>\n",
       "      <td>DEN</td>\n",
       "      <td>1920 Summer</td>\n",
       "      <td>1920</td>\n",
       "      <td>Summer</td>\n",
       "      <td>Antwerpen</td>\n",
       "      <td>Football</td>\n",
       "      <td>Football Men's Football</td>\n",
       "      <td>NaN</td>\n",
       "    </tr>\n",
       "    <tr>\n",
       "      <th>3</th>\n",
       "      <td>4</td>\n",
       "      <td>Edgar Lindenau Aabye</td>\n",
       "      <td>M</td>\n",
       "      <td>34.0</td>\n",
       "      <td>NaN</td>\n",
       "      <td>NaN</td>\n",
       "      <td>Denmark/Sweden</td>\n",
       "      <td>DEN</td>\n",
       "      <td>1900 Summer</td>\n",
       "      <td>1900</td>\n",
       "      <td>Summer</td>\n",
       "      <td>Paris</td>\n",
       "      <td>Tug-Of-War</td>\n",
       "      <td>Tug-Of-War Men's Tug-Of-War</td>\n",
       "      <td>Gold</td>\n",
       "    </tr>\n",
       "    <tr>\n",
       "      <th>4</th>\n",
       "      <td>5</td>\n",
       "      <td>Christine Jacoba Aaftink</td>\n",
       "      <td>F</td>\n",
       "      <td>21.0</td>\n",
       "      <td>185.0</td>\n",
       "      <td>82.0</td>\n",
       "      <td>Netherlands</td>\n",
       "      <td>NED</td>\n",
       "      <td>1988 Winter</td>\n",
       "      <td>1988</td>\n",
       "      <td>Winter</td>\n",
       "      <td>Calgary</td>\n",
       "      <td>Speed Skating</td>\n",
       "      <td>Speed Skating Women's 500 metres</td>\n",
       "      <td>NaN</td>\n",
       "    </tr>\n",
       "  </tbody>\n",
       "</table>\n",
       "</div>"
      ],
      "text/plain": [
       "   ID                      Name Sex   Age  Height  Weight            Team  \\\n",
       "0   1                 A Dijiang   M  24.0   180.0    80.0           China   \n",
       "1   2                  A Lamusi   M  23.0   170.0    60.0           China   \n",
       "2   3       Gunnar Nielsen Aaby   M  24.0     NaN     NaN         Denmark   \n",
       "3   4      Edgar Lindenau Aabye   M  34.0     NaN     NaN  Denmark/Sweden   \n",
       "4   5  Christine Jacoba Aaftink   F  21.0   185.0    82.0     Netherlands   \n",
       "\n",
       "   NOC        Games  Year  Season       City          Sport  \\\n",
       "0  CHN  1992 Summer  1992  Summer  Barcelona     Basketball   \n",
       "1  CHN  2012 Summer  2012  Summer     London           Judo   \n",
       "2  DEN  1920 Summer  1920  Summer  Antwerpen       Football   \n",
       "3  DEN  1900 Summer  1900  Summer      Paris     Tug-Of-War   \n",
       "4  NED  1988 Winter  1988  Winter    Calgary  Speed Skating   \n",
       "\n",
       "                              Event Medal  \n",
       "0       Basketball Men's Basketball   NaN  \n",
       "1      Judo Men's Extra-Lightweight   NaN  \n",
       "2           Football Men's Football   NaN  \n",
       "3       Tug-Of-War Men's Tug-Of-War  Gold  \n",
       "4  Speed Skating Women's 500 metres   NaN  "
      ]
     },
     "execution_count": 8,
     "metadata": {},
     "output_type": "execute_result"
    }
   ],
   "source": [
    "data.head()"
   ]
  },
  {
   "cell_type": "markdown",
   "metadata": {},
   "source": [
    "### Statistical Info"
   ]
  },
  {
   "cell_type": "code",
   "execution_count": 9,
   "metadata": {
    "ExecuteTime": {
     "end_time": "2020-12-08T16:34:53.696129Z",
     "start_time": "2020-12-08T16:34:53.592122Z"
    }
   },
   "outputs": [
    {
     "name": "stdout",
     "output_type": "stream",
     "text": [
      "The oldest player to take part in olympics 2018 is : \n",
      "\n",
      "ID                                             128719\n",
      "Name                           John Quincy Adams Ward\n",
      "Sex                                                 M\n",
      "Age                                                97\n",
      "Height                                            NaN\n",
      "Weight                                            NaN\n",
      "Team                                    United States\n",
      "NOC                                               USA\n",
      "Games                                     1928 Summer\n",
      "Year                                             1928\n",
      "Season                                         Summer\n",
      "City                                        Amsterdam\n",
      "Sport                                Art Competitions\n",
      "Event     Art Competitions Mixed Sculpturing, Statues\n",
      "Medal                                             NaN\n",
      "Name: 257054, dtype: object\n"
     ]
    }
   ],
   "source": [
    "print ( \"The oldest player to take part in olympics 2018 is : \\n\")\n",
    "print(data.iloc[data['Age'].idxmax()])"
   ]
  },
  {
   "cell_type": "code",
   "execution_count": 10,
   "metadata": {
    "ExecuteTime": {
     "end_time": "2020-12-08T16:34:53.866258Z",
     "start_time": "2020-12-08T16:34:53.699120Z"
    }
   },
   "outputs": [
    {
     "name": "stdout",
     "output_type": "stream",
     "text": [
      "The oldest player to take part in olympics 2018 is : \n",
      "\n",
      "ID                                        71691\n",
      "Name                         Dimitrios Loundras\n",
      "Sex                                           M\n",
      "Age                                          10\n",
      "Height                                      NaN\n",
      "Weight                                      NaN\n",
      "Team              Ethnikos Gymnastikos Syllogos\n",
      "NOC                                         GRE\n",
      "Games                               1896 Summer\n",
      "Year                                       1896\n",
      "Season                                   Summer\n",
      "City                                     Athina\n",
      "Sport                                Gymnastics\n",
      "Event     Gymnastics Men's Parallel Bars, Teams\n",
      "Medal                                    Bronze\n",
      "Name: 142882, dtype: object\n"
     ]
    }
   ],
   "source": [
    "print ( \"The oldest player to take part in olympics 2018 is : \\n\")\n",
    "print(data.iloc[data['Age'].idxmin()])"
   ]
  },
  {
   "cell_type": "code",
   "execution_count": 11,
   "metadata": {
    "ExecuteTime": {
     "end_time": "2020-12-08T16:34:54.064650Z",
     "start_time": "2020-12-08T16:34:53.868261Z"
    }
   },
   "outputs": [
    {
     "name": "stdout",
     "output_type": "stream",
     "text": [
      "The average age of the player : \n",
      "\n",
      "25.556898357297374\n"
     ]
    }
   ],
   "source": [
    "print(\"The average age of the player : \\n\" )\n",
    "print (data['Age'].mean())"
   ]
  },
  {
   "cell_type": "code",
   "execution_count": 12,
   "metadata": {
    "ExecuteTime": {
     "end_time": "2020-12-08T16:34:54.314080Z",
     "start_time": "2020-12-08T16:34:54.075361Z"
    }
   },
   "outputs": [
    {
     "name": "stdout",
     "output_type": "stream",
     "text": [
      "The countries with most participants :\n",
      "\n",
      "0    United States\n",
      "dtype: object\n"
     ]
    }
   ],
   "source": [
    "print (\"The countries with most participants :\\n\")\n",
    "print (data['Team'].mode())\n"
   ]
  },
  {
   "cell_type": "code",
   "execution_count": 13,
   "metadata": {
    "ExecuteTime": {
     "end_time": "2020-12-08T16:34:54.498571Z",
     "start_time": "2020-12-08T16:34:54.317084Z"
    }
   },
   "outputs": [
    {
     "name": "stdout",
     "output_type": "stream",
     "text": [
      "Top 5 countries with highest participants \n",
      "\n"
     ]
    },
    {
     "data": {
      "text/plain": [
       "United States    17847\n",
       "France           11988\n",
       "Great Britain    11404\n",
       "Italy            10260\n",
       "Germany           9326\n",
       "Name: Team, dtype: int64"
      ]
     },
     "execution_count": 13,
     "metadata": {},
     "output_type": "execute_result"
    }
   ],
   "source": [
    "print(\"Top 5 countries with highest participants \\n\")\n",
    "data['Team'].value_counts()[:5].sort_values(ascending=False)"
   ]
  },
  {
   "cell_type": "code",
   "execution_count": 14,
   "metadata": {
    "ExecuteTime": {
     "end_time": "2020-12-08T16:34:54.791252Z",
     "start_time": "2020-12-08T16:34:54.501568Z"
    }
   },
   "outputs": [],
   "source": [
    "data_medal=data.groupby('Medal')['NOC'].value_counts()"
   ]
  },
  {
   "cell_type": "code",
   "execution_count": 15,
   "metadata": {
    "ExecuteTime": {
     "end_time": "2020-12-08T16:34:54.822959Z",
     "start_time": "2020-12-08T16:34:54.791252Z"
    }
   },
   "outputs": [],
   "source": [
    "#data.head()"
   ]
  },
  {
   "cell_type": "code",
   "execution_count": 16,
   "metadata": {
    "ExecuteTime": {
     "end_time": "2020-12-08T16:34:55.037477Z",
     "start_time": "2020-12-08T16:34:54.827946Z"
    }
   },
   "outputs": [],
   "source": [
    "data_meda_1 = pd.DataFrame(data.groupby(['Medal','NOC']).Medal.count())"
   ]
  },
  {
   "cell_type": "code",
   "execution_count": 17,
   "metadata": {
    "ExecuteTime": {
     "end_time": "2020-12-08T16:34:55.085563Z",
     "start_time": "2020-12-08T16:34:55.051567Z"
    }
   },
   "outputs": [],
   "source": [
    "a=data_meda_1.unstack()"
   ]
  },
  {
   "cell_type": "markdown",
   "metadata": {},
   "source": [
    "#### pandas styling "
   ]
  },
  {
   "cell_type": "code",
   "execution_count": 18,
   "metadata": {
    "ExecuteTime": {
     "end_time": "2020-12-08T16:35:16.938128Z",
     "start_time": "2020-12-08T16:34:55.098562Z"
    }
   },
   "outputs": [
    {
     "name": "stderr",
     "output_type": "stream",
     "text": [
      "C:\\Users\\swos\\AppData\\Roaming\\Python\\Python37\\site-packages\\matplotlib\\colors.py:512: RuntimeWarning:\n",
      "\n",
      "invalid value encountered in less\n",
      "\n"
     ]
    },
    {
     "data": {
      "text/html": [
       "<style  type=\"text/css\" >\n",
       "    #T_5a85a426_3973_11eb_902a_082e5f7192aarow0_col0 {\n",
       "            background-color:  #ffffe5;\n",
       "            : ;\n",
       "            : ;\n",
       "        }    #T_5a85a426_3973_11eb_902a_082e5f7192aarow0_col1 {\n",
       "            background-color:  #ffffe5;\n",
       "            : ;\n",
       "            : ;\n",
       "        }    #T_5a85a426_3973_11eb_902a_082e5f7192aarow0_col2 {\n",
       "            background-color:  #ffffe5;\n",
       "            : ;\n",
       "            : ;\n",
       "        }    #T_5a85a426_3973_11eb_902a_082e5f7192aarow0_col3 {\n",
       "            background-color:  #ffffd7;\n",
       "            : ;\n",
       "            : ;\n",
       "        }    #T_5a85a426_3973_11eb_902a_082e5f7192aarow0_col4 {\n",
       "            background-color:  #ffffe5;\n",
       "            : ;\n",
       "            : ;\n",
       "        }    #T_5a85a426_3973_11eb_902a_082e5f7192aarow0_col5 {\n",
       "            background-color:  #ffff8e;\n",
       "            : ;\n",
       "            : ;\n",
       "        }    #T_5a85a426_3973_11eb_902a_082e5f7192aarow0_col6 {\n",
       "            background-color:  #ffffcb;\n",
       "            : ;\n",
       "            : ;\n",
       "        }    #T_5a85a426_3973_11eb_902a_082e5f7192aarow0_col7 {\n",
       "            background-color:  #ffffe2;\n",
       "            : ;\n",
       "            : ;\n",
       "        }    #T_5a85a426_3973_11eb_902a_082e5f7192aarow0_col8 {\n",
       "            background-color:  #ffffe4;\n",
       "            : ;\n",
       "            : ;\n",
       "        }    #T_5a85a426_3973_11eb_902a_082e5f7192aarow0_col9 {\n",
       "            background-color:  #ffffe5;\n",
       "            : ;\n",
       "            : ;\n",
       "        }    #T_5a85a426_3973_11eb_902a_082e5f7192aarow0_col10 {\n",
       "            background-color:  #ffffc9;\n",
       "            : ;\n",
       "            : ;\n",
       "        }    #T_5a85a426_3973_11eb_902a_082e5f7192aarow0_col11 {\n",
       "            background-color:  #ffffe5;\n",
       "            : ;\n",
       "            : ;\n",
       "        }    #T_5a85a426_3973_11eb_902a_082e5f7192aarow0_col12 {\n",
       "            background-color:  #ffffda;\n",
       "            : ;\n",
       "            : ;\n",
       "        }    #T_5a85a426_3973_11eb_902a_082e5f7192aarow0_col13 {\n",
       "            background-color:  #ffffe5;\n",
       "            : ;\n",
       "            : ;\n",
       "        }    #T_5a85a426_3973_11eb_902a_082e5f7192aarow0_col14 {\n",
       "            background-color:  #ffffc6;\n",
       "            : ;\n",
       "            : ;\n",
       "        }    #T_5a85a426_3973_11eb_902a_082e5f7192aarow0_col15 {\n",
       "            background-color:  #ffffe5;\n",
       "            : ;\n",
       "            : ;\n",
       "        }    #T_5a85a426_3973_11eb_902a_082e5f7192aarow0_col16 {\n",
       "            background-color:  #ffffce;\n",
       "            : ;\n",
       "            : ;\n",
       "        }    #T_5a85a426_3973_11eb_902a_082e5f7192aarow0_col17 {\n",
       "            background-color:  #ffff9a;\n",
       "            : ;\n",
       "            : ;\n",
       "        }    #T_5a85a426_3973_11eb_902a_082e5f7192aarow0_col18 {\n",
       "            background-color:  #ffffe3;\n",
       "            : ;\n",
       "            : ;\n",
       "        }    #T_5a85a426_3973_11eb_902a_082e5f7192aarow0_col19 {\n",
       "            background-color:  #ffffb5;\n",
       "            : ;\n",
       "            : ;\n",
       "        }    #T_5a85a426_3973_11eb_902a_082e5f7192aarow0_col20 {\n",
       "            background-color:  #ffffe5;\n",
       "            : ;\n",
       "            : ;\n",
       "        }    #T_5a85a426_3973_11eb_902a_082e5f7192aarow0_col21 {\n",
       "            background-color:  #ffffe5;\n",
       "            : ;\n",
       "            : ;\n",
       "        }    #T_5a85a426_3973_11eb_902a_082e5f7192aarow0_col22 {\n",
       "            background-color:  #ffffe4;\n",
       "            : ;\n",
       "            : ;\n",
       "        }    #T_5a85a426_3973_11eb_902a_082e5f7192aarow0_col23 {\n",
       "            background-color:  #ffffe5;\n",
       "            : ;\n",
       "            : ;\n",
       "        }    #T_5a85a426_3973_11eb_902a_082e5f7192aarow0_col24 {\n",
       "            background-color:  #ffffe0;\n",
       "            : ;\n",
       "            : ;\n",
       "        }    #T_5a85a426_3973_11eb_902a_082e5f7192aarow0_col25 {\n",
       "            background-color:  #ffffd3;\n",
       "            : ;\n",
       "            : ;\n",
       "        }    #T_5a85a426_3973_11eb_902a_082e5f7192aarow0_col26 {\n",
       "            background-color:  #ffffdb;\n",
       "            : ;\n",
       "            : ;\n",
       "        }    #T_5a85a426_3973_11eb_902a_082e5f7192aarow0_col27 {\n",
       "            background-color:  #ffffc8;\n",
       "            : ;\n",
       "            : ;\n",
       "        }    #T_5a85a426_3973_11eb_902a_082e5f7192aarow0_col28 {\n",
       "            background-color:  #ffffe5;\n",
       "            : ;\n",
       "            : ;\n",
       "        }    #T_5a85a426_3973_11eb_902a_082e5f7192aarow0_col29 {\n",
       "            background-color:  #ffffe5;\n",
       "            : ;\n",
       "            : ;\n",
       "        }    #T_5a85a426_3973_11eb_902a_082e5f7192aarow0_col30 {\n",
       "            background-color:  #ffffe4;\n",
       "            : ;\n",
       "            : ;\n",
       "        }    #T_5a85a426_3973_11eb_902a_082e5f7192aarow0_col31 {\n",
       "            background-color:  #ffffe5;\n",
       "            : ;\n",
       "            : ;\n",
       "        }    #T_5a85a426_3973_11eb_902a_082e5f7192aarow0_col32 {\n",
       "            background-color:  #ffffcf;\n",
       "            : ;\n",
       "            : ;\n",
       "        }    #T_5a85a426_3973_11eb_902a_082e5f7192aarow0_col33 {\n",
       "            background-color:  #ffffe2;\n",
       "            : ;\n",
       "            : ;\n",
       "        }    #T_5a85a426_3973_11eb_902a_082e5f7192aarow0_col34 {\n",
       "            background-color:  #ffffe3;\n",
       "            : ;\n",
       "            : ;\n",
       "        }    #T_5a85a426_3973_11eb_902a_082e5f7192aarow0_col35 {\n",
       "            background-color:  #ffffd8;\n",
       "            : ;\n",
       "            : ;\n",
       "        }    #T_5a85a426_3973_11eb_902a_082e5f7192aarow0_col36 {\n",
       "            background-color:  #ffff9d;\n",
       "            : ;\n",
       "            : ;\n",
       "        }    #T_5a85a426_3973_11eb_902a_082e5f7192aarow0_col37 {\n",
       "            background-color:  #ffff75;\n",
       "            : ;\n",
       "            : ;\n",
       "        }    #T_5a85a426_3973_11eb_902a_082e5f7192aarow0_col38 {\n",
       "            background-color:  #ffffbf;\n",
       "            : ;\n",
       "            : ;\n",
       "        }    #T_5a85a426_3973_11eb_902a_082e5f7192aarow0_col39 {\n",
       "            background-color:  #ffff78;\n",
       "            : ;\n",
       "            : ;\n",
       "        }    #T_5a85a426_3973_11eb_902a_082e5f7192aarow0_col40 {\n",
       "            background-color:  #ffffb7;\n",
       "            : ;\n",
       "            : ;\n",
       "        }    #T_5a85a426_3973_11eb_902a_082e5f7192aarow0_col41 {\n",
       "            background-color:  #ffffe3;\n",
       "            : ;\n",
       "            : ;\n",
       "        }    #T_5a85a426_3973_11eb_902a_082e5f7192aarow0_col42 {\n",
       "            background-color:  #ffff67;\n",
       "            : ;\n",
       "            : ;\n",
       "        }    #T_5a85a426_3973_11eb_902a_082e5f7192aarow0_col43 {\n",
       "            background-color:  #ffffe3;\n",
       "            : ;\n",
       "            : ;\n",
       "        }    #T_5a85a426_3973_11eb_902a_082e5f7192aarow0_col44 {\n",
       "            background-color:  #ffffd8;\n",
       "            : ;\n",
       "            : ;\n",
       "        }    #T_5a85a426_3973_11eb_902a_082e5f7192aarow0_col45 {\n",
       "            background-color:  #ffffe5;\n",
       "            : ;\n",
       "            : ;\n",
       "        }    #T_5a85a426_3973_11eb_902a_082e5f7192aarow0_col46 {\n",
       "            background-color:  #ffffe5;\n",
       "            : ;\n",
       "            : ;\n",
       "        }    #T_5a85a426_3973_11eb_902a_082e5f7192aarow0_col47 {\n",
       "            background-color:  #ffffe5;\n",
       "            : ;\n",
       "            : ;\n",
       "        }    #T_5a85a426_3973_11eb_902a_082e5f7192aarow0_col48 {\n",
       "            background-color:  #ffffa7;\n",
       "            : ;\n",
       "            : ;\n",
       "        }    #T_5a85a426_3973_11eb_902a_082e5f7192aarow0_col49 {\n",
       "            background-color:  #ffffe4;\n",
       "            : ;\n",
       "            : ;\n",
       "        }    #T_5a85a426_3973_11eb_902a_082e5f7192aarow0_col50 {\n",
       "            background-color:  #ffffdf;\n",
       "            : ;\n",
       "            : ;\n",
       "        }    #T_5a85a426_3973_11eb_902a_082e5f7192aarow0_col51 {\n",
       "            background-color:  #ffffe5;\n",
       "            : ;\n",
       "            : ;\n",
       "        }    #T_5a85a426_3973_11eb_902a_082e5f7192aarow0_col52 {\n",
       "            background-color:  #ffffe1;\n",
       "            : ;\n",
       "            : ;\n",
       "        }    #T_5a85a426_3973_11eb_902a_082e5f7192aarow0_col53 {\n",
       "            background-color:  #ffffe4;\n",
       "            : ;\n",
       "            : ;\n",
       "        }    #T_5a85a426_3973_11eb_902a_082e5f7192aarow0_col54 {\n",
       "            background-color:  #ffffe5;\n",
       "            : ;\n",
       "            : ;\n",
       "        }    #T_5a85a426_3973_11eb_902a_082e5f7192aarow0_col55 {\n",
       "            background-color:  #ffffe5;\n",
       "            : ;\n",
       "            : ;\n",
       "        }    #T_5a85a426_3973_11eb_902a_082e5f7192aarow0_col56 {\n",
       "            background-color:  #ffffe5;\n",
       "            : ;\n",
       "            : ;\n",
       "        }    #T_5a85a426_3973_11eb_902a_082e5f7192aarow0_col57 {\n",
       "            background-color:  #ffff8c;\n",
       "            : ;\n",
       "            : ;\n",
       "        }    #T_5a85a426_3973_11eb_902a_082e5f7192aarow0_col58 {\n",
       "            background-color:  #ffffde;\n",
       "            : ;\n",
       "            : ;\n",
       "        }    #T_5a85a426_3973_11eb_902a_082e5f7192aarow0_col59 {\n",
       "            background-color:  #ffffa9;\n",
       "            : ;\n",
       "            : ;\n",
       "        }    #T_5a85a426_3973_11eb_902a_082e5f7192aarow0_col60 {\n",
       "            background-color:  #ffffe1;\n",
       "            : ;\n",
       "            : ;\n",
       "        }    #T_5a85a426_3973_11eb_902a_082e5f7192aarow0_col61 {\n",
       "            background-color:  #ffffe1;\n",
       "            : ;\n",
       "            : ;\n",
       "        }    #T_5a85a426_3973_11eb_902a_082e5f7192aarow0_col62 {\n",
       "            background-color:  #ffffe5;\n",
       "            : ;\n",
       "            : ;\n",
       "        }    #T_5a85a426_3973_11eb_902a_082e5f7192aarow0_col63 {\n",
       "            background-color:  #ffffc7;\n",
       "            : ;\n",
       "            : ;\n",
       "        }    #T_5a85a426_3973_11eb_902a_082e5f7192aarow0_col64 {\n",
       "            background-color:  #ffffe5;\n",
       "            : ;\n",
       "            : ;\n",
       "        }    #T_5a85a426_3973_11eb_902a_082e5f7192aarow0_col65 {\n",
       "            background-color:  #ffffe5;\n",
       "            : ;\n",
       "            : ;\n",
       "        }    #T_5a85a426_3973_11eb_902a_082e5f7192aarow0_col66 {\n",
       "            background-color:  #ffffe4;\n",
       "            : ;\n",
       "            : ;\n",
       "        }    #T_5a85a426_3973_11eb_902a_082e5f7192aarow0_col67 {\n",
       "            background-color:  #ffffe5;\n",
       "            : ;\n",
       "            : ;\n",
       "        }    #T_5a85a426_3973_11eb_902a_082e5f7192aarow0_col68 {\n",
       "            background-color:  #ffffe5;\n",
       "            : ;\n",
       "            : ;\n",
       "        }    #T_5a85a426_3973_11eb_902a_082e5f7192aarow0_col69 {\n",
       "            background-color:  #ffffde;\n",
       "            : ;\n",
       "            : ;\n",
       "        }    #T_5a85a426_3973_11eb_902a_082e5f7192aarow0_col70 {\n",
       "            background-color:  #ffffe4;\n",
       "            : ;\n",
       "            : ;\n",
       "        }    #T_5a85a426_3973_11eb_902a_082e5f7192aarow0_col71 {\n",
       "            background-color:  #ffffe5;\n",
       "            : ;\n",
       "            : ;\n",
       "        }    #T_5a85a426_3973_11eb_902a_082e5f7192aarow0_col72 {\n",
       "            background-color:  #ffffe5;\n",
       "            : ;\n",
       "            : ;\n",
       "        }    #T_5a85a426_3973_11eb_902a_082e5f7192aarow0_col73 {\n",
       "            background-color:  #ffffdd;\n",
       "            : ;\n",
       "            : ;\n",
       "        }    #T_5a85a426_3973_11eb_902a_082e5f7192aarow0_col74 {\n",
       "            background-color:  #ffffe4;\n",
       "            : ;\n",
       "            : ;\n",
       "        }    #T_5a85a426_3973_11eb_902a_082e5f7192aarow0_col75 {\n",
       "            background-color:  #ffffe5;\n",
       "            : ;\n",
       "            : ;\n",
       "        }    #T_5a85a426_3973_11eb_902a_082e5f7192aarow0_col76 {\n",
       "            background-color:  #ffffe5;\n",
       "            : ;\n",
       "            : ;\n",
       "        }    #T_5a85a426_3973_11eb_902a_082e5f7192aarow0_col77 {\n",
       "            background-color:  #ffffe5;\n",
       "            : ;\n",
       "            : ;\n",
       "        }    #T_5a85a426_3973_11eb_902a_082e5f7192aarow0_col78 {\n",
       "            background-color:  #ffffe5;\n",
       "            : ;\n",
       "            : ;\n",
       "        }    #T_5a85a426_3973_11eb_902a_082e5f7192aarow0_col79 {\n",
       "            background-color:  #ffffa0;\n",
       "            : ;\n",
       "            : ;\n",
       "        }    #T_5a85a426_3973_11eb_902a_082e5f7192aarow0_col80 {\n",
       "            background-color:  #ffffde;\n",
       "            : ;\n",
       "            : ;\n",
       "        }    #T_5a85a426_3973_11eb_902a_082e5f7192aarow0_col81 {\n",
       "            background-color:  #ffffe5;\n",
       "            : ;\n",
       "            : ;\n",
       "        }    #T_5a85a426_3973_11eb_902a_082e5f7192aarow0_col82 {\n",
       "            background-color:  #ffffb4;\n",
       "            : ;\n",
       "            : ;\n",
       "        }    #T_5a85a426_3973_11eb_902a_082e5f7192aarow0_col83 {\n",
       "            background-color:  #ffffd8;\n",
       "            : ;\n",
       "            : ;\n",
       "        }    #T_5a85a426_3973_11eb_902a_082e5f7192aarow0_col84 {\n",
       "            background-color:  #ffffe0;\n",
       "            : ;\n",
       "            : ;\n",
       "        }    #T_5a85a426_3973_11eb_902a_082e5f7192aarow0_col85 {\n",
       "            background-color:  #ffffe5;\n",
       "            : ;\n",
       "            : ;\n",
       "        }    #T_5a85a426_3973_11eb_902a_082e5f7192aarow0_col86 {\n",
       "            background-color:  #ffffe5;\n",
       "            : ;\n",
       "            : ;\n",
       "        }    #T_5a85a426_3973_11eb_902a_082e5f7192aarow0_col87 {\n",
       "            background-color:  #ffffbb;\n",
       "            : ;\n",
       "            : ;\n",
       "        }    #T_5a85a426_3973_11eb_902a_082e5f7192aarow0_col88 {\n",
       "            background-color:  #ffffe2;\n",
       "            : ;\n",
       "            : ;\n",
       "        }    #T_5a85a426_3973_11eb_902a_082e5f7192aarow0_col89 {\n",
       "            background-color:  #ffffe0;\n",
       "            : ;\n",
       "            : ;\n",
       "        }    #T_5a85a426_3973_11eb_902a_082e5f7192aarow0_col90 {\n",
       "            background-color:  #ffffe5;\n",
       "            : ;\n",
       "            : ;\n",
       "        }    #T_5a85a426_3973_11eb_902a_082e5f7192aarow0_col91 {\n",
       "            background-color:  #ffffe5;\n",
       "            : ;\n",
       "            : ;\n",
       "        }    #T_5a85a426_3973_11eb_902a_082e5f7192aarow0_col92 {\n",
       "            background-color:  #ffffb5;\n",
       "            : ;\n",
       "            : ;\n",
       "        }    #T_5a85a426_3973_11eb_902a_082e5f7192aarow0_col93 {\n",
       "            background-color:  #ffffdd;\n",
       "            : ;\n",
       "            : ;\n",
       "        }    #T_5a85a426_3973_11eb_902a_082e5f7192aarow0_col94 {\n",
       "            background-color:  #ffffa1;\n",
       "            : ;\n",
       "            : ;\n",
       "        }    #T_5a85a426_3973_11eb_902a_082e5f7192aarow0_col95 {\n",
       "            background-color:  #ffffe2;\n",
       "            : ;\n",
       "            : ;\n",
       "        }    #T_5a85a426_3973_11eb_902a_082e5f7192aarow0_col96 {\n",
       "            background-color:  #ffffe5;\n",
       "            : ;\n",
       "            : ;\n",
       "        }    #T_5a85a426_3973_11eb_902a_082e5f7192aarow0_col97 {\n",
       "            background-color:  #ffffe2;\n",
       "            : ;\n",
       "            : ;\n",
       "        }    #T_5a85a426_3973_11eb_902a_082e5f7192aarow0_col98 {\n",
       "            background-color:  #ffffdf;\n",
       "            : ;\n",
       "            : ;\n",
       "        }    #T_5a85a426_3973_11eb_902a_082e5f7192aarow0_col99 {\n",
       "            background-color:  #ffffb8;\n",
       "            : ;\n",
       "            : ;\n",
       "        }    #T_5a85a426_3973_11eb_902a_082e5f7192aarow0_col100 {\n",
       "            background-color:  #ffffe5;\n",
       "            : ;\n",
       "            : ;\n",
       "        }    #T_5a85a426_3973_11eb_902a_082e5f7192aarow0_col101 {\n",
       "            background-color:  #ffffe4;\n",
       "            : ;\n",
       "            : ;\n",
       "        }    #T_5a85a426_3973_11eb_902a_082e5f7192aarow0_col102 {\n",
       "            background-color:  #ffff8b;\n",
       "            : ;\n",
       "            : ;\n",
       "        }    #T_5a85a426_3973_11eb_902a_082e5f7192aarow0_col103 {\n",
       "            background-color:  #ffffe5;\n",
       "            : ;\n",
       "            : ;\n",
       "        }    #T_5a85a426_3973_11eb_902a_082e5f7192aarow0_col104 {\n",
       "            background-color:  #ffffc7;\n",
       "            : ;\n",
       "            : ;\n",
       "        }    #T_5a85a426_3973_11eb_902a_082e5f7192aarow0_col105 {\n",
       "            background-color:  #ffffe4;\n",
       "            : ;\n",
       "            : ;\n",
       "        }    #T_5a85a426_3973_11eb_902a_082e5f7192aarow0_col106 {\n",
       "            background-color:  #ffffe5;\n",
       "            : ;\n",
       "            : ;\n",
       "        }    #T_5a85a426_3973_11eb_902a_082e5f7192aarow0_col107 {\n",
       "            background-color:  #ffffe5;\n",
       "            : ;\n",
       "            : ;\n",
       "        }    #T_5a85a426_3973_11eb_902a_082e5f7192aarow0_col108 {\n",
       "            background-color:  #ffffe3;\n",
       "            : ;\n",
       "            : ;\n",
       "        }    #T_5a85a426_3973_11eb_902a_082e5f7192aarow0_col109 {\n",
       "            background-color:  #ffffe3;\n",
       "            : ;\n",
       "            : ;\n",
       "        }    #T_5a85a426_3973_11eb_902a_082e5f7192aarow0_col110 {\n",
       "            background-color:  #ffffe5;\n",
       "            : ;\n",
       "            : ;\n",
       "        }    #T_5a85a426_3973_11eb_902a_082e5f7192aarow0_col111 {\n",
       "            background-color:  #ffffe1;\n",
       "            : ;\n",
       "            : ;\n",
       "        }    #T_5a85a426_3973_11eb_902a_082e5f7192aarow0_col112 {\n",
       "            background-color:  #ffffe5;\n",
       "            : ;\n",
       "            : ;\n",
       "        }    #T_5a85a426_3973_11eb_902a_082e5f7192aarow0_col113 {\n",
       "            background-color:  #ffffe5;\n",
       "            : ;\n",
       "            : ;\n",
       "        }    #T_5a85a426_3973_11eb_902a_082e5f7192aarow0_col114 {\n",
       "            background-color:  #ffffe5;\n",
       "            : ;\n",
       "            : ;\n",
       "        }    #T_5a85a426_3973_11eb_902a_082e5f7192aarow0_col115 {\n",
       "            background-color:  #ffffd5;\n",
       "            : ;\n",
       "            : ;\n",
       "        }    #T_5a85a426_3973_11eb_902a_082e5f7192aarow0_col116 {\n",
       "            background-color:  #ffff71;\n",
       "            : ;\n",
       "            : ;\n",
       "        }    #T_5a85a426_3973_11eb_902a_082e5f7192aarow0_col117 {\n",
       "            background-color:  #ffffe1;\n",
       "            : ;\n",
       "            : ;\n",
       "        }    #T_5a85a426_3973_11eb_902a_082e5f7192aarow0_col118 {\n",
       "            background-color:  #ffff00;\n",
       "            : ;\n",
       "            background-color:  yellow;\n",
       "        }    #T_5a85a426_3973_11eb_902a_082e5f7192aarow0_col119 {\n",
       "            background-color:  #ffffe3;\n",
       "            : ;\n",
       "            : ;\n",
       "        }    #T_5a85a426_3973_11eb_902a_082e5f7192aarow0_col120 {\n",
       "            background-color:  #ffffe5;\n",
       "            : ;\n",
       "            : ;\n",
       "        }    #T_5a85a426_3973_11eb_902a_082e5f7192aarow0_col121 {\n",
       "            background-color:  #ffffe5;\n",
       "            : ;\n",
       "            : ;\n",
       "        }    #T_5a85a426_3973_11eb_902a_082e5f7192aarow0_col122 {\n",
       "            background-color:  #ffffd6;\n",
       "            : ;\n",
       "            : ;\n",
       "        }    #T_5a85a426_3973_11eb_902a_082e5f7192aarow0_col123 {\n",
       "            background-color:  #ffffe5;\n",
       "            : ;\n",
       "            : ;\n",
       "        }    #T_5a85a426_3973_11eb_902a_082e5f7192aarow0_col124 {\n",
       "            background-color:  #ffffe5;\n",
       "            : ;\n",
       "            : ;\n",
       "        }    #T_5a85a426_3973_11eb_902a_082e5f7192aarow0_col125 {\n",
       "            background-color:  #ffffe5;\n",
       "            background-color:  #d65f5f;\n",
       "            : ;\n",
       "        }    #T_5a85a426_3973_11eb_902a_082e5f7192aarow0_col126 {\n",
       "            background-color:  #ffffe5;\n",
       "            background-color:  #d65f5f;\n",
       "            : ;\n",
       "        }    #T_5a85a426_3973_11eb_902a_082e5f7192aarow0_col127 {\n",
       "            background-color:  #ffffe5;\n",
       "            background-color:  #d65f5f;\n",
       "            : ;\n",
       "        }    #T_5a85a426_3973_11eb_902a_082e5f7192aarow0_col128 {\n",
       "            background-color:  #ffffe5;\n",
       "            background-color:  #d65f5f;\n",
       "            : ;\n",
       "        }    #T_5a85a426_3973_11eb_902a_082e5f7192aarow0_col129 {\n",
       "            background-color:  #ffffe5;\n",
       "            background-color:  #d65f5f;\n",
       "            : ;\n",
       "        }    #T_5a85a426_3973_11eb_902a_082e5f7192aarow0_col130 {\n",
       "            background-color:  #ffffe5;\n",
       "            background-color:  #d65f5f;\n",
       "            : ;\n",
       "        }    #T_5a85a426_3973_11eb_902a_082e5f7192aarow0_col131 {\n",
       "            background-color:  #ffffe5;\n",
       "            background-color:  #d65f5f;\n",
       "            : ;\n",
       "        }    #T_5a85a426_3973_11eb_902a_082e5f7192aarow0_col132 {\n",
       "            background-color:  #ffffe5;\n",
       "            background-color:  #d65f5f;\n",
       "            : ;\n",
       "        }    #T_5a85a426_3973_11eb_902a_082e5f7192aarow0_col133 {\n",
       "            background-color:  #ffffe5;\n",
       "            background-color:  #d65f5f;\n",
       "            : ;\n",
       "        }    #T_5a85a426_3973_11eb_902a_082e5f7192aarow0_col134 {\n",
       "            background-color:  #ffffe5;\n",
       "            background-color:  #d65f5f;\n",
       "            : ;\n",
       "        }    #T_5a85a426_3973_11eb_902a_082e5f7192aarow0_col135 {\n",
       "            background-color:  #ffffe5;\n",
       "            background-color:  #d65f5f;\n",
       "            : ;\n",
       "        }    #T_5a85a426_3973_11eb_902a_082e5f7192aarow0_col136 {\n",
       "            background-color:  #ffffe5;\n",
       "            background-color:  #d65f5f;\n",
       "            : ;\n",
       "        }    #T_5a85a426_3973_11eb_902a_082e5f7192aarow0_col137 {\n",
       "            background-color:  #ffffe5;\n",
       "            background-color:  #d65f5f;\n",
       "            : ;\n",
       "        }    #T_5a85a426_3973_11eb_902a_082e5f7192aarow0_col138 {\n",
       "            background-color:  #ffffe5;\n",
       "            background-color:  #d65f5f;\n",
       "            : ;\n",
       "        }    #T_5a85a426_3973_11eb_902a_082e5f7192aarow0_col139 {\n",
       "            background-color:  #ffffe5;\n",
       "            background-color:  #d65f5f;\n",
       "            : ;\n",
       "        }    #T_5a85a426_3973_11eb_902a_082e5f7192aarow0_col140 {\n",
       "            background-color:  #ffffe5;\n",
       "            background-color:  #d65f5f;\n",
       "            : ;\n",
       "        }    #T_5a85a426_3973_11eb_902a_082e5f7192aarow0_col141 {\n",
       "            background-color:  #ffffe5;\n",
       "            background-color:  #d65f5f;\n",
       "            : ;\n",
       "        }    #T_5a85a426_3973_11eb_902a_082e5f7192aarow0_col142 {\n",
       "            background-color:  #ffffe5;\n",
       "            background-color:  #d65f5f;\n",
       "            : ;\n",
       "        }    #T_5a85a426_3973_11eb_902a_082e5f7192aarow0_col143 {\n",
       "            background-color:  #ffffe5;\n",
       "            background-color:  #d65f5f;\n",
       "            : ;\n",
       "        }    #T_5a85a426_3973_11eb_902a_082e5f7192aarow0_col144 {\n",
       "            background-color:  #ffffe5;\n",
       "            background-color:  #d65f5f;\n",
       "            : ;\n",
       "        }    #T_5a85a426_3973_11eb_902a_082e5f7192aarow0_col145 {\n",
       "            background-color:  #ffffe5;\n",
       "            background-color:  #d65f5f;\n",
       "            : ;\n",
       "        }    #T_5a85a426_3973_11eb_902a_082e5f7192aarow0_col146 {\n",
       "            background-color:  #ffffe5;\n",
       "            background-color:  #d65f5f;\n",
       "            : ;\n",
       "        }    #T_5a85a426_3973_11eb_902a_082e5f7192aarow0_col147 {\n",
       "            background-color:  #ffffe5;\n",
       "            background-color:  #d65f5f;\n",
       "            : ;\n",
       "        }    #T_5a85a426_3973_11eb_902a_082e5f7192aarow0_col148 {\n",
       "            background-color:  #ffffe5;\n",
       "            background-color:  #d65f5f;\n",
       "            : ;\n",
       "        }    #T_5a85a426_3973_11eb_902a_082e5f7192aarow1_col0 {\n",
       "            background-color:  #ffffe5;\n",
       "            background-color:  #d65f5f;\n",
       "            : ;\n",
       "        }    #T_5a85a426_3973_11eb_902a_082e5f7192aarow1_col1 {\n",
       "            background-color:  #ffffe5;\n",
       "            : ;\n",
       "            : ;\n",
       "        }    #T_5a85a426_3973_11eb_902a_082e5f7192aarow1_col2 {\n",
       "            background-color:  #ffffe5;\n",
       "            : ;\n",
       "            : ;\n",
       "        }    #T_5a85a426_3973_11eb_902a_082e5f7192aarow1_col3 {\n",
       "            background-color:  #ffffde;\n",
       "            : ;\n",
       "            : ;\n",
       "        }    #T_5a85a426_3973_11eb_902a_082e5f7192aarow1_col4 {\n",
       "            background-color:  #ffffe5;\n",
       "            : ;\n",
       "            : ;\n",
       "        }    #T_5a85a426_3973_11eb_902a_082e5f7192aarow1_col5 {\n",
       "            background-color:  #ffffc8;\n",
       "            : ;\n",
       "            : ;\n",
       "        }    #T_5a85a426_3973_11eb_902a_082e5f7192aarow1_col6 {\n",
       "            background-color:  #ffffdc;\n",
       "            : ;\n",
       "            : ;\n",
       "        }    #T_5a85a426_3973_11eb_902a_082e5f7192aarow1_col7 {\n",
       "            background-color:  #ffffe5;\n",
       "            : ;\n",
       "            : ;\n",
       "        }    #T_5a85a426_3973_11eb_902a_082e5f7192aarow1_col8 {\n",
       "            background-color:  #ffffe5;\n",
       "            : ;\n",
       "            : ;\n",
       "        }    #T_5a85a426_3973_11eb_902a_082e5f7192aarow1_col9 {\n",
       "            background-color:  #ffffe5;\n",
       "            background-color:  #d65f5f;\n",
       "            : ;\n",
       "        }    #T_5a85a426_3973_11eb_902a_082e5f7192aarow1_col10 {\n",
       "            background-color:  #ffffdd;\n",
       "            : ;\n",
       "            : ;\n",
       "        }    #T_5a85a426_3973_11eb_902a_082e5f7192aarow1_col11 {\n",
       "            background-color:  #ffffe5;\n",
       "            background-color:  #d65f5f;\n",
       "            : ;\n",
       "        }    #T_5a85a426_3973_11eb_902a_082e5f7192aarow1_col12 {\n",
       "            background-color:  #ffffe4;\n",
       "            : ;\n",
       "            : ;\n",
       "        }    #T_5a85a426_3973_11eb_902a_082e5f7192aarow1_col13 {\n",
       "            background-color:  #ffffe5;\n",
       "            background-color:  #d65f5f;\n",
       "            : ;\n",
       "        }    #T_5a85a426_3973_11eb_902a_082e5f7192aarow1_col14 {\n",
       "            background-color:  #ffffdc;\n",
       "            : ;\n",
       "            : ;\n",
       "        }    #T_5a85a426_3973_11eb_902a_082e5f7192aarow1_col15 {\n",
       "            background-color:  #ffffe5;\n",
       "            : ;\n",
       "            : ;\n",
       "        }    #T_5a85a426_3973_11eb_902a_082e5f7192aarow1_col16 {\n",
       "            background-color:  #ffffe1;\n",
       "            : ;\n",
       "            : ;\n",
       "        }    #T_5a85a426_3973_11eb_902a_082e5f7192aarow1_col17 {\n",
       "            background-color:  #ffffbe;\n",
       "            : ;\n",
       "            : ;\n",
       "        }    #T_5a85a426_3973_11eb_902a_082e5f7192aarow1_col18 {\n",
       "            background-color:  #ffffe5;\n",
       "            : ;\n",
       "            : ;\n",
       "        }    #T_5a85a426_3973_11eb_902a_082e5f7192aarow1_col19 {\n",
       "            background-color:  #ffffc8;\n",
       "            : ;\n",
       "            : ;\n",
       "        }    #T_5a85a426_3973_11eb_902a_082e5f7192aarow1_col20 {\n",
       "            background-color:  #ffffe5;\n",
       "            : ;\n",
       "            : ;\n",
       "        }    #T_5a85a426_3973_11eb_902a_082e5f7192aarow1_col21 {\n",
       "            background-color:  #ffffe5;\n",
       "            : ;\n",
       "            : ;\n",
       "        }    #T_5a85a426_3973_11eb_902a_082e5f7192aarow1_col22 {\n",
       "            background-color:  #ffffe5;\n",
       "            : ;\n",
       "            : ;\n",
       "        }    #T_5a85a426_3973_11eb_902a_082e5f7192aarow1_col23 {\n",
       "            background-color:  #ffffe5;\n",
       "            : ;\n",
       "            : ;\n",
       "        }    #T_5a85a426_3973_11eb_902a_082e5f7192aarow1_col24 {\n",
       "            background-color:  #ffffe1;\n",
       "            : ;\n",
       "            : ;\n",
       "        }    #T_5a85a426_3973_11eb_902a_082e5f7192aarow1_col25 {\n",
       "            background-color:  #ffffd8;\n",
       "            : ;\n",
       "            : ;\n",
       "        }    #T_5a85a426_3973_11eb_902a_082e5f7192aarow1_col26 {\n",
       "            background-color:  #ffffe3;\n",
       "            : ;\n",
       "            : ;\n",
       "        }    #T_5a85a426_3973_11eb_902a_082e5f7192aarow1_col27 {\n",
       "            background-color:  #ffffd6;\n",
       "            : ;\n",
       "            : ;\n",
       "        }    #T_5a85a426_3973_11eb_902a_082e5f7192aarow1_col28 {\n",
       "            background-color:  #ffffe5;\n",
       "            background-color:  #d65f5f;\n",
       "            : ;\n",
       "        }    #T_5a85a426_3973_11eb_902a_082e5f7192aarow1_col29 {\n",
       "            background-color:  #ffffe5;\n",
       "            : ;\n",
       "            : ;\n",
       "        }    #T_5a85a426_3973_11eb_902a_082e5f7192aarow1_col30 {\n",
       "            background-color:  #ffffe5;\n",
       "            : ;\n",
       "            : ;\n",
       "        }    #T_5a85a426_3973_11eb_902a_082e5f7192aarow1_col31 {\n",
       "            background-color:  #ffffe5;\n",
       "            background-color:  #d65f5f;\n",
       "            : ;\n",
       "        }    #T_5a85a426_3973_11eb_902a_082e5f7192aarow1_col32 {\n",
       "            background-color:  #ffffdc;\n",
       "            : ;\n",
       "            : ;\n",
       "        }    #T_5a85a426_3973_11eb_902a_082e5f7192aarow1_col33 {\n",
       "            background-color:  #ffffe5;\n",
       "            : ;\n",
       "            : ;\n",
       "        }    #T_5a85a426_3973_11eb_902a_082e5f7192aarow1_col34 {\n",
       "            background-color:  #ffffe4;\n",
       "            : ;\n",
       "            : ;\n",
       "        }    #T_5a85a426_3973_11eb_902a_082e5f7192aarow1_col35 {\n",
       "            background-color:  #ffffdb;\n",
       "            : ;\n",
       "            : ;\n",
       "        }    #T_5a85a426_3973_11eb_902a_082e5f7192aarow1_col36 {\n",
       "            background-color:  #ffffd4;\n",
       "            : ;\n",
       "            : ;\n",
       "        }    #T_5a85a426_3973_11eb_902a_082e5f7192aarow1_col37 {\n",
       "            background-color:  #ffffba;\n",
       "            : ;\n",
       "            : ;\n",
       "        }    #T_5a85a426_3973_11eb_902a_082e5f7192aarow1_col38 {\n",
       "            background-color:  #ffffd8;\n",
       "            : ;\n",
       "            : ;\n",
       "        }    #T_5a85a426_3973_11eb_902a_082e5f7192aarow1_col39 {\n",
       "            background-color:  #ffffab;\n",
       "            : ;\n",
       "            : ;\n",
       "        }    #T_5a85a426_3973_11eb_902a_082e5f7192aarow1_col40 {\n",
       "            background-color:  #ffffc3;\n",
       "            : ;\n",
       "            : ;\n",
       "        }    #T_5a85a426_3973_11eb_902a_082e5f7192aarow1_col41 {\n",
       "            background-color:  #ffffe5;\n",
       "            : ;\n",
       "            : ;\n",
       "        }    #T_5a85a426_3973_11eb_902a_082e5f7192aarow1_col42 {\n",
       "            background-color:  #ffffa5;\n",
       "            : ;\n",
       "            : ;\n",
       "        }    #T_5a85a426_3973_11eb_902a_082e5f7192aarow1_col43 {\n",
       "            background-color:  #ffffe5;\n",
       "            background-color:  #d65f5f;\n",
       "            : ;\n",
       "        }    #T_5a85a426_3973_11eb_902a_082e5f7192aarow1_col44 {\n",
       "            background-color:  #ffffe1;\n",
       "            : ;\n",
       "            : ;\n",
       "        }    #T_5a85a426_3973_11eb_902a_082e5f7192aarow1_col45 {\n",
       "            background-color:  #ffffe5;\n",
       "            background-color:  #d65f5f;\n",
       "            : ;\n",
       "        }    #T_5a85a426_3973_11eb_902a_082e5f7192aarow1_col46 {\n",
       "            background-color:  #ffffe5;\n",
       "            : ;\n",
       "            : ;\n",
       "        }    #T_5a85a426_3973_11eb_902a_082e5f7192aarow1_col47 {\n",
       "            background-color:  #ffffe5;\n",
       "            : ;\n",
       "            : ;\n",
       "        }    #T_5a85a426_3973_11eb_902a_082e5f7192aarow1_col48 {\n",
       "            background-color:  #ffffc1;\n",
       "            : ;\n",
       "            : ;\n",
       "        }    #T_5a85a426_3973_11eb_902a_082e5f7192aarow1_col49 {\n",
       "            background-color:  #ffffe5;\n",
       "            : ;\n",
       "            : ;\n",
       "        }    #T_5a85a426_3973_11eb_902a_082e5f7192aarow1_col50 {\n",
       "            background-color:  #ffffda;\n",
       "            : ;\n",
       "            : ;\n",
       "        }    #T_5a85a426_3973_11eb_902a_082e5f7192aarow1_col51 {\n",
       "            background-color:  #ffffe5;\n",
       "            : ;\n",
       "            : ;\n",
       "        }    #T_5a85a426_3973_11eb_902a_082e5f7192aarow1_col52 {\n",
       "            background-color:  #ffffe5;\n",
       "            : ;\n",
       "            : ;\n",
       "        }    #T_5a85a426_3973_11eb_902a_082e5f7192aarow1_col53 {\n",
       "            background-color:  #ffffe5;\n",
       "            : ;\n",
       "            : ;\n",
       "        }    #T_5a85a426_3973_11eb_902a_082e5f7192aarow1_col54 {\n",
       "            background-color:  #ffffe5;\n",
       "            background-color:  #d65f5f;\n",
       "            : ;\n",
       "        }    #T_5a85a426_3973_11eb_902a_082e5f7192aarow1_col55 {\n",
       "            background-color:  #ffffe5;\n",
       "            background-color:  #d65f5f;\n",
       "            : ;\n",
       "        }    #T_5a85a426_3973_11eb_902a_082e5f7192aarow1_col56 {\n",
       "            background-color:  #ffffe5;\n",
       "            : ;\n",
       "            : ;\n",
       "        }    #T_5a85a426_3973_11eb_902a_082e5f7192aarow1_col57 {\n",
       "            background-color:  #ffffb4;\n",
       "            : ;\n",
       "            : ;\n",
       "        }    #T_5a85a426_3973_11eb_902a_082e5f7192aarow1_col58 {\n",
       "            background-color:  #ffffe3;\n",
       "            : ;\n",
       "            : ;\n",
       "        }    #T_5a85a426_3973_11eb_902a_082e5f7192aarow1_col59 {\n",
       "            background-color:  #ffffd1;\n",
       "            : ;\n",
       "            : ;\n",
       "        }    #T_5a85a426_3973_11eb_902a_082e5f7192aarow1_col60 {\n",
       "            background-color:  #ffffe5;\n",
       "            : ;\n",
       "            : ;\n",
       "        }    #T_5a85a426_3973_11eb_902a_082e5f7192aarow1_col61 {\n",
       "            background-color:  #ffffe3;\n",
       "            : ;\n",
       "            : ;\n",
       "        }    #T_5a85a426_3973_11eb_902a_082e5f7192aarow1_col62 {\n",
       "            background-color:  #ffffe5;\n",
       "            background-color:  #d65f5f;\n",
       "            : ;\n",
       "        }    #T_5a85a426_3973_11eb_902a_082e5f7192aarow1_col63 {\n",
       "            background-color:  #ffffd3;\n",
       "            : ;\n",
       "            : ;\n",
       "        }    #T_5a85a426_3973_11eb_902a_082e5f7192aarow1_col64 {\n",
       "            background-color:  #ffffe5;\n",
       "            background-color:  #d65f5f;\n",
       "            : ;\n",
       "        }    #T_5a85a426_3973_11eb_902a_082e5f7192aarow1_col65 {\n",
       "            background-color:  #ffffe5;\n",
       "            background-color:  #d65f5f;\n",
       "            : ;\n",
       "        }    #T_5a85a426_3973_11eb_902a_082e5f7192aarow1_col66 {\n",
       "            background-color:  #ffffe5;\n",
       "            : ;\n",
       "            : ;\n",
       "        }    #T_5a85a426_3973_11eb_902a_082e5f7192aarow1_col67 {\n",
       "            background-color:  #ffffe5;\n",
       "            background-color:  #d65f5f;\n",
       "            : ;\n",
       "        }    #T_5a85a426_3973_11eb_902a_082e5f7192aarow1_col68 {\n",
       "            background-color:  #ffffe5;\n",
       "            : ;\n",
       "            : ;\n",
       "        }    #T_5a85a426_3973_11eb_902a_082e5f7192aarow1_col69 {\n",
       "            background-color:  #ffffe5;\n",
       "            : ;\n",
       "            : ;\n",
       "        }    #T_5a85a426_3973_11eb_902a_082e5f7192aarow1_col70 {\n",
       "            background-color:  #ffffe5;\n",
       "            : ;\n",
       "            : ;\n",
       "        }    #T_5a85a426_3973_11eb_902a_082e5f7192aarow1_col71 {\n",
       "            background-color:  #ffffe5;\n",
       "            background-color:  #d65f5f;\n",
       "            : ;\n",
       "        }    #T_5a85a426_3973_11eb_902a_082e5f7192aarow1_col72 {\n",
       "            background-color:  #ffffe5;\n",
       "            background-color:  #d65f5f;\n",
       "            : ;\n",
       "        }    #T_5a85a426_3973_11eb_902a_082e5f7192aarow1_col73 {\n",
       "            background-color:  #ffffe4;\n",
       "            : ;\n",
       "            : ;\n",
       "        }    #T_5a85a426_3973_11eb_902a_082e5f7192aarow1_col74 {\n",
       "            background-color:  #ffffe5;\n",
       "            : ;\n",
       "            : ;\n",
       "        }    #T_5a85a426_3973_11eb_902a_082e5f7192aarow1_col75 {\n",
       "            background-color:  #ffffe5;\n",
       "            background-color:  #d65f5f;\n",
       "            : ;\n",
       "        }    #T_5a85a426_3973_11eb_902a_082e5f7192aarow1_col76 {\n",
       "            background-color:  #ffffe5;\n",
       "            background-color:  #d65f5f;\n",
       "            : ;\n",
       "        }    #T_5a85a426_3973_11eb_902a_082e5f7192aarow1_col77 {\n",
       "            background-color:  #ffffe5;\n",
       "            : ;\n",
       "            : ;\n",
       "        }    #T_5a85a426_3973_11eb_902a_082e5f7192aarow1_col78 {\n",
       "            background-color:  #ffffe5;\n",
       "            background-color:  #d65f5f;\n",
       "            : ;\n",
       "        }    #T_5a85a426_3973_11eb_902a_082e5f7192aarow1_col79 {\n",
       "            background-color:  #ffffcd;\n",
       "            : ;\n",
       "            : ;\n",
       "        }    #T_5a85a426_3973_11eb_902a_082e5f7192aarow1_col80 {\n",
       "            background-color:  #ffffe4;\n",
       "            : ;\n",
       "            : ;\n",
       "        }    #T_5a85a426_3973_11eb_902a_082e5f7192aarow1_col81 {\n",
       "            background-color:  #ffffe5;\n",
       "            background-color:  #d65f5f;\n",
       "            : ;\n",
       "        }    #T_5a85a426_3973_11eb_902a_082e5f7192aarow1_col82 {\n",
       "            background-color:  #ffffc5;\n",
       "            : ;\n",
       "            : ;\n",
       "        }    #T_5a85a426_3973_11eb_902a_082e5f7192aarow1_col83 {\n",
       "            background-color:  #ffffde;\n",
       "            : ;\n",
       "            : ;\n",
       "        }    #T_5a85a426_3973_11eb_902a_082e5f7192aarow1_col84 {\n",
       "            background-color:  #ffffe3;\n",
       "            : ;\n",
       "            : ;\n",
       "        }    #T_5a85a426_3973_11eb_902a_082e5f7192aarow1_col85 {\n",
       "            background-color:  #ffffe5;\n",
       "            : ;\n",
       "            : ;\n",
       "        }    #T_5a85a426_3973_11eb_902a_082e5f7192aarow1_col86 {\n",
       "            background-color:  #ffffe5;\n",
       "            background-color:  #d65f5f;\n",
       "            : ;\n",
       "        }    #T_5a85a426_3973_11eb_902a_082e5f7192aarow1_col87 {\n",
       "            background-color:  #ffffdc;\n",
       "            : ;\n",
       "            : ;\n",
       "        }    #T_5a85a426_3973_11eb_902a_082e5f7192aarow1_col88 {\n",
       "            background-color:  #ffffe5;\n",
       "            : ;\n",
       "            : ;\n",
       "        }    #T_5a85a426_3973_11eb_902a_082e5f7192aarow1_col89 {\n",
       "            background-color:  #ffffe5;\n",
       "            : ;\n",
       "            : ;\n",
       "        }    #T_5a85a426_3973_11eb_902a_082e5f7192aarow1_col90 {\n",
       "            background-color:  #ffffe5;\n",
       "            : ;\n",
       "            : ;\n",
       "        }    #T_5a85a426_3973_11eb_902a_082e5f7192aarow1_col91 {\n",
       "            background-color:  #ffffe5;\n",
       "            background-color:  #d65f5f;\n",
       "            : ;\n",
       "        }    #T_5a85a426_3973_11eb_902a_082e5f7192aarow1_col92 {\n",
       "            background-color:  #ffffd8;\n",
       "            : ;\n",
       "            : ;\n",
       "        }    #T_5a85a426_3973_11eb_902a_082e5f7192aarow1_col93 {\n",
       "            background-color:  #ffffe3;\n",
       "            : ;\n",
       "            : ;\n",
       "        }    #T_5a85a426_3973_11eb_902a_082e5f7192aarow1_col94 {\n",
       "            background-color:  #ffffc4;\n",
       "            : ;\n",
       "            : ;\n",
       "        }    #T_5a85a426_3973_11eb_902a_082e5f7192aarow1_col95 {\n",
       "            background-color:  #ffffe5;\n",
       "            : ;\n",
       "            : ;\n",
       "        }    #T_5a85a426_3973_11eb_902a_082e5f7192aarow1_col96 {\n",
       "            background-color:  #ffffe5;\n",
       "            : ;\n",
       "            : ;\n",
       "        }    #T_5a85a426_3973_11eb_902a_082e5f7192aarow1_col97 {\n",
       "            background-color:  #ffffe5;\n",
       "            : ;\n",
       "            : ;\n",
       "        }    #T_5a85a426_3973_11eb_902a_082e5f7192aarow1_col98 {\n",
       "            background-color:  #ffffe5;\n",
       "            : ;\n",
       "            : ;\n",
       "        }    #T_5a85a426_3973_11eb_902a_082e5f7192aarow1_col99 {\n",
       "            background-color:  #ffffd7;\n",
       "            : ;\n",
       "            : ;\n",
       "        }    #T_5a85a426_3973_11eb_902a_082e5f7192aarow1_col100 {\n",
       "            background-color:  #ffffe5;\n",
       "            : ;\n",
       "            : ;\n",
       "        }    #T_5a85a426_3973_11eb_902a_082e5f7192aarow1_col101 {\n",
       "            background-color:  #ffffe5;\n",
       "            : ;\n",
       "            : ;\n",
       "        }    #T_5a85a426_3973_11eb_902a_082e5f7192aarow1_col102 {\n",
       "            background-color:  #ffffbc;\n",
       "            : ;\n",
       "            : ;\n",
       "        }    #T_5a85a426_3973_11eb_902a_082e5f7192aarow1_col103 {\n",
       "            background-color:  #ffffe5;\n",
       "            : ;\n",
       "            : ;\n",
       "        }    #T_5a85a426_3973_11eb_902a_082e5f7192aarow1_col104 {\n",
       "            background-color:  #ffffdf;\n",
       "            : ;\n",
       "            : ;\n",
       "        }    #T_5a85a426_3973_11eb_902a_082e5f7192aarow1_col105 {\n",
       "            background-color:  #ffffe5;\n",
       "            : ;\n",
       "            : ;\n",
       "        }    #T_5a85a426_3973_11eb_902a_082e5f7192aarow1_col106 {\n",
       "            background-color:  #ffffe5;\n",
       "            : ;\n",
       "            : ;\n",
       "        }    #T_5a85a426_3973_11eb_902a_082e5f7192aarow1_col107 {\n",
       "            background-color:  #ffffe5;\n",
       "            background-color:  #d65f5f;\n",
       "            : ;\n",
       "        }    #T_5a85a426_3973_11eb_902a_082e5f7192aarow1_col108 {\n",
       "            background-color:  #ffffe5;\n",
       "            : ;\n",
       "            : ;\n",
       "        }    #T_5a85a426_3973_11eb_902a_082e5f7192aarow1_col109 {\n",
       "            background-color:  #ffffe5;\n",
       "            : ;\n",
       "            : ;\n",
       "        }    #T_5a85a426_3973_11eb_902a_082e5f7192aarow1_col110 {\n",
       "            background-color:  #ffffe5;\n",
       "            : ;\n",
       "            : ;\n",
       "        }    #T_5a85a426_3973_11eb_902a_082e5f7192aarow1_col111 {\n",
       "            background-color:  #ffffe3;\n",
       "            : ;\n",
       "            : ;\n",
       "        }    #T_5a85a426_3973_11eb_902a_082e5f7192aarow1_col112 {\n",
       "            background-color:  #ffffe5;\n",
       "            : ;\n",
       "            : ;\n",
       "        }    #T_5a85a426_3973_11eb_902a_082e5f7192aarow1_col113 {\n",
       "            background-color:  #ffffe5;\n",
       "            background-color:  #d65f5f;\n",
       "            : ;\n",
       "        }    #T_5a85a426_3973_11eb_902a_082e5f7192aarow1_col114 {\n",
       "            background-color:  #ffffe5;\n",
       "            : ;\n",
       "            : ;\n",
       "        }    #T_5a85a426_3973_11eb_902a_082e5f7192aarow1_col115 {\n",
       "            background-color:  #ffffe2;\n",
       "            : ;\n",
       "            : ;\n",
       "        }    #T_5a85a426_3973_11eb_902a_082e5f7192aarow1_col116 {\n",
       "            background-color:  #ffff88;\n",
       "            : ;\n",
       "            : ;\n",
       "        }    #T_5a85a426_3973_11eb_902a_082e5f7192aarow1_col117 {\n",
       "            background-color:  #ffffe4;\n",
       "            : ;\n",
       "            : ;\n",
       "        }    #T_5a85a426_3973_11eb_902a_082e5f7192aarow1_col118 {\n",
       "            background-color:  #ffff00;\n",
       "            : ;\n",
       "            background-color:  yellow;\n",
       "        }    #T_5a85a426_3973_11eb_902a_082e5f7192aarow1_col119 {\n",
       "            background-color:  #ffffe5;\n",
       "            : ;\n",
       "            : ;\n",
       "        }    #T_5a85a426_3973_11eb_902a_082e5f7192aarow1_col120 {\n",
       "            background-color:  #ffffe5;\n",
       "            : ;\n",
       "            : ;\n",
       "        }    #T_5a85a426_3973_11eb_902a_082e5f7192aarow1_col121 {\n",
       "            background-color:  #ffffe5;\n",
       "            background-color:  #d65f5f;\n",
       "            : ;\n",
       "        }    #T_5a85a426_3973_11eb_902a_082e5f7192aarow1_col122 {\n",
       "            background-color:  #ffffdb;\n",
       "            : ;\n",
       "            : ;\n",
       "        }    #T_5a85a426_3973_11eb_902a_082e5f7192aarow1_col123 {\n",
       "            background-color:  #ffffe5;\n",
       "            background-color:  #d65f5f;\n",
       "            : ;\n",
       "        }    #T_5a85a426_3973_11eb_902a_082e5f7192aarow1_col124 {\n",
       "            background-color:  #ffffe5;\n",
       "            : ;\n",
       "            : ;\n",
       "        }    #T_5a85a426_3973_11eb_902a_082e5f7192aarow1_col125 {\n",
       "            background-color:  #ffffe5;\n",
       "            : ;\n",
       "            : ;\n",
       "        }    #T_5a85a426_3973_11eb_902a_082e5f7192aarow1_col126 {\n",
       "            background-color:  #ffffe5;\n",
       "            : ;\n",
       "            : ;\n",
       "        }    #T_5a85a426_3973_11eb_902a_082e5f7192aarow1_col127 {\n",
       "            background-color:  #ffffe5;\n",
       "            : ;\n",
       "            : ;\n",
       "        }    #T_5a85a426_3973_11eb_902a_082e5f7192aarow1_col128 {\n",
       "            background-color:  #ffffe5;\n",
       "            : ;\n",
       "            : ;\n",
       "        }    #T_5a85a426_3973_11eb_902a_082e5f7192aarow1_col129 {\n",
       "            background-color:  #ffffe5;\n",
       "            : ;\n",
       "            : ;\n",
       "        }    #T_5a85a426_3973_11eb_902a_082e5f7192aarow1_col130 {\n",
       "            background-color:  #ffffe5;\n",
       "            : ;\n",
       "            : ;\n",
       "        }    #T_5a85a426_3973_11eb_902a_082e5f7192aarow1_col131 {\n",
       "            background-color:  #ffffe5;\n",
       "            : ;\n",
       "            : ;\n",
       "        }    #T_5a85a426_3973_11eb_902a_082e5f7192aarow1_col132 {\n",
       "            background-color:  #ffffe5;\n",
       "            : ;\n",
       "            : ;\n",
       "        }    #T_5a85a426_3973_11eb_902a_082e5f7192aarow1_col133 {\n",
       "            background-color:  #ffffe5;\n",
       "            : ;\n",
       "            : ;\n",
       "        }    #T_5a85a426_3973_11eb_902a_082e5f7192aarow1_col134 {\n",
       "            background-color:  #ffffe5;\n",
       "            : ;\n",
       "            : ;\n",
       "        }    #T_5a85a426_3973_11eb_902a_082e5f7192aarow1_col135 {\n",
       "            background-color:  #ffffe5;\n",
       "            background-color:  #d65f5f;\n",
       "            : ;\n",
       "        }    #T_5a85a426_3973_11eb_902a_082e5f7192aarow1_col136 {\n",
       "            background-color:  #ffffe5;\n",
       "            background-color:  #d65f5f;\n",
       "            : ;\n",
       "        }    #T_5a85a426_3973_11eb_902a_082e5f7192aarow1_col137 {\n",
       "            background-color:  #ffffe5;\n",
       "            background-color:  #d65f5f;\n",
       "            : ;\n",
       "        }    #T_5a85a426_3973_11eb_902a_082e5f7192aarow1_col138 {\n",
       "            background-color:  #ffffe5;\n",
       "            background-color:  #d65f5f;\n",
       "            : ;\n",
       "        }    #T_5a85a426_3973_11eb_902a_082e5f7192aarow1_col139 {\n",
       "            background-color:  #ffffe5;\n",
       "            background-color:  #d65f5f;\n",
       "            : ;\n",
       "        }    #T_5a85a426_3973_11eb_902a_082e5f7192aarow1_col140 {\n",
       "            background-color:  #ffffe5;\n",
       "            background-color:  #d65f5f;\n",
       "            : ;\n",
       "        }    #T_5a85a426_3973_11eb_902a_082e5f7192aarow1_col141 {\n",
       "            background-color:  #ffffe5;\n",
       "            background-color:  #d65f5f;\n",
       "            : ;\n",
       "        }    #T_5a85a426_3973_11eb_902a_082e5f7192aarow1_col142 {\n",
       "            background-color:  #ffffe5;\n",
       "            background-color:  #d65f5f;\n",
       "            : ;\n",
       "        }    #T_5a85a426_3973_11eb_902a_082e5f7192aarow1_col143 {\n",
       "            background-color:  #ffffe5;\n",
       "            background-color:  #d65f5f;\n",
       "            : ;\n",
       "        }    #T_5a85a426_3973_11eb_902a_082e5f7192aarow1_col144 {\n",
       "            background-color:  #ffffe5;\n",
       "            background-color:  #d65f5f;\n",
       "            : ;\n",
       "        }    #T_5a85a426_3973_11eb_902a_082e5f7192aarow1_col145 {\n",
       "            background-color:  #ffffe5;\n",
       "            background-color:  #d65f5f;\n",
       "            : ;\n",
       "        }    #T_5a85a426_3973_11eb_902a_082e5f7192aarow1_col146 {\n",
       "            background-color:  #ffffe5;\n",
       "            background-color:  #d65f5f;\n",
       "            : ;\n",
       "        }    #T_5a85a426_3973_11eb_902a_082e5f7192aarow1_col147 {\n",
       "            background-color:  #ffffe5;\n",
       "            background-color:  #d65f5f;\n",
       "            : ;\n",
       "        }    #T_5a85a426_3973_11eb_902a_082e5f7192aarow1_col148 {\n",
       "            background-color:  #ffffe5;\n",
       "            background-color:  #d65f5f;\n",
       "            : ;\n",
       "        }    #T_5a85a426_3973_11eb_902a_082e5f7192aarow2_col0 {\n",
       "            background-color:  #ffffe5;\n",
       "            background-color:  #d65f5f;\n",
       "            : ;\n",
       "        }    #T_5a85a426_3973_11eb_902a_082e5f7192aarow2_col1 {\n",
       "            background-color:  #ffffe5;\n",
       "            : ;\n",
       "            : ;\n",
       "        }    #T_5a85a426_3973_11eb_902a_082e5f7192aarow2_col2 {\n",
       "            background-color:  #ffffe5;\n",
       "            : ;\n",
       "            : ;\n",
       "        }    #T_5a85a426_3973_11eb_902a_082e5f7192aarow2_col3 {\n",
       "            background-color:  #ffffd9;\n",
       "            : ;\n",
       "            : ;\n",
       "        }    #T_5a85a426_3973_11eb_902a_082e5f7192aarow2_col4 {\n",
       "            background-color:  #ffffe5;\n",
       "            : ;\n",
       "            : ;\n",
       "        }    #T_5a85a426_3973_11eb_902a_082e5f7192aarow2_col5 {\n",
       "            background-color:  #ffffa6;\n",
       "            : ;\n",
       "            : ;\n",
       "        }    #T_5a85a426_3973_11eb_902a_082e5f7192aarow2_col6 {\n",
       "            background-color:  #ffffcc;\n",
       "            : ;\n",
       "            : ;\n",
       "        }    #T_5a85a426_3973_11eb_902a_082e5f7192aarow2_col7 {\n",
       "            background-color:  #ffffe5;\n",
       "            : ;\n",
       "            : ;\n",
       "        }    #T_5a85a426_3973_11eb_902a_082e5f7192aarow2_col8 {\n",
       "            background-color:  #ffffe5;\n",
       "            : ;\n",
       "            : ;\n",
       "        }    #T_5a85a426_3973_11eb_902a_082e5f7192aarow2_col9 {\n",
       "            background-color:  #ffffe5;\n",
       "            background-color:  #d65f5f;\n",
       "            : ;\n",
       "        }    #T_5a85a426_3973_11eb_902a_082e5f7192aarow2_col10 {\n",
       "            background-color:  #ffffca;\n",
       "            : ;\n",
       "            : ;\n",
       "        }    #T_5a85a426_3973_11eb_902a_082e5f7192aarow2_col11 {\n",
       "            background-color:  #ffffe5;\n",
       "            background-color:  #d65f5f;\n",
       "            : ;\n",
       "        }    #T_5a85a426_3973_11eb_902a_082e5f7192aarow2_col12 {\n",
       "            background-color:  #ffffe0;\n",
       "            : ;\n",
       "            : ;\n",
       "        }    #T_5a85a426_3973_11eb_902a_082e5f7192aarow2_col13 {\n",
       "            background-color:  #ffffe5;\n",
       "            : ;\n",
       "            : ;\n",
       "        }    #T_5a85a426_3973_11eb_902a_082e5f7192aarow2_col14 {\n",
       "            background-color:  #ffffcd;\n",
       "            : ;\n",
       "            : ;\n",
       "        }    #T_5a85a426_3973_11eb_902a_082e5f7192aarow2_col15 {\n",
       "            background-color:  #ffffe5;\n",
       "            : ;\n",
       "            : ;\n",
       "        }    #T_5a85a426_3973_11eb_902a_082e5f7192aarow2_col16 {\n",
       "            background-color:  #ffffd2;\n",
       "            : ;\n",
       "            : ;\n",
       "        }    #T_5a85a426_3973_11eb_902a_082e5f7192aarow2_col17 {\n",
       "            background-color:  #ffffa8;\n",
       "            : ;\n",
       "            : ;\n",
       "        }    #T_5a85a426_3973_11eb_902a_082e5f7192aarow2_col18 {\n",
       "            background-color:  #ffffe5;\n",
       "            : ;\n",
       "            : ;\n",
       "        }    #T_5a85a426_3973_11eb_902a_082e5f7192aarow2_col19 {\n",
       "            background-color:  #ffffb5;\n",
       "            : ;\n",
       "            : ;\n",
       "        }    #T_5a85a426_3973_11eb_902a_082e5f7192aarow2_col20 {\n",
       "            background-color:  #ffffe5;\n",
       "            : ;\n",
       "            : ;\n",
       "        }    #T_5a85a426_3973_11eb_902a_082e5f7192aarow2_col21 {\n",
       "            background-color:  #ffffe5;\n",
       "            : ;\n",
       "            : ;\n",
       "        }    #T_5a85a426_3973_11eb_902a_082e5f7192aarow2_col22 {\n",
       "            background-color:  #ffffe5;\n",
       "            : ;\n",
       "            : ;\n",
       "        }    #T_5a85a426_3973_11eb_902a_082e5f7192aarow2_col23 {\n",
       "            background-color:  #ffffe5;\n",
       "            : ;\n",
       "            : ;\n",
       "        }    #T_5a85a426_3973_11eb_902a_082e5f7192aarow2_col24 {\n",
       "            background-color:  #ffffde;\n",
       "            : ;\n",
       "            : ;\n",
       "        }    #T_5a85a426_3973_11eb_902a_082e5f7192aarow2_col25 {\n",
       "            background-color:  #ffffd4;\n",
       "            : ;\n",
       "            : ;\n",
       "        }    #T_5a85a426_3973_11eb_902a_082e5f7192aarow2_col26 {\n",
       "            background-color:  #ffffe1;\n",
       "            : ;\n",
       "            : ;\n",
       "        }    #T_5a85a426_3973_11eb_902a_082e5f7192aarow2_col27 {\n",
       "            background-color:  #ffffc4;\n",
       "            : ;\n",
       "            : ;\n",
       "        }    #T_5a85a426_3973_11eb_902a_082e5f7192aarow2_col28 {\n",
       "            background-color:  #ffffe5;\n",
       "            background-color:  #d65f5f;\n",
       "            : ;\n",
       "        }    #T_5a85a426_3973_11eb_902a_082e5f7192aarow2_col29 {\n",
       "            background-color:  #ffffe5;\n",
       "            : ;\n",
       "            : ;\n",
       "        }    #T_5a85a426_3973_11eb_902a_082e5f7192aarow2_col30 {\n",
       "            background-color:  #ffffe5;\n",
       "            : ;\n",
       "            : ;\n",
       "        }    #T_5a85a426_3973_11eb_902a_082e5f7192aarow2_col31 {\n",
       "            background-color:  #ffffe5;\n",
       "            background-color:  #d65f5f;\n",
       "            : ;\n",
       "        }    #T_5a85a426_3973_11eb_902a_082e5f7192aarow2_col32 {\n",
       "            background-color:  #ffffc4;\n",
       "            : ;\n",
       "            : ;\n",
       "        }    #T_5a85a426_3973_11eb_902a_082e5f7192aarow2_col33 {\n",
       "            background-color:  #ffffe5;\n",
       "            : ;\n",
       "            : ;\n",
       "        }    #T_5a85a426_3973_11eb_902a_082e5f7192aarow2_col34 {\n",
       "            background-color:  #ffffe5;\n",
       "            : ;\n",
       "            : ;\n",
       "        }    #T_5a85a426_3973_11eb_902a_082e5f7192aarow2_col35 {\n",
       "            background-color:  #ffffdc;\n",
       "            : ;\n",
       "            : ;\n",
       "        }    #T_5a85a426_3973_11eb_902a_082e5f7192aarow2_col36 {\n",
       "            background-color:  #ffffc1;\n",
       "            : ;\n",
       "            : ;\n",
       "        }    #T_5a85a426_3973_11eb_902a_082e5f7192aarow2_col37 {\n",
       "            background-color:  #ffff90;\n",
       "            : ;\n",
       "            : ;\n",
       "        }    #T_5a85a426_3973_11eb_902a_082e5f7192aarow2_col38 {\n",
       "            background-color:  #ffffca;\n",
       "            : ;\n",
       "            : ;\n",
       "        }    #T_5a85a426_3973_11eb_902a_082e5f7192aarow2_col39 {\n",
       "            background-color:  #ffff7e;\n",
       "            : ;\n",
       "            : ;\n",
       "        }    #T_5a85a426_3973_11eb_902a_082e5f7192aarow2_col40 {\n",
       "            background-color:  #ffffb8;\n",
       "            : ;\n",
       "            : ;\n",
       "        }    #T_5a85a426_3973_11eb_902a_082e5f7192aarow2_col41 {\n",
       "            background-color:  #ffffe5;\n",
       "            : ;\n",
       "            : ;\n",
       "        }    #T_5a85a426_3973_11eb_902a_082e5f7192aarow2_col42 {\n",
       "            background-color:  #ffff87;\n",
       "            : ;\n",
       "            : ;\n",
       "        }    #T_5a85a426_3973_11eb_902a_082e5f7192aarow2_col43 {\n",
       "            background-color:  #ffffe5;\n",
       "            : ;\n",
       "            : ;\n",
       "        }    #T_5a85a426_3973_11eb_902a_082e5f7192aarow2_col44 {\n",
       "            background-color:  #ffffd7;\n",
       "            : ;\n",
       "            : ;\n",
       "        }    #T_5a85a426_3973_11eb_902a_082e5f7192aarow2_col45 {\n",
       "            background-color:  #ffffe5;\n",
       "            background-color:  #d65f5f;\n",
       "            : ;\n",
       "        }    #T_5a85a426_3973_11eb_902a_082e5f7192aarow2_col46 {\n",
       "            background-color:  #ffffe5;\n",
       "            : ;\n",
       "            : ;\n",
       "        }    #T_5a85a426_3973_11eb_902a_082e5f7192aarow2_col47 {\n",
       "            background-color:  #ffffe5;\n",
       "            : ;\n",
       "            : ;\n",
       "        }    #T_5a85a426_3973_11eb_902a_082e5f7192aarow2_col48 {\n",
       "            background-color:  #ffffb8;\n",
       "            : ;\n",
       "            : ;\n",
       "        }    #T_5a85a426_3973_11eb_902a_082e5f7192aarow2_col49 {\n",
       "            background-color:  #ffffe4;\n",
       "            : ;\n",
       "            : ;\n",
       "        }    #T_5a85a426_3973_11eb_902a_082e5f7192aarow2_col50 {\n",
       "            background-color:  #ffffe4;\n",
       "            : ;\n",
       "            : ;\n",
       "        }    #T_5a85a426_3973_11eb_902a_082e5f7192aarow2_col51 {\n",
       "            background-color:  #ffffe5;\n",
       "            : ;\n",
       "            : ;\n",
       "        }    #T_5a85a426_3973_11eb_902a_082e5f7192aarow2_col52 {\n",
       "            background-color:  #ffffe3;\n",
       "            : ;\n",
       "            : ;\n",
       "        }    #T_5a85a426_3973_11eb_902a_082e5f7192aarow2_col53 {\n",
       "            background-color:  #ffffe5;\n",
       "            : ;\n",
       "            : ;\n",
       "        }    #T_5a85a426_3973_11eb_902a_082e5f7192aarow2_col54 {\n",
       "            background-color:  #ffffe5;\n",
       "            background-color:  #d65f5f;\n",
       "            : ;\n",
       "        }    #T_5a85a426_3973_11eb_902a_082e5f7192aarow2_col55 {\n",
       "            background-color:  #ffffe4;\n",
       "            : ;\n",
       "            : ;\n",
       "        }    #T_5a85a426_3973_11eb_902a_082e5f7192aarow2_col56 {\n",
       "            background-color:  #ffffe5;\n",
       "            : ;\n",
       "            : ;\n",
       "        }    #T_5a85a426_3973_11eb_902a_082e5f7192aarow2_col57 {\n",
       "            background-color:  #ffff9c;\n",
       "            : ;\n",
       "            : ;\n",
       "        }    #T_5a85a426_3973_11eb_902a_082e5f7192aarow2_col58 {\n",
       "            background-color:  #ffffdc;\n",
       "            : ;\n",
       "            : ;\n",
       "        }    #T_5a85a426_3973_11eb_902a_082e5f7192aarow2_col59 {\n",
       "            background-color:  #ffffba;\n",
       "            : ;\n",
       "            : ;\n",
       "        }    #T_5a85a426_3973_11eb_902a_082e5f7192aarow2_col60 {\n",
       "            background-color:  #ffffe3;\n",
       "            : ;\n",
       "            : ;\n",
       "        }    #T_5a85a426_3973_11eb_902a_082e5f7192aarow2_col61 {\n",
       "            background-color:  #ffffe0;\n",
       "            : ;\n",
       "            : ;\n",
       "        }    #T_5a85a426_3973_11eb_902a_082e5f7192aarow2_col62 {\n",
       "            background-color:  #ffffe5;\n",
       "            : ;\n",
       "            : ;\n",
       "        }    #T_5a85a426_3973_11eb_902a_082e5f7192aarow2_col63 {\n",
       "            background-color:  #ffffc5;\n",
       "            : ;\n",
       "            : ;\n",
       "        }    #T_5a85a426_3973_11eb_902a_082e5f7192aarow2_col64 {\n",
       "            background-color:  #ffffe5;\n",
       "            : ;\n",
       "            : ;\n",
       "        }    #T_5a85a426_3973_11eb_902a_082e5f7192aarow2_col65 {\n",
       "            background-color:  #ffffe5;\n",
       "            background-color:  #d65f5f;\n",
       "            : ;\n",
       "        }    #T_5a85a426_3973_11eb_902a_082e5f7192aarow2_col66 {\n",
       "            background-color:  #ffffe4;\n",
       "            : ;\n",
       "            : ;\n",
       "        }    #T_5a85a426_3973_11eb_902a_082e5f7192aarow2_col67 {\n",
       "            background-color:  #ffffe5;\n",
       "            : ;\n",
       "            : ;\n",
       "        }    #T_5a85a426_3973_11eb_902a_082e5f7192aarow2_col68 {\n",
       "            background-color:  #ffffe5;\n",
       "            : ;\n",
       "            : ;\n",
       "        }    #T_5a85a426_3973_11eb_902a_082e5f7192aarow2_col69 {\n",
       "            background-color:  #ffffe5;\n",
       "            : ;\n",
       "            : ;\n",
       "        }    #T_5a85a426_3973_11eb_902a_082e5f7192aarow2_col70 {\n",
       "            background-color:  #ffffe5;\n",
       "            : ;\n",
       "            : ;\n",
       "        }    #T_5a85a426_3973_11eb_902a_082e5f7192aarow2_col71 {\n",
       "            background-color:  #ffffe5;\n",
       "            : ;\n",
       "            : ;\n",
       "        }    #T_5a85a426_3973_11eb_902a_082e5f7192aarow2_col72 {\n",
       "            background-color:  #ffffe5;\n",
       "            : ;\n",
       "            : ;\n",
       "        }    #T_5a85a426_3973_11eb_902a_082e5f7192aarow2_col73 {\n",
       "            background-color:  #ffffe3;\n",
       "            : ;\n",
       "            : ;\n",
       "        }    #T_5a85a426_3973_11eb_902a_082e5f7192aarow2_col74 {\n",
       "            background-color:  #ffffe5;\n",
       "            : ;\n",
       "            : ;\n",
       "        }    #T_5a85a426_3973_11eb_902a_082e5f7192aarow2_col75 {\n",
       "            background-color:  #ffffe5;\n",
       "            background-color:  #d65f5f;\n",
       "            : ;\n",
       "        }    #T_5a85a426_3973_11eb_902a_082e5f7192aarow2_col76 {\n",
       "            background-color:  #ffffe5;\n",
       "            background-color:  #d65f5f;\n",
       "            : ;\n",
       "        }    #T_5a85a426_3973_11eb_902a_082e5f7192aarow2_col77 {\n",
       "            background-color:  #ffffe5;\n",
       "            background-color:  #d65f5f;\n",
       "            : ;\n",
       "        }    #T_5a85a426_3973_11eb_902a_082e5f7192aarow2_col78 {\n",
       "            background-color:  #ffffe5;\n",
       "            background-color:  #d65f5f;\n",
       "            : ;\n",
       "        }    #T_5a85a426_3973_11eb_902a_082e5f7192aarow2_col79 {\n",
       "            background-color:  #ffffb7;\n",
       "            : ;\n",
       "            : ;\n",
       "        }    #T_5a85a426_3973_11eb_902a_082e5f7192aarow2_col80 {\n",
       "            background-color:  #ffffe2;\n",
       "            : ;\n",
       "            : ;\n",
       "        }    #T_5a85a426_3973_11eb_902a_082e5f7192aarow2_col81 {\n",
       "            background-color:  #ffffe5;\n",
       "            : ;\n",
       "            : ;\n",
       "        }    #T_5a85a426_3973_11eb_902a_082e5f7192aarow2_col82 {\n",
       "            background-color:  #ffffb3;\n",
       "            : ;\n",
       "            : ;\n",
       "        }    #T_5a85a426_3973_11eb_902a_082e5f7192aarow2_col83 {\n",
       "            background-color:  #ffffde;\n",
       "            : ;\n",
       "            : ;\n",
       "        }    #T_5a85a426_3973_11eb_902a_082e5f7192aarow2_col84 {\n",
       "            background-color:  #ffffe0;\n",
       "            : ;\n",
       "            : ;\n",
       "        }    #T_5a85a426_3973_11eb_902a_082e5f7192aarow2_col85 {\n",
       "            background-color:  #ffffe5;\n",
       "            background-color:  #d65f5f;\n",
       "            : ;\n",
       "        }    #T_5a85a426_3973_11eb_902a_082e5f7192aarow2_col86 {\n",
       "            background-color:  #ffffe5;\n",
       "            : ;\n",
       "            : ;\n",
       "        }    #T_5a85a426_3973_11eb_902a_082e5f7192aarow2_col87 {\n",
       "            background-color:  #ffffca;\n",
       "            : ;\n",
       "            : ;\n",
       "        }    #T_5a85a426_3973_11eb_902a_082e5f7192aarow2_col88 {\n",
       "            background-color:  #ffffe5;\n",
       "            : ;\n",
       "            : ;\n",
       "        }    #T_5a85a426_3973_11eb_902a_082e5f7192aarow2_col89 {\n",
       "            background-color:  #ffffe4;\n",
       "            : ;\n",
       "            : ;\n",
       "        }    #T_5a85a426_3973_11eb_902a_082e5f7192aarow2_col90 {\n",
       "            background-color:  #ffffe5;\n",
       "            : ;\n",
       "            : ;\n",
       "        }    #T_5a85a426_3973_11eb_902a_082e5f7192aarow2_col91 {\n",
       "            background-color:  #ffffe5;\n",
       "            : ;\n",
       "            : ;\n",
       "        }    #T_5a85a426_3973_11eb_902a_082e5f7192aarow2_col92 {\n",
       "            background-color:  #ffffca;\n",
       "            : ;\n",
       "            : ;\n",
       "        }    #T_5a85a426_3973_11eb_902a_082e5f7192aarow2_col93 {\n",
       "            background-color:  #ffffdf;\n",
       "            : ;\n",
       "            : ;\n",
       "        }    #T_5a85a426_3973_11eb_902a_082e5f7192aarow2_col94 {\n",
       "            background-color:  #ffffb2;\n",
       "            : ;\n",
       "            : ;\n",
       "        }    #T_5a85a426_3973_11eb_902a_082e5f7192aarow2_col95 {\n",
       "            background-color:  #ffffe3;\n",
       "            : ;\n",
       "            : ;\n",
       "        }    #T_5a85a426_3973_11eb_902a_082e5f7192aarow2_col96 {\n",
       "            background-color:  #ffffe5;\n",
       "            : ;\n",
       "            : ;\n",
       "        }    #T_5a85a426_3973_11eb_902a_082e5f7192aarow2_col97 {\n",
       "            background-color:  #ffffe5;\n",
       "            : ;\n",
       "            : ;\n",
       "        }    #T_5a85a426_3973_11eb_902a_082e5f7192aarow2_col98 {\n",
       "            background-color:  #ffffe2;\n",
       "            : ;\n",
       "            : ;\n",
       "        }    #T_5a85a426_3973_11eb_902a_082e5f7192aarow2_col99 {\n",
       "            background-color:  #ffffc3;\n",
       "            : ;\n",
       "            : ;\n",
       "        }    #T_5a85a426_3973_11eb_902a_082e5f7192aarow2_col100 {\n",
       "            background-color:  #ffffe5;\n",
       "            background-color:  #d65f5f;\n",
       "            : ;\n",
       "        }    #T_5a85a426_3973_11eb_902a_082e5f7192aarow2_col101 {\n",
       "            background-color:  #ffffe4;\n",
       "            : ;\n",
       "            : ;\n",
       "        }    #T_5a85a426_3973_11eb_902a_082e5f7192aarow2_col102 {\n",
       "            background-color:  #ffff9d;\n",
       "            : ;\n",
       "            : ;\n",
       "        }    #T_5a85a426_3973_11eb_902a_082e5f7192aarow2_col103 {\n",
       "            background-color:  #ffffe5;\n",
       "            : ;\n",
       "            : ;\n",
       "        }    #T_5a85a426_3973_11eb_902a_082e5f7192aarow2_col104 {\n",
       "            background-color:  #ffffc7;\n",
       "            : ;\n",
       "            : ;\n",
       "        }    #T_5a85a426_3973_11eb_902a_082e5f7192aarow2_col105 {\n",
       "            background-color:  #ffffe5;\n",
       "            : ;\n",
       "            : ;\n",
       "        }    #T_5a85a426_3973_11eb_902a_082e5f7192aarow2_col106 {\n",
       "            background-color:  #ffffe5;\n",
       "            : ;\n",
       "            : ;\n",
       "        }    #T_5a85a426_3973_11eb_902a_082e5f7192aarow2_col107 {\n",
       "            background-color:  #ffffe5;\n",
       "            background-color:  #d65f5f;\n",
       "            : ;\n",
       "        }    #T_5a85a426_3973_11eb_902a_082e5f7192aarow2_col108 {\n",
       "            background-color:  #ffffe2;\n",
       "            : ;\n",
       "            : ;\n",
       "        }    #T_5a85a426_3973_11eb_902a_082e5f7192aarow2_col109 {\n",
       "            background-color:  #ffffe5;\n",
       "            : ;\n",
       "            : ;\n",
       "        }    #T_5a85a426_3973_11eb_902a_082e5f7192aarow2_col110 {\n",
       "            background-color:  #ffffe5;\n",
       "            : ;\n",
       "            : ;\n",
       "        }    #T_5a85a426_3973_11eb_902a_082e5f7192aarow2_col111 {\n",
       "            background-color:  #ffffe2;\n",
       "            : ;\n",
       "            : ;\n",
       "        }    #T_5a85a426_3973_11eb_902a_082e5f7192aarow2_col112 {\n",
       "            background-color:  #ffffe5;\n",
       "            background-color:  #d65f5f;\n",
       "            : ;\n",
       "        }    #T_5a85a426_3973_11eb_902a_082e5f7192aarow2_col113 {\n",
       "            background-color:  #ffffe5;\n",
       "            : ;\n",
       "            : ;\n",
       "        }    #T_5a85a426_3973_11eb_902a_082e5f7192aarow2_col114 {\n",
       "            background-color:  #ffffe5;\n",
       "            : ;\n",
       "            : ;\n",
       "        }    #T_5a85a426_3973_11eb_902a_082e5f7192aarow2_col115 {\n",
       "            background-color:  #ffffdf;\n",
       "            : ;\n",
       "            : ;\n",
       "        }    #T_5a85a426_3973_11eb_902a_082e5f7192aarow2_col116 {\n",
       "            background-color:  #ffff7f;\n",
       "            : ;\n",
       "            : ;\n",
       "        }    #T_5a85a426_3973_11eb_902a_082e5f7192aarow2_col117 {\n",
       "            background-color:  #ffffe5;\n",
       "            : ;\n",
       "            : ;\n",
       "        }    #T_5a85a426_3973_11eb_902a_082e5f7192aarow2_col118 {\n",
       "            background-color:  #ffff00;\n",
       "            : ;\n",
       "            background-color:  yellow;\n",
       "        }    #T_5a85a426_3973_11eb_902a_082e5f7192aarow2_col119 {\n",
       "            background-color:  #ffffe5;\n",
       "            : ;\n",
       "            : ;\n",
       "        }    #T_5a85a426_3973_11eb_902a_082e5f7192aarow2_col120 {\n",
       "            background-color:  #ffffe5;\n",
       "            : ;\n",
       "            : ;\n",
       "        }    #T_5a85a426_3973_11eb_902a_082e5f7192aarow2_col121 {\n",
       "            background-color:  #ffffe5;\n",
       "            background-color:  #d65f5f;\n",
       "            : ;\n",
       "        }    #T_5a85a426_3973_11eb_902a_082e5f7192aarow2_col122 {\n",
       "            background-color:  #ffffcf;\n",
       "            : ;\n",
       "            : ;\n",
       "        }    #T_5a85a426_3973_11eb_902a_082e5f7192aarow2_col123 {\n",
       "            background-color:  #ffffe5;\n",
       "            : ;\n",
       "            : ;\n",
       "        }    #T_5a85a426_3973_11eb_902a_082e5f7192aarow2_col124 {\n",
       "            background-color:  #ffffe5;\n",
       "            : ;\n",
       "            : ;\n",
       "        }    #T_5a85a426_3973_11eb_902a_082e5f7192aarow2_col125 {\n",
       "            background-color:  #ffffe5;\n",
       "            : ;\n",
       "            : ;\n",
       "        }    #T_5a85a426_3973_11eb_902a_082e5f7192aarow2_col126 {\n",
       "            background-color:  #ffffe5;\n",
       "            : ;\n",
       "            : ;\n",
       "        }    #T_5a85a426_3973_11eb_902a_082e5f7192aarow2_col127 {\n",
       "            background-color:  #ffffe5;\n",
       "            background-color:  #d65f5f;\n",
       "            : ;\n",
       "        }    #T_5a85a426_3973_11eb_902a_082e5f7192aarow2_col128 {\n",
       "            background-color:  #ffffe5;\n",
       "            : ;\n",
       "            : ;\n",
       "        }    #T_5a85a426_3973_11eb_902a_082e5f7192aarow2_col129 {\n",
       "            background-color:  #ffffe5;\n",
       "            background-color:  #d65f5f;\n",
       "            : ;\n",
       "        }    #T_5a85a426_3973_11eb_902a_082e5f7192aarow2_col130 {\n",
       "            background-color:  #ffffe5;\n",
       "            background-color:  #d65f5f;\n",
       "            : ;\n",
       "        }    #T_5a85a426_3973_11eb_902a_082e5f7192aarow2_col131 {\n",
       "            background-color:  #ffffe5;\n",
       "            : ;\n",
       "            : ;\n",
       "        }    #T_5a85a426_3973_11eb_902a_082e5f7192aarow2_col132 {\n",
       "            background-color:  #ffffe5;\n",
       "            background-color:  #d65f5f;\n",
       "            : ;\n",
       "        }    #T_5a85a426_3973_11eb_902a_082e5f7192aarow2_col133 {\n",
       "            background-color:  #ffffe4;\n",
       "            : ;\n",
       "            : ;\n",
       "        }    #T_5a85a426_3973_11eb_902a_082e5f7192aarow2_col134 {\n",
       "            background-color:  #ffffe5;\n",
       "            : ;\n",
       "            : ;\n",
       "        }    #T_5a85a426_3973_11eb_902a_082e5f7192aarow2_col135 {\n",
       "            background-color:  #ffffe5;\n",
       "            : ;\n",
       "            : ;\n",
       "        }    #T_5a85a426_3973_11eb_902a_082e5f7192aarow2_col136 {\n",
       "            background-color:  #ffffe5;\n",
       "            : ;\n",
       "            : ;\n",
       "        }    #T_5a85a426_3973_11eb_902a_082e5f7192aarow2_col137 {\n",
       "            background-color:  #ffffe5;\n",
       "            : ;\n",
       "            : ;\n",
       "        }    #T_5a85a426_3973_11eb_902a_082e5f7192aarow2_col138 {\n",
       "            background-color:  #ffffe5;\n",
       "            : ;\n",
       "            : ;\n",
       "        }    #T_5a85a426_3973_11eb_902a_082e5f7192aarow2_col139 {\n",
       "            background-color:  #ffffe5;\n",
       "            : ;\n",
       "            : ;\n",
       "        }    #T_5a85a426_3973_11eb_902a_082e5f7192aarow2_col140 {\n",
       "            background-color:  #ffffe5;\n",
       "            : ;\n",
       "            : ;\n",
       "        }    #T_5a85a426_3973_11eb_902a_082e5f7192aarow2_col141 {\n",
       "            background-color:  #ffffe4;\n",
       "            : ;\n",
       "            : ;\n",
       "        }    #T_5a85a426_3973_11eb_902a_082e5f7192aarow2_col142 {\n",
       "            background-color:  #ffffe5;\n",
       "            : ;\n",
       "            : ;\n",
       "        }    #T_5a85a426_3973_11eb_902a_082e5f7192aarow2_col143 {\n",
       "            background-color:  #ffffe4;\n",
       "            : ;\n",
       "            : ;\n",
       "        }    #T_5a85a426_3973_11eb_902a_082e5f7192aarow2_col144 {\n",
       "            background-color:  #ffffe5;\n",
       "            : ;\n",
       "            : ;\n",
       "        }    #T_5a85a426_3973_11eb_902a_082e5f7192aarow2_col145 {\n",
       "            background-color:  #ffffe5;\n",
       "            : ;\n",
       "            : ;\n",
       "        }    #T_5a85a426_3973_11eb_902a_082e5f7192aarow2_col146 {\n",
       "            background-color:  #ffffe5;\n",
       "            : ;\n",
       "            : ;\n",
       "        }    #T_5a85a426_3973_11eb_902a_082e5f7192aarow2_col147 {\n",
       "            background-color:  #ffffe5;\n",
       "            : ;\n",
       "            : ;\n",
       "        }    #T_5a85a426_3973_11eb_902a_082e5f7192aarow2_col148 {\n",
       "            background-color:  #ffffe5;\n",
       "            : ;\n",
       "            : ;\n",
       "        }</style>  \n",
       "<table id=\"T_5a85a426_3973_11eb_902a_082e5f7192aa\" > \n",
       "<thead>    <tr> \n",
       "        <th class=\"blank level0\" ></th> \n",
       "        <th class=\"col_heading level0 col0\" colspan=149>Medal</th> \n",
       "    </tr>    <tr> \n",
       "        <th class=\"index_name level1\" >NOC</th> \n",
       "        <th class=\"col_heading level1 col0\" >AFG</th> \n",
       "        <th class=\"col_heading level1 col1\" >ALG</th> \n",
       "        <th class=\"col_heading level1 col2\" >ANZ</th> \n",
       "        <th class=\"col_heading level1 col3\" >ARG</th> \n",
       "        <th class=\"col_heading level1 col4\" >ARM</th> \n",
       "        <th class=\"col_heading level1 col5\" >AUS</th> \n",
       "        <th class=\"col_heading level1 col6\" >AUT</th> \n",
       "        <th class=\"col_heading level1 col7\" >AZE</th> \n",
       "        <th class=\"col_heading level1 col8\" >BAH</th> \n",
       "        <th class=\"col_heading level1 col9\" >BAR</th> \n",
       "        <th class=\"col_heading level1 col10\" >BEL</th> \n",
       "        <th class=\"col_heading level1 col11\" >BER</th> \n",
       "        <th class=\"col_heading level1 col12\" >BLR</th> \n",
       "        <th class=\"col_heading level1 col13\" >BOH</th> \n",
       "        <th class=\"col_heading level1 col14\" >BRA</th> \n",
       "        <th class=\"col_heading level1 col15\" >BRN</th> \n",
       "        <th class=\"col_heading level1 col16\" >BUL</th> \n",
       "        <th class=\"col_heading level1 col17\" >CAN</th> \n",
       "        <th class=\"col_heading level1 col18\" >CHI</th> \n",
       "        <th class=\"col_heading level1 col19\" >CHN</th> \n",
       "        <th class=\"col_heading level1 col20\" >CIV</th> \n",
       "        <th class=\"col_heading level1 col21\" >CMR</th> \n",
       "        <th class=\"col_heading level1 col22\" >COL</th> \n",
       "        <th class=\"col_heading level1 col23\" >CRC</th> \n",
       "        <th class=\"col_heading level1 col24\" >CRO</th> \n",
       "        <th class=\"col_heading level1 col25\" >CUB</th> \n",
       "        <th class=\"col_heading level1 col26\" >CZE</th> \n",
       "        <th class=\"col_heading level1 col27\" >DEN</th> \n",
       "        <th class=\"col_heading level1 col28\" >DJI</th> \n",
       "        <th class=\"col_heading level1 col29\" >DOM</th> \n",
       "        <th class=\"col_heading level1 col30\" >EGY</th> \n",
       "        <th class=\"col_heading level1 col31\" >ERI</th> \n",
       "        <th class=\"col_heading level1 col32\" >ESP</th> \n",
       "        <th class=\"col_heading level1 col33\" >EST</th> \n",
       "        <th class=\"col_heading level1 col34\" >ETH</th> \n",
       "        <th class=\"col_heading level1 col35\" >EUN</th> \n",
       "        <th class=\"col_heading level1 col36\" >FIN</th> \n",
       "        <th class=\"col_heading level1 col37\" >FRA</th> \n",
       "        <th class=\"col_heading level1 col38\" >FRG</th> \n",
       "        <th class=\"col_heading level1 col39\" >GBR</th> \n",
       "        <th class=\"col_heading level1 col40\" >GDR</th> \n",
       "        <th class=\"col_heading level1 col41\" >GEO</th> \n",
       "        <th class=\"col_heading level1 col42\" >GER</th> \n",
       "        <th class=\"col_heading level1 col43\" >GHA</th> \n",
       "        <th class=\"col_heading level1 col44\" >GRE</th> \n",
       "        <th class=\"col_heading level1 col45\" >GUY</th> \n",
       "        <th class=\"col_heading level1 col46\" >HAI</th> \n",
       "        <th class=\"col_heading level1 col47\" >HKG</th> \n",
       "        <th class=\"col_heading level1 col48\" >HUN</th> \n",
       "        <th class=\"col_heading level1 col49\" >INA</th> \n",
       "        <th class=\"col_heading level1 col50\" >IND</th> \n",
       "        <th class=\"col_heading level1 col51\" >IOA</th> \n",
       "        <th class=\"col_heading level1 col52\" >IRI</th> \n",
       "        <th class=\"col_heading level1 col53\" >IRL</th> \n",
       "        <th class=\"col_heading level1 col54\" >IRQ</th> \n",
       "        <th class=\"col_heading level1 col55\" >ISL</th> \n",
       "        <th class=\"col_heading level1 col56\" >ISR</th> \n",
       "        <th class=\"col_heading level1 col57\" >ITA</th> \n",
       "        <th class=\"col_heading level1 col58\" >JAM</th> \n",
       "        <th class=\"col_heading level1 col59\" >JPN</th> \n",
       "        <th class=\"col_heading level1 col60\" >KAZ</th> \n",
       "        <th class=\"col_heading level1 col61\" >KEN</th> \n",
       "        <th class=\"col_heading level1 col62\" >KGZ</th> \n",
       "        <th class=\"col_heading level1 col63\" >KOR</th> \n",
       "        <th class=\"col_heading level1 col64\" >KSA</th> \n",
       "        <th class=\"col_heading level1 col65\" >KUW</th> \n",
       "        <th class=\"col_heading level1 col66\" >LAT</th> \n",
       "        <th class=\"col_heading level1 col67\" >LIB</th> \n",
       "        <th class=\"col_heading level1 col68\" >LIE</th> \n",
       "        <th class=\"col_heading level1 col69\" >LTU</th> \n",
       "        <th class=\"col_heading level1 col70\" >MAR</th> \n",
       "        <th class=\"col_heading level1 col71\" >MAS</th> \n",
       "        <th class=\"col_heading level1 col72\" >MDA</th> \n",
       "        <th class=\"col_heading level1 col73\" >MEX</th> \n",
       "        <th class=\"col_heading level1 col74\" >MGL</th> \n",
       "        <th class=\"col_heading level1 col75\" >MKD</th> \n",
       "        <th class=\"col_heading level1 col76\" >MON</th> \n",
       "        <th class=\"col_heading level1 col77\" >MOZ</th> \n",
       "        <th class=\"col_heading level1 col78\" >MRI</th> \n",
       "        <th class=\"col_heading level1 col79\" >NED</th> \n",
       "        <th class=\"col_heading level1 col80\" >NGR</th> \n",
       "        <th class=\"col_heading level1 col81\" >NIG</th> \n",
       "        <th class=\"col_heading level1 col82\" >NOR</th> \n",
       "        <th class=\"col_heading level1 col83\" >NZL</th> \n",
       "        <th class=\"col_heading level1 col84\" >PAK</th> \n",
       "        <th class=\"col_heading level1 col85\" >PAN</th> \n",
       "        <th class=\"col_heading level1 col86\" >PHI</th> \n",
       "        <th class=\"col_heading level1 col87\" >POL</th> \n",
       "        <th class=\"col_heading level1 col88\" >POR</th> \n",
       "        <th class=\"col_heading level1 col89\" >PRK</th> \n",
       "        <th class=\"col_heading level1 col90\" >PUR</th> \n",
       "        <th class=\"col_heading level1 col91\" >QAT</th> \n",
       "        <th class=\"col_heading level1 col92\" >ROU</th> \n",
       "        <th class=\"col_heading level1 col93\" >RSA</th> \n",
       "        <th class=\"col_heading level1 col94\" >RUS</th> \n",
       "        <th class=\"col_heading level1 col95\" >SCG</th> \n",
       "        <th class=\"col_heading level1 col96\" >SGP</th> \n",
       "        <th class=\"col_heading level1 col97\" >SLO</th> \n",
       "        <th class=\"col_heading level1 col98\" >SRB</th> \n",
       "        <th class=\"col_heading level1 col99\" >SUI</th> \n",
       "        <th class=\"col_heading level1 col100\" >SUR</th> \n",
       "        <th class=\"col_heading level1 col101\" >SVK</th> \n",
       "        <th class=\"col_heading level1 col102\" >SWE</th> \n",
       "        <th class=\"col_heading level1 col103\" >SYR</th> \n",
       "        <th class=\"col_heading level1 col104\" >TCH</th> \n",
       "        <th class=\"col_heading level1 col105\" >THA</th> \n",
       "        <th class=\"col_heading level1 col106\" >TJK</th> \n",
       "        <th class=\"col_heading level1 col107\" >TOG</th> \n",
       "        <th class=\"col_heading level1 col108\" >TPE</th> \n",
       "        <th class=\"col_heading level1 col109\" >TTO</th> \n",
       "        <th class=\"col_heading level1 col110\" >TUN</th> \n",
       "        <th class=\"col_heading level1 col111\" >TUR</th> \n",
       "        <th class=\"col_heading level1 col112\" >UAE</th> \n",
       "        <th class=\"col_heading level1 col113\" >UAR</th> \n",
       "        <th class=\"col_heading level1 col114\" >UGA</th> \n",
       "        <th class=\"col_heading level1 col115\" >UKR</th> \n",
       "        <th class=\"col_heading level1 col116\" >URS</th> \n",
       "        <th class=\"col_heading level1 col117\" >URU</th> \n",
       "        <th class=\"col_heading level1 col118\" >USA</th> \n",
       "        <th class=\"col_heading level1 col119\" >UZB</th> \n",
       "        <th class=\"col_heading level1 col120\" >VEN</th> \n",
       "        <th class=\"col_heading level1 col121\" >WIF</th> \n",
       "        <th class=\"col_heading level1 col122\" >YUG</th> \n",
       "        <th class=\"col_heading level1 col123\" >ZAM</th> \n",
       "        <th class=\"col_heading level1 col124\" >ZIM</th> \n",
       "        <th class=\"col_heading level1 col125\" >BDI</th> \n",
       "        <th class=\"col_heading level1 col126\" >ECU</th> \n",
       "        <th class=\"col_heading level1 col127\" >FIJ</th> \n",
       "        <th class=\"col_heading level1 col128\" >GRN</th> \n",
       "        <th class=\"col_heading level1 col129\" >JOR</th> \n",
       "        <th class=\"col_heading level1 col130\" >KOS</th> \n",
       "        <th class=\"col_heading level1 col131\" >LUX</th> \n",
       "        <th class=\"col_heading level1 col132\" >NEP</th> \n",
       "        <th class=\"col_heading level1 col133\" >PER</th> \n",
       "        <th class=\"col_heading level1 col134\" >VIE</th> \n",
       "        <th class=\"col_heading level1 col135\" >AHO</th> \n",
       "        <th class=\"col_heading level1 col136\" >BOT</th> \n",
       "        <th class=\"col_heading level1 col137\" >CYP</th> \n",
       "        <th class=\"col_heading level1 col138\" >GAB</th> \n",
       "        <th class=\"col_heading level1 col139\" >GUA</th> \n",
       "        <th class=\"col_heading level1 col140\" >ISV</th> \n",
       "        <th class=\"col_heading level1 col141\" >MNE</th> \n",
       "        <th class=\"col_heading level1 col142\" >NAM</th> \n",
       "        <th class=\"col_heading level1 col143\" >PAR</th> \n",
       "        <th class=\"col_heading level1 col144\" >SEN</th> \n",
       "        <th class=\"col_heading level1 col145\" >SRI</th> \n",
       "        <th class=\"col_heading level1 col146\" >SUD</th> \n",
       "        <th class=\"col_heading level1 col147\" >TAN</th> \n",
       "        <th class=\"col_heading level1 col148\" >TGA</th> \n",
       "    </tr>    <tr> \n",
       "        <th class=\"index_name level0\" >Medal</th> \n",
       "        <th class=\"blank\" ></th> \n",
       "        <th class=\"blank\" ></th> \n",
       "        <th class=\"blank\" ></th> \n",
       "        <th class=\"blank\" ></th> \n",
       "        <th class=\"blank\" ></th> \n",
       "        <th class=\"blank\" ></th> \n",
       "        <th class=\"blank\" ></th> \n",
       "        <th class=\"blank\" ></th> \n",
       "        <th class=\"blank\" ></th> \n",
       "        <th class=\"blank\" ></th> \n",
       "        <th class=\"blank\" ></th> \n",
       "        <th class=\"blank\" ></th> \n",
       "        <th class=\"blank\" ></th> \n",
       "        <th class=\"blank\" ></th> \n",
       "        <th class=\"blank\" ></th> \n",
       "        <th class=\"blank\" ></th> \n",
       "        <th class=\"blank\" ></th> \n",
       "        <th class=\"blank\" ></th> \n",
       "        <th class=\"blank\" ></th> \n",
       "        <th class=\"blank\" ></th> \n",
       "        <th class=\"blank\" ></th> \n",
       "        <th class=\"blank\" ></th> \n",
       "        <th class=\"blank\" ></th> \n",
       "        <th class=\"blank\" ></th> \n",
       "        <th class=\"blank\" ></th> \n",
       "        <th class=\"blank\" ></th> \n",
       "        <th class=\"blank\" ></th> \n",
       "        <th class=\"blank\" ></th> \n",
       "        <th class=\"blank\" ></th> \n",
       "        <th class=\"blank\" ></th> \n",
       "        <th class=\"blank\" ></th> \n",
       "        <th class=\"blank\" ></th> \n",
       "        <th class=\"blank\" ></th> \n",
       "        <th class=\"blank\" ></th> \n",
       "        <th class=\"blank\" ></th> \n",
       "        <th class=\"blank\" ></th> \n",
       "        <th class=\"blank\" ></th> \n",
       "        <th class=\"blank\" ></th> \n",
       "        <th class=\"blank\" ></th> \n",
       "        <th class=\"blank\" ></th> \n",
       "        <th class=\"blank\" ></th> \n",
       "        <th class=\"blank\" ></th> \n",
       "        <th class=\"blank\" ></th> \n",
       "        <th class=\"blank\" ></th> \n",
       "        <th class=\"blank\" ></th> \n",
       "        <th class=\"blank\" ></th> \n",
       "        <th class=\"blank\" ></th> \n",
       "        <th class=\"blank\" ></th> \n",
       "        <th class=\"blank\" ></th> \n",
       "        <th class=\"blank\" ></th> \n",
       "        <th class=\"blank\" ></th> \n",
       "        <th class=\"blank\" ></th> \n",
       "        <th class=\"blank\" ></th> \n",
       "        <th class=\"blank\" ></th> \n",
       "        <th class=\"blank\" ></th> \n",
       "        <th class=\"blank\" ></th> \n",
       "        <th class=\"blank\" ></th> \n",
       "        <th class=\"blank\" ></th> \n",
       "        <th class=\"blank\" ></th> \n",
       "        <th class=\"blank\" ></th> \n",
       "        <th class=\"blank\" ></th> \n",
       "        <th class=\"blank\" ></th> \n",
       "        <th class=\"blank\" ></th> \n",
       "        <th class=\"blank\" ></th> \n",
       "        <th class=\"blank\" ></th> \n",
       "        <th class=\"blank\" ></th> \n",
       "        <th class=\"blank\" ></th> \n",
       "        <th class=\"blank\" ></th> \n",
       "        <th class=\"blank\" ></th> \n",
       "        <th class=\"blank\" ></th> \n",
       "        <th class=\"blank\" ></th> \n",
       "        <th class=\"blank\" ></th> \n",
       "        <th class=\"blank\" ></th> \n",
       "        <th class=\"blank\" ></th> \n",
       "        <th class=\"blank\" ></th> \n",
       "        <th class=\"blank\" ></th> \n",
       "        <th class=\"blank\" ></th> \n",
       "        <th class=\"blank\" ></th> \n",
       "        <th class=\"blank\" ></th> \n",
       "        <th class=\"blank\" ></th> \n",
       "        <th class=\"blank\" ></th> \n",
       "        <th class=\"blank\" ></th> \n",
       "        <th class=\"blank\" ></th> \n",
       "        <th class=\"blank\" ></th> \n",
       "        <th class=\"blank\" ></th> \n",
       "        <th class=\"blank\" ></th> \n",
       "        <th class=\"blank\" ></th> \n",
       "        <th class=\"blank\" ></th> \n",
       "        <th class=\"blank\" ></th> \n",
       "        <th class=\"blank\" ></th> \n",
       "        <th class=\"blank\" ></th> \n",
       "        <th class=\"blank\" ></th> \n",
       "        <th class=\"blank\" ></th> \n",
       "        <th class=\"blank\" ></th> \n",
       "        <th class=\"blank\" ></th> \n",
       "        <th class=\"blank\" ></th> \n",
       "        <th class=\"blank\" ></th> \n",
       "        <th class=\"blank\" ></th> \n",
       "        <th class=\"blank\" ></th> \n",
       "        <th class=\"blank\" ></th> \n",
       "        <th class=\"blank\" ></th> \n",
       "        <th class=\"blank\" ></th> \n",
       "        <th class=\"blank\" ></th> \n",
       "        <th class=\"blank\" ></th> \n",
       "        <th class=\"blank\" ></th> \n",
       "        <th class=\"blank\" ></th> \n",
       "        <th class=\"blank\" ></th> \n",
       "        <th class=\"blank\" ></th> \n",
       "        <th class=\"blank\" ></th> \n",
       "        <th class=\"blank\" ></th> \n",
       "        <th class=\"blank\" ></th> \n",
       "        <th class=\"blank\" ></th> \n",
       "        <th class=\"blank\" ></th> \n",
       "        <th class=\"blank\" ></th> \n",
       "        <th class=\"blank\" ></th> \n",
       "        <th class=\"blank\" ></th> \n",
       "        <th class=\"blank\" ></th> \n",
       "        <th class=\"blank\" ></th> \n",
       "        <th class=\"blank\" ></th> \n",
       "        <th class=\"blank\" ></th> \n",
       "        <th class=\"blank\" ></th> \n",
       "        <th class=\"blank\" ></th> \n",
       "        <th class=\"blank\" ></th> \n",
       "        <th class=\"blank\" ></th> \n",
       "        <th class=\"blank\" ></th> \n",
       "        <th class=\"blank\" ></th> \n",
       "        <th class=\"blank\" ></th> \n",
       "        <th class=\"blank\" ></th> \n",
       "        <th class=\"blank\" ></th> \n",
       "        <th class=\"blank\" ></th> \n",
       "        <th class=\"blank\" ></th> \n",
       "        <th class=\"blank\" ></th> \n",
       "        <th class=\"blank\" ></th> \n",
       "        <th class=\"blank\" ></th> \n",
       "        <th class=\"blank\" ></th> \n",
       "        <th class=\"blank\" ></th> \n",
       "        <th class=\"blank\" ></th> \n",
       "        <th class=\"blank\" ></th> \n",
       "        <th class=\"blank\" ></th> \n",
       "        <th class=\"blank\" ></th> \n",
       "        <th class=\"blank\" ></th> \n",
       "        <th class=\"blank\" ></th> \n",
       "        <th class=\"blank\" ></th> \n",
       "        <th class=\"blank\" ></th> \n",
       "        <th class=\"blank\" ></th> \n",
       "        <th class=\"blank\" ></th> \n",
       "        <th class=\"blank\" ></th> \n",
       "        <th class=\"blank\" ></th> \n",
       "        <th class=\"blank\" ></th> \n",
       "    </tr></thead> \n",
       "<tbody>    <tr> \n",
       "        <th id=\"T_5a85a426_3973_11eb_902a_082e5f7192aalevel0_row0\" class=\"row_heading level0 row0\" >Bronze</th> \n",
       "        <td id=\"T_5a85a426_3973_11eb_902a_082e5f7192aarow0_col0\" class=\"data row0 col0\" >2</td> \n",
       "        <td id=\"T_5a85a426_3973_11eb_902a_082e5f7192aarow0_col1\" class=\"data row0 col1\" >8</td> \n",
       "        <td id=\"T_5a85a426_3973_11eb_902a_082e5f7192aarow0_col2\" class=\"data row0 col2\" >5</td> \n",
       "        <td id=\"T_5a85a426_3973_11eb_902a_082e5f7192aarow0_col3\" class=\"data row0 col3\" >91</td> \n",
       "        <td id=\"T_5a85a426_3973_11eb_902a_082e5f7192aarow0_col4\" class=\"data row0 col4\" >9</td> \n",
       "        <td id=\"T_5a85a426_3973_11eb_902a_082e5f7192aarow0_col5\" class=\"data row0 col5\" >517</td> \n",
       "        <td id=\"T_5a85a426_3973_11eb_902a_082e5f7192aarow0_col6\" class=\"data row0 col6\" >156</td> \n",
       "        <td id=\"T_5a85a426_3973_11eb_902a_082e5f7192aarow0_col7\" class=\"data row0 col7\" >25</td> \n",
       "        <td id=\"T_5a85a426_3973_11eb_902a_082e5f7192aarow0_col8\" class=\"data row0 col8\" >15</td> \n",
       "        <td id=\"T_5a85a426_3973_11eb_902a_082e5f7192aarow0_col9\" class=\"data row0 col9\" >1</td> \n",
       "        <td id=\"T_5a85a426_3973_11eb_902a_082e5f7192aarow0_col10\" class=\"data row0 col10\" >173</td> \n",
       "        <td id=\"T_5a85a426_3973_11eb_902a_082e5f7192aarow0_col11\" class=\"data row0 col11\" >1</td> \n",
       "        <td id=\"T_5a85a426_3973_11eb_902a_082e5f7192aarow0_col12\" class=\"data row0 col12\" >71</td> \n",
       "        <td id=\"T_5a85a426_3973_11eb_902a_082e5f7192aarow0_col13\" class=\"data row0 col13\" >11</td> \n",
       "        <td id=\"T_5a85a426_3973_11eb_902a_082e5f7192aarow0_col14\" class=\"data row0 col14\" >191</td> \n",
       "        <td id=\"T_5a85a426_3973_11eb_902a_082e5f7192aarow0_col15\" class=\"data row0 col15\" >1</td> \n",
       "        <td id=\"T_5a85a426_3973_11eb_902a_082e5f7192aarow0_col16\" class=\"data row0 col16\" >144</td> \n",
       "        <td id=\"T_5a85a426_3973_11eb_902a_082e5f7192aarow0_col17\" class=\"data row0 col17\" >451</td> \n",
       "        <td id=\"T_5a85a426_3973_11eb_902a_082e5f7192aarow0_col18\" class=\"data row0 col18\" >20</td> \n",
       "        <td id=\"T_5a85a426_3973_11eb_902a_082e5f7192aarow0_col19\" class=\"data row0 col19\" >292</td> \n",
       "        <td id=\"T_5a85a426_3973_11eb_902a_082e5f7192aarow0_col20\" class=\"data row0 col20\" >1</td> \n",
       "        <td id=\"T_5a85a426_3973_11eb_902a_082e5f7192aarow0_col21\" class=\"data row0 col21\" >1</td> \n",
       "        <td id=\"T_5a85a426_3973_11eb_902a_082e5f7192aarow0_col22\" class=\"data row0 col22\" >14</td> \n",
       "        <td id=\"T_5a85a426_3973_11eb_902a_082e5f7192aarow0_col23\" class=\"data row0 col23\" >2</td> \n",
       "        <td id=\"T_5a85a426_3973_11eb_902a_082e5f7192aarow0_col24\" class=\"data row0 col24\" >37</td> \n",
       "        <td id=\"T_5a85a426_3973_11eb_902a_082e5f7192aarow0_col25\" class=\"data row0 col25\" >116</td> \n",
       "        <td id=\"T_5a85a426_3973_11eb_902a_082e5f7192aarow0_col26\" class=\"data row0 col26\" >66</td> \n",
       "        <td id=\"T_5a85a426_3973_11eb_902a_082e5f7192aarow0_col27\" class=\"data row0 col27\" >177</td> \n",
       "        <td id=\"T_5a85a426_3973_11eb_902a_082e5f7192aarow0_col28\" class=\"data row0 col28\" >1</td> \n",
       "        <td id=\"T_5a85a426_3973_11eb_902a_082e5f7192aarow0_col29\" class=\"data row0 col29\" >2</td> \n",
       "        <td id=\"T_5a85a426_3973_11eb_902a_082e5f7192aarow0_col30\" class=\"data row0 col30\" >12</td> \n",
       "        <td id=\"T_5a85a426_3973_11eb_902a_082e5f7192aarow0_col31\" class=\"data row0 col31\" >1</td> \n",
       "        <td id=\"T_5a85a426_3973_11eb_902a_082e5f7192aarow0_col32\" class=\"data row0 col32\" >136</td> \n",
       "        <td id=\"T_5a85a426_3973_11eb_902a_082e5f7192aarow0_col33\" class=\"data row0 col33\" >25</td> \n",
       "        <td id=\"T_5a85a426_3973_11eb_902a_082e5f7192aarow0_col34\" class=\"data row0 col34\" >22</td> \n",
       "        <td id=\"T_5a85a426_3973_11eb_902a_082e5f7192aarow0_col35\" class=\"data row0 col35\" >81</td> \n",
       "        <td id=\"T_5a85a426_3973_11eb_902a_082e5f7192aarow0_col36\" class=\"data row0 col36\" >432</td> \n",
       "        <td id=\"T_5a85a426_3973_11eb_902a_082e5f7192aarow0_col37\" class=\"data row0 col37\" >666</td> \n",
       "        <td id=\"T_5a85a426_3973_11eb_902a_082e5f7192aarow0_col38\" class=\"data row0 col38\" >233</td> \n",
       "        <td id=\"T_5a85a426_3973_11eb_902a_082e5f7192aarow0_col39\" class=\"data row0 col39\" >651</td> \n",
       "        <td id=\"T_5a85a426_3973_11eb_902a_082e5f7192aarow0_col40\" class=\"data row0 col40\" >281</td> \n",
       "        <td id=\"T_5a85a426_3973_11eb_902a_082e5f7192aarow0_col41\" class=\"data row0 col41\" >18</td> \n",
       "        <td id=\"T_5a85a426_3973_11eb_902a_082e5f7192aarow0_col42\" class=\"data row0 col42\" >746</td> \n",
       "        <td id=\"T_5a85a426_3973_11eb_902a_082e5f7192aarow0_col43\" class=\"data row0 col43\" >22</td> \n",
       "        <td id=\"T_5a85a426_3973_11eb_902a_082e5f7192aarow0_col44\" class=\"data row0 col44\" >84</td> \n",
       "        <td id=\"T_5a85a426_3973_11eb_902a_082e5f7192aarow0_col45\" class=\"data row0 col45\" >1</td> \n",
       "        <td id=\"T_5a85a426_3973_11eb_902a_082e5f7192aarow0_col46\" class=\"data row0 col46\" >5</td> \n",
       "        <td id=\"T_5a85a426_3973_11eb_902a_082e5f7192aarow0_col47\" class=\"data row0 col47\" >1</td> \n",
       "        <td id=\"T_5a85a426_3973_11eb_902a_082e5f7192aarow0_col48\" class=\"data row0 col48\" >371</td> \n",
       "        <td id=\"T_5a85a426_3973_11eb_902a_082e5f7192aarow0_col49\" class=\"data row0 col49\" >13</td> \n",
       "        <td id=\"T_5a85a426_3973_11eb_902a_082e5f7192aarow0_col50\" class=\"data row0 col50\" >40</td> \n",
       "        <td id=\"T_5a85a426_3973_11eb_902a_082e5f7192aarow0_col51\" class=\"data row0 col51\" >3</td> \n",
       "        <td id=\"T_5a85a426_3973_11eb_902a_082e5f7192aarow0_col52\" class=\"data row0 col52\" >29</td> \n",
       "        <td id=\"T_5a85a426_3973_11eb_902a_082e5f7192aarow0_col53\" class=\"data row0 col53\" >13</td> \n",
       "        <td id=\"T_5a85a426_3973_11eb_902a_082e5f7192aarow0_col54\" class=\"data row0 col54\" >1</td> \n",
       "        <td id=\"T_5a85a426_3973_11eb_902a_082e5f7192aarow0_col55\" class=\"data row0 col55\" >2</td> \n",
       "        <td id=\"T_5a85a426_3973_11eb_902a_082e5f7192aarow0_col56\" class=\"data row0 col56\" >7</td> \n",
       "        <td id=\"T_5a85a426_3973_11eb_902a_082e5f7192aarow0_col57\" class=\"data row0 col57\" >531</td> \n",
       "        <td id=\"T_5a85a426_3973_11eb_902a_082e5f7192aarow0_col58\" class=\"data row0 col58\" >44</td> \n",
       "        <td id=\"T_5a85a426_3973_11eb_902a_082e5f7192aarow0_col59\" class=\"data row0 col59\" >357</td> \n",
       "        <td id=\"T_5a85a426_3973_11eb_902a_082e5f7192aarow0_col60\" class=\"data row0 col60\" >32</td> \n",
       "        <td id=\"T_5a85a426_3973_11eb_902a_082e5f7192aarow0_col61\" class=\"data row0 col61\" >31</td> \n",
       "        <td id=\"T_5a85a426_3973_11eb_902a_082e5f7192aarow0_col62\" class=\"data row0 col62\" >2</td> \n",
       "        <td id=\"T_5a85a426_3973_11eb_902a_082e5f7192aarow0_col63\" class=\"data row0 col63\" >185</td> \n",
       "        <td id=\"T_5a85a426_3973_11eb_902a_082e5f7192aarow0_col64\" class=\"data row0 col64\" >5</td> \n",
       "        <td id=\"T_5a85a426_3973_11eb_902a_082e5f7192aarow0_col65\" class=\"data row0 col65\" >2</td> \n",
       "        <td id=\"T_5a85a426_3973_11eb_902a_082e5f7192aarow0_col66\" class=\"data row0 col66\" >13</td> \n",
       "        <td id=\"T_5a85a426_3973_11eb_902a_082e5f7192aarow0_col67\" class=\"data row0 col67\" >2</td> \n",
       "        <td id=\"T_5a85a426_3973_11eb_902a_082e5f7192aarow0_col68\" class=\"data row0 col68\" >5</td> \n",
       "        <td id=\"T_5a85a426_3973_11eb_902a_082e5f7192aarow0_col69\" class=\"data row0 col69\" >48</td> \n",
       "        <td id=\"T_5a85a426_3973_11eb_902a_082e5f7192aarow0_col70\" class=\"data row0 col70\" >12</td> \n",
       "        <td id=\"T_5a85a426_3973_11eb_902a_082e5f7192aarow0_col71\" class=\"data row0 col71\" >5</td> \n",
       "        <td id=\"T_5a85a426_3973_11eb_902a_082e5f7192aarow0_col72\" class=\"data row0 col72\" >5</td> \n",
       "        <td id=\"T_5a85a426_3973_11eb_902a_082e5f7192aarow0_col73\" class=\"data row0 col73\" >54</td> \n",
       "        <td id=\"T_5a85a426_3973_11eb_902a_082e5f7192aarow0_col74\" class=\"data row0 col74\" >14</td> \n",
       "        <td id=\"T_5a85a426_3973_11eb_902a_082e5f7192aarow0_col75\" class=\"data row0 col75\" >1</td> \n",
       "        <td id=\"T_5a85a426_3973_11eb_902a_082e5f7192aarow0_col76\" class=\"data row0 col76\" >1</td> \n",
       "        <td id=\"T_5a85a426_3973_11eb_902a_082e5f7192aarow0_col77\" class=\"data row0 col77\" >1</td> \n",
       "        <td id=\"T_5a85a426_3973_11eb_902a_082e5f7192aarow0_col78\" class=\"data row0 col78\" >1</td> \n",
       "        <td id=\"T_5a85a426_3973_11eb_902a_082e5f7192aarow0_col79\" class=\"data row0 col79\" >413</td> \n",
       "        <td id=\"T_5a85a426_3973_11eb_902a_082e5f7192aarow0_col80\" class=\"data row0 col80\" >46</td> \n",
       "        <td id=\"T_5a85a426_3973_11eb_902a_082e5f7192aarow0_col81\" class=\"data row0 col81\" >1</td> \n",
       "        <td id=\"T_5a85a426_3973_11eb_902a_082e5f7192aarow0_col82\" class=\"data row0 col82\" >294</td> \n",
       "        <td id=\"T_5a85a426_3973_11eb_902a_082e5f7192aarow0_col83\" class=\"data row0 col83\" >82</td> \n",
       "        <td id=\"T_5a85a426_3973_11eb_902a_082e5f7192aarow0_col84\" class=\"data row0 col84\" >34</td> \n",
       "        <td id=\"T_5a85a426_3973_11eb_902a_082e5f7192aarow0_col85\" class=\"data row0 col85\" >2</td> \n",
       "        <td id=\"T_5a85a426_3973_11eb_902a_082e5f7192aarow0_col86\" class=\"data row0 col86\" >7</td> \n",
       "        <td id=\"T_5a85a426_3973_11eb_902a_082e5f7192aarow0_col87\" class=\"data row0 col87\" >253</td> \n",
       "        <td id=\"T_5a85a426_3973_11eb_902a_082e5f7192aarow0_col88\" class=\"data row0 col88\" >26</td> \n",
       "        <td id=\"T_5a85a426_3973_11eb_902a_082e5f7192aarow0_col89\" class=\"data row0 col89\" >35</td> \n",
       "        <td id=\"T_5a85a426_3973_11eb_902a_082e5f7192aarow0_col90\" class=\"data row0 col90\" >6</td> \n",
       "        <td id=\"T_5a85a426_3973_11eb_902a_082e5f7192aarow0_col91\" class=\"data row0 col91\" >4</td> \n",
       "        <td id=\"T_5a85a426_3973_11eb_902a_082e5f7192aarow0_col92\" class=\"data row0 col92\" >292</td> \n",
       "        <td id=\"T_5a85a426_3973_11eb_902a_082e5f7192aarow0_col93\" class=\"data row0 col93\" >52</td> \n",
       "        <td id=\"T_5a85a426_3973_11eb_902a_082e5f7192aarow0_col94\" class=\"data row0 col94\" >408</td> \n",
       "        <td id=\"T_5a85a426_3973_11eb_902a_082e5f7192aarow0_col95\" class=\"data row0 col95\" >26</td> \n",
       "        <td id=\"T_5a85a426_3973_11eb_902a_082e5f7192aarow0_col96\" class=\"data row0 col96\" >4</td> \n",
       "        <td id=\"T_5a85a426_3973_11eb_902a_082e5f7192aarow0_col97\" class=\"data row0 col97\" >27</td> \n",
       "        <td id=\"T_5a85a426_3973_11eb_902a_082e5f7192aarow0_col98\" class=\"data row0 col98\" >41</td> \n",
       "        <td id=\"T_5a85a426_3973_11eb_902a_082e5f7192aarow0_col99\" class=\"data row0 col99\" >268</td> \n",
       "        <td id=\"T_5a85a426_3973_11eb_902a_082e5f7192aarow0_col100\" class=\"data row0 col100\" >1</td> \n",
       "        <td id=\"T_5a85a426_3973_11eb_902a_082e5f7192aarow0_col101\" class=\"data row0 col101\" >13</td> \n",
       "        <td id=\"T_5a85a426_3973_11eb_902a_082e5f7192aarow0_col102\" class=\"data row0 col102\" >535</td> \n",
       "        <td id=\"T_5a85a426_3973_11eb_902a_082e5f7192aarow0_col103\" class=\"data row0 col103\" >1</td> \n",
       "        <td id=\"T_5a85a426_3973_11eb_902a_082e5f7192aarow0_col104\" class=\"data row0 col104\" >182</td> \n",
       "        <td id=\"T_5a85a426_3973_11eb_902a_082e5f7192aarow0_col105\" class=\"data row0 col105\" >13</td> \n",
       "        <td id=\"T_5a85a426_3973_11eb_902a_082e5f7192aarow0_col106\" class=\"data row0 col106\" >2</td> \n",
       "        <td id=\"T_5a85a426_3973_11eb_902a_082e5f7192aarow0_col107\" class=\"data row0 col107\" >1</td> \n",
       "        <td id=\"T_5a85a426_3973_11eb_902a_082e5f7192aarow0_col108\" class=\"data row0 col108\" >18</td> \n",
       "        <td id=\"T_5a85a426_3973_11eb_902a_082e5f7192aarow0_col109\" class=\"data row0 col109\" >17</td> \n",
       "        <td id=\"T_5a85a426_3973_11eb_902a_082e5f7192aarow0_col110\" class=\"data row0 col110\" >7</td> \n",
       "        <td id=\"T_5a85a426_3973_11eb_902a_082e5f7192aarow0_col111\" class=\"data row0 col111\" >28</td> \n",
       "        <td id=\"T_5a85a426_3973_11eb_902a_082e5f7192aarow0_col112\" class=\"data row0 col112\" >1</td> \n",
       "        <td id=\"T_5a85a426_3973_11eb_902a_082e5f7192aarow0_col113\" class=\"data row0 col113\" >1</td> \n",
       "        <td id=\"T_5a85a426_3973_11eb_902a_082e5f7192aarow0_col114\" class=\"data row0 col114\" >2</td> \n",
       "        <td id=\"T_5a85a426_3973_11eb_902a_082e5f7192aarow0_col115\" class=\"data row0 col115\" >100</td> \n",
       "        <td id=\"T_5a85a426_3973_11eb_902a_082e5f7192aarow0_col116\" class=\"data row0 col116\" >689</td> \n",
       "        <td id=\"T_5a85a426_3973_11eb_902a_082e5f7192aarow0_col117\" class=\"data row0 col117\" >30</td> \n",
       "        <td id=\"T_5a85a426_3973_11eb_902a_082e5f7192aarow0_col118\" class=\"data row0 col118\" >1358</td> \n",
       "        <td id=\"T_5a85a426_3973_11eb_902a_082e5f7192aarow0_col119\" class=\"data row0 col119\" >17</td> \n",
       "        <td id=\"T_5a85a426_3973_11eb_902a_082e5f7192aarow0_col120\" class=\"data row0 col120\" >10</td> \n",
       "        <td id=\"T_5a85a426_3973_11eb_902a_082e5f7192aarow0_col121\" class=\"data row0 col121\" >5</td> \n",
       "        <td id=\"T_5a85a426_3973_11eb_902a_082e5f7192aarow0_col122\" class=\"data row0 col122\" >93</td> \n",
       "        <td id=\"T_5a85a426_3973_11eb_902a_082e5f7192aarow0_col123\" class=\"data row0 col123\" >1</td> \n",
       "        <td id=\"T_5a85a426_3973_11eb_902a_082e5f7192aarow0_col124\" class=\"data row0 col124\" >1</td> \n",
       "        <td id=\"T_5a85a426_3973_11eb_902a_082e5f7192aarow0_col125\" class=\"data row0 col125\" >nan</td> \n",
       "        <td id=\"T_5a85a426_3973_11eb_902a_082e5f7192aarow0_col126\" class=\"data row0 col126\" >nan</td> \n",
       "        <td id=\"T_5a85a426_3973_11eb_902a_082e5f7192aarow0_col127\" class=\"data row0 col127\" >nan</td> \n",
       "        <td id=\"T_5a85a426_3973_11eb_902a_082e5f7192aarow0_col128\" class=\"data row0 col128\" >nan</td> \n",
       "        <td id=\"T_5a85a426_3973_11eb_902a_082e5f7192aarow0_col129\" class=\"data row0 col129\" >nan</td> \n",
       "        <td id=\"T_5a85a426_3973_11eb_902a_082e5f7192aarow0_col130\" class=\"data row0 col130\" >nan</td> \n",
       "        <td id=\"T_5a85a426_3973_11eb_902a_082e5f7192aarow0_col131\" class=\"data row0 col131\" >nan</td> \n",
       "        <td id=\"T_5a85a426_3973_11eb_902a_082e5f7192aarow0_col132\" class=\"data row0 col132\" >nan</td> \n",
       "        <td id=\"T_5a85a426_3973_11eb_902a_082e5f7192aarow0_col133\" class=\"data row0 col133\" >nan</td> \n",
       "        <td id=\"T_5a85a426_3973_11eb_902a_082e5f7192aarow0_col134\" class=\"data row0 col134\" >nan</td> \n",
       "        <td id=\"T_5a85a426_3973_11eb_902a_082e5f7192aarow0_col135\" class=\"data row0 col135\" >nan</td> \n",
       "        <td id=\"T_5a85a426_3973_11eb_902a_082e5f7192aarow0_col136\" class=\"data row0 col136\" >nan</td> \n",
       "        <td id=\"T_5a85a426_3973_11eb_902a_082e5f7192aarow0_col137\" class=\"data row0 col137\" >nan</td> \n",
       "        <td id=\"T_5a85a426_3973_11eb_902a_082e5f7192aarow0_col138\" class=\"data row0 col138\" >nan</td> \n",
       "        <td id=\"T_5a85a426_3973_11eb_902a_082e5f7192aarow0_col139\" class=\"data row0 col139\" >nan</td> \n",
       "        <td id=\"T_5a85a426_3973_11eb_902a_082e5f7192aarow0_col140\" class=\"data row0 col140\" >nan</td> \n",
       "        <td id=\"T_5a85a426_3973_11eb_902a_082e5f7192aarow0_col141\" class=\"data row0 col141\" >nan</td> \n",
       "        <td id=\"T_5a85a426_3973_11eb_902a_082e5f7192aarow0_col142\" class=\"data row0 col142\" >nan</td> \n",
       "        <td id=\"T_5a85a426_3973_11eb_902a_082e5f7192aarow0_col143\" class=\"data row0 col143\" >nan</td> \n",
       "        <td id=\"T_5a85a426_3973_11eb_902a_082e5f7192aarow0_col144\" class=\"data row0 col144\" >nan</td> \n",
       "        <td id=\"T_5a85a426_3973_11eb_902a_082e5f7192aarow0_col145\" class=\"data row0 col145\" >nan</td> \n",
       "        <td id=\"T_5a85a426_3973_11eb_902a_082e5f7192aarow0_col146\" class=\"data row0 col146\" >nan</td> \n",
       "        <td id=\"T_5a85a426_3973_11eb_902a_082e5f7192aarow0_col147\" class=\"data row0 col147\" >nan</td> \n",
       "        <td id=\"T_5a85a426_3973_11eb_902a_082e5f7192aarow0_col148\" class=\"data row0 col148\" >nan</td> \n",
       "    </tr>    <tr> \n",
       "        <th id=\"T_5a85a426_3973_11eb_902a_082e5f7192aalevel0_row1\" class=\"row_heading level0 row1\" >Gold</th> \n",
       "        <td id=\"T_5a85a426_3973_11eb_902a_082e5f7192aarow1_col0\" class=\"data row1 col0\" >nan</td> \n",
       "        <td id=\"T_5a85a426_3973_11eb_902a_082e5f7192aarow1_col1\" class=\"data row1 col1\" >5</td> \n",
       "        <td id=\"T_5a85a426_3973_11eb_902a_082e5f7192aarow1_col2\" class=\"data row1 col2\" >20</td> \n",
       "        <td id=\"T_5a85a426_3973_11eb_902a_082e5f7192aarow1_col3\" class=\"data row1 col3\" >91</td> \n",
       "        <td id=\"T_5a85a426_3973_11eb_902a_082e5f7192aarow1_col4\" class=\"data row1 col4\" >2</td> \n",
       "        <td id=\"T_5a85a426_3973_11eb_902a_082e5f7192aarow1_col5\" class=\"data row1 col5\" >348</td> \n",
       "        <td id=\"T_5a85a426_3973_11eb_902a_082e5f7192aarow1_col6\" class=\"data row1 col6\" >108</td> \n",
       "        <td id=\"T_5a85a426_3973_11eb_902a_082e5f7192aarow1_col7\" class=\"data row1 col7\" >7</td> \n",
       "        <td id=\"T_5a85a426_3973_11eb_902a_082e5f7192aarow1_col8\" class=\"data row1 col8\" >14</td> \n",
       "        <td id=\"T_5a85a426_3973_11eb_902a_082e5f7192aarow1_col9\" class=\"data row1 col9\" >nan</td> \n",
       "        <td id=\"T_5a85a426_3973_11eb_902a_082e5f7192aarow1_col10\" class=\"data row1 col10\" >98</td> \n",
       "        <td id=\"T_5a85a426_3973_11eb_902a_082e5f7192aarow1_col11\" class=\"data row1 col11\" >nan</td> \n",
       "        <td id=\"T_5a85a426_3973_11eb_902a_082e5f7192aarow1_col12\" class=\"data row1 col12\" >24</td> \n",
       "        <td id=\"T_5a85a426_3973_11eb_902a_082e5f7192aarow1_col13\" class=\"data row1 col13\" >nan</td> \n",
       "        <td id=\"T_5a85a426_3973_11eb_902a_082e5f7192aarow1_col14\" class=\"data row1 col14\" >109</td> \n",
       "        <td id=\"T_5a85a426_3973_11eb_902a_082e5f7192aarow1_col15\" class=\"data row1 col15\" >1</td> \n",
       "        <td id=\"T_5a85a426_3973_11eb_902a_082e5f7192aarow1_col16\" class=\"data row1 col16\" >54</td> \n",
       "        <td id=\"T_5a85a426_3973_11eb_902a_082e5f7192aarow1_col17\" class=\"data row1 col17\" >463</td> \n",
       "        <td id=\"T_5a85a426_3973_11eb_902a_082e5f7192aarow1_col18\" class=\"data row1 col18\" >3</td> \n",
       "        <td id=\"T_5a85a426_3973_11eb_902a_082e5f7192aarow1_col19\" class=\"data row1 col19\" >350</td> \n",
       "        <td id=\"T_5a85a426_3973_11eb_902a_082e5f7192aarow1_col20\" class=\"data row1 col20\" >1</td> \n",
       "        <td id=\"T_5a85a426_3973_11eb_902a_082e5f7192aarow1_col21\" class=\"data row1 col21\" >20</td> \n",
       "        <td id=\"T_5a85a426_3973_11eb_902a_082e5f7192aarow1_col22\" class=\"data row1 col22\" >5</td> \n",
       "        <td id=\"T_5a85a426_3973_11eb_902a_082e5f7192aarow1_col23\" class=\"data row1 col23\" >1</td> \n",
       "        <td id=\"T_5a85a426_3973_11eb_902a_082e5f7192aarow1_col24\" class=\"data row1 col24\" >58</td> \n",
       "        <td id=\"T_5a85a426_3973_11eb_902a_082e5f7192aarow1_col25\" class=\"data row1 col25\" >164</td> \n",
       "        <td id=\"T_5a85a426_3973_11eb_902a_082e5f7192aarow1_col26\" class=\"data row1 col26\" >42</td> \n",
       "        <td id=\"T_5a85a426_3973_11eb_902a_082e5f7192aarow1_col27\" class=\"data row1 col27\" >179</td> \n",
       "        <td id=\"T_5a85a426_3973_11eb_902a_082e5f7192aarow1_col28\" class=\"data row1 col28\" >nan</td> \n",
       "        <td id=\"T_5a85a426_3973_11eb_902a_082e5f7192aarow1_col29\" class=\"data row1 col29\" >3</td> \n",
       "        <td id=\"T_5a85a426_3973_11eb_902a_082e5f7192aarow1_col30\" class=\"data row1 col30\" >7</td> \n",
       "        <td id=\"T_5a85a426_3973_11eb_902a_082e5f7192aarow1_col31\" class=\"data row1 col31\" >nan</td> \n",
       "        <td id=\"T_5a85a426_3973_11eb_902a_082e5f7192aarow1_col32\" class=\"data row1 col32\" >110</td> \n",
       "        <td id=\"T_5a85a426_3973_11eb_902a_082e5f7192aarow1_col33\" class=\"data row1 col33\" >13</td> \n",
       "        <td id=\"T_5a85a426_3973_11eb_902a_082e5f7192aarow1_col34\" class=\"data row1 col34\" >22</td> \n",
       "        <td id=\"T_5a85a426_3973_11eb_902a_082e5f7192aarow1_col35\" class=\"data row1 col35\" >127</td> \n",
       "        <td id=\"T_5a85a426_3973_11eb_902a_082e5f7192aarow1_col36\" class=\"data row1 col36\" >198</td> \n",
       "        <td id=\"T_5a85a426_3973_11eb_902a_082e5f7192aarow1_col37\" class=\"data row1 col37\" >501</td> \n",
       "        <td id=\"T_5a85a426_3973_11eb_902a_082e5f7192aarow1_col38\" class=\"data row1 col38\" >159</td> \n",
       "        <td id=\"T_5a85a426_3973_11eb_902a_082e5f7192aarow1_col39\" class=\"data row1 col39\" >678</td> \n",
       "        <td id=\"T_5a85a426_3973_11eb_902a_082e5f7192aarow1_col40\" class=\"data row1 col40\" >397</td> \n",
       "        <td id=\"T_5a85a426_3973_11eb_902a_082e5f7192aarow1_col41\" class=\"data row1 col41\" >8</td> \n",
       "        <td id=\"T_5a85a426_3973_11eb_902a_082e5f7192aarow1_col42\" class=\"data row1 col42\" >745</td> \n",
       "        <td id=\"T_5a85a426_3973_11eb_902a_082e5f7192aarow1_col43\" class=\"data row1 col43\" >nan</td> \n",
       "        <td id=\"T_5a85a426_3973_11eb_902a_082e5f7192aarow1_col44\" class=\"data row1 col44\" >62</td> \n",
       "        <td id=\"T_5a85a426_3973_11eb_902a_082e5f7192aarow1_col45\" class=\"data row1 col45\" >nan</td> \n",
       "        <td id=\"T_5a85a426_3973_11eb_902a_082e5f7192aarow1_col46\" class=\"data row1 col46\" >1</td> \n",
       "        <td id=\"T_5a85a426_3973_11eb_902a_082e5f7192aarow1_col47\" class=\"data row1 col47\" >1</td> \n",
       "        <td id=\"T_5a85a426_3973_11eb_902a_082e5f7192aarow1_col48\" class=\"data row1 col48\" >432</td> \n",
       "        <td id=\"T_5a85a426_3973_11eb_902a_082e5f7192aarow1_col49\" class=\"data row1 col49\" >11</td> \n",
       "        <td id=\"T_5a85a426_3973_11eb_902a_082e5f7192aarow1_col50\" class=\"data row1 col50\" >138</td> \n",
       "        <td id=\"T_5a85a426_3973_11eb_902a_082e5f7192aarow1_col51\" class=\"data row1 col51\" >1</td> \n",
       "        <td id=\"T_5a85a426_3973_11eb_902a_082e5f7192aarow1_col52\" class=\"data row1 col52\" >18</td> \n",
       "        <td id=\"T_5a85a426_3973_11eb_902a_082e5f7192aarow1_col53\" class=\"data row1 col53\" >9</td> \n",
       "        <td id=\"T_5a85a426_3973_11eb_902a_082e5f7192aarow1_col54\" class=\"data row1 col54\" >nan</td> \n",
       "        <td id=\"T_5a85a426_3973_11eb_902a_082e5f7192aarow1_col55\" class=\"data row1 col55\" >nan</td> \n",
       "        <td id=\"T_5a85a426_3973_11eb_902a_082e5f7192aarow1_col56\" class=\"data row1 col56\" >1</td> \n",
       "        <td id=\"T_5a85a426_3973_11eb_902a_082e5f7192aarow1_col57\" class=\"data row1 col57\" >575</td> \n",
       "        <td id=\"T_5a85a426_3973_11eb_902a_082e5f7192aarow1_col58\" class=\"data row1 col58\" >38</td> \n",
       "        <td id=\"T_5a85a426_3973_11eb_902a_082e5f7192aarow1_col59\" class=\"data row1 col59\" >247</td> \n",
       "        <td id=\"T_5a85a426_3973_11eb_902a_082e5f7192aarow1_col60\" class=\"data row1 col60\" >20</td> \n",
       "        <td id=\"T_5a85a426_3973_11eb_902a_082e5f7192aarow1_col61\" class=\"data row1 col61\" >34</td> \n",
       "        <td id=\"T_5a85a426_3973_11eb_902a_082e5f7192aarow1_col62\" class=\"data row1 col62\" >nan</td> \n",
       "        <td id=\"T_5a85a426_3973_11eb_902a_082e5f7192aarow1_col63\" class=\"data row1 col63\" >221</td> \n",
       "        <td id=\"T_5a85a426_3973_11eb_902a_082e5f7192aarow1_col64\" class=\"data row1 col64\" >nan</td> \n",
       "        <td id=\"T_5a85a426_3973_11eb_902a_082e5f7192aarow1_col65\" class=\"data row1 col65\" >nan</td> \n",
       "        <td id=\"T_5a85a426_3973_11eb_902a_082e5f7192aarow1_col66\" class=\"data row1 col66\" >3</td> \n",
       "        <td id=\"T_5a85a426_3973_11eb_902a_082e5f7192aarow1_col67\" class=\"data row1 col67\" >nan</td> \n",
       "        <td id=\"T_5a85a426_3973_11eb_902a_082e5f7192aarow1_col68\" class=\"data row1 col68\" >2</td> \n",
       "        <td id=\"T_5a85a426_3973_11eb_902a_082e5f7192aarow1_col69\" class=\"data row1 col69\" >6</td> \n",
       "        <td id=\"T_5a85a426_3973_11eb_902a_082e5f7192aarow1_col70\" class=\"data row1 col70\" >6</td> \n",
       "        <td id=\"T_5a85a426_3973_11eb_902a_082e5f7192aarow1_col71\" class=\"data row1 col71\" >nan</td> \n",
       "        <td id=\"T_5a85a426_3973_11eb_902a_082e5f7192aarow1_col72\" class=\"data row1 col72\" >nan</td> \n",
       "        <td id=\"T_5a85a426_3973_11eb_902a_082e5f7192aarow1_col73\" class=\"data row1 col73\" >30</td> \n",
       "        <td id=\"T_5a85a426_3973_11eb_902a_082e5f7192aarow1_col74\" class=\"data row1 col74\" >2</td> \n",
       "        <td id=\"T_5a85a426_3973_11eb_902a_082e5f7192aarow1_col75\" class=\"data row1 col75\" >nan</td> \n",
       "        <td id=\"T_5a85a426_3973_11eb_902a_082e5f7192aarow1_col76\" class=\"data row1 col76\" >nan</td> \n",
       "        <td id=\"T_5a85a426_3973_11eb_902a_082e5f7192aarow1_col77\" class=\"data row1 col77\" >1</td> \n",
       "        <td id=\"T_5a85a426_3973_11eb_902a_082e5f7192aarow1_col78\" class=\"data row1 col78\" >nan</td> \n",
       "        <td id=\"T_5a85a426_3973_11eb_902a_082e5f7192aarow1_col79\" class=\"data row1 col79\" >287</td> \n",
       "        <td id=\"T_5a85a426_3973_11eb_902a_082e5f7192aarow1_col80\" class=\"data row1 col80\" >23</td> \n",
       "        <td id=\"T_5a85a426_3973_11eb_902a_082e5f7192aarow1_col81\" class=\"data row1 col81\" >nan</td> \n",
       "        <td id=\"T_5a85a426_3973_11eb_902a_082e5f7192aarow1_col82\" class=\"data row1 col82\" >378</td> \n",
       "        <td id=\"T_5a85a426_3973_11eb_902a_082e5f7192aarow1_col83\" class=\"data row1 col83\" >90</td> \n",
       "        <td id=\"T_5a85a426_3973_11eb_902a_082e5f7192aarow1_col84\" class=\"data row1 col84\" >42</td> \n",
       "        <td id=\"T_5a85a426_3973_11eb_902a_082e5f7192aarow1_col85\" class=\"data row1 col85\" >1</td> \n",
       "        <td id=\"T_5a85a426_3973_11eb_902a_082e5f7192aarow1_col86\" class=\"data row1 col86\" >nan</td> \n",
       "        <td id=\"T_5a85a426_3973_11eb_902a_082e5f7192aarow1_col87\" class=\"data row1 col87\" >117</td> \n",
       "        <td id=\"T_5a85a426_3973_11eb_902a_082e5f7192aarow1_col88\" class=\"data row1 col88\" >4</td> \n",
       "        <td id=\"T_5a85a426_3973_11eb_902a_082e5f7192aarow1_col89\" class=\"data row1 col89\" >16</td> \n",
       "        <td id=\"T_5a85a426_3973_11eb_902a_082e5f7192aarow1_col90\" class=\"data row1 col90\" >1</td> \n",
       "        <td id=\"T_5a85a426_3973_11eb_902a_082e5f7192aarow1_col91\" class=\"data row1 col91\" >nan</td> \n",
       "        <td id=\"T_5a85a426_3973_11eb_902a_082e5f7192aarow1_col92\" class=\"data row1 col92\" >161</td> \n",
       "        <td id=\"T_5a85a426_3973_11eb_902a_082e5f7192aarow1_col93\" class=\"data row1 col93\" >32</td> \n",
       "        <td id=\"T_5a85a426_3973_11eb_902a_082e5f7192aarow1_col94\" class=\"data row1 col94\" >390</td> \n",
       "        <td id=\"T_5a85a426_3973_11eb_902a_082e5f7192aarow1_col95\" class=\"data row1 col95\" >12</td> \n",
       "        <td id=\"T_5a85a426_3973_11eb_902a_082e5f7192aarow1_col96\" class=\"data row1 col96\" >1</td> \n",
       "        <td id=\"T_5a85a426_3973_11eb_902a_082e5f7192aarow1_col97\" class=\"data row1 col97\" >8</td> \n",
       "        <td id=\"T_5a85a426_3973_11eb_902a_082e5f7192aarow1_col98\" class=\"data row1 col98\" >15</td> \n",
       "        <td id=\"T_5a85a426_3973_11eb_902a_082e5f7192aarow1_col99\" class=\"data row1 col99\" >175</td> \n",
       "        <td id=\"T_5a85a426_3973_11eb_902a_082e5f7192aarow1_col100\" class=\"data row1 col100\" >1</td> \n",
       "        <td id=\"T_5a85a426_3973_11eb_902a_082e5f7192aarow1_col101\" class=\"data row1 col101\" >15</td> \n",
       "        <td id=\"T_5a85a426_3973_11eb_902a_082e5f7192aarow1_col102\" class=\"data row1 col102\" >479</td> \n",
       "        <td id=\"T_5a85a426_3973_11eb_902a_082e5f7192aarow1_col103\" class=\"data row1 col103\" >1</td> \n",
       "        <td id=\"T_5a85a426_3973_11eb_902a_082e5f7192aarow1_col104\" class=\"data row1 col104\" >81</td> \n",
       "        <td id=\"T_5a85a426_3973_11eb_902a_082e5f7192aarow1_col105\" class=\"data row1 col105\" >9</td> \n",
       "        <td id=\"T_5a85a426_3973_11eb_902a_082e5f7192aarow1_col106\" class=\"data row1 col106\" >1</td> \n",
       "        <td id=\"T_5a85a426_3973_11eb_902a_082e5f7192aarow1_col107\" class=\"data row1 col107\" >nan</td> \n",
       "        <td id=\"T_5a85a426_3973_11eb_902a_082e5f7192aarow1_col108\" class=\"data row1 col108\" >3</td> \n",
       "        <td id=\"T_5a85a426_3973_11eb_902a_082e5f7192aarow1_col109\" class=\"data row1 col109\" >7</td> \n",
       "        <td id=\"T_5a85a426_3973_11eb_902a_082e5f7192aarow1_col110\" class=\"data row1 col110\" >3</td> \n",
       "        <td id=\"T_5a85a426_3973_11eb_902a_082e5f7192aarow1_col111\" class=\"data row1 col111\" >40</td> \n",
       "        <td id=\"T_5a85a426_3973_11eb_902a_082e5f7192aarow1_col112\" class=\"data row1 col112\" >1</td> \n",
       "        <td id=\"T_5a85a426_3973_11eb_902a_082e5f7192aarow1_col113\" class=\"data row1 col113\" >nan</td> \n",
       "        <td id=\"T_5a85a426_3973_11eb_902a_082e5f7192aarow1_col114\" class=\"data row1 col114\" >2</td> \n",
       "        <td id=\"T_5a85a426_3973_11eb_902a_082e5f7192aarow1_col115\" class=\"data row1 col115\" >47</td> \n",
       "        <td id=\"T_5a85a426_3973_11eb_902a_082e5f7192aarow1_col116\" class=\"data row1 col116\" >1082</td> \n",
       "        <td id=\"T_5a85a426_3973_11eb_902a_082e5f7192aarow1_col117\" class=\"data row1 col117\" >31</td> \n",
       "        <td id=\"T_5a85a426_3973_11eb_902a_082e5f7192aarow1_col118\" class=\"data row1 col118\" >2638</td> \n",
       "        <td id=\"T_5a85a426_3973_11eb_902a_082e5f7192aarow1_col119\" class=\"data row1 col119\" >10</td> \n",
       "        <td id=\"T_5a85a426_3973_11eb_902a_082e5f7192aarow1_col120\" class=\"data row1 col120\" >2</td> \n",
       "        <td id=\"T_5a85a426_3973_11eb_902a_082e5f7192aarow1_col121\" class=\"data row1 col121\" >nan</td> \n",
       "        <td id=\"T_5a85a426_3973_11eb_902a_082e5f7192aarow1_col122\" class=\"data row1 col122\" >130</td> \n",
       "        <td id=\"T_5a85a426_3973_11eb_902a_082e5f7192aarow1_col123\" class=\"data row1 col123\" >nan</td> \n",
       "        <td id=\"T_5a85a426_3973_11eb_902a_082e5f7192aarow1_col124\" class=\"data row1 col124\" >17</td> \n",
       "        <td id=\"T_5a85a426_3973_11eb_902a_082e5f7192aarow1_col125\" class=\"data row1 col125\" >1</td> \n",
       "        <td id=\"T_5a85a426_3973_11eb_902a_082e5f7192aarow1_col126\" class=\"data row1 col126\" >1</td> \n",
       "        <td id=\"T_5a85a426_3973_11eb_902a_082e5f7192aarow1_col127\" class=\"data row1 col127\" >13</td> \n",
       "        <td id=\"T_5a85a426_3973_11eb_902a_082e5f7192aarow1_col128\" class=\"data row1 col128\" >1</td> \n",
       "        <td id=\"T_5a85a426_3973_11eb_902a_082e5f7192aarow1_col129\" class=\"data row1 col129\" >1</td> \n",
       "        <td id=\"T_5a85a426_3973_11eb_902a_082e5f7192aarow1_col130\" class=\"data row1 col130\" >1</td> \n",
       "        <td id=\"T_5a85a426_3973_11eb_902a_082e5f7192aarow1_col131\" class=\"data row1 col131\" >4</td> \n",
       "        <td id=\"T_5a85a426_3973_11eb_902a_082e5f7192aarow1_col132\" class=\"data row1 col132\" >1</td> \n",
       "        <td id=\"T_5a85a426_3973_11eb_902a_082e5f7192aarow1_col133\" class=\"data row1 col133\" >1</td> \n",
       "        <td id=\"T_5a85a426_3973_11eb_902a_082e5f7192aarow1_col134\" class=\"data row1 col134\" >1</td> \n",
       "        <td id=\"T_5a85a426_3973_11eb_902a_082e5f7192aarow1_col135\" class=\"data row1 col135\" >nan</td> \n",
       "        <td id=\"T_5a85a426_3973_11eb_902a_082e5f7192aarow1_col136\" class=\"data row1 col136\" >nan</td> \n",
       "        <td id=\"T_5a85a426_3973_11eb_902a_082e5f7192aarow1_col137\" class=\"data row1 col137\" >nan</td> \n",
       "        <td id=\"T_5a85a426_3973_11eb_902a_082e5f7192aarow1_col138\" class=\"data row1 col138\" >nan</td> \n",
       "        <td id=\"T_5a85a426_3973_11eb_902a_082e5f7192aarow1_col139\" class=\"data row1 col139\" >nan</td> \n",
       "        <td id=\"T_5a85a426_3973_11eb_902a_082e5f7192aarow1_col140\" class=\"data row1 col140\" >nan</td> \n",
       "        <td id=\"T_5a85a426_3973_11eb_902a_082e5f7192aarow1_col141\" class=\"data row1 col141\" >nan</td> \n",
       "        <td id=\"T_5a85a426_3973_11eb_902a_082e5f7192aarow1_col142\" class=\"data row1 col142\" >nan</td> \n",
       "        <td id=\"T_5a85a426_3973_11eb_902a_082e5f7192aarow1_col143\" class=\"data row1 col143\" >nan</td> \n",
       "        <td id=\"T_5a85a426_3973_11eb_902a_082e5f7192aarow1_col144\" class=\"data row1 col144\" >nan</td> \n",
       "        <td id=\"T_5a85a426_3973_11eb_902a_082e5f7192aarow1_col145\" class=\"data row1 col145\" >nan</td> \n",
       "        <td id=\"T_5a85a426_3973_11eb_902a_082e5f7192aarow1_col146\" class=\"data row1 col146\" >nan</td> \n",
       "        <td id=\"T_5a85a426_3973_11eb_902a_082e5f7192aarow1_col147\" class=\"data row1 col147\" >nan</td> \n",
       "        <td id=\"T_5a85a426_3973_11eb_902a_082e5f7192aarow1_col148\" class=\"data row1 col148\" >nan</td> \n",
       "    </tr>    <tr> \n",
       "        <th id=\"T_5a85a426_3973_11eb_902a_082e5f7192aalevel0_row2\" class=\"row_heading level0 row2\" >Silver</th> \n",
       "        <td id=\"T_5a85a426_3973_11eb_902a_082e5f7192aarow2_col0\" class=\"data row2 col0\" >nan</td> \n",
       "        <td id=\"T_5a85a426_3973_11eb_902a_082e5f7192aarow2_col1\" class=\"data row2 col1\" >4</td> \n",
       "        <td id=\"T_5a85a426_3973_11eb_902a_082e5f7192aarow2_col2\" class=\"data row2 col2\" >4</td> \n",
       "        <td id=\"T_5a85a426_3973_11eb_902a_082e5f7192aarow2_col3\" class=\"data row2 col3\" >92</td> \n",
       "        <td id=\"T_5a85a426_3973_11eb_902a_082e5f7192aarow2_col4\" class=\"data row2 col4\" >5</td> \n",
       "        <td id=\"T_5a85a426_3973_11eb_902a_082e5f7192aarow2_col5\" class=\"data row2 col5\" >455</td> \n",
       "        <td id=\"T_5a85a426_3973_11eb_902a_082e5f7192aarow2_col6\" class=\"data row2 col6\" >186</td> \n",
       "        <td id=\"T_5a85a426_3973_11eb_902a_082e5f7192aarow2_col7\" class=\"data row2 col7\" >12</td> \n",
       "        <td id=\"T_5a85a426_3973_11eb_902a_082e5f7192aarow2_col8\" class=\"data row2 col8\" >11</td> \n",
       "        <td id=\"T_5a85a426_3973_11eb_902a_082e5f7192aarow2_col9\" class=\"data row2 col9\" >nan</td> \n",
       "        <td id=\"T_5a85a426_3973_11eb_902a_082e5f7192aarow2_col10\" class=\"data row2 col10\" >197</td> \n",
       "        <td id=\"T_5a85a426_3973_11eb_902a_082e5f7192aarow2_col11\" class=\"data row2 col11\" >nan</td> \n",
       "        <td id=\"T_5a85a426_3973_11eb_902a_082e5f7192aarow2_col12\" class=\"data row2 col12\" >44</td> \n",
       "        <td id=\"T_5a85a426_3973_11eb_902a_082e5f7192aarow2_col13\" class=\"data row2 col13\" >1</td> \n",
       "        <td id=\"T_5a85a426_3973_11eb_902a_082e5f7192aarow2_col14\" class=\"data row2 col14\" >175</td> \n",
       "        <td id=\"T_5a85a426_3973_11eb_902a_082e5f7192aarow2_col15\" class=\"data row2 col15\" >1</td> \n",
       "        <td id=\"T_5a85a426_3973_11eb_902a_082e5f7192aarow2_col16\" class=\"data row2 col16\" >144</td> \n",
       "        <td id=\"T_5a85a426_3973_11eb_902a_082e5f7192aarow2_col17\" class=\"data row2 col17\" >438</td> \n",
       "        <td id=\"T_5a85a426_3973_11eb_902a_082e5f7192aarow2_col18\" class=\"data row2 col18\" >9</td> \n",
       "        <td id=\"T_5a85a426_3973_11eb_902a_082e5f7192aarow2_col19\" class=\"data row2 col19\" >347</td> \n",
       "        <td id=\"T_5a85a426_3973_11eb_902a_082e5f7192aarow2_col20\" class=\"data row2 col20\" >1</td> \n",
       "        <td id=\"T_5a85a426_3973_11eb_902a_082e5f7192aarow2_col21\" class=\"data row2 col21\" >1</td> \n",
       "        <td id=\"T_5a85a426_3973_11eb_902a_082e5f7192aarow2_col22\" class=\"data row2 col22\" >9</td> \n",
       "        <td id=\"T_5a85a426_3973_11eb_902a_082e5f7192aarow2_col23\" class=\"data row2 col23\" >1</td> \n",
       "        <td id=\"T_5a85a426_3973_11eb_902a_082e5f7192aarow2_col24\" class=\"data row2 col24\" >54</td> \n",
       "        <td id=\"T_5a85a426_3973_11eb_902a_082e5f7192aarow2_col25\" class=\"data row2 col25\" >129</td> \n",
       "        <td id=\"T_5a85a426_3973_11eb_902a_082e5f7192aarow2_col26\" class=\"data row2 col26\" >36</td> \n",
       "        <td id=\"T_5a85a426_3973_11eb_902a_082e5f7192aarow2_col27\" class=\"data row2 col27\" >241</td> \n",
       "        <td id=\"T_5a85a426_3973_11eb_902a_082e5f7192aarow2_col28\" class=\"data row2 col28\" >nan</td> \n",
       "        <td id=\"T_5a85a426_3973_11eb_902a_082e5f7192aarow2_col29\" class=\"data row2 col29\" >2</td> \n",
       "        <td id=\"T_5a85a426_3973_11eb_902a_082e5f7192aarow2_col30\" class=\"data row2 col30\" >8</td> \n",
       "        <td id=\"T_5a85a426_3973_11eb_902a_082e5f7192aarow2_col31\" class=\"data row2 col31\" >nan</td> \n",
       "        <td id=\"T_5a85a426_3973_11eb_902a_082e5f7192aarow2_col32\" class=\"data row2 col32\" >243</td> \n",
       "        <td id=\"T_5a85a426_3973_11eb_902a_082e5f7192aarow2_col33\" class=\"data row2 col33\" >12</td> \n",
       "        <td id=\"T_5a85a426_3973_11eb_902a_082e5f7192aarow2_col34\" class=\"data row2 col34\" >9</td> \n",
       "        <td id=\"T_5a85a426_3973_11eb_902a_082e5f7192aarow2_col35\" class=\"data row2 col35\" >71</td> \n",
       "        <td id=\"T_5a85a426_3973_11eb_902a_082e5f7192aarow2_col36\" class=\"data row2 col36\" >270</td> \n",
       "        <td id=\"T_5a85a426_3973_11eb_902a_082e5f7192aarow2_col37\" class=\"data row2 col37\" >610</td> \n",
       "        <td id=\"T_5a85a426_3973_11eb_902a_082e5f7192aarow2_col38\" class=\"data row2 col38\" >194</td> \n",
       "        <td id=\"T_5a85a426_3973_11eb_902a_082e5f7192aarow2_col39\" class=\"data row2 col39\" >739</td> \n",
       "        <td id=\"T_5a85a426_3973_11eb_902a_082e5f7192aarow2_col40\" class=\"data row2 col40\" >327</td> \n",
       "        <td id=\"T_5a85a426_3973_11eb_902a_082e5f7192aarow2_col41\" class=\"data row2 col41\" >6</td> \n",
       "        <td id=\"T_5a85a426_3973_11eb_902a_082e5f7192aarow2_col42\" class=\"data row2 col42\" >674</td> \n",
       "        <td id=\"T_5a85a426_3973_11eb_902a_082e5f7192aarow2_col43\" class=\"data row2 col43\" >1</td> \n",
       "        <td id=\"T_5a85a426_3973_11eb_902a_082e5f7192aarow2_col44\" class=\"data row2 col44\" >109</td> \n",
       "        <td id=\"T_5a85a426_3973_11eb_902a_082e5f7192aarow2_col45\" class=\"data row2 col45\" >nan</td> \n",
       "        <td id=\"T_5a85a426_3973_11eb_902a_082e5f7192aarow2_col46\" class=\"data row2 col46\" >1</td> \n",
       "        <td id=\"T_5a85a426_3973_11eb_902a_082e5f7192aarow2_col47\" class=\"data row2 col47\" >2</td> \n",
       "        <td id=\"T_5a85a426_3973_11eb_902a_082e5f7192aarow2_col48\" class=\"data row2 col48\" >332</td> \n",
       "        <td id=\"T_5a85a426_3973_11eb_902a_082e5f7192aarow2_col49\" class=\"data row2 col49\" >17</td> \n",
       "        <td id=\"T_5a85a426_3973_11eb_902a_082e5f7192aarow2_col50\" class=\"data row2 col50\" >19</td> \n",
       "        <td id=\"T_5a85a426_3973_11eb_902a_082e5f7192aarow2_col51\" class=\"data row2 col51\" >1</td> \n",
       "        <td id=\"T_5a85a426_3973_11eb_902a_082e5f7192aarow2_col52\" class=\"data row2 col52\" >21</td> \n",
       "        <td id=\"T_5a85a426_3973_11eb_902a_082e5f7192aarow2_col53\" class=\"data row2 col53\" >13</td> \n",
       "        <td id=\"T_5a85a426_3973_11eb_902a_082e5f7192aarow2_col54\" class=\"data row2 col54\" >nan</td> \n",
       "        <td id=\"T_5a85a426_3973_11eb_902a_082e5f7192aarow2_col55\" class=\"data row2 col55\" >15</td> \n",
       "        <td id=\"T_5a85a426_3973_11eb_902a_082e5f7192aarow2_col56\" class=\"data row2 col56\" >1</td> \n",
       "        <td id=\"T_5a85a426_3973_11eb_902a_082e5f7192aarow2_col57\" class=\"data row2 col57\" >531</td> \n",
       "        <td id=\"T_5a85a426_3973_11eb_902a_082e5f7192aarow2_col58\" class=\"data row2 col58\" >75</td> \n",
       "        <td id=\"T_5a85a426_3973_11eb_902a_082e5f7192aarow2_col59\" class=\"data row2 col59\" >309</td> \n",
       "        <td id=\"T_5a85a426_3973_11eb_902a_082e5f7192aarow2_col60\" class=\"data row2 col60\" >25</td> \n",
       "        <td id=\"T_5a85a426_3973_11eb_902a_082e5f7192aarow2_col61\" class=\"data row2 col61\" >41</td> \n",
       "        <td id=\"T_5a85a426_3973_11eb_902a_082e5f7192aarow2_col62\" class=\"data row2 col62\" >1</td> \n",
       "        <td id=\"T_5a85a426_3973_11eb_902a_082e5f7192aarow2_col63\" class=\"data row2 col63\" >232</td> \n",
       "        <td id=\"T_5a85a426_3973_11eb_902a_082e5f7192aarow2_col64\" class=\"data row2 col64\" >1</td> \n",
       "        <td id=\"T_5a85a426_3973_11eb_902a_082e5f7192aarow2_col65\" class=\"data row2 col65\" >nan</td> \n",
       "        <td id=\"T_5a85a426_3973_11eb_902a_082e5f7192aarow2_col66\" class=\"data row2 col66\" >19</td> \n",
       "        <td id=\"T_5a85a426_3973_11eb_902a_082e5f7192aarow2_col67\" class=\"data row2 col67\" >2</td> \n",
       "        <td id=\"T_5a85a426_3973_11eb_902a_082e5f7192aarow2_col68\" class=\"data row2 col68\" >2</td> \n",
       "        <td id=\"T_5a85a426_3973_11eb_902a_082e5f7192aarow2_col69\" class=\"data row2 col69\" >7</td> \n",
       "        <td id=\"T_5a85a426_3973_11eb_902a_082e5f7192aarow2_col70\" class=\"data row2 col70\" >5</td> \n",
       "        <td id=\"T_5a85a426_3973_11eb_902a_082e5f7192aarow2_col71\" class=\"data row2 col71\" >11</td> \n",
       "        <td id=\"T_5a85a426_3973_11eb_902a_082e5f7192aarow2_col72\" class=\"data row2 col72\" >3</td> \n",
       "        <td id=\"T_5a85a426_3973_11eb_902a_082e5f7192aarow2_col73\" class=\"data row2 col73\" >26</td> \n",
       "        <td id=\"T_5a85a426_3973_11eb_902a_082e5f7192aarow2_col74\" class=\"data row2 col74\" >10</td> \n",
       "        <td id=\"T_5a85a426_3973_11eb_902a_082e5f7192aarow2_col75\" class=\"data row2 col75\" >nan</td> \n",
       "        <td id=\"T_5a85a426_3973_11eb_902a_082e5f7192aarow2_col76\" class=\"data row2 col76\" >nan</td> \n",
       "        <td id=\"T_5a85a426_3973_11eb_902a_082e5f7192aarow2_col77\" class=\"data row2 col77\" >nan</td> \n",
       "        <td id=\"T_5a85a426_3973_11eb_902a_082e5f7192aarow2_col78\" class=\"data row2 col78\" >nan</td> \n",
       "        <td id=\"T_5a85a426_3973_11eb_902a_082e5f7192aarow2_col79\" class=\"data row2 col79\" >340</td> \n",
       "        <td id=\"T_5a85a426_3973_11eb_902a_082e5f7192aarow2_col80\" class=\"data row2 col80\" >30</td> \n",
       "        <td id=\"T_5a85a426_3973_11eb_902a_082e5f7192aarow2_col81\" class=\"data row2 col81\" >1</td> \n",
       "        <td id=\"T_5a85a426_3973_11eb_902a_082e5f7192aarow2_col82\" class=\"data row2 col82\" >361</td> \n",
       "        <td id=\"T_5a85a426_3973_11eb_902a_082e5f7192aarow2_col83\" class=\"data row2 col83\" >56</td> \n",
       "        <td id=\"T_5a85a426_3973_11eb_902a_082e5f7192aarow2_col84\" class=\"data row2 col84\" >45</td> \n",
       "        <td id=\"T_5a85a426_3973_11eb_902a_082e5f7192aarow2_col85\" class=\"data row2 col85\" >nan</td> \n",
       "        <td id=\"T_5a85a426_3973_11eb_902a_082e5f7192aarow2_col86\" class=\"data row2 col86\" >3</td> \n",
       "        <td id=\"T_5a85a426_3973_11eb_902a_082e5f7192aarow2_col87\" class=\"data row2 col87\" >195</td> \n",
       "        <td id=\"T_5a85a426_3973_11eb_902a_082e5f7192aarow2_col88\" class=\"data row2 col88\" >11</td> \n",
       "        <td id=\"T_5a85a426_3973_11eb_902a_082e5f7192aarow2_col89\" class=\"data row2 col89\" >16</td> \n",
       "        <td id=\"T_5a85a426_3973_11eb_902a_082e5f7192aarow2_col90\" class=\"data row2 col90\" >2</td> \n",
       "        <td id=\"T_5a85a426_3973_11eb_902a_082e5f7192aarow2_col91\" class=\"data row2 col91\" >1</td> \n",
       "        <td id=\"T_5a85a426_3973_11eb_902a_082e5f7192aarow2_col92\" class=\"data row2 col92\" >200</td> \n",
       "        <td id=\"T_5a85a426_3973_11eb_902a_082e5f7192aarow2_col93\" class=\"data row2 col93\" >47</td> \n",
       "        <td id=\"T_5a85a426_3973_11eb_902a_082e5f7192aarow2_col94\" class=\"data row2 col94\" >367</td> \n",
       "        <td id=\"T_5a85a426_3973_11eb_902a_082e5f7192aarow2_col95\" class=\"data row2 col95\" >26</td> \n",
       "        <td id=\"T_5a85a426_3973_11eb_902a_082e5f7192aarow2_col96\" class=\"data row2 col96\" >4</td> \n",
       "        <td id=\"T_5a85a426_3973_11eb_902a_082e5f7192aarow2_col97\" class=\"data row2 col97\" >13</td> \n",
       "        <td id=\"T_5a85a426_3973_11eb_902a_082e5f7192aarow2_col98\" class=\"data row2 col98\" >29</td> \n",
       "        <td id=\"T_5a85a426_3973_11eb_902a_082e5f7192aarow2_col99\" class=\"data row2 col99\" >248</td> \n",
       "        <td id=\"T_5a85a426_3973_11eb_902a_082e5f7192aarow2_col100\" class=\"data row2 col100\" >nan</td> \n",
       "        <td id=\"T_5a85a426_3973_11eb_902a_082e5f7192aarow2_col101\" class=\"data row2 col101\" >19</td> \n",
       "        <td id=\"T_5a85a426_3973_11eb_902a_082e5f7192aarow2_col102\" class=\"data row2 col102\" >522</td> \n",
       "        <td id=\"T_5a85a426_3973_11eb_902a_082e5f7192aarow2_col103\" class=\"data row2 col103\" >1</td> \n",
       "        <td id=\"T_5a85a426_3973_11eb_902a_082e5f7192aarow2_col104\" class=\"data row2 col104\" >225</td> \n",
       "        <td id=\"T_5a85a426_3973_11eb_902a_082e5f7192aarow2_col105\" class=\"data row2 col105\" >8</td> \n",
       "        <td id=\"T_5a85a426_3973_11eb_902a_082e5f7192aarow2_col106\" class=\"data row2 col106\" >1</td> \n",
       "        <td id=\"T_5a85a426_3973_11eb_902a_082e5f7192aarow2_col107\" class=\"data row2 col107\" >nan</td> \n",
       "        <td id=\"T_5a85a426_3973_11eb_902a_082e5f7192aarow2_col108\" class=\"data row2 col108\" >28</td> \n",
       "        <td id=\"T_5a85a426_3973_11eb_902a_082e5f7192aarow2_col109\" class=\"data row2 col109\" >8</td> \n",
       "        <td id=\"T_5a85a426_3973_11eb_902a_082e5f7192aarow2_col110\" class=\"data row2 col110\" >3</td> \n",
       "        <td id=\"T_5a85a426_3973_11eb_902a_082e5f7192aarow2_col111\" class=\"data row2 col111\" >27</td> \n",
       "        <td id=\"T_5a85a426_3973_11eb_902a_082e5f7192aarow2_col112\" class=\"data row2 col112\" >nan</td> \n",
       "        <td id=\"T_5a85a426_3973_11eb_902a_082e5f7192aarow2_col113\" class=\"data row2 col113\" >1</td> \n",
       "        <td id=\"T_5a85a426_3973_11eb_902a_082e5f7192aarow2_col114\" class=\"data row2 col114\" >3</td> \n",
       "        <td id=\"T_5a85a426_3973_11eb_902a_082e5f7192aarow2_col115\" class=\"data row2 col115\" >52</td> \n",
       "        <td id=\"T_5a85a426_3973_11eb_902a_082e5f7192aarow2_col116\" class=\"data row2 col116\" >732</td> \n",
       "        <td id=\"T_5a85a426_3973_11eb_902a_082e5f7192aarow2_col117\" class=\"data row2 col117\" >2</td> \n",
       "        <td id=\"T_5a85a426_3973_11eb_902a_082e5f7192aarow2_col118\" class=\"data row2 col118\" >1641</td> \n",
       "        <td id=\"T_5a85a426_3973_11eb_902a_082e5f7192aarow2_col119\" class=\"data row2 col119\" >7</td> \n",
       "        <td id=\"T_5a85a426_3973_11eb_902a_082e5f7192aarow2_col120\" class=\"data row2 col120\" >3</td> \n",
       "        <td id=\"T_5a85a426_3973_11eb_902a_082e5f7192aarow2_col121\" class=\"data row2 col121\" >nan</td> \n",
       "        <td id=\"T_5a85a426_3973_11eb_902a_082e5f7192aarow2_col122\" class=\"data row2 col122\" >167</td> \n",
       "        <td id=\"T_5a85a426_3973_11eb_902a_082e5f7192aarow2_col123\" class=\"data row2 col123\" >1</td> \n",
       "        <td id=\"T_5a85a426_3973_11eb_902a_082e5f7192aarow2_col124\" class=\"data row2 col124\" >4</td> \n",
       "        <td id=\"T_5a85a426_3973_11eb_902a_082e5f7192aarow2_col125\" class=\"data row2 col125\" >1</td> \n",
       "        <td id=\"T_5a85a426_3973_11eb_902a_082e5f7192aarow2_col126\" class=\"data row2 col126\" >1</td> \n",
       "        <td id=\"T_5a85a426_3973_11eb_902a_082e5f7192aarow2_col127\" class=\"data row2 col127\" >nan</td> \n",
       "        <td id=\"T_5a85a426_3973_11eb_902a_082e5f7192aarow2_col128\" class=\"data row2 col128\" >1</td> \n",
       "        <td id=\"T_5a85a426_3973_11eb_902a_082e5f7192aarow2_col129\" class=\"data row2 col129\" >nan</td> \n",
       "        <td id=\"T_5a85a426_3973_11eb_902a_082e5f7192aarow2_col130\" class=\"data row2 col130\" >nan</td> \n",
       "        <td id=\"T_5a85a426_3973_11eb_902a_082e5f7192aarow2_col131\" class=\"data row2 col131\" >4</td> \n",
       "        <td id=\"T_5a85a426_3973_11eb_902a_082e5f7192aarow2_col132\" class=\"data row2 col132\" >nan</td> \n",
       "        <td id=\"T_5a85a426_3973_11eb_902a_082e5f7192aarow2_col133\" class=\"data row2 col133\" >14</td> \n",
       "        <td id=\"T_5a85a426_3973_11eb_902a_082e5f7192aarow2_col134\" class=\"data row2 col134\" >3</td> \n",
       "        <td id=\"T_5a85a426_3973_11eb_902a_082e5f7192aarow2_col135\" class=\"data row2 col135\" >1</td> \n",
       "        <td id=\"T_5a85a426_3973_11eb_902a_082e5f7192aarow2_col136\" class=\"data row2 col136\" >1</td> \n",
       "        <td id=\"T_5a85a426_3973_11eb_902a_082e5f7192aarow2_col137\" class=\"data row2 col137\" >1</td> \n",
       "        <td id=\"T_5a85a426_3973_11eb_902a_082e5f7192aarow2_col138\" class=\"data row2 col138\" >1</td> \n",
       "        <td id=\"T_5a85a426_3973_11eb_902a_082e5f7192aarow2_col139\" class=\"data row2 col139\" >1</td> \n",
       "        <td id=\"T_5a85a426_3973_11eb_902a_082e5f7192aarow2_col140\" class=\"data row2 col140\" >1</td> \n",
       "        <td id=\"T_5a85a426_3973_11eb_902a_082e5f7192aarow2_col141\" class=\"data row2 col141\" >14</td> \n",
       "        <td id=\"T_5a85a426_3973_11eb_902a_082e5f7192aarow2_col142\" class=\"data row2 col142\" >4</td> \n",
       "        <td id=\"T_5a85a426_3973_11eb_902a_082e5f7192aarow2_col143\" class=\"data row2 col143\" >17</td> \n",
       "        <td id=\"T_5a85a426_3973_11eb_902a_082e5f7192aarow2_col144\" class=\"data row2 col144\" >1</td> \n",
       "        <td id=\"T_5a85a426_3973_11eb_902a_082e5f7192aarow2_col145\" class=\"data row2 col145\" >2</td> \n",
       "        <td id=\"T_5a85a426_3973_11eb_902a_082e5f7192aarow2_col146\" class=\"data row2 col146\" >1</td> \n",
       "        <td id=\"T_5a85a426_3973_11eb_902a_082e5f7192aarow2_col147\" class=\"data row2 col147\" >2</td> \n",
       "        <td id=\"T_5a85a426_3973_11eb_902a_082e5f7192aarow2_col148\" class=\"data row2 col148\" >1</td> \n",
       "    </tr></tbody> \n",
       "</table> "
      ],
      "text/plain": [
       "<pandas.io.formats.style.Styler at 0x1804d54e240>"
      ]
     },
     "execution_count": 18,
     "metadata": {},
     "output_type": "execute_result"
    }
   ],
   "source": [
    "import seaborn as sns\n",
    "cm = sns.light_palette(\"yellow\", as_cmap=True)\n",
    "\n",
    "s = a.style.background_gradient(cmap=cm,axis=1).highlight_null('#d65f5f').highlight_max(axis=1)\n",
    "s"
   ]
  },
  {
   "cell_type": "code",
   "execution_count": 19,
   "metadata": {
    "ExecuteTime": {
     "end_time": "2020-12-08T16:35:16.953681Z",
     "start_time": "2020-12-08T16:35:16.938128Z"
    }
   },
   "outputs": [],
   "source": [
    "a.columns = a.columns.droplevel(0)"
   ]
  },
  {
   "cell_type": "code",
   "execution_count": 20,
   "metadata": {
    "ExecuteTime": {
     "end_time": "2020-12-08T16:35:17.099672Z",
     "start_time": "2020-12-08T16:35:16.960675Z"
    }
   },
   "outputs": [],
   "source": [
    "b=a.fillna(0)"
   ]
  },
  {
   "cell_type": "code",
   "execution_count": 21,
   "metadata": {
    "ExecuteTime": {
     "end_time": "2020-12-08T16:35:17.275478Z",
     "start_time": "2020-12-08T16:35:17.103674Z"
    }
   },
   "outputs": [],
   "source": [
    "b=b.T"
   ]
  },
  {
   "cell_type": "code",
   "execution_count": 23,
   "metadata": {
    "ExecuteTime": {
     "end_time": "2020-12-08T16:36:04.499378Z",
     "start_time": "2020-12-08T16:36:04.481386Z"
    }
   },
   "outputs": [
    {
     "name": "stdout",
     "output_type": "stream",
     "text": [
      "country with maximum gold:\n",
      "USA\n",
      "2638.0\n"
     ]
    }
   ],
   "source": [
    "print(\"country with maximum gold:\")\n",
    "print(b['Gold'].idxmax())\n",
    "print(b['Gold'].max())"
   ]
  },
  {
   "cell_type": "code",
   "execution_count": 24,
   "metadata": {
    "ExecuteTime": {
     "end_time": "2020-12-08T16:36:05.582100Z",
     "start_time": "2020-12-08T16:36:05.560103Z"
    }
   },
   "outputs": [
    {
     "name": "stdout",
     "output_type": "stream",
     "text": [
      "country with maximum silver:\n",
      "USA\n",
      "1641.0\n"
     ]
    }
   ],
   "source": [
    "print(\"country with maximum silver:\")\n",
    "print(b['Silver'].idxmax())\n",
    "print(b['Silver'].max())"
   ]
  },
  {
   "cell_type": "code",
   "execution_count": 25,
   "metadata": {
    "ExecuteTime": {
     "end_time": "2020-12-08T16:36:06.474738Z",
     "start_time": "2020-12-08T16:36:06.455744Z"
    }
   },
   "outputs": [
    {
     "name": "stdout",
     "output_type": "stream",
     "text": [
      "country with maximum bronze:\n",
      "USA\n",
      "1358.0\n"
     ]
    }
   ],
   "source": [
    "print(\"country with maximum bronze:\")\n",
    "print(b['Bronze'].idxmax())\n",
    "print(b['Bronze'].max())"
   ]
  },
  {
   "cell_type": "markdown",
   "metadata": {},
   "source": [
    "## Number of players per game\n"
   ]
  },
  {
   "cell_type": "code",
   "execution_count": 26,
   "metadata": {
    "ExecuteTime": {
     "end_time": "2020-12-08T16:36:08.203985Z",
     "start_time": "2020-12-08T16:36:08.079003Z"
    }
   },
   "outputs": [],
   "source": [
    "data1 = data.groupby(['Year','City'])['Season'].value_counts()"
   ]
  },
  {
   "cell_type": "code",
   "execution_count": 27,
   "metadata": {
    "ExecuteTime": {
     "end_time": "2020-12-08T16:36:08.659391Z",
     "start_time": "2020-12-08T16:36:08.644390Z"
    }
   },
   "outputs": [
    {
     "data": {
      "text/plain": [
       "Year  City                    Season\n",
       "1896  Athina                  Summer      380\n",
       "1900  Paris                   Summer     1936\n",
       "1904  St. Louis               Summer     1301\n",
       "1906  Athina                  Summer     1733\n",
       "1908  London                  Summer     3101\n",
       "1912  Stockholm               Summer     4040\n",
       "1920  Antwerpen               Summer     4292\n",
       "1924  Chamonix                Winter      460\n",
       "      Paris                   Summer     5233\n",
       "1928  Amsterdam               Summer     4992\n",
       "      Sankt Moritz            Winter      582\n",
       "1932  Lake Placid             Winter      352\n",
       "      Los Angeles             Summer     2969\n",
       "1936  Berlin                  Summer     6506\n",
       "      Garmisch-Partenkirchen  Winter      895\n",
       "1948  London                  Summer     6405\n",
       "      Sankt Moritz            Winter     1075\n",
       "1952  Helsinki                Summer     8270\n",
       "      Oslo                    Winter     1088\n",
       "1956  Cortina d'Ampezzo       Winter     1307\n",
       "      Melbourne               Summer     4829\n",
       "      Stockholm               Summer      298\n",
       "1960  Roma                    Summer     8119\n",
       "      Squaw Valley            Winter     1116\n",
       "1964  Innsbruck               Winter     1778\n",
       "      Tokyo                   Summer     7702\n",
       "1968  Grenoble                Winter     1891\n",
       "      Mexico City             Summer     8588\n",
       "1972  Munich                  Summer    10304\n",
       "      Sapporo                 Winter     1655\n",
       "1976  Innsbruck               Winter     1861\n",
       "      Montreal                Summer     8641\n",
       "1980  Lake Placid             Winter     1746\n",
       "      Moskva                  Summer     7191\n",
       "1984  Los Angeles             Summer     9454\n",
       "      Sarajevo                Winter     2134\n",
       "1988  Calgary                 Winter     2639\n",
       "      Seoul                   Summer    12037\n",
       "1992  Albertville             Winter     3436\n",
       "      Barcelona               Summer    12977\n",
       "1994  Lillehammer             Winter     3160\n",
       "1996  Atlanta                 Summer    13780\n",
       "1998  Nagano                  Winter     3605\n",
       "2000  Sydney                  Summer    13821\n",
       "2002  Salt Lake City          Winter     4109\n",
       "2004  Athina                  Summer    13443\n",
       "2006  Torino                  Winter     4382\n",
       "2008  Beijing                 Summer    13602\n",
       "2010  Vancouver               Winter     4402\n",
       "2012  London                  Summer    12920\n",
       "2014  Sochi                   Winter     4891\n",
       "2016  Rio de Janeiro          Summer    13688\n",
       "Name: Season, dtype: int64"
      ]
     },
     "execution_count": 27,
     "metadata": {},
     "output_type": "execute_result"
    }
   ],
   "source": [
    "data1"
   ]
  },
  {
   "cell_type": "code",
   "execution_count": 28,
   "metadata": {
    "ExecuteTime": {
     "end_time": "2020-12-08T16:36:09.183266Z",
     "start_time": "2020-12-08T16:36:09.161273Z"
    }
   },
   "outputs": [],
   "source": [
    "data2 = pd.DataFrame(data={'Athlets': data1.values}, index = data1.index).reset_index()"
   ]
  },
  {
   "cell_type": "code",
   "execution_count": 29,
   "metadata": {
    "ExecuteTime": {
     "end_time": "2020-12-08T16:36:09.912020Z",
     "start_time": "2020-12-08T16:36:09.895033Z"
    }
   },
   "outputs": [
    {
     "data": {
      "text/html": [
       "<div>\n",
       "<style scoped>\n",
       "    .dataframe tbody tr th:only-of-type {\n",
       "        vertical-align: middle;\n",
       "    }\n",
       "\n",
       "    .dataframe tbody tr th {\n",
       "        vertical-align: top;\n",
       "    }\n",
       "\n",
       "    .dataframe thead th {\n",
       "        text-align: right;\n",
       "    }\n",
       "</style>\n",
       "<table border=\"1\" class=\"dataframe\">\n",
       "  <thead>\n",
       "    <tr style=\"text-align: right;\">\n",
       "      <th></th>\n",
       "      <th>Year</th>\n",
       "      <th>City</th>\n",
       "      <th>Season</th>\n",
       "      <th>Athlets</th>\n",
       "    </tr>\n",
       "  </thead>\n",
       "  <tbody>\n",
       "    <tr>\n",
       "      <th>0</th>\n",
       "      <td>1896</td>\n",
       "      <td>Athina</td>\n",
       "      <td>Summer</td>\n",
       "      <td>380</td>\n",
       "    </tr>\n",
       "    <tr>\n",
       "      <th>1</th>\n",
       "      <td>1900</td>\n",
       "      <td>Paris</td>\n",
       "      <td>Summer</td>\n",
       "      <td>1936</td>\n",
       "    </tr>\n",
       "    <tr>\n",
       "      <th>2</th>\n",
       "      <td>1904</td>\n",
       "      <td>St. Louis</td>\n",
       "      <td>Summer</td>\n",
       "      <td>1301</td>\n",
       "    </tr>\n",
       "    <tr>\n",
       "      <th>3</th>\n",
       "      <td>1906</td>\n",
       "      <td>Athina</td>\n",
       "      <td>Summer</td>\n",
       "      <td>1733</td>\n",
       "    </tr>\n",
       "    <tr>\n",
       "      <th>4</th>\n",
       "      <td>1908</td>\n",
       "      <td>London</td>\n",
       "      <td>Summer</td>\n",
       "      <td>3101</td>\n",
       "    </tr>\n",
       "  </tbody>\n",
       "</table>\n",
       "</div>"
      ],
      "text/plain": [
       "   Year       City  Season  Athlets\n",
       "0  1896     Athina  Summer      380\n",
       "1  1900      Paris  Summer     1936\n",
       "2  1904  St. Louis  Summer     1301\n",
       "3  1906     Athina  Summer     1733\n",
       "4  1908     London  Summer     3101"
      ]
     },
     "execution_count": 29,
     "metadata": {},
     "output_type": "execute_result"
    }
   ],
   "source": [
    "data2.head()"
   ]
  },
  {
   "cell_type": "code",
   "execution_count": 30,
   "metadata": {
    "ExecuteTime": {
     "end_time": "2020-12-08T16:36:12.959916Z",
     "start_time": "2020-12-08T16:36:10.388738Z"
    }
   },
   "outputs": [
    {
     "data": {
      "application/vnd.plotly.v1+json": {
       "config": {
        "plotlyServerURL": "https://plot.ly"
       },
       "data": [
        {
         "mode": "markers",
         "type": "scatter",
         "x": [
          1896,
          1900,
          1904,
          1906,
          1908,
          1912,
          1920,
          1924,
          1924,
          1928,
          1928,
          1932,
          1932,
          1936,
          1936,
          1948,
          1948,
          1952,
          1952,
          1956,
          1956,
          1956,
          1960,
          1960,
          1964,
          1964,
          1968,
          1968,
          1972,
          1972,
          1976,
          1976,
          1980,
          1980,
          1984,
          1984,
          1988,
          1988,
          1992,
          1992,
          1994,
          1996,
          1998,
          2000,
          2002,
          2004,
          2006,
          2008,
          2010,
          2012,
          2014,
          2016
         ],
         "y": [
          380,
          1936,
          1301,
          1733,
          3101,
          4040,
          4292,
          460,
          5233,
          4992,
          582,
          352,
          2969,
          6506,
          895,
          6405,
          1075,
          8270,
          1088,
          1307,
          4829,
          298,
          8119,
          1116,
          1778,
          7702,
          1891,
          8588,
          10304,
          1655,
          1861,
          8641,
          1746,
          7191,
          9454,
          2134,
          2639,
          12037,
          3436,
          12977,
          3160,
          13780,
          3605,
          13821,
          4109,
          13443,
          4382,
          13602,
          4402,
          12920,
          4891,
          13688
         ]
        }
       ],
       "layout": {
        "template": {
         "data": {
          "bar": [
           {
            "error_x": {
             "color": "#2a3f5f"
            },
            "error_y": {
             "color": "#2a3f5f"
            },
            "marker": {
             "line": {
              "color": "#E5ECF6",
              "width": 0.5
             }
            },
            "type": "bar"
           }
          ],
          "barpolar": [
           {
            "marker": {
             "line": {
              "color": "#E5ECF6",
              "width": 0.5
             }
            },
            "type": "barpolar"
           }
          ],
          "carpet": [
           {
            "aaxis": {
             "endlinecolor": "#2a3f5f",
             "gridcolor": "white",
             "linecolor": "white",
             "minorgridcolor": "white",
             "startlinecolor": "#2a3f5f"
            },
            "baxis": {
             "endlinecolor": "#2a3f5f",
             "gridcolor": "white",
             "linecolor": "white",
             "minorgridcolor": "white",
             "startlinecolor": "#2a3f5f"
            },
            "type": "carpet"
           }
          ],
          "choropleth": [
           {
            "colorbar": {
             "outlinewidth": 0,
             "ticks": ""
            },
            "type": "choropleth"
           }
          ],
          "contour": [
           {
            "colorbar": {
             "outlinewidth": 0,
             "ticks": ""
            },
            "colorscale": [
             [
              0,
              "#0d0887"
             ],
             [
              0.1111111111111111,
              "#46039f"
             ],
             [
              0.2222222222222222,
              "#7201a8"
             ],
             [
              0.3333333333333333,
              "#9c179e"
             ],
             [
              0.4444444444444444,
              "#bd3786"
             ],
             [
              0.5555555555555556,
              "#d8576b"
             ],
             [
              0.6666666666666666,
              "#ed7953"
             ],
             [
              0.7777777777777778,
              "#fb9f3a"
             ],
             [
              0.8888888888888888,
              "#fdca26"
             ],
             [
              1,
              "#f0f921"
             ]
            ],
            "type": "contour"
           }
          ],
          "contourcarpet": [
           {
            "colorbar": {
             "outlinewidth": 0,
             "ticks": ""
            },
            "type": "contourcarpet"
           }
          ],
          "heatmap": [
           {
            "colorbar": {
             "outlinewidth": 0,
             "ticks": ""
            },
            "colorscale": [
             [
              0,
              "#0d0887"
             ],
             [
              0.1111111111111111,
              "#46039f"
             ],
             [
              0.2222222222222222,
              "#7201a8"
             ],
             [
              0.3333333333333333,
              "#9c179e"
             ],
             [
              0.4444444444444444,
              "#bd3786"
             ],
             [
              0.5555555555555556,
              "#d8576b"
             ],
             [
              0.6666666666666666,
              "#ed7953"
             ],
             [
              0.7777777777777778,
              "#fb9f3a"
             ],
             [
              0.8888888888888888,
              "#fdca26"
             ],
             [
              1,
              "#f0f921"
             ]
            ],
            "type": "heatmap"
           }
          ],
          "heatmapgl": [
           {
            "colorbar": {
             "outlinewidth": 0,
             "ticks": ""
            },
            "colorscale": [
             [
              0,
              "#0d0887"
             ],
             [
              0.1111111111111111,
              "#46039f"
             ],
             [
              0.2222222222222222,
              "#7201a8"
             ],
             [
              0.3333333333333333,
              "#9c179e"
             ],
             [
              0.4444444444444444,
              "#bd3786"
             ],
             [
              0.5555555555555556,
              "#d8576b"
             ],
             [
              0.6666666666666666,
              "#ed7953"
             ],
             [
              0.7777777777777778,
              "#fb9f3a"
             ],
             [
              0.8888888888888888,
              "#fdca26"
             ],
             [
              1,
              "#f0f921"
             ]
            ],
            "type": "heatmapgl"
           }
          ],
          "histogram": [
           {
            "marker": {
             "colorbar": {
              "outlinewidth": 0,
              "ticks": ""
             }
            },
            "type": "histogram"
           }
          ],
          "histogram2d": [
           {
            "colorbar": {
             "outlinewidth": 0,
             "ticks": ""
            },
            "colorscale": [
             [
              0,
              "#0d0887"
             ],
             [
              0.1111111111111111,
              "#46039f"
             ],
             [
              0.2222222222222222,
              "#7201a8"
             ],
             [
              0.3333333333333333,
              "#9c179e"
             ],
             [
              0.4444444444444444,
              "#bd3786"
             ],
             [
              0.5555555555555556,
              "#d8576b"
             ],
             [
              0.6666666666666666,
              "#ed7953"
             ],
             [
              0.7777777777777778,
              "#fb9f3a"
             ],
             [
              0.8888888888888888,
              "#fdca26"
             ],
             [
              1,
              "#f0f921"
             ]
            ],
            "type": "histogram2d"
           }
          ],
          "histogram2dcontour": [
           {
            "colorbar": {
             "outlinewidth": 0,
             "ticks": ""
            },
            "colorscale": [
             [
              0,
              "#0d0887"
             ],
             [
              0.1111111111111111,
              "#46039f"
             ],
             [
              0.2222222222222222,
              "#7201a8"
             ],
             [
              0.3333333333333333,
              "#9c179e"
             ],
             [
              0.4444444444444444,
              "#bd3786"
             ],
             [
              0.5555555555555556,
              "#d8576b"
             ],
             [
              0.6666666666666666,
              "#ed7953"
             ],
             [
              0.7777777777777778,
              "#fb9f3a"
             ],
             [
              0.8888888888888888,
              "#fdca26"
             ],
             [
              1,
              "#f0f921"
             ]
            ],
            "type": "histogram2dcontour"
           }
          ],
          "mesh3d": [
           {
            "colorbar": {
             "outlinewidth": 0,
             "ticks": ""
            },
            "type": "mesh3d"
           }
          ],
          "parcoords": [
           {
            "line": {
             "colorbar": {
              "outlinewidth": 0,
              "ticks": ""
             }
            },
            "type": "parcoords"
           }
          ],
          "pie": [
           {
            "automargin": true,
            "type": "pie"
           }
          ],
          "scatter": [
           {
            "marker": {
             "colorbar": {
              "outlinewidth": 0,
              "ticks": ""
             }
            },
            "type": "scatter"
           }
          ],
          "scatter3d": [
           {
            "line": {
             "colorbar": {
              "outlinewidth": 0,
              "ticks": ""
             }
            },
            "marker": {
             "colorbar": {
              "outlinewidth": 0,
              "ticks": ""
             }
            },
            "type": "scatter3d"
           }
          ],
          "scattercarpet": [
           {
            "marker": {
             "colorbar": {
              "outlinewidth": 0,
              "ticks": ""
             }
            },
            "type": "scattercarpet"
           }
          ],
          "scattergeo": [
           {
            "marker": {
             "colorbar": {
              "outlinewidth": 0,
              "ticks": ""
             }
            },
            "type": "scattergeo"
           }
          ],
          "scattergl": [
           {
            "marker": {
             "colorbar": {
              "outlinewidth": 0,
              "ticks": ""
             }
            },
            "type": "scattergl"
           }
          ],
          "scattermapbox": [
           {
            "marker": {
             "colorbar": {
              "outlinewidth": 0,
              "ticks": ""
             }
            },
            "type": "scattermapbox"
           }
          ],
          "scatterpolar": [
           {
            "marker": {
             "colorbar": {
              "outlinewidth": 0,
              "ticks": ""
             }
            },
            "type": "scatterpolar"
           }
          ],
          "scatterpolargl": [
           {
            "marker": {
             "colorbar": {
              "outlinewidth": 0,
              "ticks": ""
             }
            },
            "type": "scatterpolargl"
           }
          ],
          "scatterternary": [
           {
            "marker": {
             "colorbar": {
              "outlinewidth": 0,
              "ticks": ""
             }
            },
            "type": "scatterternary"
           }
          ],
          "surface": [
           {
            "colorbar": {
             "outlinewidth": 0,
             "ticks": ""
            },
            "colorscale": [
             [
              0,
              "#0d0887"
             ],
             [
              0.1111111111111111,
              "#46039f"
             ],
             [
              0.2222222222222222,
              "#7201a8"
             ],
             [
              0.3333333333333333,
              "#9c179e"
             ],
             [
              0.4444444444444444,
              "#bd3786"
             ],
             [
              0.5555555555555556,
              "#d8576b"
             ],
             [
              0.6666666666666666,
              "#ed7953"
             ],
             [
              0.7777777777777778,
              "#fb9f3a"
             ],
             [
              0.8888888888888888,
              "#fdca26"
             ],
             [
              1,
              "#f0f921"
             ]
            ],
            "type": "surface"
           }
          ],
          "table": [
           {
            "cells": {
             "fill": {
              "color": "#EBF0F8"
             },
             "line": {
              "color": "white"
             }
            },
            "header": {
             "fill": {
              "color": "#C8D4E3"
             },
             "line": {
              "color": "white"
             }
            },
            "type": "table"
           }
          ]
         },
         "layout": {
          "annotationdefaults": {
           "arrowcolor": "#2a3f5f",
           "arrowhead": 0,
           "arrowwidth": 1
          },
          "coloraxis": {
           "colorbar": {
            "outlinewidth": 0,
            "ticks": ""
           }
          },
          "colorscale": {
           "diverging": [
            [
             0,
             "#8e0152"
            ],
            [
             0.1,
             "#c51b7d"
            ],
            [
             0.2,
             "#de77ae"
            ],
            [
             0.3,
             "#f1b6da"
            ],
            [
             0.4,
             "#fde0ef"
            ],
            [
             0.5,
             "#f7f7f7"
            ],
            [
             0.6,
             "#e6f5d0"
            ],
            [
             0.7,
             "#b8e186"
            ],
            [
             0.8,
             "#7fbc41"
            ],
            [
             0.9,
             "#4d9221"
            ],
            [
             1,
             "#276419"
            ]
           ],
           "sequential": [
            [
             0,
             "#0d0887"
            ],
            [
             0.1111111111111111,
             "#46039f"
            ],
            [
             0.2222222222222222,
             "#7201a8"
            ],
            [
             0.3333333333333333,
             "#9c179e"
            ],
            [
             0.4444444444444444,
             "#bd3786"
            ],
            [
             0.5555555555555556,
             "#d8576b"
            ],
            [
             0.6666666666666666,
             "#ed7953"
            ],
            [
             0.7777777777777778,
             "#fb9f3a"
            ],
            [
             0.8888888888888888,
             "#fdca26"
            ],
            [
             1,
             "#f0f921"
            ]
           ],
           "sequentialminus": [
            [
             0,
             "#0d0887"
            ],
            [
             0.1111111111111111,
             "#46039f"
            ],
            [
             0.2222222222222222,
             "#7201a8"
            ],
            [
             0.3333333333333333,
             "#9c179e"
            ],
            [
             0.4444444444444444,
             "#bd3786"
            ],
            [
             0.5555555555555556,
             "#d8576b"
            ],
            [
             0.6666666666666666,
             "#ed7953"
            ],
            [
             0.7777777777777778,
             "#fb9f3a"
            ],
            [
             0.8888888888888888,
             "#fdca26"
            ],
            [
             1,
             "#f0f921"
            ]
           ]
          },
          "colorway": [
           "#636efa",
           "#EF553B",
           "#00cc96",
           "#ab63fa",
           "#FFA15A",
           "#19d3f3",
           "#FF6692",
           "#B6E880",
           "#FF97FF",
           "#FECB52"
          ],
          "font": {
           "color": "#2a3f5f"
          },
          "geo": {
           "bgcolor": "white",
           "lakecolor": "white",
           "landcolor": "#E5ECF6",
           "showlakes": true,
           "showland": true,
           "subunitcolor": "white"
          },
          "hoverlabel": {
           "align": "left"
          },
          "hovermode": "closest",
          "mapbox": {
           "style": "light"
          },
          "paper_bgcolor": "white",
          "plot_bgcolor": "#E5ECF6",
          "polar": {
           "angularaxis": {
            "gridcolor": "white",
            "linecolor": "white",
            "ticks": ""
           },
           "bgcolor": "#E5ECF6",
           "radialaxis": {
            "gridcolor": "white",
            "linecolor": "white",
            "ticks": ""
           }
          },
          "scene": {
           "xaxis": {
            "backgroundcolor": "#E5ECF6",
            "gridcolor": "white",
            "gridwidth": 2,
            "linecolor": "white",
            "showbackground": true,
            "ticks": "",
            "zerolinecolor": "white"
           },
           "yaxis": {
            "backgroundcolor": "#E5ECF6",
            "gridcolor": "white",
            "gridwidth": 2,
            "linecolor": "white",
            "showbackground": true,
            "ticks": "",
            "zerolinecolor": "white"
           },
           "zaxis": {
            "backgroundcolor": "#E5ECF6",
            "gridcolor": "white",
            "gridwidth": 2,
            "linecolor": "white",
            "showbackground": true,
            "ticks": "",
            "zerolinecolor": "white"
           }
          },
          "shapedefaults": {
           "line": {
            "color": "#2a3f5f"
           }
          },
          "ternary": {
           "aaxis": {
            "gridcolor": "white",
            "linecolor": "white",
            "ticks": ""
           },
           "baxis": {
            "gridcolor": "white",
            "linecolor": "white",
            "ticks": ""
           },
           "bgcolor": "#E5ECF6",
           "caxis": {
            "gridcolor": "white",
            "linecolor": "white",
            "ticks": ""
           }
          },
          "title": {
           "x": 0.05
          },
          "xaxis": {
           "automargin": true,
           "gridcolor": "white",
           "linecolor": "white",
           "ticks": "",
           "title": {
            "standoff": 15
           },
           "zerolinecolor": "white",
           "zerolinewidth": 2
          },
          "yaxis": {
           "automargin": true,
           "gridcolor": "white",
           "linecolor": "white",
           "ticks": "",
           "title": {
            "standoff": 15
           },
           "zerolinecolor": "white",
           "zerolinewidth": 2
          }
         }
        },
        "title": {
         "text": "Number of Athltes per year"
        },
        "xaxis": {
         "title": {
          "text": "Year"
         }
        },
        "yaxis": {
         "title": {
          "text": "Number of athletes"
         }
        }
       }
      },
      "text/html": [
       "<div>                            <div id=\"bd4058d3-1d3b-4be3-bd77-60ef0d3f1d30\" class=\"plotly-graph-div\" style=\"height:525px; width:100%;\"></div>            <script type=\"text/javascript\">                require([\"plotly\"], function(Plotly) {                    window.PLOTLYENV=window.PLOTLYENV || {};                                    if (document.getElementById(\"bd4058d3-1d3b-4be3-bd77-60ef0d3f1d30\")) {                    Plotly.newPlot(                        \"bd4058d3-1d3b-4be3-bd77-60ef0d3f1d30\",                        [{\"mode\": \"markers\", \"type\": \"scatter\", \"x\": [1896, 1900, 1904, 1906, 1908, 1912, 1920, 1924, 1924, 1928, 1928, 1932, 1932, 1936, 1936, 1948, 1948, 1952, 1952, 1956, 1956, 1956, 1960, 1960, 1964, 1964, 1968, 1968, 1972, 1972, 1976, 1976, 1980, 1980, 1984, 1984, 1988, 1988, 1992, 1992, 1994, 1996, 1998, 2000, 2002, 2004, 2006, 2008, 2010, 2012, 2014, 2016], \"y\": [380, 1936, 1301, 1733, 3101, 4040, 4292, 460, 5233, 4992, 582, 352, 2969, 6506, 895, 6405, 1075, 8270, 1088, 1307, 4829, 298, 8119, 1116, 1778, 7702, 1891, 8588, 10304, 1655, 1861, 8641, 1746, 7191, 9454, 2134, 2639, 12037, 3436, 12977, 3160, 13780, 3605, 13821, 4109, 13443, 4382, 13602, 4402, 12920, 4891, 13688]}],                        {\"template\": {\"data\": {\"bar\": [{\"error_x\": {\"color\": \"#2a3f5f\"}, \"error_y\": {\"color\": \"#2a3f5f\"}, \"marker\": {\"line\": {\"color\": \"#E5ECF6\", \"width\": 0.5}}, \"type\": \"bar\"}], \"barpolar\": [{\"marker\": {\"line\": {\"color\": \"#E5ECF6\", \"width\": 0.5}}, \"type\": \"barpolar\"}], \"carpet\": [{\"aaxis\": {\"endlinecolor\": \"#2a3f5f\", \"gridcolor\": \"white\", \"linecolor\": \"white\", \"minorgridcolor\": \"white\", \"startlinecolor\": \"#2a3f5f\"}, \"baxis\": {\"endlinecolor\": \"#2a3f5f\", \"gridcolor\": \"white\", \"linecolor\": \"white\", \"minorgridcolor\": \"white\", \"startlinecolor\": \"#2a3f5f\"}, \"type\": \"carpet\"}], \"choropleth\": [{\"colorbar\": {\"outlinewidth\": 0, \"ticks\": \"\"}, \"type\": \"choropleth\"}], \"contour\": [{\"colorbar\": {\"outlinewidth\": 0, \"ticks\": \"\"}, \"colorscale\": [[0.0, \"#0d0887\"], [0.1111111111111111, \"#46039f\"], [0.2222222222222222, \"#7201a8\"], [0.3333333333333333, \"#9c179e\"], [0.4444444444444444, \"#bd3786\"], [0.5555555555555556, \"#d8576b\"], [0.6666666666666666, \"#ed7953\"], [0.7777777777777778, \"#fb9f3a\"], [0.8888888888888888, \"#fdca26\"], [1.0, \"#f0f921\"]], \"type\": \"contour\"}], \"contourcarpet\": [{\"colorbar\": {\"outlinewidth\": 0, \"ticks\": \"\"}, \"type\": \"contourcarpet\"}], \"heatmap\": [{\"colorbar\": {\"outlinewidth\": 0, \"ticks\": \"\"}, \"colorscale\": [[0.0, \"#0d0887\"], [0.1111111111111111, \"#46039f\"], [0.2222222222222222, \"#7201a8\"], [0.3333333333333333, \"#9c179e\"], [0.4444444444444444, \"#bd3786\"], [0.5555555555555556, \"#d8576b\"], [0.6666666666666666, \"#ed7953\"], [0.7777777777777778, \"#fb9f3a\"], [0.8888888888888888, \"#fdca26\"], [1.0, \"#f0f921\"]], \"type\": \"heatmap\"}], \"heatmapgl\": [{\"colorbar\": {\"outlinewidth\": 0, \"ticks\": \"\"}, \"colorscale\": [[0.0, \"#0d0887\"], [0.1111111111111111, \"#46039f\"], [0.2222222222222222, \"#7201a8\"], [0.3333333333333333, \"#9c179e\"], [0.4444444444444444, \"#bd3786\"], [0.5555555555555556, \"#d8576b\"], [0.6666666666666666, \"#ed7953\"], [0.7777777777777778, \"#fb9f3a\"], [0.8888888888888888, \"#fdca26\"], [1.0, \"#f0f921\"]], \"type\": \"heatmapgl\"}], \"histogram\": [{\"marker\": {\"colorbar\": {\"outlinewidth\": 0, \"ticks\": \"\"}}, \"type\": \"histogram\"}], \"histogram2d\": [{\"colorbar\": {\"outlinewidth\": 0, \"ticks\": \"\"}, \"colorscale\": [[0.0, \"#0d0887\"], [0.1111111111111111, \"#46039f\"], [0.2222222222222222, \"#7201a8\"], [0.3333333333333333, \"#9c179e\"], [0.4444444444444444, \"#bd3786\"], [0.5555555555555556, \"#d8576b\"], [0.6666666666666666, \"#ed7953\"], [0.7777777777777778, \"#fb9f3a\"], [0.8888888888888888, \"#fdca26\"], [1.0, \"#f0f921\"]], \"type\": \"histogram2d\"}], \"histogram2dcontour\": [{\"colorbar\": {\"outlinewidth\": 0, \"ticks\": \"\"}, \"colorscale\": [[0.0, \"#0d0887\"], [0.1111111111111111, \"#46039f\"], [0.2222222222222222, \"#7201a8\"], [0.3333333333333333, \"#9c179e\"], [0.4444444444444444, \"#bd3786\"], [0.5555555555555556, \"#d8576b\"], [0.6666666666666666, \"#ed7953\"], [0.7777777777777778, \"#fb9f3a\"], [0.8888888888888888, \"#fdca26\"], [1.0, \"#f0f921\"]], \"type\": \"histogram2dcontour\"}], \"mesh3d\": [{\"colorbar\": {\"outlinewidth\": 0, \"ticks\": \"\"}, \"type\": \"mesh3d\"}], \"parcoords\": [{\"line\": {\"colorbar\": {\"outlinewidth\": 0, \"ticks\": \"\"}}, \"type\": \"parcoords\"}], \"pie\": [{\"automargin\": true, \"type\": \"pie\"}], \"scatter\": [{\"marker\": {\"colorbar\": {\"outlinewidth\": 0, \"ticks\": \"\"}}, \"type\": \"scatter\"}], \"scatter3d\": [{\"line\": {\"colorbar\": {\"outlinewidth\": 0, \"ticks\": \"\"}}, \"marker\": {\"colorbar\": {\"outlinewidth\": 0, \"ticks\": \"\"}}, \"type\": \"scatter3d\"}], \"scattercarpet\": [{\"marker\": {\"colorbar\": {\"outlinewidth\": 0, \"ticks\": \"\"}}, \"type\": \"scattercarpet\"}], \"scattergeo\": [{\"marker\": {\"colorbar\": {\"outlinewidth\": 0, \"ticks\": \"\"}}, \"type\": \"scattergeo\"}], \"scattergl\": [{\"marker\": {\"colorbar\": {\"outlinewidth\": 0, \"ticks\": \"\"}}, \"type\": \"scattergl\"}], \"scattermapbox\": [{\"marker\": {\"colorbar\": {\"outlinewidth\": 0, \"ticks\": \"\"}}, \"type\": \"scattermapbox\"}], \"scatterpolar\": [{\"marker\": {\"colorbar\": {\"outlinewidth\": 0, \"ticks\": \"\"}}, \"type\": \"scatterpolar\"}], \"scatterpolargl\": [{\"marker\": {\"colorbar\": {\"outlinewidth\": 0, \"ticks\": \"\"}}, \"type\": \"scatterpolargl\"}], \"scatterternary\": [{\"marker\": {\"colorbar\": {\"outlinewidth\": 0, \"ticks\": \"\"}}, \"type\": \"scatterternary\"}], \"surface\": [{\"colorbar\": {\"outlinewidth\": 0, \"ticks\": \"\"}, \"colorscale\": [[0.0, \"#0d0887\"], [0.1111111111111111, \"#46039f\"], [0.2222222222222222, \"#7201a8\"], [0.3333333333333333, \"#9c179e\"], [0.4444444444444444, \"#bd3786\"], [0.5555555555555556, \"#d8576b\"], [0.6666666666666666, \"#ed7953\"], [0.7777777777777778, \"#fb9f3a\"], [0.8888888888888888, \"#fdca26\"], [1.0, \"#f0f921\"]], \"type\": \"surface\"}], \"table\": [{\"cells\": {\"fill\": {\"color\": \"#EBF0F8\"}, \"line\": {\"color\": \"white\"}}, \"header\": {\"fill\": {\"color\": \"#C8D4E3\"}, \"line\": {\"color\": \"white\"}}, \"type\": \"table\"}]}, \"layout\": {\"annotationdefaults\": {\"arrowcolor\": \"#2a3f5f\", \"arrowhead\": 0, \"arrowwidth\": 1}, \"coloraxis\": {\"colorbar\": {\"outlinewidth\": 0, \"ticks\": \"\"}}, \"colorscale\": {\"diverging\": [[0, \"#8e0152\"], [0.1, \"#c51b7d\"], [0.2, \"#de77ae\"], [0.3, \"#f1b6da\"], [0.4, \"#fde0ef\"], [0.5, \"#f7f7f7\"], [0.6, \"#e6f5d0\"], [0.7, \"#b8e186\"], [0.8, \"#7fbc41\"], [0.9, \"#4d9221\"], [1, \"#276419\"]], \"sequential\": [[0.0, \"#0d0887\"], [0.1111111111111111, \"#46039f\"], [0.2222222222222222, \"#7201a8\"], [0.3333333333333333, \"#9c179e\"], [0.4444444444444444, \"#bd3786\"], [0.5555555555555556, \"#d8576b\"], [0.6666666666666666, \"#ed7953\"], [0.7777777777777778, \"#fb9f3a\"], [0.8888888888888888, \"#fdca26\"], [1.0, \"#f0f921\"]], \"sequentialminus\": [[0.0, \"#0d0887\"], [0.1111111111111111, \"#46039f\"], [0.2222222222222222, \"#7201a8\"], [0.3333333333333333, \"#9c179e\"], [0.4444444444444444, \"#bd3786\"], [0.5555555555555556, \"#d8576b\"], [0.6666666666666666, \"#ed7953\"], [0.7777777777777778, \"#fb9f3a\"], [0.8888888888888888, \"#fdca26\"], [1.0, \"#f0f921\"]]}, \"colorway\": [\"#636efa\", \"#EF553B\", \"#00cc96\", \"#ab63fa\", \"#FFA15A\", \"#19d3f3\", \"#FF6692\", \"#B6E880\", \"#FF97FF\", \"#FECB52\"], \"font\": {\"color\": \"#2a3f5f\"}, \"geo\": {\"bgcolor\": \"white\", \"lakecolor\": \"white\", \"landcolor\": \"#E5ECF6\", \"showlakes\": true, \"showland\": true, \"subunitcolor\": \"white\"}, \"hoverlabel\": {\"align\": \"left\"}, \"hovermode\": \"closest\", \"mapbox\": {\"style\": \"light\"}, \"paper_bgcolor\": \"white\", \"plot_bgcolor\": \"#E5ECF6\", \"polar\": {\"angularaxis\": {\"gridcolor\": \"white\", \"linecolor\": \"white\", \"ticks\": \"\"}, \"bgcolor\": \"#E5ECF6\", \"radialaxis\": {\"gridcolor\": \"white\", \"linecolor\": \"white\", \"ticks\": \"\"}}, \"scene\": {\"xaxis\": {\"backgroundcolor\": \"#E5ECF6\", \"gridcolor\": \"white\", \"gridwidth\": 2, \"linecolor\": \"white\", \"showbackground\": true, \"ticks\": \"\", \"zerolinecolor\": \"white\"}, \"yaxis\": {\"backgroundcolor\": \"#E5ECF6\", \"gridcolor\": \"white\", \"gridwidth\": 2, \"linecolor\": \"white\", \"showbackground\": true, \"ticks\": \"\", \"zerolinecolor\": \"white\"}, \"zaxis\": {\"backgroundcolor\": \"#E5ECF6\", \"gridcolor\": \"white\", \"gridwidth\": 2, \"linecolor\": \"white\", \"showbackground\": true, \"ticks\": \"\", \"zerolinecolor\": \"white\"}}, \"shapedefaults\": {\"line\": {\"color\": \"#2a3f5f\"}}, \"ternary\": {\"aaxis\": {\"gridcolor\": \"white\", \"linecolor\": \"white\", \"ticks\": \"\"}, \"baxis\": {\"gridcolor\": \"white\", \"linecolor\": \"white\", \"ticks\": \"\"}, \"bgcolor\": \"#E5ECF6\", \"caxis\": {\"gridcolor\": \"white\", \"linecolor\": \"white\", \"ticks\": \"\"}}, \"title\": {\"x\": 0.05}, \"xaxis\": {\"automargin\": true, \"gridcolor\": \"white\", \"linecolor\": \"white\", \"ticks\": \"\", \"title\": {\"standoff\": 15}, \"zerolinecolor\": \"white\", \"zerolinewidth\": 2}, \"yaxis\": {\"automargin\": true, \"gridcolor\": \"white\", \"linecolor\": \"white\", \"ticks\": \"\", \"title\": {\"standoff\": 15}, \"zerolinecolor\": \"white\", \"zerolinewidth\": 2}}}, \"title\": {\"text\": \"Number of Athltes per year\"}, \"xaxis\": {\"title\": {\"text\": \"Year\"}}, \"yaxis\": {\"title\": {\"text\": \"Number of athletes\"}}},                        {\"responsive\": true}                    ).then(function(){\n",
       "                            \n",
       "var gd = document.getElementById('bd4058d3-1d3b-4be3-bd77-60ef0d3f1d30');\n",
       "var x = new MutationObserver(function (mutations, observer) {{\n",
       "        var display = window.getComputedStyle(gd).display;\n",
       "        if (!display || display === 'none') {{\n",
       "            console.log([gd, 'removed!']);\n",
       "            Plotly.purge(gd);\n",
       "            observer.disconnect();\n",
       "        }}\n",
       "}});\n",
       "\n",
       "// Listen for the removal of the full notebook cells\n",
       "var notebookContainer = gd.closest('#notebook-container');\n",
       "if (notebookContainer) {{\n",
       "    x.observe(notebookContainer, {childList: true});\n",
       "}}\n",
       "\n",
       "// Listen for the clearing of the current output cell\n",
       "var outputEl = gd.closest('.output');\n",
       "if (outputEl) {{\n",
       "    x.observe(outputEl, {childList: true});\n",
       "}}\n",
       "\n",
       "                        })                };                });            </script>        </div>"
      ]
     },
     "metadata": {},
     "output_type": "display_data"
    }
   ],
   "source": [
    "fig  =  go.Figure()\n",
    "\n",
    "fig.add_trace(go.Scatter(x=data2['Year'], y = data2['Athlets'], mode='markers'))\n",
    "fig.update_layout(dict(title='Number of Athltes per year', xaxis=dict(title='Year'), yaxis=dict(title='Number of athletes')))\n",
    "fig.show()"
   ]
  },
  {
   "cell_type": "markdown",
   "metadata": {},
   "source": [
    "From the plot above we can see that the number of athletes have gradually increased with years and since there are summer and winter olympics and winter olympics have comparatively less number of participants so there seems to be two lines of data."
   ]
  },
  {
   "cell_type": "code",
   "execution_count": 31,
   "metadata": {
    "ExecuteTime": {
     "end_time": "2020-12-08T16:36:19.133532Z",
     "start_time": "2020-12-08T16:36:19.111524Z"
    }
   },
   "outputs": [],
   "source": [
    "data_summer = data2[data2['Season']== 'Summer']\n",
    "data_winter = data2[data2['Season'] == 'Winter']"
   ]
  },
  {
   "cell_type": "code",
   "execution_count": 32,
   "metadata": {
    "ExecuteTime": {
     "end_time": "2020-12-08T16:36:19.941992Z",
     "start_time": "2020-12-08T16:36:19.743247Z"
    }
   },
   "outputs": [
    {
     "data": {
      "application/vnd.plotly.v1+json": {
       "config": {
        "plotlyServerURL": "https://plot.ly"
       },
       "data": [
        {
         "mode": "markers+lines",
         "name": "Summer ",
         "type": "scatter",
         "x": [
          1896,
          1900,
          1904,
          1906,
          1908,
          1912,
          1920,
          1924,
          1928,
          1932,
          1936,
          1948,
          1952,
          1956,
          1956,
          1960,
          1964,
          1968,
          1972,
          1976,
          1980,
          1984,
          1988,
          1992,
          1996,
          2000,
          2004,
          2008,
          2012,
          2016
         ],
         "y": [
          380,
          1936,
          1301,
          1733,
          3101,
          4040,
          4292,
          5233,
          4992,
          2969,
          6506,
          6405,
          8270,
          4829,
          298,
          8119,
          7702,
          8588,
          10304,
          8641,
          7191,
          9454,
          12037,
          12977,
          13780,
          13821,
          13443,
          13602,
          12920,
          13688
         ]
        },
        {
         "mode": "markers+lines",
         "name": "Winter",
         "type": "scatter",
         "x": [
          1924,
          1928,
          1932,
          1936,
          1948,
          1952,
          1956,
          1960,
          1964,
          1968,
          1972,
          1976,
          1980,
          1984,
          1988,
          1992,
          1994,
          1998,
          2002,
          2006,
          2010,
          2014
         ],
         "y": [
          460,
          582,
          352,
          895,
          1075,
          1088,
          1307,
          1116,
          1778,
          1891,
          1655,
          1861,
          1746,
          2134,
          2639,
          3436,
          3160,
          3605,
          4109,
          4382,
          4402,
          4891
         ]
        }
       ],
       "layout": {
        "template": {
         "data": {
          "bar": [
           {
            "error_x": {
             "color": "#2a3f5f"
            },
            "error_y": {
             "color": "#2a3f5f"
            },
            "marker": {
             "line": {
              "color": "#E5ECF6",
              "width": 0.5
             }
            },
            "type": "bar"
           }
          ],
          "barpolar": [
           {
            "marker": {
             "line": {
              "color": "#E5ECF6",
              "width": 0.5
             }
            },
            "type": "barpolar"
           }
          ],
          "carpet": [
           {
            "aaxis": {
             "endlinecolor": "#2a3f5f",
             "gridcolor": "white",
             "linecolor": "white",
             "minorgridcolor": "white",
             "startlinecolor": "#2a3f5f"
            },
            "baxis": {
             "endlinecolor": "#2a3f5f",
             "gridcolor": "white",
             "linecolor": "white",
             "minorgridcolor": "white",
             "startlinecolor": "#2a3f5f"
            },
            "type": "carpet"
           }
          ],
          "choropleth": [
           {
            "colorbar": {
             "outlinewidth": 0,
             "ticks": ""
            },
            "type": "choropleth"
           }
          ],
          "contour": [
           {
            "colorbar": {
             "outlinewidth": 0,
             "ticks": ""
            },
            "colorscale": [
             [
              0,
              "#0d0887"
             ],
             [
              0.1111111111111111,
              "#46039f"
             ],
             [
              0.2222222222222222,
              "#7201a8"
             ],
             [
              0.3333333333333333,
              "#9c179e"
             ],
             [
              0.4444444444444444,
              "#bd3786"
             ],
             [
              0.5555555555555556,
              "#d8576b"
             ],
             [
              0.6666666666666666,
              "#ed7953"
             ],
             [
              0.7777777777777778,
              "#fb9f3a"
             ],
             [
              0.8888888888888888,
              "#fdca26"
             ],
             [
              1,
              "#f0f921"
             ]
            ],
            "type": "contour"
           }
          ],
          "contourcarpet": [
           {
            "colorbar": {
             "outlinewidth": 0,
             "ticks": ""
            },
            "type": "contourcarpet"
           }
          ],
          "heatmap": [
           {
            "colorbar": {
             "outlinewidth": 0,
             "ticks": ""
            },
            "colorscale": [
             [
              0,
              "#0d0887"
             ],
             [
              0.1111111111111111,
              "#46039f"
             ],
             [
              0.2222222222222222,
              "#7201a8"
             ],
             [
              0.3333333333333333,
              "#9c179e"
             ],
             [
              0.4444444444444444,
              "#bd3786"
             ],
             [
              0.5555555555555556,
              "#d8576b"
             ],
             [
              0.6666666666666666,
              "#ed7953"
             ],
             [
              0.7777777777777778,
              "#fb9f3a"
             ],
             [
              0.8888888888888888,
              "#fdca26"
             ],
             [
              1,
              "#f0f921"
             ]
            ],
            "type": "heatmap"
           }
          ],
          "heatmapgl": [
           {
            "colorbar": {
             "outlinewidth": 0,
             "ticks": ""
            },
            "colorscale": [
             [
              0,
              "#0d0887"
             ],
             [
              0.1111111111111111,
              "#46039f"
             ],
             [
              0.2222222222222222,
              "#7201a8"
             ],
             [
              0.3333333333333333,
              "#9c179e"
             ],
             [
              0.4444444444444444,
              "#bd3786"
             ],
             [
              0.5555555555555556,
              "#d8576b"
             ],
             [
              0.6666666666666666,
              "#ed7953"
             ],
             [
              0.7777777777777778,
              "#fb9f3a"
             ],
             [
              0.8888888888888888,
              "#fdca26"
             ],
             [
              1,
              "#f0f921"
             ]
            ],
            "type": "heatmapgl"
           }
          ],
          "histogram": [
           {
            "marker": {
             "colorbar": {
              "outlinewidth": 0,
              "ticks": ""
             }
            },
            "type": "histogram"
           }
          ],
          "histogram2d": [
           {
            "colorbar": {
             "outlinewidth": 0,
             "ticks": ""
            },
            "colorscale": [
             [
              0,
              "#0d0887"
             ],
             [
              0.1111111111111111,
              "#46039f"
             ],
             [
              0.2222222222222222,
              "#7201a8"
             ],
             [
              0.3333333333333333,
              "#9c179e"
             ],
             [
              0.4444444444444444,
              "#bd3786"
             ],
             [
              0.5555555555555556,
              "#d8576b"
             ],
             [
              0.6666666666666666,
              "#ed7953"
             ],
             [
              0.7777777777777778,
              "#fb9f3a"
             ],
             [
              0.8888888888888888,
              "#fdca26"
             ],
             [
              1,
              "#f0f921"
             ]
            ],
            "type": "histogram2d"
           }
          ],
          "histogram2dcontour": [
           {
            "colorbar": {
             "outlinewidth": 0,
             "ticks": ""
            },
            "colorscale": [
             [
              0,
              "#0d0887"
             ],
             [
              0.1111111111111111,
              "#46039f"
             ],
             [
              0.2222222222222222,
              "#7201a8"
             ],
             [
              0.3333333333333333,
              "#9c179e"
             ],
             [
              0.4444444444444444,
              "#bd3786"
             ],
             [
              0.5555555555555556,
              "#d8576b"
             ],
             [
              0.6666666666666666,
              "#ed7953"
             ],
             [
              0.7777777777777778,
              "#fb9f3a"
             ],
             [
              0.8888888888888888,
              "#fdca26"
             ],
             [
              1,
              "#f0f921"
             ]
            ],
            "type": "histogram2dcontour"
           }
          ],
          "mesh3d": [
           {
            "colorbar": {
             "outlinewidth": 0,
             "ticks": ""
            },
            "type": "mesh3d"
           }
          ],
          "parcoords": [
           {
            "line": {
             "colorbar": {
              "outlinewidth": 0,
              "ticks": ""
             }
            },
            "type": "parcoords"
           }
          ],
          "pie": [
           {
            "automargin": true,
            "type": "pie"
           }
          ],
          "scatter": [
           {
            "marker": {
             "colorbar": {
              "outlinewidth": 0,
              "ticks": ""
             }
            },
            "type": "scatter"
           }
          ],
          "scatter3d": [
           {
            "line": {
             "colorbar": {
              "outlinewidth": 0,
              "ticks": ""
             }
            },
            "marker": {
             "colorbar": {
              "outlinewidth": 0,
              "ticks": ""
             }
            },
            "type": "scatter3d"
           }
          ],
          "scattercarpet": [
           {
            "marker": {
             "colorbar": {
              "outlinewidth": 0,
              "ticks": ""
             }
            },
            "type": "scattercarpet"
           }
          ],
          "scattergeo": [
           {
            "marker": {
             "colorbar": {
              "outlinewidth": 0,
              "ticks": ""
             }
            },
            "type": "scattergeo"
           }
          ],
          "scattergl": [
           {
            "marker": {
             "colorbar": {
              "outlinewidth": 0,
              "ticks": ""
             }
            },
            "type": "scattergl"
           }
          ],
          "scattermapbox": [
           {
            "marker": {
             "colorbar": {
              "outlinewidth": 0,
              "ticks": ""
             }
            },
            "type": "scattermapbox"
           }
          ],
          "scatterpolar": [
           {
            "marker": {
             "colorbar": {
              "outlinewidth": 0,
              "ticks": ""
             }
            },
            "type": "scatterpolar"
           }
          ],
          "scatterpolargl": [
           {
            "marker": {
             "colorbar": {
              "outlinewidth": 0,
              "ticks": ""
             }
            },
            "type": "scatterpolargl"
           }
          ],
          "scatterternary": [
           {
            "marker": {
             "colorbar": {
              "outlinewidth": 0,
              "ticks": ""
             }
            },
            "type": "scatterternary"
           }
          ],
          "surface": [
           {
            "colorbar": {
             "outlinewidth": 0,
             "ticks": ""
            },
            "colorscale": [
             [
              0,
              "#0d0887"
             ],
             [
              0.1111111111111111,
              "#46039f"
             ],
             [
              0.2222222222222222,
              "#7201a8"
             ],
             [
              0.3333333333333333,
              "#9c179e"
             ],
             [
              0.4444444444444444,
              "#bd3786"
             ],
             [
              0.5555555555555556,
              "#d8576b"
             ],
             [
              0.6666666666666666,
              "#ed7953"
             ],
             [
              0.7777777777777778,
              "#fb9f3a"
             ],
             [
              0.8888888888888888,
              "#fdca26"
             ],
             [
              1,
              "#f0f921"
             ]
            ],
            "type": "surface"
           }
          ],
          "table": [
           {
            "cells": {
             "fill": {
              "color": "#EBF0F8"
             },
             "line": {
              "color": "white"
             }
            },
            "header": {
             "fill": {
              "color": "#C8D4E3"
             },
             "line": {
              "color": "white"
             }
            },
            "type": "table"
           }
          ]
         },
         "layout": {
          "annotationdefaults": {
           "arrowcolor": "#2a3f5f",
           "arrowhead": 0,
           "arrowwidth": 1
          },
          "coloraxis": {
           "colorbar": {
            "outlinewidth": 0,
            "ticks": ""
           }
          },
          "colorscale": {
           "diverging": [
            [
             0,
             "#8e0152"
            ],
            [
             0.1,
             "#c51b7d"
            ],
            [
             0.2,
             "#de77ae"
            ],
            [
             0.3,
             "#f1b6da"
            ],
            [
             0.4,
             "#fde0ef"
            ],
            [
             0.5,
             "#f7f7f7"
            ],
            [
             0.6,
             "#e6f5d0"
            ],
            [
             0.7,
             "#b8e186"
            ],
            [
             0.8,
             "#7fbc41"
            ],
            [
             0.9,
             "#4d9221"
            ],
            [
             1,
             "#276419"
            ]
           ],
           "sequential": [
            [
             0,
             "#0d0887"
            ],
            [
             0.1111111111111111,
             "#46039f"
            ],
            [
             0.2222222222222222,
             "#7201a8"
            ],
            [
             0.3333333333333333,
             "#9c179e"
            ],
            [
             0.4444444444444444,
             "#bd3786"
            ],
            [
             0.5555555555555556,
             "#d8576b"
            ],
            [
             0.6666666666666666,
             "#ed7953"
            ],
            [
             0.7777777777777778,
             "#fb9f3a"
            ],
            [
             0.8888888888888888,
             "#fdca26"
            ],
            [
             1,
             "#f0f921"
            ]
           ],
           "sequentialminus": [
            [
             0,
             "#0d0887"
            ],
            [
             0.1111111111111111,
             "#46039f"
            ],
            [
             0.2222222222222222,
             "#7201a8"
            ],
            [
             0.3333333333333333,
             "#9c179e"
            ],
            [
             0.4444444444444444,
             "#bd3786"
            ],
            [
             0.5555555555555556,
             "#d8576b"
            ],
            [
             0.6666666666666666,
             "#ed7953"
            ],
            [
             0.7777777777777778,
             "#fb9f3a"
            ],
            [
             0.8888888888888888,
             "#fdca26"
            ],
            [
             1,
             "#f0f921"
            ]
           ]
          },
          "colorway": [
           "#636efa",
           "#EF553B",
           "#00cc96",
           "#ab63fa",
           "#FFA15A",
           "#19d3f3",
           "#FF6692",
           "#B6E880",
           "#FF97FF",
           "#FECB52"
          ],
          "font": {
           "color": "#2a3f5f"
          },
          "geo": {
           "bgcolor": "white",
           "lakecolor": "white",
           "landcolor": "#E5ECF6",
           "showlakes": true,
           "showland": true,
           "subunitcolor": "white"
          },
          "hoverlabel": {
           "align": "left"
          },
          "hovermode": "closest",
          "mapbox": {
           "style": "light"
          },
          "paper_bgcolor": "white",
          "plot_bgcolor": "#E5ECF6",
          "polar": {
           "angularaxis": {
            "gridcolor": "white",
            "linecolor": "white",
            "ticks": ""
           },
           "bgcolor": "#E5ECF6",
           "radialaxis": {
            "gridcolor": "white",
            "linecolor": "white",
            "ticks": ""
           }
          },
          "scene": {
           "xaxis": {
            "backgroundcolor": "#E5ECF6",
            "gridcolor": "white",
            "gridwidth": 2,
            "linecolor": "white",
            "showbackground": true,
            "ticks": "",
            "zerolinecolor": "white"
           },
           "yaxis": {
            "backgroundcolor": "#E5ECF6",
            "gridcolor": "white",
            "gridwidth": 2,
            "linecolor": "white",
            "showbackground": true,
            "ticks": "",
            "zerolinecolor": "white"
           },
           "zaxis": {
            "backgroundcolor": "#E5ECF6",
            "gridcolor": "white",
            "gridwidth": 2,
            "linecolor": "white",
            "showbackground": true,
            "ticks": "",
            "zerolinecolor": "white"
           }
          },
          "shapedefaults": {
           "line": {
            "color": "#2a3f5f"
           }
          },
          "ternary": {
           "aaxis": {
            "gridcolor": "white",
            "linecolor": "white",
            "ticks": ""
           },
           "baxis": {
            "gridcolor": "white",
            "linecolor": "white",
            "ticks": ""
           },
           "bgcolor": "#E5ECF6",
           "caxis": {
            "gridcolor": "white",
            "linecolor": "white",
            "ticks": ""
           }
          },
          "title": {
           "x": 0.05
          },
          "xaxis": {
           "automargin": true,
           "gridcolor": "white",
           "linecolor": "white",
           "ticks": "",
           "title": {
            "standoff": 15
           },
           "zerolinecolor": "white",
           "zerolinewidth": 2
          },
          "yaxis": {
           "automargin": true,
           "gridcolor": "white",
           "linecolor": "white",
           "ticks": "",
           "title": {
            "standoff": 15
           },
           "zerolinecolor": "white",
           "zerolinewidth": 2
          }
         }
        },
        "title": {
         "text": "Number of Athltes per year"
        },
        "xaxis": {
         "title": {
          "text": "Year"
         }
        },
        "yaxis": {
         "title": {
          "text": "Number of athletes"
         }
        }
       }
      },
      "text/html": [
       "<div>                            <div id=\"937d29d0-f50c-4840-9458-e4e9b39b0d4d\" class=\"plotly-graph-div\" style=\"height:525px; width:100%;\"></div>            <script type=\"text/javascript\">                require([\"plotly\"], function(Plotly) {                    window.PLOTLYENV=window.PLOTLYENV || {};                                    if (document.getElementById(\"937d29d0-f50c-4840-9458-e4e9b39b0d4d\")) {                    Plotly.newPlot(                        \"937d29d0-f50c-4840-9458-e4e9b39b0d4d\",                        [{\"mode\": \"markers+lines\", \"name\": \"Summer \", \"type\": \"scatter\", \"x\": [1896, 1900, 1904, 1906, 1908, 1912, 1920, 1924, 1928, 1932, 1936, 1948, 1952, 1956, 1956, 1960, 1964, 1968, 1972, 1976, 1980, 1984, 1988, 1992, 1996, 2000, 2004, 2008, 2012, 2016], \"y\": [380, 1936, 1301, 1733, 3101, 4040, 4292, 5233, 4992, 2969, 6506, 6405, 8270, 4829, 298, 8119, 7702, 8588, 10304, 8641, 7191, 9454, 12037, 12977, 13780, 13821, 13443, 13602, 12920, 13688]}, {\"mode\": \"markers+lines\", \"name\": \"Winter\", \"type\": \"scatter\", \"x\": [1924, 1928, 1932, 1936, 1948, 1952, 1956, 1960, 1964, 1968, 1972, 1976, 1980, 1984, 1988, 1992, 1994, 1998, 2002, 2006, 2010, 2014], \"y\": [460, 582, 352, 895, 1075, 1088, 1307, 1116, 1778, 1891, 1655, 1861, 1746, 2134, 2639, 3436, 3160, 3605, 4109, 4382, 4402, 4891]}],                        {\"template\": {\"data\": {\"bar\": [{\"error_x\": {\"color\": \"#2a3f5f\"}, \"error_y\": {\"color\": \"#2a3f5f\"}, \"marker\": {\"line\": {\"color\": \"#E5ECF6\", \"width\": 0.5}}, \"type\": \"bar\"}], \"barpolar\": [{\"marker\": {\"line\": {\"color\": \"#E5ECF6\", \"width\": 0.5}}, \"type\": \"barpolar\"}], \"carpet\": [{\"aaxis\": {\"endlinecolor\": \"#2a3f5f\", \"gridcolor\": \"white\", \"linecolor\": \"white\", \"minorgridcolor\": \"white\", \"startlinecolor\": \"#2a3f5f\"}, \"baxis\": {\"endlinecolor\": \"#2a3f5f\", \"gridcolor\": \"white\", \"linecolor\": \"white\", \"minorgridcolor\": \"white\", \"startlinecolor\": \"#2a3f5f\"}, \"type\": \"carpet\"}], \"choropleth\": [{\"colorbar\": {\"outlinewidth\": 0, \"ticks\": \"\"}, \"type\": \"choropleth\"}], \"contour\": [{\"colorbar\": {\"outlinewidth\": 0, \"ticks\": \"\"}, \"colorscale\": [[0.0, \"#0d0887\"], [0.1111111111111111, \"#46039f\"], [0.2222222222222222, \"#7201a8\"], [0.3333333333333333, \"#9c179e\"], [0.4444444444444444, \"#bd3786\"], [0.5555555555555556, \"#d8576b\"], [0.6666666666666666, \"#ed7953\"], [0.7777777777777778, \"#fb9f3a\"], [0.8888888888888888, \"#fdca26\"], [1.0, \"#f0f921\"]], \"type\": \"contour\"}], \"contourcarpet\": [{\"colorbar\": {\"outlinewidth\": 0, \"ticks\": \"\"}, \"type\": \"contourcarpet\"}], \"heatmap\": [{\"colorbar\": {\"outlinewidth\": 0, \"ticks\": \"\"}, \"colorscale\": [[0.0, \"#0d0887\"], [0.1111111111111111, \"#46039f\"], [0.2222222222222222, \"#7201a8\"], [0.3333333333333333, \"#9c179e\"], [0.4444444444444444, \"#bd3786\"], [0.5555555555555556, \"#d8576b\"], [0.6666666666666666, \"#ed7953\"], [0.7777777777777778, \"#fb9f3a\"], [0.8888888888888888, \"#fdca26\"], [1.0, \"#f0f921\"]], \"type\": \"heatmap\"}], \"heatmapgl\": [{\"colorbar\": {\"outlinewidth\": 0, \"ticks\": \"\"}, \"colorscale\": [[0.0, \"#0d0887\"], [0.1111111111111111, \"#46039f\"], [0.2222222222222222, \"#7201a8\"], [0.3333333333333333, \"#9c179e\"], [0.4444444444444444, \"#bd3786\"], [0.5555555555555556, \"#d8576b\"], [0.6666666666666666, \"#ed7953\"], [0.7777777777777778, \"#fb9f3a\"], [0.8888888888888888, \"#fdca26\"], [1.0, \"#f0f921\"]], \"type\": \"heatmapgl\"}], \"histogram\": [{\"marker\": {\"colorbar\": {\"outlinewidth\": 0, \"ticks\": \"\"}}, \"type\": \"histogram\"}], \"histogram2d\": [{\"colorbar\": {\"outlinewidth\": 0, \"ticks\": \"\"}, \"colorscale\": [[0.0, \"#0d0887\"], [0.1111111111111111, \"#46039f\"], [0.2222222222222222, \"#7201a8\"], [0.3333333333333333, \"#9c179e\"], [0.4444444444444444, \"#bd3786\"], [0.5555555555555556, \"#d8576b\"], [0.6666666666666666, \"#ed7953\"], [0.7777777777777778, \"#fb9f3a\"], [0.8888888888888888, \"#fdca26\"], [1.0, \"#f0f921\"]], \"type\": \"histogram2d\"}], \"histogram2dcontour\": [{\"colorbar\": {\"outlinewidth\": 0, \"ticks\": \"\"}, \"colorscale\": [[0.0, \"#0d0887\"], [0.1111111111111111, \"#46039f\"], [0.2222222222222222, \"#7201a8\"], [0.3333333333333333, \"#9c179e\"], [0.4444444444444444, \"#bd3786\"], [0.5555555555555556, \"#d8576b\"], [0.6666666666666666, \"#ed7953\"], [0.7777777777777778, \"#fb9f3a\"], [0.8888888888888888, \"#fdca26\"], [1.0, \"#f0f921\"]], \"type\": \"histogram2dcontour\"}], \"mesh3d\": [{\"colorbar\": {\"outlinewidth\": 0, \"ticks\": \"\"}, \"type\": \"mesh3d\"}], \"parcoords\": [{\"line\": {\"colorbar\": {\"outlinewidth\": 0, \"ticks\": \"\"}}, \"type\": \"parcoords\"}], \"pie\": [{\"automargin\": true, \"type\": \"pie\"}], \"scatter\": [{\"marker\": {\"colorbar\": {\"outlinewidth\": 0, \"ticks\": \"\"}}, \"type\": \"scatter\"}], \"scatter3d\": [{\"line\": {\"colorbar\": {\"outlinewidth\": 0, \"ticks\": \"\"}}, \"marker\": {\"colorbar\": {\"outlinewidth\": 0, \"ticks\": \"\"}}, \"type\": \"scatter3d\"}], \"scattercarpet\": [{\"marker\": {\"colorbar\": {\"outlinewidth\": 0, \"ticks\": \"\"}}, \"type\": \"scattercarpet\"}], \"scattergeo\": [{\"marker\": {\"colorbar\": {\"outlinewidth\": 0, \"ticks\": \"\"}}, \"type\": \"scattergeo\"}], \"scattergl\": [{\"marker\": {\"colorbar\": {\"outlinewidth\": 0, \"ticks\": \"\"}}, \"type\": \"scattergl\"}], \"scattermapbox\": [{\"marker\": {\"colorbar\": {\"outlinewidth\": 0, \"ticks\": \"\"}}, \"type\": \"scattermapbox\"}], \"scatterpolar\": [{\"marker\": {\"colorbar\": {\"outlinewidth\": 0, \"ticks\": \"\"}}, \"type\": \"scatterpolar\"}], \"scatterpolargl\": [{\"marker\": {\"colorbar\": {\"outlinewidth\": 0, \"ticks\": \"\"}}, \"type\": \"scatterpolargl\"}], \"scatterternary\": [{\"marker\": {\"colorbar\": {\"outlinewidth\": 0, \"ticks\": \"\"}}, \"type\": \"scatterternary\"}], \"surface\": [{\"colorbar\": {\"outlinewidth\": 0, \"ticks\": \"\"}, \"colorscale\": [[0.0, \"#0d0887\"], [0.1111111111111111, \"#46039f\"], [0.2222222222222222, \"#7201a8\"], [0.3333333333333333, \"#9c179e\"], [0.4444444444444444, \"#bd3786\"], [0.5555555555555556, \"#d8576b\"], [0.6666666666666666, \"#ed7953\"], [0.7777777777777778, \"#fb9f3a\"], [0.8888888888888888, \"#fdca26\"], [1.0, \"#f0f921\"]], \"type\": \"surface\"}], \"table\": [{\"cells\": {\"fill\": {\"color\": \"#EBF0F8\"}, \"line\": {\"color\": \"white\"}}, \"header\": {\"fill\": {\"color\": \"#C8D4E3\"}, \"line\": {\"color\": \"white\"}}, \"type\": \"table\"}]}, \"layout\": {\"annotationdefaults\": {\"arrowcolor\": \"#2a3f5f\", \"arrowhead\": 0, \"arrowwidth\": 1}, \"coloraxis\": {\"colorbar\": {\"outlinewidth\": 0, \"ticks\": \"\"}}, \"colorscale\": {\"diverging\": [[0, \"#8e0152\"], [0.1, \"#c51b7d\"], [0.2, \"#de77ae\"], [0.3, \"#f1b6da\"], [0.4, \"#fde0ef\"], [0.5, \"#f7f7f7\"], [0.6, \"#e6f5d0\"], [0.7, \"#b8e186\"], [0.8, \"#7fbc41\"], [0.9, \"#4d9221\"], [1, \"#276419\"]], \"sequential\": [[0.0, \"#0d0887\"], [0.1111111111111111, \"#46039f\"], [0.2222222222222222, \"#7201a8\"], [0.3333333333333333, \"#9c179e\"], [0.4444444444444444, \"#bd3786\"], [0.5555555555555556, \"#d8576b\"], [0.6666666666666666, \"#ed7953\"], [0.7777777777777778, \"#fb9f3a\"], [0.8888888888888888, \"#fdca26\"], [1.0, \"#f0f921\"]], \"sequentialminus\": [[0.0, \"#0d0887\"], [0.1111111111111111, \"#46039f\"], [0.2222222222222222, \"#7201a8\"], [0.3333333333333333, \"#9c179e\"], [0.4444444444444444, \"#bd3786\"], [0.5555555555555556, \"#d8576b\"], [0.6666666666666666, \"#ed7953\"], [0.7777777777777778, \"#fb9f3a\"], [0.8888888888888888, \"#fdca26\"], [1.0, \"#f0f921\"]]}, \"colorway\": [\"#636efa\", \"#EF553B\", \"#00cc96\", \"#ab63fa\", \"#FFA15A\", \"#19d3f3\", \"#FF6692\", \"#B6E880\", \"#FF97FF\", \"#FECB52\"], \"font\": {\"color\": \"#2a3f5f\"}, \"geo\": {\"bgcolor\": \"white\", \"lakecolor\": \"white\", \"landcolor\": \"#E5ECF6\", \"showlakes\": true, \"showland\": true, \"subunitcolor\": \"white\"}, \"hoverlabel\": {\"align\": \"left\"}, \"hovermode\": \"closest\", \"mapbox\": {\"style\": \"light\"}, \"paper_bgcolor\": \"white\", \"plot_bgcolor\": \"#E5ECF6\", \"polar\": {\"angularaxis\": {\"gridcolor\": \"white\", \"linecolor\": \"white\", \"ticks\": \"\"}, \"bgcolor\": \"#E5ECF6\", \"radialaxis\": {\"gridcolor\": \"white\", \"linecolor\": \"white\", \"ticks\": \"\"}}, \"scene\": {\"xaxis\": {\"backgroundcolor\": \"#E5ECF6\", \"gridcolor\": \"white\", \"gridwidth\": 2, \"linecolor\": \"white\", \"showbackground\": true, \"ticks\": \"\", \"zerolinecolor\": \"white\"}, \"yaxis\": {\"backgroundcolor\": \"#E5ECF6\", \"gridcolor\": \"white\", \"gridwidth\": 2, \"linecolor\": \"white\", \"showbackground\": true, \"ticks\": \"\", \"zerolinecolor\": \"white\"}, \"zaxis\": {\"backgroundcolor\": \"#E5ECF6\", \"gridcolor\": \"white\", \"gridwidth\": 2, \"linecolor\": \"white\", \"showbackground\": true, \"ticks\": \"\", \"zerolinecolor\": \"white\"}}, \"shapedefaults\": {\"line\": {\"color\": \"#2a3f5f\"}}, \"ternary\": {\"aaxis\": {\"gridcolor\": \"white\", \"linecolor\": \"white\", \"ticks\": \"\"}, \"baxis\": {\"gridcolor\": \"white\", \"linecolor\": \"white\", \"ticks\": \"\"}, \"bgcolor\": \"#E5ECF6\", \"caxis\": {\"gridcolor\": \"white\", \"linecolor\": \"white\", \"ticks\": \"\"}}, \"title\": {\"x\": 0.05}, \"xaxis\": {\"automargin\": true, \"gridcolor\": \"white\", \"linecolor\": \"white\", \"ticks\": \"\", \"title\": {\"standoff\": 15}, \"zerolinecolor\": \"white\", \"zerolinewidth\": 2}, \"yaxis\": {\"automargin\": true, \"gridcolor\": \"white\", \"linecolor\": \"white\", \"ticks\": \"\", \"title\": {\"standoff\": 15}, \"zerolinecolor\": \"white\", \"zerolinewidth\": 2}}}, \"title\": {\"text\": \"Number of Athltes per year\"}, \"xaxis\": {\"title\": {\"text\": \"Year\"}}, \"yaxis\": {\"title\": {\"text\": \"Number of athletes\"}}},                        {\"responsive\": true}                    ).then(function(){\n",
       "                            \n",
       "var gd = document.getElementById('937d29d0-f50c-4840-9458-e4e9b39b0d4d');\n",
       "var x = new MutationObserver(function (mutations, observer) {{\n",
       "        var display = window.getComputedStyle(gd).display;\n",
       "        if (!display || display === 'none') {{\n",
       "            console.log([gd, 'removed!']);\n",
       "            Plotly.purge(gd);\n",
       "            observer.disconnect();\n",
       "        }}\n",
       "}});\n",
       "\n",
       "// Listen for the removal of the full notebook cells\n",
       "var notebookContainer = gd.closest('#notebook-container');\n",
       "if (notebookContainer) {{\n",
       "    x.observe(notebookContainer, {childList: true});\n",
       "}}\n",
       "\n",
       "// Listen for the clearing of the current output cell\n",
       "var outputEl = gd.closest('.output');\n",
       "if (outputEl) {{\n",
       "    x.observe(outputEl, {childList: true});\n",
       "}}\n",
       "\n",
       "                        })                };                });            </script>        </div>"
      ]
     },
     "metadata": {},
     "output_type": "display_data"
    }
   ],
   "source": [
    "fig  =  go.Figure()\n",
    "fig.add_trace(go.Scatter(x=data_summer['Year'], y = data_summer['Athlets'], mode='markers + lines', name='Summer '))\n",
    "fig.add_trace(go.Scatter(x=data_winter['Year'], y = data_winter['Athlets'], mode='markers + lines', name='Winter'))\n",
    "fig.update_layout(dict(title='Number of Athltes per year', xaxis=dict(title='Year'), yaxis=dict(title='Number of athletes')))\n",
    "fig.show()"
   ]
  },
  {
   "cell_type": "markdown",
   "metadata": {},
   "source": [
    "From this plot we can see that summer olympic games started earlier than the winter games and the number of players participating in the winter games are fewer than summer, except for 1956 summer olympics which had significantly less participant."
   ]
  },
  {
   "cell_type": "code",
   "execution_count": 33,
   "metadata": {
    "ExecuteTime": {
     "end_time": "2020-12-08T16:36:22.413550Z",
     "start_time": "2020-12-08T16:36:22.392569Z"
    }
   },
   "outputs": [
    {
     "data": {
      "text/html": [
       "<div>\n",
       "<style scoped>\n",
       "    .dataframe tbody tr th:only-of-type {\n",
       "        vertical-align: middle;\n",
       "    }\n",
       "\n",
       "    .dataframe tbody tr th {\n",
       "        vertical-align: top;\n",
       "    }\n",
       "\n",
       "    .dataframe thead th {\n",
       "        text-align: right;\n",
       "    }\n",
       "</style>\n",
       "<table border=\"1\" class=\"dataframe\">\n",
       "  <thead>\n",
       "    <tr style=\"text-align: right;\">\n",
       "      <th></th>\n",
       "      <th>Year</th>\n",
       "      <th>City</th>\n",
       "      <th>Season</th>\n",
       "      <th>Athlets</th>\n",
       "    </tr>\n",
       "  </thead>\n",
       "  <tbody>\n",
       "    <tr>\n",
       "      <th>20</th>\n",
       "      <td>1956</td>\n",
       "      <td>Melbourne</td>\n",
       "      <td>Summer</td>\n",
       "      <td>4829</td>\n",
       "    </tr>\n",
       "    <tr>\n",
       "      <th>21</th>\n",
       "      <td>1956</td>\n",
       "      <td>Stockholm</td>\n",
       "      <td>Summer</td>\n",
       "      <td>298</td>\n",
       "    </tr>\n",
       "  </tbody>\n",
       "</table>\n",
       "</div>"
      ],
      "text/plain": [
       "    Year       City  Season  Athlets\n",
       "20  1956  Melbourne  Summer     4829\n",
       "21  1956  Stockholm  Summer      298"
      ]
     },
     "execution_count": 33,
     "metadata": {},
     "output_type": "execute_result"
    }
   ],
   "source": [
    "data_summer[data_summer['Year']==1956]"
   ]
  },
  {
   "cell_type": "markdown",
   "metadata": {},
   "source": [
    "So, summer olympics in 1956 was held two times, one in Melbourne, Australia and another in Stockholm, Sweden. According to a source in google, many countries boycotted the Melbourne olympics as it was too far and it was the first olympics to be held in the southern hemisphere."
   ]
  },
  {
   "cell_type": "markdown",
   "metadata": {
    "ExecuteTime": {
     "end_time": "2020-12-07T08:20:25.192903Z",
     "start_time": "2020-12-07T08:20:25.149912Z"
    }
   },
   "source": [
    "## Number of events per olympic games"
   ]
  },
  {
   "cell_type": "code",
   "execution_count": 34,
   "metadata": {
    "ExecuteTime": {
     "end_time": "2020-12-08T16:36:24.380986Z",
     "start_time": "2020-12-08T16:36:24.344988Z"
    }
   },
   "outputs": [
    {
     "data": {
      "text/html": [
       "<div>\n",
       "<style scoped>\n",
       "    .dataframe tbody tr th:only-of-type {\n",
       "        vertical-align: middle;\n",
       "    }\n",
       "\n",
       "    .dataframe tbody tr th {\n",
       "        vertical-align: top;\n",
       "    }\n",
       "\n",
       "    .dataframe thead th {\n",
       "        text-align: right;\n",
       "    }\n",
       "</style>\n",
       "<table border=\"1\" class=\"dataframe\">\n",
       "  <thead>\n",
       "    <tr style=\"text-align: right;\">\n",
       "      <th></th>\n",
       "      <th>ID</th>\n",
       "      <th>Name</th>\n",
       "      <th>Sex</th>\n",
       "      <th>Age</th>\n",
       "      <th>Height</th>\n",
       "      <th>Weight</th>\n",
       "      <th>Team</th>\n",
       "      <th>NOC</th>\n",
       "      <th>Games</th>\n",
       "      <th>Year</th>\n",
       "      <th>Season</th>\n",
       "      <th>City</th>\n",
       "      <th>Sport</th>\n",
       "      <th>Event</th>\n",
       "      <th>Medal</th>\n",
       "    </tr>\n",
       "  </thead>\n",
       "  <tbody>\n",
       "    <tr>\n",
       "      <th>0</th>\n",
       "      <td>1</td>\n",
       "      <td>A Dijiang</td>\n",
       "      <td>M</td>\n",
       "      <td>24.0</td>\n",
       "      <td>180.0</td>\n",
       "      <td>80.0</td>\n",
       "      <td>China</td>\n",
       "      <td>CHN</td>\n",
       "      <td>1992 Summer</td>\n",
       "      <td>1992</td>\n",
       "      <td>Summer</td>\n",
       "      <td>Barcelona</td>\n",
       "      <td>Basketball</td>\n",
       "      <td>Basketball Men's Basketball</td>\n",
       "      <td>NaN</td>\n",
       "    </tr>\n",
       "    <tr>\n",
       "      <th>1</th>\n",
       "      <td>2</td>\n",
       "      <td>A Lamusi</td>\n",
       "      <td>M</td>\n",
       "      <td>23.0</td>\n",
       "      <td>170.0</td>\n",
       "      <td>60.0</td>\n",
       "      <td>China</td>\n",
       "      <td>CHN</td>\n",
       "      <td>2012 Summer</td>\n",
       "      <td>2012</td>\n",
       "      <td>Summer</td>\n",
       "      <td>London</td>\n",
       "      <td>Judo</td>\n",
       "      <td>Judo Men's Extra-Lightweight</td>\n",
       "      <td>NaN</td>\n",
       "    </tr>\n",
       "    <tr>\n",
       "      <th>2</th>\n",
       "      <td>3</td>\n",
       "      <td>Gunnar Nielsen Aaby</td>\n",
       "      <td>M</td>\n",
       "      <td>24.0</td>\n",
       "      <td>NaN</td>\n",
       "      <td>NaN</td>\n",
       "      <td>Denmark</td>\n",
       "      <td>DEN</td>\n",
       "      <td>1920 Summer</td>\n",
       "      <td>1920</td>\n",
       "      <td>Summer</td>\n",
       "      <td>Antwerpen</td>\n",
       "      <td>Football</td>\n",
       "      <td>Football Men's Football</td>\n",
       "      <td>NaN</td>\n",
       "    </tr>\n",
       "    <tr>\n",
       "      <th>3</th>\n",
       "      <td>4</td>\n",
       "      <td>Edgar Lindenau Aabye</td>\n",
       "      <td>M</td>\n",
       "      <td>34.0</td>\n",
       "      <td>NaN</td>\n",
       "      <td>NaN</td>\n",
       "      <td>Denmark/Sweden</td>\n",
       "      <td>DEN</td>\n",
       "      <td>1900 Summer</td>\n",
       "      <td>1900</td>\n",
       "      <td>Summer</td>\n",
       "      <td>Paris</td>\n",
       "      <td>Tug-Of-War</td>\n",
       "      <td>Tug-Of-War Men's Tug-Of-War</td>\n",
       "      <td>Gold</td>\n",
       "    </tr>\n",
       "    <tr>\n",
       "      <th>4</th>\n",
       "      <td>5</td>\n",
       "      <td>Christine Jacoba Aaftink</td>\n",
       "      <td>F</td>\n",
       "      <td>21.0</td>\n",
       "      <td>185.0</td>\n",
       "      <td>82.0</td>\n",
       "      <td>Netherlands</td>\n",
       "      <td>NED</td>\n",
       "      <td>1988 Winter</td>\n",
       "      <td>1988</td>\n",
       "      <td>Winter</td>\n",
       "      <td>Calgary</td>\n",
       "      <td>Speed Skating</td>\n",
       "      <td>Speed Skating Women's 500 metres</td>\n",
       "      <td>NaN</td>\n",
       "    </tr>\n",
       "  </tbody>\n",
       "</table>\n",
       "</div>"
      ],
      "text/plain": [
       "   ID                      Name Sex   Age  Height  Weight            Team  \\\n",
       "0   1                 A Dijiang   M  24.0   180.0    80.0           China   \n",
       "1   2                  A Lamusi   M  23.0   170.0    60.0           China   \n",
       "2   3       Gunnar Nielsen Aaby   M  24.0     NaN     NaN         Denmark   \n",
       "3   4      Edgar Lindenau Aabye   M  34.0     NaN     NaN  Denmark/Sweden   \n",
       "4   5  Christine Jacoba Aaftink   F  21.0   185.0    82.0     Netherlands   \n",
       "\n",
       "   NOC        Games  Year  Season       City          Sport  \\\n",
       "0  CHN  1992 Summer  1992  Summer  Barcelona     Basketball   \n",
       "1  CHN  2012 Summer  2012  Summer     London           Judo   \n",
       "2  DEN  1920 Summer  1920  Summer  Antwerpen       Football   \n",
       "3  DEN  1900 Summer  1900  Summer      Paris     Tug-Of-War   \n",
       "4  NED  1988 Winter  1988  Winter    Calgary  Speed Skating   \n",
       "\n",
       "                              Event Medal  \n",
       "0       Basketball Men's Basketball   NaN  \n",
       "1      Judo Men's Extra-Lightweight   NaN  \n",
       "2           Football Men's Football   NaN  \n",
       "3       Tug-Of-War Men's Tug-Of-War  Gold  \n",
       "4  Speed Skating Women's 500 metres   NaN  "
      ]
     },
     "execution_count": 34,
     "metadata": {},
     "output_type": "execute_result"
    }
   ],
   "source": [
    "data.head()"
   ]
  },
  {
   "cell_type": "code",
   "execution_count": 35,
   "metadata": {
    "ExecuteTime": {
     "end_time": "2020-12-08T16:36:25.240976Z",
     "start_time": "2020-12-08T16:36:24.910653Z"
    }
   },
   "outputs": [],
   "source": [
    "data1 = data.groupby(['Year','Season'])['Sport'].nunique()"
   ]
  },
  {
   "cell_type": "code",
   "execution_count": 36,
   "metadata": {
    "ExecuteTime": {
     "end_time": "2020-12-08T16:36:25.743109Z",
     "start_time": "2020-12-08T16:36:25.727106Z"
    }
   },
   "outputs": [],
   "source": [
    "data_sport = pd.DataFrame(data={'Sports': data1.values}, index=data1.index)"
   ]
  },
  {
   "cell_type": "code",
   "execution_count": 37,
   "metadata": {
    "ExecuteTime": {
     "end_time": "2020-12-08T16:36:26.262608Z",
     "start_time": "2020-12-08T16:36:26.255611Z"
    }
   },
   "outputs": [],
   "source": [
    "data_sport.reset_index(inplace=True)"
   ]
  },
  {
   "cell_type": "code",
   "execution_count": 38,
   "metadata": {
    "ExecuteTime": {
     "end_time": "2020-12-08T16:36:26.812438Z",
     "start_time": "2020-12-08T16:36:26.798445Z"
    }
   },
   "outputs": [
    {
     "data": {
      "text/html": [
       "<div>\n",
       "<style scoped>\n",
       "    .dataframe tbody tr th:only-of-type {\n",
       "        vertical-align: middle;\n",
       "    }\n",
       "\n",
       "    .dataframe tbody tr th {\n",
       "        vertical-align: top;\n",
       "    }\n",
       "\n",
       "    .dataframe thead th {\n",
       "        text-align: right;\n",
       "    }\n",
       "</style>\n",
       "<table border=\"1\" class=\"dataframe\">\n",
       "  <thead>\n",
       "    <tr style=\"text-align: right;\">\n",
       "      <th></th>\n",
       "      <th>Year</th>\n",
       "      <th>Season</th>\n",
       "      <th>Sports</th>\n",
       "    </tr>\n",
       "  </thead>\n",
       "  <tbody>\n",
       "    <tr>\n",
       "      <th>0</th>\n",
       "      <td>1896</td>\n",
       "      <td>Summer</td>\n",
       "      <td>9</td>\n",
       "    </tr>\n",
       "    <tr>\n",
       "      <th>1</th>\n",
       "      <td>1900</td>\n",
       "      <td>Summer</td>\n",
       "      <td>20</td>\n",
       "    </tr>\n",
       "    <tr>\n",
       "      <th>2</th>\n",
       "      <td>1904</td>\n",
       "      <td>Summer</td>\n",
       "      <td>18</td>\n",
       "    </tr>\n",
       "    <tr>\n",
       "      <th>3</th>\n",
       "      <td>1906</td>\n",
       "      <td>Summer</td>\n",
       "      <td>13</td>\n",
       "    </tr>\n",
       "    <tr>\n",
       "      <th>4</th>\n",
       "      <td>1908</td>\n",
       "      <td>Summer</td>\n",
       "      <td>24</td>\n",
       "    </tr>\n",
       "  </tbody>\n",
       "</table>\n",
       "</div>"
      ],
      "text/plain": [
       "   Year  Season  Sports\n",
       "0  1896  Summer       9\n",
       "1  1900  Summer      20\n",
       "2  1904  Summer      18\n",
       "3  1906  Summer      13\n",
       "4  1908  Summer      24"
      ]
     },
     "execution_count": 38,
     "metadata": {},
     "output_type": "execute_result"
    }
   ],
   "source": [
    "data_sport.head()"
   ]
  },
  {
   "cell_type": "code",
   "execution_count": 39,
   "metadata": {
    "ExecuteTime": {
     "end_time": "2020-12-08T16:36:27.597899Z",
     "start_time": "2020-12-08T16:36:27.574894Z"
    }
   },
   "outputs": [],
   "source": [
    "data_sport_summer = data_sport[data_sport['Season'] == 'Summer']\n",
    "data_sport_winter = data_sport[data_sport['Season'] == 'Winter']\n"
   ]
  },
  {
   "cell_type": "code",
   "execution_count": 40,
   "metadata": {
    "ExecuteTime": {
     "end_time": "2020-12-08T16:36:29.059911Z",
     "start_time": "2020-12-08T16:36:28.432028Z"
    }
   },
   "outputs": [
    {
     "data": {
      "application/vnd.plotly.v1+json": {
       "config": {
        "plotlyServerURL": "https://plot.ly"
       },
       "data": [
        {
         "name": "Summer ",
         "type": "bar",
         "x": [
          1896,
          1900,
          1904,
          1906,
          1908,
          1912,
          1920,
          1924,
          1928,
          1932,
          1936,
          1948,
          1952,
          1956,
          1960,
          1964,
          1968,
          1972,
          1976,
          1980,
          1984,
          1988,
          1992,
          1996,
          2000,
          2004,
          2008,
          2012,
          2016
         ],
         "y": [
          9,
          20,
          18,
          13,
          24,
          17,
          25,
          20,
          17,
          18,
          24,
          20,
          19,
          19,
          19,
          21,
          20,
          23,
          23,
          23,
          25,
          27,
          29,
          31,
          34,
          34,
          34,
          32,
          34
         ]
        },
        {
         "name": "Winter",
         "type": "bar",
         "x": [
          1924,
          1928,
          1932,
          1936,
          1948,
          1952,
          1956,
          1960,
          1964,
          1968,
          1972,
          1976,
          1980,
          1984,
          1988,
          1992,
          1994,
          1998,
          2002,
          2006,
          2010,
          2014
         ],
         "y": [
          10,
          8,
          7,
          8,
          9,
          8,
          8,
          8,
          10,
          10,
          10,
          10,
          10,
          10,
          10,
          12,
          12,
          14,
          15,
          15,
          15,
          15
         ]
        }
       ],
       "layout": {
        "template": {
         "data": {
          "bar": [
           {
            "error_x": {
             "color": "#2a3f5f"
            },
            "error_y": {
             "color": "#2a3f5f"
            },
            "marker": {
             "line": {
              "color": "#E5ECF6",
              "width": 0.5
             }
            },
            "type": "bar"
           }
          ],
          "barpolar": [
           {
            "marker": {
             "line": {
              "color": "#E5ECF6",
              "width": 0.5
             }
            },
            "type": "barpolar"
           }
          ],
          "carpet": [
           {
            "aaxis": {
             "endlinecolor": "#2a3f5f",
             "gridcolor": "white",
             "linecolor": "white",
             "minorgridcolor": "white",
             "startlinecolor": "#2a3f5f"
            },
            "baxis": {
             "endlinecolor": "#2a3f5f",
             "gridcolor": "white",
             "linecolor": "white",
             "minorgridcolor": "white",
             "startlinecolor": "#2a3f5f"
            },
            "type": "carpet"
           }
          ],
          "choropleth": [
           {
            "colorbar": {
             "outlinewidth": 0,
             "ticks": ""
            },
            "type": "choropleth"
           }
          ],
          "contour": [
           {
            "colorbar": {
             "outlinewidth": 0,
             "ticks": ""
            },
            "colorscale": [
             [
              0,
              "#0d0887"
             ],
             [
              0.1111111111111111,
              "#46039f"
             ],
             [
              0.2222222222222222,
              "#7201a8"
             ],
             [
              0.3333333333333333,
              "#9c179e"
             ],
             [
              0.4444444444444444,
              "#bd3786"
             ],
             [
              0.5555555555555556,
              "#d8576b"
             ],
             [
              0.6666666666666666,
              "#ed7953"
             ],
             [
              0.7777777777777778,
              "#fb9f3a"
             ],
             [
              0.8888888888888888,
              "#fdca26"
             ],
             [
              1,
              "#f0f921"
             ]
            ],
            "type": "contour"
           }
          ],
          "contourcarpet": [
           {
            "colorbar": {
             "outlinewidth": 0,
             "ticks": ""
            },
            "type": "contourcarpet"
           }
          ],
          "heatmap": [
           {
            "colorbar": {
             "outlinewidth": 0,
             "ticks": ""
            },
            "colorscale": [
             [
              0,
              "#0d0887"
             ],
             [
              0.1111111111111111,
              "#46039f"
             ],
             [
              0.2222222222222222,
              "#7201a8"
             ],
             [
              0.3333333333333333,
              "#9c179e"
             ],
             [
              0.4444444444444444,
              "#bd3786"
             ],
             [
              0.5555555555555556,
              "#d8576b"
             ],
             [
              0.6666666666666666,
              "#ed7953"
             ],
             [
              0.7777777777777778,
              "#fb9f3a"
             ],
             [
              0.8888888888888888,
              "#fdca26"
             ],
             [
              1,
              "#f0f921"
             ]
            ],
            "type": "heatmap"
           }
          ],
          "heatmapgl": [
           {
            "colorbar": {
             "outlinewidth": 0,
             "ticks": ""
            },
            "colorscale": [
             [
              0,
              "#0d0887"
             ],
             [
              0.1111111111111111,
              "#46039f"
             ],
             [
              0.2222222222222222,
              "#7201a8"
             ],
             [
              0.3333333333333333,
              "#9c179e"
             ],
             [
              0.4444444444444444,
              "#bd3786"
             ],
             [
              0.5555555555555556,
              "#d8576b"
             ],
             [
              0.6666666666666666,
              "#ed7953"
             ],
             [
              0.7777777777777778,
              "#fb9f3a"
             ],
             [
              0.8888888888888888,
              "#fdca26"
             ],
             [
              1,
              "#f0f921"
             ]
            ],
            "type": "heatmapgl"
           }
          ],
          "histogram": [
           {
            "marker": {
             "colorbar": {
              "outlinewidth": 0,
              "ticks": ""
             }
            },
            "type": "histogram"
           }
          ],
          "histogram2d": [
           {
            "colorbar": {
             "outlinewidth": 0,
             "ticks": ""
            },
            "colorscale": [
             [
              0,
              "#0d0887"
             ],
             [
              0.1111111111111111,
              "#46039f"
             ],
             [
              0.2222222222222222,
              "#7201a8"
             ],
             [
              0.3333333333333333,
              "#9c179e"
             ],
             [
              0.4444444444444444,
              "#bd3786"
             ],
             [
              0.5555555555555556,
              "#d8576b"
             ],
             [
              0.6666666666666666,
              "#ed7953"
             ],
             [
              0.7777777777777778,
              "#fb9f3a"
             ],
             [
              0.8888888888888888,
              "#fdca26"
             ],
             [
              1,
              "#f0f921"
             ]
            ],
            "type": "histogram2d"
           }
          ],
          "histogram2dcontour": [
           {
            "colorbar": {
             "outlinewidth": 0,
             "ticks": ""
            },
            "colorscale": [
             [
              0,
              "#0d0887"
             ],
             [
              0.1111111111111111,
              "#46039f"
             ],
             [
              0.2222222222222222,
              "#7201a8"
             ],
             [
              0.3333333333333333,
              "#9c179e"
             ],
             [
              0.4444444444444444,
              "#bd3786"
             ],
             [
              0.5555555555555556,
              "#d8576b"
             ],
             [
              0.6666666666666666,
              "#ed7953"
             ],
             [
              0.7777777777777778,
              "#fb9f3a"
             ],
             [
              0.8888888888888888,
              "#fdca26"
             ],
             [
              1,
              "#f0f921"
             ]
            ],
            "type": "histogram2dcontour"
           }
          ],
          "mesh3d": [
           {
            "colorbar": {
             "outlinewidth": 0,
             "ticks": ""
            },
            "type": "mesh3d"
           }
          ],
          "parcoords": [
           {
            "line": {
             "colorbar": {
              "outlinewidth": 0,
              "ticks": ""
             }
            },
            "type": "parcoords"
           }
          ],
          "pie": [
           {
            "automargin": true,
            "type": "pie"
           }
          ],
          "scatter": [
           {
            "marker": {
             "colorbar": {
              "outlinewidth": 0,
              "ticks": ""
             }
            },
            "type": "scatter"
           }
          ],
          "scatter3d": [
           {
            "line": {
             "colorbar": {
              "outlinewidth": 0,
              "ticks": ""
             }
            },
            "marker": {
             "colorbar": {
              "outlinewidth": 0,
              "ticks": ""
             }
            },
            "type": "scatter3d"
           }
          ],
          "scattercarpet": [
           {
            "marker": {
             "colorbar": {
              "outlinewidth": 0,
              "ticks": ""
             }
            },
            "type": "scattercarpet"
           }
          ],
          "scattergeo": [
           {
            "marker": {
             "colorbar": {
              "outlinewidth": 0,
              "ticks": ""
             }
            },
            "type": "scattergeo"
           }
          ],
          "scattergl": [
           {
            "marker": {
             "colorbar": {
              "outlinewidth": 0,
              "ticks": ""
             }
            },
            "type": "scattergl"
           }
          ],
          "scattermapbox": [
           {
            "marker": {
             "colorbar": {
              "outlinewidth": 0,
              "ticks": ""
             }
            },
            "type": "scattermapbox"
           }
          ],
          "scatterpolar": [
           {
            "marker": {
             "colorbar": {
              "outlinewidth": 0,
              "ticks": ""
             }
            },
            "type": "scatterpolar"
           }
          ],
          "scatterpolargl": [
           {
            "marker": {
             "colorbar": {
              "outlinewidth": 0,
              "ticks": ""
             }
            },
            "type": "scatterpolargl"
           }
          ],
          "scatterternary": [
           {
            "marker": {
             "colorbar": {
              "outlinewidth": 0,
              "ticks": ""
             }
            },
            "type": "scatterternary"
           }
          ],
          "surface": [
           {
            "colorbar": {
             "outlinewidth": 0,
             "ticks": ""
            },
            "colorscale": [
             [
              0,
              "#0d0887"
             ],
             [
              0.1111111111111111,
              "#46039f"
             ],
             [
              0.2222222222222222,
              "#7201a8"
             ],
             [
              0.3333333333333333,
              "#9c179e"
             ],
             [
              0.4444444444444444,
              "#bd3786"
             ],
             [
              0.5555555555555556,
              "#d8576b"
             ],
             [
              0.6666666666666666,
              "#ed7953"
             ],
             [
              0.7777777777777778,
              "#fb9f3a"
             ],
             [
              0.8888888888888888,
              "#fdca26"
             ],
             [
              1,
              "#f0f921"
             ]
            ],
            "type": "surface"
           }
          ],
          "table": [
           {
            "cells": {
             "fill": {
              "color": "#EBF0F8"
             },
             "line": {
              "color": "white"
             }
            },
            "header": {
             "fill": {
              "color": "#C8D4E3"
             },
             "line": {
              "color": "white"
             }
            },
            "type": "table"
           }
          ]
         },
         "layout": {
          "annotationdefaults": {
           "arrowcolor": "#2a3f5f",
           "arrowhead": 0,
           "arrowwidth": 1
          },
          "coloraxis": {
           "colorbar": {
            "outlinewidth": 0,
            "ticks": ""
           }
          },
          "colorscale": {
           "diverging": [
            [
             0,
             "#8e0152"
            ],
            [
             0.1,
             "#c51b7d"
            ],
            [
             0.2,
             "#de77ae"
            ],
            [
             0.3,
             "#f1b6da"
            ],
            [
             0.4,
             "#fde0ef"
            ],
            [
             0.5,
             "#f7f7f7"
            ],
            [
             0.6,
             "#e6f5d0"
            ],
            [
             0.7,
             "#b8e186"
            ],
            [
             0.8,
             "#7fbc41"
            ],
            [
             0.9,
             "#4d9221"
            ],
            [
             1,
             "#276419"
            ]
           ],
           "sequential": [
            [
             0,
             "#0d0887"
            ],
            [
             0.1111111111111111,
             "#46039f"
            ],
            [
             0.2222222222222222,
             "#7201a8"
            ],
            [
             0.3333333333333333,
             "#9c179e"
            ],
            [
             0.4444444444444444,
             "#bd3786"
            ],
            [
             0.5555555555555556,
             "#d8576b"
            ],
            [
             0.6666666666666666,
             "#ed7953"
            ],
            [
             0.7777777777777778,
             "#fb9f3a"
            ],
            [
             0.8888888888888888,
             "#fdca26"
            ],
            [
             1,
             "#f0f921"
            ]
           ],
           "sequentialminus": [
            [
             0,
             "#0d0887"
            ],
            [
             0.1111111111111111,
             "#46039f"
            ],
            [
             0.2222222222222222,
             "#7201a8"
            ],
            [
             0.3333333333333333,
             "#9c179e"
            ],
            [
             0.4444444444444444,
             "#bd3786"
            ],
            [
             0.5555555555555556,
             "#d8576b"
            ],
            [
             0.6666666666666666,
             "#ed7953"
            ],
            [
             0.7777777777777778,
             "#fb9f3a"
            ],
            [
             0.8888888888888888,
             "#fdca26"
            ],
            [
             1,
             "#f0f921"
            ]
           ]
          },
          "colorway": [
           "#636efa",
           "#EF553B",
           "#00cc96",
           "#ab63fa",
           "#FFA15A",
           "#19d3f3",
           "#FF6692",
           "#B6E880",
           "#FF97FF",
           "#FECB52"
          ],
          "font": {
           "color": "#2a3f5f"
          },
          "geo": {
           "bgcolor": "white",
           "lakecolor": "white",
           "landcolor": "#E5ECF6",
           "showlakes": true,
           "showland": true,
           "subunitcolor": "white"
          },
          "hoverlabel": {
           "align": "left"
          },
          "hovermode": "closest",
          "mapbox": {
           "style": "light"
          },
          "paper_bgcolor": "white",
          "plot_bgcolor": "#E5ECF6",
          "polar": {
           "angularaxis": {
            "gridcolor": "white",
            "linecolor": "white",
            "ticks": ""
           },
           "bgcolor": "#E5ECF6",
           "radialaxis": {
            "gridcolor": "white",
            "linecolor": "white",
            "ticks": ""
           }
          },
          "scene": {
           "xaxis": {
            "backgroundcolor": "#E5ECF6",
            "gridcolor": "white",
            "gridwidth": 2,
            "linecolor": "white",
            "showbackground": true,
            "ticks": "",
            "zerolinecolor": "white"
           },
           "yaxis": {
            "backgroundcolor": "#E5ECF6",
            "gridcolor": "white",
            "gridwidth": 2,
            "linecolor": "white",
            "showbackground": true,
            "ticks": "",
            "zerolinecolor": "white"
           },
           "zaxis": {
            "backgroundcolor": "#E5ECF6",
            "gridcolor": "white",
            "gridwidth": 2,
            "linecolor": "white",
            "showbackground": true,
            "ticks": "",
            "zerolinecolor": "white"
           }
          },
          "shapedefaults": {
           "line": {
            "color": "#2a3f5f"
           }
          },
          "ternary": {
           "aaxis": {
            "gridcolor": "white",
            "linecolor": "white",
            "ticks": ""
           },
           "baxis": {
            "gridcolor": "white",
            "linecolor": "white",
            "ticks": ""
           },
           "bgcolor": "#E5ECF6",
           "caxis": {
            "gridcolor": "white",
            "linecolor": "white",
            "ticks": ""
           }
          },
          "title": {
           "x": 0.05
          },
          "xaxis": {
           "automargin": true,
           "gridcolor": "white",
           "linecolor": "white",
           "ticks": "",
           "title": {
            "standoff": 15
           },
           "zerolinecolor": "white",
           "zerolinewidth": 2
          },
          "yaxis": {
           "automargin": true,
           "gridcolor": "white",
           "linecolor": "white",
           "ticks": "",
           "title": {
            "standoff": 15
           },
           "zerolinecolor": "white",
           "zerolinewidth": 2
          }
         }
        },
        "title": {
         "text": "Number of Sport"
        },
        "xaxis": {
         "title": {
          "text": "Year"
         }
        },
        "yaxis": {
         "title": {
          "text": "Number of Sport"
         }
        }
       }
      },
      "text/html": [
       "<div>                            <div id=\"2fe69838-189f-4ef0-91ef-05c64fed68ce\" class=\"plotly-graph-div\" style=\"height:525px; width:100%;\"></div>            <script type=\"text/javascript\">                require([\"plotly\"], function(Plotly) {                    window.PLOTLYENV=window.PLOTLYENV || {};                                    if (document.getElementById(\"2fe69838-189f-4ef0-91ef-05c64fed68ce\")) {                    Plotly.newPlot(                        \"2fe69838-189f-4ef0-91ef-05c64fed68ce\",                        [{\"name\": \"Summer \", \"type\": \"bar\", \"x\": [1896, 1900, 1904, 1906, 1908, 1912, 1920, 1924, 1928, 1932, 1936, 1948, 1952, 1956, 1960, 1964, 1968, 1972, 1976, 1980, 1984, 1988, 1992, 1996, 2000, 2004, 2008, 2012, 2016], \"y\": [9, 20, 18, 13, 24, 17, 25, 20, 17, 18, 24, 20, 19, 19, 19, 21, 20, 23, 23, 23, 25, 27, 29, 31, 34, 34, 34, 32, 34]}, {\"name\": \"Winter\", \"type\": \"bar\", \"x\": [1924, 1928, 1932, 1936, 1948, 1952, 1956, 1960, 1964, 1968, 1972, 1976, 1980, 1984, 1988, 1992, 1994, 1998, 2002, 2006, 2010, 2014], \"y\": [10, 8, 7, 8, 9, 8, 8, 8, 10, 10, 10, 10, 10, 10, 10, 12, 12, 14, 15, 15, 15, 15]}],                        {\"template\": {\"data\": {\"bar\": [{\"error_x\": {\"color\": \"#2a3f5f\"}, \"error_y\": {\"color\": \"#2a3f5f\"}, \"marker\": {\"line\": {\"color\": \"#E5ECF6\", \"width\": 0.5}}, \"type\": \"bar\"}], \"barpolar\": [{\"marker\": {\"line\": {\"color\": \"#E5ECF6\", \"width\": 0.5}}, \"type\": \"barpolar\"}], \"carpet\": [{\"aaxis\": {\"endlinecolor\": \"#2a3f5f\", \"gridcolor\": \"white\", \"linecolor\": \"white\", \"minorgridcolor\": \"white\", \"startlinecolor\": \"#2a3f5f\"}, \"baxis\": {\"endlinecolor\": \"#2a3f5f\", \"gridcolor\": \"white\", \"linecolor\": \"white\", \"minorgridcolor\": \"white\", \"startlinecolor\": \"#2a3f5f\"}, \"type\": \"carpet\"}], \"choropleth\": [{\"colorbar\": {\"outlinewidth\": 0, \"ticks\": \"\"}, \"type\": \"choropleth\"}], \"contour\": [{\"colorbar\": {\"outlinewidth\": 0, \"ticks\": \"\"}, \"colorscale\": [[0.0, \"#0d0887\"], [0.1111111111111111, \"#46039f\"], [0.2222222222222222, \"#7201a8\"], [0.3333333333333333, \"#9c179e\"], [0.4444444444444444, \"#bd3786\"], [0.5555555555555556, \"#d8576b\"], [0.6666666666666666, \"#ed7953\"], [0.7777777777777778, \"#fb9f3a\"], [0.8888888888888888, \"#fdca26\"], [1.0, \"#f0f921\"]], \"type\": \"contour\"}], \"contourcarpet\": [{\"colorbar\": {\"outlinewidth\": 0, \"ticks\": \"\"}, \"type\": \"contourcarpet\"}], \"heatmap\": [{\"colorbar\": {\"outlinewidth\": 0, \"ticks\": \"\"}, \"colorscale\": [[0.0, \"#0d0887\"], [0.1111111111111111, \"#46039f\"], [0.2222222222222222, \"#7201a8\"], [0.3333333333333333, \"#9c179e\"], [0.4444444444444444, \"#bd3786\"], [0.5555555555555556, \"#d8576b\"], [0.6666666666666666, \"#ed7953\"], [0.7777777777777778, \"#fb9f3a\"], [0.8888888888888888, \"#fdca26\"], [1.0, \"#f0f921\"]], \"type\": \"heatmap\"}], \"heatmapgl\": [{\"colorbar\": {\"outlinewidth\": 0, \"ticks\": \"\"}, \"colorscale\": [[0.0, \"#0d0887\"], [0.1111111111111111, \"#46039f\"], [0.2222222222222222, \"#7201a8\"], [0.3333333333333333, \"#9c179e\"], [0.4444444444444444, \"#bd3786\"], [0.5555555555555556, \"#d8576b\"], [0.6666666666666666, \"#ed7953\"], [0.7777777777777778, \"#fb9f3a\"], [0.8888888888888888, \"#fdca26\"], [1.0, \"#f0f921\"]], \"type\": \"heatmapgl\"}], \"histogram\": [{\"marker\": {\"colorbar\": {\"outlinewidth\": 0, \"ticks\": \"\"}}, \"type\": \"histogram\"}], \"histogram2d\": [{\"colorbar\": {\"outlinewidth\": 0, \"ticks\": \"\"}, \"colorscale\": [[0.0, \"#0d0887\"], [0.1111111111111111, \"#46039f\"], [0.2222222222222222, \"#7201a8\"], [0.3333333333333333, \"#9c179e\"], [0.4444444444444444, \"#bd3786\"], [0.5555555555555556, \"#d8576b\"], [0.6666666666666666, \"#ed7953\"], [0.7777777777777778, \"#fb9f3a\"], [0.8888888888888888, \"#fdca26\"], [1.0, \"#f0f921\"]], \"type\": \"histogram2d\"}], \"histogram2dcontour\": [{\"colorbar\": {\"outlinewidth\": 0, \"ticks\": \"\"}, \"colorscale\": [[0.0, \"#0d0887\"], [0.1111111111111111, \"#46039f\"], [0.2222222222222222, \"#7201a8\"], [0.3333333333333333, \"#9c179e\"], [0.4444444444444444, \"#bd3786\"], [0.5555555555555556, \"#d8576b\"], [0.6666666666666666, \"#ed7953\"], [0.7777777777777778, \"#fb9f3a\"], [0.8888888888888888, \"#fdca26\"], [1.0, \"#f0f921\"]], \"type\": \"histogram2dcontour\"}], \"mesh3d\": [{\"colorbar\": {\"outlinewidth\": 0, \"ticks\": \"\"}, \"type\": \"mesh3d\"}], \"parcoords\": [{\"line\": {\"colorbar\": {\"outlinewidth\": 0, \"ticks\": \"\"}}, \"type\": \"parcoords\"}], \"pie\": [{\"automargin\": true, \"type\": \"pie\"}], \"scatter\": [{\"marker\": {\"colorbar\": {\"outlinewidth\": 0, \"ticks\": \"\"}}, \"type\": \"scatter\"}], \"scatter3d\": [{\"line\": {\"colorbar\": {\"outlinewidth\": 0, \"ticks\": \"\"}}, \"marker\": {\"colorbar\": {\"outlinewidth\": 0, \"ticks\": \"\"}}, \"type\": \"scatter3d\"}], \"scattercarpet\": [{\"marker\": {\"colorbar\": {\"outlinewidth\": 0, \"ticks\": \"\"}}, \"type\": \"scattercarpet\"}], \"scattergeo\": [{\"marker\": {\"colorbar\": {\"outlinewidth\": 0, \"ticks\": \"\"}}, \"type\": \"scattergeo\"}], \"scattergl\": [{\"marker\": {\"colorbar\": {\"outlinewidth\": 0, \"ticks\": \"\"}}, \"type\": \"scattergl\"}], \"scattermapbox\": [{\"marker\": {\"colorbar\": {\"outlinewidth\": 0, \"ticks\": \"\"}}, \"type\": \"scattermapbox\"}], \"scatterpolar\": [{\"marker\": {\"colorbar\": {\"outlinewidth\": 0, \"ticks\": \"\"}}, \"type\": \"scatterpolar\"}], \"scatterpolargl\": [{\"marker\": {\"colorbar\": {\"outlinewidth\": 0, \"ticks\": \"\"}}, \"type\": \"scatterpolargl\"}], \"scatterternary\": [{\"marker\": {\"colorbar\": {\"outlinewidth\": 0, \"ticks\": \"\"}}, \"type\": \"scatterternary\"}], \"surface\": [{\"colorbar\": {\"outlinewidth\": 0, \"ticks\": \"\"}, \"colorscale\": [[0.0, \"#0d0887\"], [0.1111111111111111, \"#46039f\"], [0.2222222222222222, \"#7201a8\"], [0.3333333333333333, \"#9c179e\"], [0.4444444444444444, \"#bd3786\"], [0.5555555555555556, \"#d8576b\"], [0.6666666666666666, \"#ed7953\"], [0.7777777777777778, \"#fb9f3a\"], [0.8888888888888888, \"#fdca26\"], [1.0, \"#f0f921\"]], \"type\": \"surface\"}], \"table\": [{\"cells\": {\"fill\": {\"color\": \"#EBF0F8\"}, \"line\": {\"color\": \"white\"}}, \"header\": {\"fill\": {\"color\": \"#C8D4E3\"}, \"line\": {\"color\": \"white\"}}, \"type\": \"table\"}]}, \"layout\": {\"annotationdefaults\": {\"arrowcolor\": \"#2a3f5f\", \"arrowhead\": 0, \"arrowwidth\": 1}, \"coloraxis\": {\"colorbar\": {\"outlinewidth\": 0, \"ticks\": \"\"}}, \"colorscale\": {\"diverging\": [[0, \"#8e0152\"], [0.1, \"#c51b7d\"], [0.2, \"#de77ae\"], [0.3, \"#f1b6da\"], [0.4, \"#fde0ef\"], [0.5, \"#f7f7f7\"], [0.6, \"#e6f5d0\"], [0.7, \"#b8e186\"], [0.8, \"#7fbc41\"], [0.9, \"#4d9221\"], [1, \"#276419\"]], \"sequential\": [[0.0, \"#0d0887\"], [0.1111111111111111, \"#46039f\"], [0.2222222222222222, \"#7201a8\"], [0.3333333333333333, \"#9c179e\"], [0.4444444444444444, \"#bd3786\"], [0.5555555555555556, \"#d8576b\"], [0.6666666666666666, \"#ed7953\"], [0.7777777777777778, \"#fb9f3a\"], [0.8888888888888888, \"#fdca26\"], [1.0, \"#f0f921\"]], \"sequentialminus\": [[0.0, \"#0d0887\"], [0.1111111111111111, \"#46039f\"], [0.2222222222222222, \"#7201a8\"], [0.3333333333333333, \"#9c179e\"], [0.4444444444444444, \"#bd3786\"], [0.5555555555555556, \"#d8576b\"], [0.6666666666666666, \"#ed7953\"], [0.7777777777777778, \"#fb9f3a\"], [0.8888888888888888, \"#fdca26\"], [1.0, \"#f0f921\"]]}, \"colorway\": [\"#636efa\", \"#EF553B\", \"#00cc96\", \"#ab63fa\", \"#FFA15A\", \"#19d3f3\", \"#FF6692\", \"#B6E880\", \"#FF97FF\", \"#FECB52\"], \"font\": {\"color\": \"#2a3f5f\"}, \"geo\": {\"bgcolor\": \"white\", \"lakecolor\": \"white\", \"landcolor\": \"#E5ECF6\", \"showlakes\": true, \"showland\": true, \"subunitcolor\": \"white\"}, \"hoverlabel\": {\"align\": \"left\"}, \"hovermode\": \"closest\", \"mapbox\": {\"style\": \"light\"}, \"paper_bgcolor\": \"white\", \"plot_bgcolor\": \"#E5ECF6\", \"polar\": {\"angularaxis\": {\"gridcolor\": \"white\", \"linecolor\": \"white\", \"ticks\": \"\"}, \"bgcolor\": \"#E5ECF6\", \"radialaxis\": {\"gridcolor\": \"white\", \"linecolor\": \"white\", \"ticks\": \"\"}}, \"scene\": {\"xaxis\": {\"backgroundcolor\": \"#E5ECF6\", \"gridcolor\": \"white\", \"gridwidth\": 2, \"linecolor\": \"white\", \"showbackground\": true, \"ticks\": \"\", \"zerolinecolor\": \"white\"}, \"yaxis\": {\"backgroundcolor\": \"#E5ECF6\", \"gridcolor\": \"white\", \"gridwidth\": 2, \"linecolor\": \"white\", \"showbackground\": true, \"ticks\": \"\", \"zerolinecolor\": \"white\"}, \"zaxis\": {\"backgroundcolor\": \"#E5ECF6\", \"gridcolor\": \"white\", \"gridwidth\": 2, \"linecolor\": \"white\", \"showbackground\": true, \"ticks\": \"\", \"zerolinecolor\": \"white\"}}, \"shapedefaults\": {\"line\": {\"color\": \"#2a3f5f\"}}, \"ternary\": {\"aaxis\": {\"gridcolor\": \"white\", \"linecolor\": \"white\", \"ticks\": \"\"}, \"baxis\": {\"gridcolor\": \"white\", \"linecolor\": \"white\", \"ticks\": \"\"}, \"bgcolor\": \"#E5ECF6\", \"caxis\": {\"gridcolor\": \"white\", \"linecolor\": \"white\", \"ticks\": \"\"}}, \"title\": {\"x\": 0.05}, \"xaxis\": {\"automargin\": true, \"gridcolor\": \"white\", \"linecolor\": \"white\", \"ticks\": \"\", \"title\": {\"standoff\": 15}, \"zerolinecolor\": \"white\", \"zerolinewidth\": 2}, \"yaxis\": {\"automargin\": true, \"gridcolor\": \"white\", \"linecolor\": \"white\", \"ticks\": \"\", \"title\": {\"standoff\": 15}, \"zerolinecolor\": \"white\", \"zerolinewidth\": 2}}}, \"title\": {\"text\": \"Number of Sport\"}, \"xaxis\": {\"title\": {\"text\": \"Year\"}}, \"yaxis\": {\"title\": {\"text\": \"Number of Sport\"}}},                        {\"responsive\": true}                    ).then(function(){\n",
       "                            \n",
       "var gd = document.getElementById('2fe69838-189f-4ef0-91ef-05c64fed68ce');\n",
       "var x = new MutationObserver(function (mutations, observer) {{\n",
       "        var display = window.getComputedStyle(gd).display;\n",
       "        if (!display || display === 'none') {{\n",
       "            console.log([gd, 'removed!']);\n",
       "            Plotly.purge(gd);\n",
       "            observer.disconnect();\n",
       "        }}\n",
       "}});\n",
       "\n",
       "// Listen for the removal of the full notebook cells\n",
       "var notebookContainer = gd.closest('#notebook-container');\n",
       "if (notebookContainer) {{\n",
       "    x.observe(notebookContainer, {childList: true});\n",
       "}}\n",
       "\n",
       "// Listen for the clearing of the current output cell\n",
       "var outputEl = gd.closest('.output');\n",
       "if (outputEl) {{\n",
       "    x.observe(outputEl, {childList: true});\n",
       "}}\n",
       "\n",
       "                        })                };                });            </script>        </div>"
      ]
     },
     "metadata": {},
     "output_type": "display_data"
    }
   ],
   "source": [
    "fig  =  go.Figure()\n",
    "fig.add_trace(go.Bar(x=data_sport_summer['Year'], y = data_sport_summer['Sports'], name='Summer '))\n",
    "fig.add_trace(go.Bar(x=data_sport_winter['Year'], y = data_sport_winter['Sports'], name='Winter'))\n",
    "fig.update_layout(dict(title='Number of Sport', xaxis=dict(title='Year'), yaxis=dict(title='Number of Sport')))\n",
    "fig.show()"
   ]
  },
  {
   "cell_type": "code",
   "execution_count": 41,
   "metadata": {
    "ExecuteTime": {
     "end_time": "2020-12-08T16:36:29.328903Z",
     "start_time": "2020-12-08T16:36:29.295913Z"
    }
   },
   "outputs": [
    {
     "data": {
      "text/plain": [
       "34"
      ]
     },
     "execution_count": 41,
     "metadata": {},
     "output_type": "execute_result"
    }
   ],
   "source": [
    "data[data['Year']==2016]['Sport'].nunique()"
   ]
  },
  {
   "cell_type": "markdown",
   "metadata": {},
   "source": [
    "### Average Age of Athletes"
   ]
  },
  {
   "cell_type": "code",
   "execution_count": 42,
   "metadata": {
    "ExecuteTime": {
     "end_time": "2020-12-08T16:36:32.624958Z",
     "start_time": "2020-12-08T16:36:32.550966Z"
    }
   },
   "outputs": [],
   "source": [
    "data_average_age = data.pivot_table(index='Year',columns='Season', values='Age')"
   ]
  },
  {
   "cell_type": "code",
   "execution_count": 43,
   "metadata": {
    "ExecuteTime": {
     "end_time": "2020-12-08T16:36:33.194019Z",
     "start_time": "2020-12-08T16:36:33.183015Z"
    }
   },
   "outputs": [],
   "source": [
    "data_average_age.reset_index(inplace=True)"
   ]
  },
  {
   "cell_type": "code",
   "execution_count": 44,
   "metadata": {
    "ExecuteTime": {
     "end_time": "2020-12-08T16:36:33.825993Z",
     "start_time": "2020-12-08T16:36:33.808990Z"
    }
   },
   "outputs": [
    {
     "data": {
      "text/html": [
       "<div>\n",
       "<style scoped>\n",
       "    .dataframe tbody tr th:only-of-type {\n",
       "        vertical-align: middle;\n",
       "    }\n",
       "\n",
       "    .dataframe tbody tr th {\n",
       "        vertical-align: top;\n",
       "    }\n",
       "\n",
       "    .dataframe thead th {\n",
       "        text-align: right;\n",
       "    }\n",
       "</style>\n",
       "<table border=\"1\" class=\"dataframe\">\n",
       "  <thead>\n",
       "    <tr style=\"text-align: right;\">\n",
       "      <th>Season</th>\n",
       "      <th>Year</th>\n",
       "      <th>Summer</th>\n",
       "      <th>Winter</th>\n",
       "    </tr>\n",
       "  </thead>\n",
       "  <tbody>\n",
       "    <tr>\n",
       "      <th>0</th>\n",
       "      <td>1896</td>\n",
       "      <td>23.580645</td>\n",
       "      <td>NaN</td>\n",
       "    </tr>\n",
       "    <tr>\n",
       "      <th>1</th>\n",
       "      <td>1900</td>\n",
       "      <td>29.034031</td>\n",
       "      <td>NaN</td>\n",
       "    </tr>\n",
       "    <tr>\n",
       "      <th>2</th>\n",
       "      <td>1904</td>\n",
       "      <td>26.698150</td>\n",
       "      <td>NaN</td>\n",
       "    </tr>\n",
       "    <tr>\n",
       "      <th>3</th>\n",
       "      <td>1906</td>\n",
       "      <td>27.125253</td>\n",
       "      <td>NaN</td>\n",
       "    </tr>\n",
       "    <tr>\n",
       "      <th>4</th>\n",
       "      <td>1908</td>\n",
       "      <td>26.970228</td>\n",
       "      <td>NaN</td>\n",
       "    </tr>\n",
       "  </tbody>\n",
       "</table>\n",
       "</div>"
      ],
      "text/plain": [
       "Season  Year     Summer  Winter\n",
       "0       1896  23.580645     NaN\n",
       "1       1900  29.034031     NaN\n",
       "2       1904  26.698150     NaN\n",
       "3       1906  27.125253     NaN\n",
       "4       1908  26.970228     NaN"
      ]
     },
     "execution_count": 44,
     "metadata": {},
     "output_type": "execute_result"
    }
   ],
   "source": [
    "data_average_age.head()"
   ]
  },
  {
   "cell_type": "code",
   "execution_count": 45,
   "metadata": {
    "ExecuteTime": {
     "end_time": "2020-12-08T16:36:34.536806Z",
     "start_time": "2020-12-08T16:36:34.489814Z"
    }
   },
   "outputs": [
    {
     "data": {
      "application/vnd.plotly.v1+json": {
       "config": {
        "plotlyServerURL": "https://plot.ly"
       },
       "data": [
        {
         "name": "Summer ",
         "type": "bar",
         "x": [
          1896,
          1900,
          1904,
          1906,
          1908,
          1912,
          1920,
          1924,
          1928,
          1932,
          1936,
          1948,
          1952,
          1956,
          1960,
          1964,
          1968,
          1972,
          1976,
          1980,
          1984,
          1988,
          1992,
          1994,
          1996,
          1998,
          2000,
          2002,
          2004,
          2006,
          2008,
          2010,
          2012,
          2014,
          2016
         ],
         "y": [
          23.580645161290324,
          29.034031413612567,
          26.69814995131451,
          27.125252525252524,
          26.970228384991845,
          27.53861997940268,
          29.290977661734843,
          28.44937319189971,
          29.414906530711338,
          33.45154019534185,
          27.878331218274113,
          29.304796483852474,
          26.258851495058178,
          26.033673017279575,
          25.298760435112573,
          25.065282673978327,
          24.25515372835434,
          24.34110273234747,
          23.863837209302325,
          23.70435403283369,
          24.002811114715104,
          24.132176682591567,
          24.39616514612649,
          null,
          24.915045018878885,
          null,
          25.422503617945008,
          null,
          25.639514989213716,
          null,
          25.734117647058824,
          null,
          25.96137770897833,
          null,
          26.20791934541204
         ]
        },
        {
         "name": "Winter ",
         "type": "bar",
         "x": [
          1896,
          1900,
          1904,
          1906,
          1908,
          1912,
          1920,
          1924,
          1928,
          1932,
          1936,
          1948,
          1952,
          1956,
          1960,
          1964,
          1968,
          1972,
          1976,
          1980,
          1984,
          1988,
          1992,
          1994,
          1996,
          1998,
          2000,
          2002,
          2004,
          2006,
          2008,
          2010,
          2012,
          2014,
          2016
         ],
         "y": [
          null,
          null,
          null,
          null,
          null,
          null,
          null,
          27.590570719602976,
          26.58130081300813,
          25.54711246200608,
          25.04864253393665,
          26.239028944911297,
          25.446691176470587,
          25.549921996879874,
          24.24187725631769,
          24.41983002832861,
          24.215811965811966,
          24.10774818401937,
          23.73945945945946,
          23.65616045845272,
          23.443240697126708,
          23.840607210626185,
          24.027947598253274,
          24.422102596580114,
          null,
          25.163197335553704,
          null,
          25.916281333657825,
          null,
          25.959151072569604,
          null,
          26.124261699227624,
          null,
          25.987323655694134,
          null
         ]
        }
       ],
       "layout": {
        "template": {
         "data": {
          "bar": [
           {
            "error_x": {
             "color": "#2a3f5f"
            },
            "error_y": {
             "color": "#2a3f5f"
            },
            "marker": {
             "line": {
              "color": "#E5ECF6",
              "width": 0.5
             }
            },
            "type": "bar"
           }
          ],
          "barpolar": [
           {
            "marker": {
             "line": {
              "color": "#E5ECF6",
              "width": 0.5
             }
            },
            "type": "barpolar"
           }
          ],
          "carpet": [
           {
            "aaxis": {
             "endlinecolor": "#2a3f5f",
             "gridcolor": "white",
             "linecolor": "white",
             "minorgridcolor": "white",
             "startlinecolor": "#2a3f5f"
            },
            "baxis": {
             "endlinecolor": "#2a3f5f",
             "gridcolor": "white",
             "linecolor": "white",
             "minorgridcolor": "white",
             "startlinecolor": "#2a3f5f"
            },
            "type": "carpet"
           }
          ],
          "choropleth": [
           {
            "colorbar": {
             "outlinewidth": 0,
             "ticks": ""
            },
            "type": "choropleth"
           }
          ],
          "contour": [
           {
            "colorbar": {
             "outlinewidth": 0,
             "ticks": ""
            },
            "colorscale": [
             [
              0,
              "#0d0887"
             ],
             [
              0.1111111111111111,
              "#46039f"
             ],
             [
              0.2222222222222222,
              "#7201a8"
             ],
             [
              0.3333333333333333,
              "#9c179e"
             ],
             [
              0.4444444444444444,
              "#bd3786"
             ],
             [
              0.5555555555555556,
              "#d8576b"
             ],
             [
              0.6666666666666666,
              "#ed7953"
             ],
             [
              0.7777777777777778,
              "#fb9f3a"
             ],
             [
              0.8888888888888888,
              "#fdca26"
             ],
             [
              1,
              "#f0f921"
             ]
            ],
            "type": "contour"
           }
          ],
          "contourcarpet": [
           {
            "colorbar": {
             "outlinewidth": 0,
             "ticks": ""
            },
            "type": "contourcarpet"
           }
          ],
          "heatmap": [
           {
            "colorbar": {
             "outlinewidth": 0,
             "ticks": ""
            },
            "colorscale": [
             [
              0,
              "#0d0887"
             ],
             [
              0.1111111111111111,
              "#46039f"
             ],
             [
              0.2222222222222222,
              "#7201a8"
             ],
             [
              0.3333333333333333,
              "#9c179e"
             ],
             [
              0.4444444444444444,
              "#bd3786"
             ],
             [
              0.5555555555555556,
              "#d8576b"
             ],
             [
              0.6666666666666666,
              "#ed7953"
             ],
             [
              0.7777777777777778,
              "#fb9f3a"
             ],
             [
              0.8888888888888888,
              "#fdca26"
             ],
             [
              1,
              "#f0f921"
             ]
            ],
            "type": "heatmap"
           }
          ],
          "heatmapgl": [
           {
            "colorbar": {
             "outlinewidth": 0,
             "ticks": ""
            },
            "colorscale": [
             [
              0,
              "#0d0887"
             ],
             [
              0.1111111111111111,
              "#46039f"
             ],
             [
              0.2222222222222222,
              "#7201a8"
             ],
             [
              0.3333333333333333,
              "#9c179e"
             ],
             [
              0.4444444444444444,
              "#bd3786"
             ],
             [
              0.5555555555555556,
              "#d8576b"
             ],
             [
              0.6666666666666666,
              "#ed7953"
             ],
             [
              0.7777777777777778,
              "#fb9f3a"
             ],
             [
              0.8888888888888888,
              "#fdca26"
             ],
             [
              1,
              "#f0f921"
             ]
            ],
            "type": "heatmapgl"
           }
          ],
          "histogram": [
           {
            "marker": {
             "colorbar": {
              "outlinewidth": 0,
              "ticks": ""
             }
            },
            "type": "histogram"
           }
          ],
          "histogram2d": [
           {
            "colorbar": {
             "outlinewidth": 0,
             "ticks": ""
            },
            "colorscale": [
             [
              0,
              "#0d0887"
             ],
             [
              0.1111111111111111,
              "#46039f"
             ],
             [
              0.2222222222222222,
              "#7201a8"
             ],
             [
              0.3333333333333333,
              "#9c179e"
             ],
             [
              0.4444444444444444,
              "#bd3786"
             ],
             [
              0.5555555555555556,
              "#d8576b"
             ],
             [
              0.6666666666666666,
              "#ed7953"
             ],
             [
              0.7777777777777778,
              "#fb9f3a"
             ],
             [
              0.8888888888888888,
              "#fdca26"
             ],
             [
              1,
              "#f0f921"
             ]
            ],
            "type": "histogram2d"
           }
          ],
          "histogram2dcontour": [
           {
            "colorbar": {
             "outlinewidth": 0,
             "ticks": ""
            },
            "colorscale": [
             [
              0,
              "#0d0887"
             ],
             [
              0.1111111111111111,
              "#46039f"
             ],
             [
              0.2222222222222222,
              "#7201a8"
             ],
             [
              0.3333333333333333,
              "#9c179e"
             ],
             [
              0.4444444444444444,
              "#bd3786"
             ],
             [
              0.5555555555555556,
              "#d8576b"
             ],
             [
              0.6666666666666666,
              "#ed7953"
             ],
             [
              0.7777777777777778,
              "#fb9f3a"
             ],
             [
              0.8888888888888888,
              "#fdca26"
             ],
             [
              1,
              "#f0f921"
             ]
            ],
            "type": "histogram2dcontour"
           }
          ],
          "mesh3d": [
           {
            "colorbar": {
             "outlinewidth": 0,
             "ticks": ""
            },
            "type": "mesh3d"
           }
          ],
          "parcoords": [
           {
            "line": {
             "colorbar": {
              "outlinewidth": 0,
              "ticks": ""
             }
            },
            "type": "parcoords"
           }
          ],
          "pie": [
           {
            "automargin": true,
            "type": "pie"
           }
          ],
          "scatter": [
           {
            "marker": {
             "colorbar": {
              "outlinewidth": 0,
              "ticks": ""
             }
            },
            "type": "scatter"
           }
          ],
          "scatter3d": [
           {
            "line": {
             "colorbar": {
              "outlinewidth": 0,
              "ticks": ""
             }
            },
            "marker": {
             "colorbar": {
              "outlinewidth": 0,
              "ticks": ""
             }
            },
            "type": "scatter3d"
           }
          ],
          "scattercarpet": [
           {
            "marker": {
             "colorbar": {
              "outlinewidth": 0,
              "ticks": ""
             }
            },
            "type": "scattercarpet"
           }
          ],
          "scattergeo": [
           {
            "marker": {
             "colorbar": {
              "outlinewidth": 0,
              "ticks": ""
             }
            },
            "type": "scattergeo"
           }
          ],
          "scattergl": [
           {
            "marker": {
             "colorbar": {
              "outlinewidth": 0,
              "ticks": ""
             }
            },
            "type": "scattergl"
           }
          ],
          "scattermapbox": [
           {
            "marker": {
             "colorbar": {
              "outlinewidth": 0,
              "ticks": ""
             }
            },
            "type": "scattermapbox"
           }
          ],
          "scatterpolar": [
           {
            "marker": {
             "colorbar": {
              "outlinewidth": 0,
              "ticks": ""
             }
            },
            "type": "scatterpolar"
           }
          ],
          "scatterpolargl": [
           {
            "marker": {
             "colorbar": {
              "outlinewidth": 0,
              "ticks": ""
             }
            },
            "type": "scatterpolargl"
           }
          ],
          "scatterternary": [
           {
            "marker": {
             "colorbar": {
              "outlinewidth": 0,
              "ticks": ""
             }
            },
            "type": "scatterternary"
           }
          ],
          "surface": [
           {
            "colorbar": {
             "outlinewidth": 0,
             "ticks": ""
            },
            "colorscale": [
             [
              0,
              "#0d0887"
             ],
             [
              0.1111111111111111,
              "#46039f"
             ],
             [
              0.2222222222222222,
              "#7201a8"
             ],
             [
              0.3333333333333333,
              "#9c179e"
             ],
             [
              0.4444444444444444,
              "#bd3786"
             ],
             [
              0.5555555555555556,
              "#d8576b"
             ],
             [
              0.6666666666666666,
              "#ed7953"
             ],
             [
              0.7777777777777778,
              "#fb9f3a"
             ],
             [
              0.8888888888888888,
              "#fdca26"
             ],
             [
              1,
              "#f0f921"
             ]
            ],
            "type": "surface"
           }
          ],
          "table": [
           {
            "cells": {
             "fill": {
              "color": "#EBF0F8"
             },
             "line": {
              "color": "white"
             }
            },
            "header": {
             "fill": {
              "color": "#C8D4E3"
             },
             "line": {
              "color": "white"
             }
            },
            "type": "table"
           }
          ]
         },
         "layout": {
          "annotationdefaults": {
           "arrowcolor": "#2a3f5f",
           "arrowhead": 0,
           "arrowwidth": 1
          },
          "coloraxis": {
           "colorbar": {
            "outlinewidth": 0,
            "ticks": ""
           }
          },
          "colorscale": {
           "diverging": [
            [
             0,
             "#8e0152"
            ],
            [
             0.1,
             "#c51b7d"
            ],
            [
             0.2,
             "#de77ae"
            ],
            [
             0.3,
             "#f1b6da"
            ],
            [
             0.4,
             "#fde0ef"
            ],
            [
             0.5,
             "#f7f7f7"
            ],
            [
             0.6,
             "#e6f5d0"
            ],
            [
             0.7,
             "#b8e186"
            ],
            [
             0.8,
             "#7fbc41"
            ],
            [
             0.9,
             "#4d9221"
            ],
            [
             1,
             "#276419"
            ]
           ],
           "sequential": [
            [
             0,
             "#0d0887"
            ],
            [
             0.1111111111111111,
             "#46039f"
            ],
            [
             0.2222222222222222,
             "#7201a8"
            ],
            [
             0.3333333333333333,
             "#9c179e"
            ],
            [
             0.4444444444444444,
             "#bd3786"
            ],
            [
             0.5555555555555556,
             "#d8576b"
            ],
            [
             0.6666666666666666,
             "#ed7953"
            ],
            [
             0.7777777777777778,
             "#fb9f3a"
            ],
            [
             0.8888888888888888,
             "#fdca26"
            ],
            [
             1,
             "#f0f921"
            ]
           ],
           "sequentialminus": [
            [
             0,
             "#0d0887"
            ],
            [
             0.1111111111111111,
             "#46039f"
            ],
            [
             0.2222222222222222,
             "#7201a8"
            ],
            [
             0.3333333333333333,
             "#9c179e"
            ],
            [
             0.4444444444444444,
             "#bd3786"
            ],
            [
             0.5555555555555556,
             "#d8576b"
            ],
            [
             0.6666666666666666,
             "#ed7953"
            ],
            [
             0.7777777777777778,
             "#fb9f3a"
            ],
            [
             0.8888888888888888,
             "#fdca26"
            ],
            [
             1,
             "#f0f921"
            ]
           ]
          },
          "colorway": [
           "#636efa",
           "#EF553B",
           "#00cc96",
           "#ab63fa",
           "#FFA15A",
           "#19d3f3",
           "#FF6692",
           "#B6E880",
           "#FF97FF",
           "#FECB52"
          ],
          "font": {
           "color": "#2a3f5f"
          },
          "geo": {
           "bgcolor": "white",
           "lakecolor": "white",
           "landcolor": "#E5ECF6",
           "showlakes": true,
           "showland": true,
           "subunitcolor": "white"
          },
          "hoverlabel": {
           "align": "left"
          },
          "hovermode": "closest",
          "mapbox": {
           "style": "light"
          },
          "paper_bgcolor": "white",
          "plot_bgcolor": "#E5ECF6",
          "polar": {
           "angularaxis": {
            "gridcolor": "white",
            "linecolor": "white",
            "ticks": ""
           },
           "bgcolor": "#E5ECF6",
           "radialaxis": {
            "gridcolor": "white",
            "linecolor": "white",
            "ticks": ""
           }
          },
          "scene": {
           "xaxis": {
            "backgroundcolor": "#E5ECF6",
            "gridcolor": "white",
            "gridwidth": 2,
            "linecolor": "white",
            "showbackground": true,
            "ticks": "",
            "zerolinecolor": "white"
           },
           "yaxis": {
            "backgroundcolor": "#E5ECF6",
            "gridcolor": "white",
            "gridwidth": 2,
            "linecolor": "white",
            "showbackground": true,
            "ticks": "",
            "zerolinecolor": "white"
           },
           "zaxis": {
            "backgroundcolor": "#E5ECF6",
            "gridcolor": "white",
            "gridwidth": 2,
            "linecolor": "white",
            "showbackground": true,
            "ticks": "",
            "zerolinecolor": "white"
           }
          },
          "shapedefaults": {
           "line": {
            "color": "#2a3f5f"
           }
          },
          "ternary": {
           "aaxis": {
            "gridcolor": "white",
            "linecolor": "white",
            "ticks": ""
           },
           "baxis": {
            "gridcolor": "white",
            "linecolor": "white",
            "ticks": ""
           },
           "bgcolor": "#E5ECF6",
           "caxis": {
            "gridcolor": "white",
            "linecolor": "white",
            "ticks": ""
           }
          },
          "title": {
           "x": 0.05
          },
          "xaxis": {
           "automargin": true,
           "gridcolor": "white",
           "linecolor": "white",
           "ticks": "",
           "title": {
            "standoff": 15
           },
           "zerolinecolor": "white",
           "zerolinewidth": 2
          },
          "yaxis": {
           "automargin": true,
           "gridcolor": "white",
           "linecolor": "white",
           "ticks": "",
           "title": {
            "standoff": 15
           },
           "zerolinecolor": "white",
           "zerolinewidth": 2
          }
         }
        },
        "title": {
         "text": "Age of Athletes"
        },
        "xaxis": {
         "title": {
          "text": "Year"
         }
        },
        "yaxis": {
         "title": {
          "text": "Age"
         }
        }
       }
      },
      "text/html": [
       "<div>                            <div id=\"586524d2-02b6-4f1b-9399-4f9b17f98690\" class=\"plotly-graph-div\" style=\"height:525px; width:100%;\"></div>            <script type=\"text/javascript\">                require([\"plotly\"], function(Plotly) {                    window.PLOTLYENV=window.PLOTLYENV || {};                                    if (document.getElementById(\"586524d2-02b6-4f1b-9399-4f9b17f98690\")) {                    Plotly.newPlot(                        \"586524d2-02b6-4f1b-9399-4f9b17f98690\",                        [{\"name\": \"Summer \", \"type\": \"bar\", \"x\": [1896, 1900, 1904, 1906, 1908, 1912, 1920, 1924, 1928, 1932, 1936, 1948, 1952, 1956, 1960, 1964, 1968, 1972, 1976, 1980, 1984, 1988, 1992, 1994, 1996, 1998, 2000, 2002, 2004, 2006, 2008, 2010, 2012, 2014, 2016], \"y\": [23.580645161290324, 29.034031413612567, 26.69814995131451, 27.125252525252524, 26.970228384991845, 27.53861997940268, 29.290977661734843, 28.44937319189971, 29.414906530711338, 33.45154019534185, 27.878331218274113, 29.304796483852474, 26.258851495058178, 26.033673017279575, 25.298760435112573, 25.065282673978327, 24.25515372835434, 24.34110273234747, 23.863837209302325, 23.70435403283369, 24.002811114715104, 24.132176682591567, 24.39616514612649, null, 24.915045018878885, null, 25.422503617945008, null, 25.639514989213716, null, 25.734117647058824, null, 25.96137770897833, null, 26.20791934541204]}, {\"name\": \"Winter \", \"type\": \"bar\", \"x\": [1896, 1900, 1904, 1906, 1908, 1912, 1920, 1924, 1928, 1932, 1936, 1948, 1952, 1956, 1960, 1964, 1968, 1972, 1976, 1980, 1984, 1988, 1992, 1994, 1996, 1998, 2000, 2002, 2004, 2006, 2008, 2010, 2012, 2014, 2016], \"y\": [null, null, null, null, null, null, null, 27.590570719602976, 26.58130081300813, 25.54711246200608, 25.04864253393665, 26.239028944911297, 25.446691176470587, 25.549921996879874, 24.24187725631769, 24.41983002832861, 24.215811965811966, 24.10774818401937, 23.73945945945946, 23.65616045845272, 23.443240697126708, 23.840607210626185, 24.027947598253274, 24.422102596580114, null, 25.163197335553704, null, 25.916281333657825, null, 25.959151072569604, null, 26.124261699227624, null, 25.987323655694134, null]}],                        {\"template\": {\"data\": {\"bar\": [{\"error_x\": {\"color\": \"#2a3f5f\"}, \"error_y\": {\"color\": \"#2a3f5f\"}, \"marker\": {\"line\": {\"color\": \"#E5ECF6\", \"width\": 0.5}}, \"type\": \"bar\"}], \"barpolar\": [{\"marker\": {\"line\": {\"color\": \"#E5ECF6\", \"width\": 0.5}}, \"type\": \"barpolar\"}], \"carpet\": [{\"aaxis\": {\"endlinecolor\": \"#2a3f5f\", \"gridcolor\": \"white\", \"linecolor\": \"white\", \"minorgridcolor\": \"white\", \"startlinecolor\": \"#2a3f5f\"}, \"baxis\": {\"endlinecolor\": \"#2a3f5f\", \"gridcolor\": \"white\", \"linecolor\": \"white\", \"minorgridcolor\": \"white\", \"startlinecolor\": \"#2a3f5f\"}, \"type\": \"carpet\"}], \"choropleth\": [{\"colorbar\": {\"outlinewidth\": 0, \"ticks\": \"\"}, \"type\": \"choropleth\"}], \"contour\": [{\"colorbar\": {\"outlinewidth\": 0, \"ticks\": \"\"}, \"colorscale\": [[0.0, \"#0d0887\"], [0.1111111111111111, \"#46039f\"], [0.2222222222222222, \"#7201a8\"], [0.3333333333333333, \"#9c179e\"], [0.4444444444444444, \"#bd3786\"], [0.5555555555555556, \"#d8576b\"], [0.6666666666666666, \"#ed7953\"], [0.7777777777777778, \"#fb9f3a\"], [0.8888888888888888, \"#fdca26\"], [1.0, \"#f0f921\"]], \"type\": \"contour\"}], \"contourcarpet\": [{\"colorbar\": {\"outlinewidth\": 0, \"ticks\": \"\"}, \"type\": \"contourcarpet\"}], \"heatmap\": [{\"colorbar\": {\"outlinewidth\": 0, \"ticks\": \"\"}, \"colorscale\": [[0.0, \"#0d0887\"], [0.1111111111111111, \"#46039f\"], [0.2222222222222222, \"#7201a8\"], [0.3333333333333333, \"#9c179e\"], [0.4444444444444444, \"#bd3786\"], [0.5555555555555556, \"#d8576b\"], [0.6666666666666666, \"#ed7953\"], [0.7777777777777778, \"#fb9f3a\"], [0.8888888888888888, \"#fdca26\"], [1.0, \"#f0f921\"]], \"type\": \"heatmap\"}], \"heatmapgl\": [{\"colorbar\": {\"outlinewidth\": 0, \"ticks\": \"\"}, \"colorscale\": [[0.0, \"#0d0887\"], [0.1111111111111111, \"#46039f\"], [0.2222222222222222, \"#7201a8\"], [0.3333333333333333, \"#9c179e\"], [0.4444444444444444, \"#bd3786\"], [0.5555555555555556, \"#d8576b\"], [0.6666666666666666, \"#ed7953\"], [0.7777777777777778, \"#fb9f3a\"], [0.8888888888888888, \"#fdca26\"], [1.0, \"#f0f921\"]], \"type\": \"heatmapgl\"}], \"histogram\": [{\"marker\": {\"colorbar\": {\"outlinewidth\": 0, \"ticks\": \"\"}}, \"type\": \"histogram\"}], \"histogram2d\": [{\"colorbar\": {\"outlinewidth\": 0, \"ticks\": \"\"}, \"colorscale\": [[0.0, \"#0d0887\"], [0.1111111111111111, \"#46039f\"], [0.2222222222222222, \"#7201a8\"], [0.3333333333333333, \"#9c179e\"], [0.4444444444444444, \"#bd3786\"], [0.5555555555555556, \"#d8576b\"], [0.6666666666666666, \"#ed7953\"], [0.7777777777777778, \"#fb9f3a\"], [0.8888888888888888, \"#fdca26\"], [1.0, \"#f0f921\"]], \"type\": \"histogram2d\"}], \"histogram2dcontour\": [{\"colorbar\": {\"outlinewidth\": 0, \"ticks\": \"\"}, \"colorscale\": [[0.0, \"#0d0887\"], [0.1111111111111111, \"#46039f\"], [0.2222222222222222, \"#7201a8\"], [0.3333333333333333, \"#9c179e\"], [0.4444444444444444, \"#bd3786\"], [0.5555555555555556, \"#d8576b\"], [0.6666666666666666, \"#ed7953\"], [0.7777777777777778, \"#fb9f3a\"], [0.8888888888888888, \"#fdca26\"], [1.0, \"#f0f921\"]], \"type\": \"histogram2dcontour\"}], \"mesh3d\": [{\"colorbar\": {\"outlinewidth\": 0, \"ticks\": \"\"}, \"type\": \"mesh3d\"}], \"parcoords\": [{\"line\": {\"colorbar\": {\"outlinewidth\": 0, \"ticks\": \"\"}}, \"type\": \"parcoords\"}], \"pie\": [{\"automargin\": true, \"type\": \"pie\"}], \"scatter\": [{\"marker\": {\"colorbar\": {\"outlinewidth\": 0, \"ticks\": \"\"}}, \"type\": \"scatter\"}], \"scatter3d\": [{\"line\": {\"colorbar\": {\"outlinewidth\": 0, \"ticks\": \"\"}}, \"marker\": {\"colorbar\": {\"outlinewidth\": 0, \"ticks\": \"\"}}, \"type\": \"scatter3d\"}], \"scattercarpet\": [{\"marker\": {\"colorbar\": {\"outlinewidth\": 0, \"ticks\": \"\"}}, \"type\": \"scattercarpet\"}], \"scattergeo\": [{\"marker\": {\"colorbar\": {\"outlinewidth\": 0, \"ticks\": \"\"}}, \"type\": \"scattergeo\"}], \"scattergl\": [{\"marker\": {\"colorbar\": {\"outlinewidth\": 0, \"ticks\": \"\"}}, \"type\": \"scattergl\"}], \"scattermapbox\": [{\"marker\": {\"colorbar\": {\"outlinewidth\": 0, \"ticks\": \"\"}}, \"type\": \"scattermapbox\"}], \"scatterpolar\": [{\"marker\": {\"colorbar\": {\"outlinewidth\": 0, \"ticks\": \"\"}}, \"type\": \"scatterpolar\"}], \"scatterpolargl\": [{\"marker\": {\"colorbar\": {\"outlinewidth\": 0, \"ticks\": \"\"}}, \"type\": \"scatterpolargl\"}], \"scatterternary\": [{\"marker\": {\"colorbar\": {\"outlinewidth\": 0, \"ticks\": \"\"}}, \"type\": \"scatterternary\"}], \"surface\": [{\"colorbar\": {\"outlinewidth\": 0, \"ticks\": \"\"}, \"colorscale\": [[0.0, \"#0d0887\"], [0.1111111111111111, \"#46039f\"], [0.2222222222222222, \"#7201a8\"], [0.3333333333333333, \"#9c179e\"], [0.4444444444444444, \"#bd3786\"], [0.5555555555555556, \"#d8576b\"], [0.6666666666666666, \"#ed7953\"], [0.7777777777777778, \"#fb9f3a\"], [0.8888888888888888, \"#fdca26\"], [1.0, \"#f0f921\"]], \"type\": \"surface\"}], \"table\": [{\"cells\": {\"fill\": {\"color\": \"#EBF0F8\"}, \"line\": {\"color\": \"white\"}}, \"header\": {\"fill\": {\"color\": \"#C8D4E3\"}, \"line\": {\"color\": \"white\"}}, \"type\": \"table\"}]}, \"layout\": {\"annotationdefaults\": {\"arrowcolor\": \"#2a3f5f\", \"arrowhead\": 0, \"arrowwidth\": 1}, \"coloraxis\": {\"colorbar\": {\"outlinewidth\": 0, \"ticks\": \"\"}}, \"colorscale\": {\"diverging\": [[0, \"#8e0152\"], [0.1, \"#c51b7d\"], [0.2, \"#de77ae\"], [0.3, \"#f1b6da\"], [0.4, \"#fde0ef\"], [0.5, \"#f7f7f7\"], [0.6, \"#e6f5d0\"], [0.7, \"#b8e186\"], [0.8, \"#7fbc41\"], [0.9, \"#4d9221\"], [1, \"#276419\"]], \"sequential\": [[0.0, \"#0d0887\"], [0.1111111111111111, \"#46039f\"], [0.2222222222222222, \"#7201a8\"], [0.3333333333333333, \"#9c179e\"], [0.4444444444444444, \"#bd3786\"], [0.5555555555555556, \"#d8576b\"], [0.6666666666666666, \"#ed7953\"], [0.7777777777777778, \"#fb9f3a\"], [0.8888888888888888, \"#fdca26\"], [1.0, \"#f0f921\"]], \"sequentialminus\": [[0.0, \"#0d0887\"], [0.1111111111111111, \"#46039f\"], [0.2222222222222222, \"#7201a8\"], [0.3333333333333333, \"#9c179e\"], [0.4444444444444444, \"#bd3786\"], [0.5555555555555556, \"#d8576b\"], [0.6666666666666666, \"#ed7953\"], [0.7777777777777778, \"#fb9f3a\"], [0.8888888888888888, \"#fdca26\"], [1.0, \"#f0f921\"]]}, \"colorway\": [\"#636efa\", \"#EF553B\", \"#00cc96\", \"#ab63fa\", \"#FFA15A\", \"#19d3f3\", \"#FF6692\", \"#B6E880\", \"#FF97FF\", \"#FECB52\"], \"font\": {\"color\": \"#2a3f5f\"}, \"geo\": {\"bgcolor\": \"white\", \"lakecolor\": \"white\", \"landcolor\": \"#E5ECF6\", \"showlakes\": true, \"showland\": true, \"subunitcolor\": \"white\"}, \"hoverlabel\": {\"align\": \"left\"}, \"hovermode\": \"closest\", \"mapbox\": {\"style\": \"light\"}, \"paper_bgcolor\": \"white\", \"plot_bgcolor\": \"#E5ECF6\", \"polar\": {\"angularaxis\": {\"gridcolor\": \"white\", \"linecolor\": \"white\", \"ticks\": \"\"}, \"bgcolor\": \"#E5ECF6\", \"radialaxis\": {\"gridcolor\": \"white\", \"linecolor\": \"white\", \"ticks\": \"\"}}, \"scene\": {\"xaxis\": {\"backgroundcolor\": \"#E5ECF6\", \"gridcolor\": \"white\", \"gridwidth\": 2, \"linecolor\": \"white\", \"showbackground\": true, \"ticks\": \"\", \"zerolinecolor\": \"white\"}, \"yaxis\": {\"backgroundcolor\": \"#E5ECF6\", \"gridcolor\": \"white\", \"gridwidth\": 2, \"linecolor\": \"white\", \"showbackground\": true, \"ticks\": \"\", \"zerolinecolor\": \"white\"}, \"zaxis\": {\"backgroundcolor\": \"#E5ECF6\", \"gridcolor\": \"white\", \"gridwidth\": 2, \"linecolor\": \"white\", \"showbackground\": true, \"ticks\": \"\", \"zerolinecolor\": \"white\"}}, \"shapedefaults\": {\"line\": {\"color\": \"#2a3f5f\"}}, \"ternary\": {\"aaxis\": {\"gridcolor\": \"white\", \"linecolor\": \"white\", \"ticks\": \"\"}, \"baxis\": {\"gridcolor\": \"white\", \"linecolor\": \"white\", \"ticks\": \"\"}, \"bgcolor\": \"#E5ECF6\", \"caxis\": {\"gridcolor\": \"white\", \"linecolor\": \"white\", \"ticks\": \"\"}}, \"title\": {\"x\": 0.05}, \"xaxis\": {\"automargin\": true, \"gridcolor\": \"white\", \"linecolor\": \"white\", \"ticks\": \"\", \"title\": {\"standoff\": 15}, \"zerolinecolor\": \"white\", \"zerolinewidth\": 2}, \"yaxis\": {\"automargin\": true, \"gridcolor\": \"white\", \"linecolor\": \"white\", \"ticks\": \"\", \"title\": {\"standoff\": 15}, \"zerolinecolor\": \"white\", \"zerolinewidth\": 2}}}, \"title\": {\"text\": \"Age of Athletes\"}, \"xaxis\": {\"title\": {\"text\": \"Year\"}}, \"yaxis\": {\"title\": {\"text\": \"Age\"}}},                        {\"responsive\": true}                    ).then(function(){\n",
       "                            \n",
       "var gd = document.getElementById('586524d2-02b6-4f1b-9399-4f9b17f98690');\n",
       "var x = new MutationObserver(function (mutations, observer) {{\n",
       "        var display = window.getComputedStyle(gd).display;\n",
       "        if (!display || display === 'none') {{\n",
       "            console.log([gd, 'removed!']);\n",
       "            Plotly.purge(gd);\n",
       "            observer.disconnect();\n",
       "        }}\n",
       "}});\n",
       "\n",
       "// Listen for the removal of the full notebook cells\n",
       "var notebookContainer = gd.closest('#notebook-container');\n",
       "if (notebookContainer) {{\n",
       "    x.observe(notebookContainer, {childList: true});\n",
       "}}\n",
       "\n",
       "// Listen for the clearing of the current output cell\n",
       "var outputEl = gd.closest('.output');\n",
       "if (outputEl) {{\n",
       "    x.observe(outputEl, {childList: true});\n",
       "}}\n",
       "\n",
       "                        })                };                });            </script>        </div>"
      ]
     },
     "metadata": {},
     "output_type": "display_data"
    }
   ],
   "source": [
    "fig  =  go.Figure()\n",
    "fig.add_trace(go.Bar(x=data_average_age['Year'], y = data_average_age['Summer'], name='Summer '))\n",
    "fig.add_trace(go.Bar(x=data_average_age['Year'], y = data_average_age['Winter'], name='Winter '))\n",
    "\n",
    "fig.update_layout(dict(title='Age of Athletes', xaxis=dict(title='Year'), yaxis=dict(title='Age')))\n",
    "fig.show()"
   ]
  },
  {
   "cell_type": "markdown",
   "metadata": {
    "ExecuteTime": {
     "end_time": "2020-12-07T12:42:22.335063Z",
     "start_time": "2020-12-07T12:42:18.301050Z"
    }
   },
   "source": [
    "### Medals"
   ]
  },
  {
   "cell_type": "code",
   "execution_count": 46,
   "metadata": {
    "ExecuteTime": {
     "end_time": "2020-12-08T16:36:45.279504Z",
     "start_time": "2020-12-08T16:36:45.183510Z"
    }
   },
   "outputs": [],
   "source": [
    "data4 = data.groupby(['NOC'])['Medal'].value_counts()"
   ]
  },
  {
   "cell_type": "code",
   "execution_count": 47,
   "metadata": {
    "ExecuteTime": {
     "end_time": "2020-12-08T16:36:46.016545Z",
     "start_time": "2020-12-08T16:36:45.992540Z"
    }
   },
   "outputs": [
    {
     "data": {
      "text/plain": [
       "NOC  Medal \n",
       "AFG  Bronze    2\n",
       "AHO  Silver    1\n",
       "ALG  Bronze    8\n",
       "     Gold      5\n",
       "     Silver    4\n",
       "Name: Medal, dtype: int64"
      ]
     },
     "execution_count": 47,
     "metadata": {},
     "output_type": "execute_result"
    }
   ],
   "source": [
    "data4.head()"
   ]
  },
  {
   "cell_type": "code",
   "execution_count": 48,
   "metadata": {
    "ExecuteTime": {
     "end_time": "2020-12-08T16:36:46.553249Z",
     "start_time": "2020-12-08T16:36:46.534250Z"
    }
   },
   "outputs": [],
   "source": [
    "data_medal = pd.DataFrame(data={'Medals': data4.values}, index=data4.index)"
   ]
  },
  {
   "cell_type": "code",
   "execution_count": 49,
   "metadata": {
    "ExecuteTime": {
     "end_time": "2020-12-08T16:36:47.072627Z",
     "start_time": "2020-12-08T16:36:47.055638Z"
    }
   },
   "outputs": [
    {
     "data": {
      "text/html": [
       "<div>\n",
       "<style scoped>\n",
       "    .dataframe tbody tr th:only-of-type {\n",
       "        vertical-align: middle;\n",
       "    }\n",
       "\n",
       "    .dataframe tbody tr th {\n",
       "        vertical-align: top;\n",
       "    }\n",
       "\n",
       "    .dataframe thead th {\n",
       "        text-align: right;\n",
       "    }\n",
       "</style>\n",
       "<table border=\"1\" class=\"dataframe\">\n",
       "  <thead>\n",
       "    <tr style=\"text-align: right;\">\n",
       "      <th></th>\n",
       "      <th></th>\n",
       "      <th>Medals</th>\n",
       "    </tr>\n",
       "    <tr>\n",
       "      <th>NOC</th>\n",
       "      <th>Medal</th>\n",
       "      <th></th>\n",
       "    </tr>\n",
       "  </thead>\n",
       "  <tbody>\n",
       "    <tr>\n",
       "      <th>AFG</th>\n",
       "      <th>Bronze</th>\n",
       "      <td>2</td>\n",
       "    </tr>\n",
       "    <tr>\n",
       "      <th>AHO</th>\n",
       "      <th>Silver</th>\n",
       "      <td>1</td>\n",
       "    </tr>\n",
       "    <tr>\n",
       "      <th rowspan=\"3\" valign=\"top\">ALG</th>\n",
       "      <th>Bronze</th>\n",
       "      <td>8</td>\n",
       "    </tr>\n",
       "    <tr>\n",
       "      <th>Gold</th>\n",
       "      <td>5</td>\n",
       "    </tr>\n",
       "    <tr>\n",
       "      <th>Silver</th>\n",
       "      <td>4</td>\n",
       "    </tr>\n",
       "  </tbody>\n",
       "</table>\n",
       "</div>"
      ],
      "text/plain": [
       "            Medals\n",
       "NOC Medal         \n",
       "AFG Bronze       2\n",
       "AHO Silver       1\n",
       "ALG Bronze       8\n",
       "    Gold         5\n",
       "    Silver       4"
      ]
     },
     "execution_count": 49,
     "metadata": {},
     "output_type": "execute_result"
    }
   ],
   "source": [
    "data_medal.head()"
   ]
  },
  {
   "cell_type": "code",
   "execution_count": 50,
   "metadata": {
    "ExecuteTime": {
     "end_time": "2020-12-08T16:36:47.653301Z",
     "start_time": "2020-12-08T16:36:47.641305Z"
    }
   },
   "outputs": [],
   "source": [
    "data_medal=data_medal.unstack()"
   ]
  },
  {
   "cell_type": "code",
   "execution_count": 51,
   "metadata": {
    "ExecuteTime": {
     "end_time": "2020-12-08T16:36:48.415047Z",
     "start_time": "2020-12-08T16:36:48.392049Z"
    }
   },
   "outputs": [
    {
     "data": {
      "text/html": [
       "<div>\n",
       "<style scoped>\n",
       "    .dataframe tbody tr th:only-of-type {\n",
       "        vertical-align: middle;\n",
       "    }\n",
       "\n",
       "    .dataframe tbody tr th {\n",
       "        vertical-align: top;\n",
       "    }\n",
       "\n",
       "    .dataframe thead tr th {\n",
       "        text-align: left;\n",
       "    }\n",
       "\n",
       "    .dataframe thead tr:last-of-type th {\n",
       "        text-align: right;\n",
       "    }\n",
       "</style>\n",
       "<table border=\"1\" class=\"dataframe\">\n",
       "  <thead>\n",
       "    <tr>\n",
       "      <th></th>\n",
       "      <th colspan=\"3\" halign=\"left\">Medals</th>\n",
       "    </tr>\n",
       "    <tr>\n",
       "      <th>Medal</th>\n",
       "      <th>Bronze</th>\n",
       "      <th>Gold</th>\n",
       "      <th>Silver</th>\n",
       "    </tr>\n",
       "    <tr>\n",
       "      <th>NOC</th>\n",
       "      <th></th>\n",
       "      <th></th>\n",
       "      <th></th>\n",
       "    </tr>\n",
       "  </thead>\n",
       "  <tbody>\n",
       "    <tr>\n",
       "      <th>AFG</th>\n",
       "      <td>2.0</td>\n",
       "      <td>NaN</td>\n",
       "      <td>NaN</td>\n",
       "    </tr>\n",
       "    <tr>\n",
       "      <th>AHO</th>\n",
       "      <td>NaN</td>\n",
       "      <td>NaN</td>\n",
       "      <td>1.0</td>\n",
       "    </tr>\n",
       "    <tr>\n",
       "      <th>ALG</th>\n",
       "      <td>8.0</td>\n",
       "      <td>5.0</td>\n",
       "      <td>4.0</td>\n",
       "    </tr>\n",
       "    <tr>\n",
       "      <th>ANZ</th>\n",
       "      <td>5.0</td>\n",
       "      <td>20.0</td>\n",
       "      <td>4.0</td>\n",
       "    </tr>\n",
       "    <tr>\n",
       "      <th>ARG</th>\n",
       "      <td>91.0</td>\n",
       "      <td>91.0</td>\n",
       "      <td>92.0</td>\n",
       "    </tr>\n",
       "  </tbody>\n",
       "</table>\n",
       "</div>"
      ],
      "text/plain": [
       "      Medals             \n",
       "Medal Bronze  Gold Silver\n",
       "NOC                      \n",
       "AFG      2.0   NaN    NaN\n",
       "AHO      NaN   NaN    1.0\n",
       "ALG      8.0   5.0    4.0\n",
       "ANZ      5.0  20.0    4.0\n",
       "ARG     91.0  91.0   92.0"
      ]
     },
     "execution_count": 51,
     "metadata": {},
     "output_type": "execute_result"
    }
   ],
   "source": [
    "data_medal.head()"
   ]
  },
  {
   "cell_type": "code",
   "execution_count": 52,
   "metadata": {
    "ExecuteTime": {
     "end_time": "2020-12-08T16:36:48.969852Z",
     "start_time": "2020-12-08T16:36:48.957867Z"
    }
   },
   "outputs": [],
   "source": [
    "data_medal.reset_index(inplace=True)"
   ]
  },
  {
   "cell_type": "code",
   "execution_count": 53,
   "metadata": {
    "ExecuteTime": {
     "end_time": "2020-12-08T16:36:49.603394Z",
     "start_time": "2020-12-08T16:36:49.584397Z"
    }
   },
   "outputs": [
    {
     "data": {
      "text/html": [
       "<div>\n",
       "<style scoped>\n",
       "    .dataframe tbody tr th:only-of-type {\n",
       "        vertical-align: middle;\n",
       "    }\n",
       "\n",
       "    .dataframe tbody tr th {\n",
       "        vertical-align: top;\n",
       "    }\n",
       "\n",
       "    .dataframe thead tr th {\n",
       "        text-align: left;\n",
       "    }\n",
       "</style>\n",
       "<table border=\"1\" class=\"dataframe\">\n",
       "  <thead>\n",
       "    <tr>\n",
       "      <th></th>\n",
       "      <th>NOC</th>\n",
       "      <th colspan=\"3\" halign=\"left\">Medals</th>\n",
       "    </tr>\n",
       "    <tr>\n",
       "      <th>Medal</th>\n",
       "      <th></th>\n",
       "      <th>Bronze</th>\n",
       "      <th>Gold</th>\n",
       "      <th>Silver</th>\n",
       "    </tr>\n",
       "  </thead>\n",
       "  <tbody>\n",
       "    <tr>\n",
       "      <th>0</th>\n",
       "      <td>AFG</td>\n",
       "      <td>2.0</td>\n",
       "      <td>NaN</td>\n",
       "      <td>NaN</td>\n",
       "    </tr>\n",
       "    <tr>\n",
       "      <th>1</th>\n",
       "      <td>AHO</td>\n",
       "      <td>NaN</td>\n",
       "      <td>NaN</td>\n",
       "      <td>1.0</td>\n",
       "    </tr>\n",
       "    <tr>\n",
       "      <th>2</th>\n",
       "      <td>ALG</td>\n",
       "      <td>8.0</td>\n",
       "      <td>5.0</td>\n",
       "      <td>4.0</td>\n",
       "    </tr>\n",
       "    <tr>\n",
       "      <th>3</th>\n",
       "      <td>ANZ</td>\n",
       "      <td>5.0</td>\n",
       "      <td>20.0</td>\n",
       "      <td>4.0</td>\n",
       "    </tr>\n",
       "    <tr>\n",
       "      <th>4</th>\n",
       "      <td>ARG</td>\n",
       "      <td>91.0</td>\n",
       "      <td>91.0</td>\n",
       "      <td>92.0</td>\n",
       "    </tr>\n",
       "  </tbody>\n",
       "</table>\n",
       "</div>"
      ],
      "text/plain": [
       "       NOC Medals             \n",
       "Medal      Bronze  Gold Silver\n",
       "0      AFG    2.0   NaN    NaN\n",
       "1      AHO    NaN   NaN    1.0\n",
       "2      ALG    8.0   5.0    4.0\n",
       "3      ANZ    5.0  20.0    4.0\n",
       "4      ARG   91.0  91.0   92.0"
      ]
     },
     "execution_count": 53,
     "metadata": {},
     "output_type": "execute_result"
    }
   ],
   "source": [
    "data_medal.head()"
   ]
  },
  {
   "cell_type": "code",
   "execution_count": 54,
   "metadata": {
    "ExecuteTime": {
     "end_time": "2020-12-08T16:36:50.345174Z",
     "start_time": "2020-12-08T16:36:50.335196Z"
    }
   },
   "outputs": [],
   "source": [
    "data_medal.columns = data_medal.columns.get_level_values(1)"
   ]
  },
  {
   "cell_type": "code",
   "execution_count": 55,
   "metadata": {
    "ExecuteTime": {
     "end_time": "2020-12-08T16:36:51.412987Z",
     "start_time": "2020-12-08T16:36:51.399986Z"
    }
   },
   "outputs": [],
   "source": [
    "data_medal.rename(columns = {'':'NOC'}, inplace = True) "
   ]
  },
  {
   "cell_type": "code",
   "execution_count": 56,
   "metadata": {
    "ExecuteTime": {
     "end_time": "2020-12-08T16:36:51.966271Z",
     "start_time": "2020-12-08T16:36:51.945275Z"
    }
   },
   "outputs": [
    {
     "data": {
      "text/html": [
       "<div>\n",
       "<style scoped>\n",
       "    .dataframe tbody tr th:only-of-type {\n",
       "        vertical-align: middle;\n",
       "    }\n",
       "\n",
       "    .dataframe tbody tr th {\n",
       "        vertical-align: top;\n",
       "    }\n",
       "\n",
       "    .dataframe thead th {\n",
       "        text-align: right;\n",
       "    }\n",
       "</style>\n",
       "<table border=\"1\" class=\"dataframe\">\n",
       "  <thead>\n",
       "    <tr style=\"text-align: right;\">\n",
       "      <th>Medal</th>\n",
       "      <th>NOC</th>\n",
       "      <th>Bronze</th>\n",
       "      <th>Gold</th>\n",
       "      <th>Silver</th>\n",
       "    </tr>\n",
       "  </thead>\n",
       "  <tbody>\n",
       "    <tr>\n",
       "      <th>0</th>\n",
       "      <td>AFG</td>\n",
       "      <td>2.0</td>\n",
       "      <td>NaN</td>\n",
       "      <td>NaN</td>\n",
       "    </tr>\n",
       "    <tr>\n",
       "      <th>1</th>\n",
       "      <td>AHO</td>\n",
       "      <td>NaN</td>\n",
       "      <td>NaN</td>\n",
       "      <td>1.0</td>\n",
       "    </tr>\n",
       "    <tr>\n",
       "      <th>2</th>\n",
       "      <td>ALG</td>\n",
       "      <td>8.0</td>\n",
       "      <td>5.0</td>\n",
       "      <td>4.0</td>\n",
       "    </tr>\n",
       "    <tr>\n",
       "      <th>3</th>\n",
       "      <td>ANZ</td>\n",
       "      <td>5.0</td>\n",
       "      <td>20.0</td>\n",
       "      <td>4.0</td>\n",
       "    </tr>\n",
       "    <tr>\n",
       "      <th>4</th>\n",
       "      <td>ARG</td>\n",
       "      <td>91.0</td>\n",
       "      <td>91.0</td>\n",
       "      <td>92.0</td>\n",
       "    </tr>\n",
       "  </tbody>\n",
       "</table>\n",
       "</div>"
      ],
      "text/plain": [
       "Medal  NOC  Bronze  Gold  Silver\n",
       "0      AFG     2.0   NaN     NaN\n",
       "1      AHO     NaN   NaN     1.0\n",
       "2      ALG     8.0   5.0     4.0\n",
       "3      ANZ     5.0  20.0     4.0\n",
       "4      ARG    91.0  91.0    92.0"
      ]
     },
     "execution_count": 56,
     "metadata": {},
     "output_type": "execute_result"
    }
   ],
   "source": [
    "data_medal.head()"
   ]
  },
  {
   "cell_type": "code",
   "execution_count": 57,
   "metadata": {
    "ExecuteTime": {
     "end_time": "2020-12-08T16:36:52.991102Z",
     "start_time": "2020-12-08T16:36:52.471254Z"
    }
   },
   "outputs": [
    {
     "data": {
      "application/vnd.plotly.v1+json": {
       "config": {
        "plotlyServerURL": "https://plot.ly"
       },
       "data": [
        {
         "marker": {
          "color": "lightgoldenrodyellow"
         },
         "name": "Bronze ",
         "type": "bar",
         "x": [
          "AFG",
          "AHO",
          "ALG",
          "ANZ",
          "ARG",
          "ARM",
          "AUS",
          "AUT",
          "AZE",
          "BAH",
          "BAR",
          "BDI",
          "BEL",
          "BER",
          "BLR",
          "BOH",
          "BOT",
          "BRA",
          "BRN",
          "BUL",
          "CAN",
          "CHI",
          "CHN",
          "CIV",
          "CMR",
          "COL",
          "CRC",
          "CRO",
          "CUB",
          "CYP",
          "CZE",
          "DEN",
          "DJI",
          "DOM",
          "ECU",
          "EGY",
          "ERI",
          "ESP",
          "EST",
          "ETH",
          "EUN",
          "FIJ",
          "FIN",
          "FRA",
          "FRG",
          "GAB",
          "GBR",
          "GDR",
          "GEO",
          "GER",
          "GHA",
          "GRE",
          "GRN",
          "GUA",
          "GUY",
          "HAI",
          "HKG",
          "HUN",
          "INA",
          "IND",
          "IOA",
          "IRI",
          "IRL",
          "IRQ",
          "ISL",
          "ISR",
          "ISV",
          "ITA",
          "JAM",
          "JOR",
          "JPN",
          "KAZ",
          "KEN",
          "KGZ",
          "KOR",
          "KOS",
          "KSA",
          "KUW",
          "LAT",
          "LIB",
          "LIE",
          "LTU",
          "LUX",
          "MAR",
          "MAS",
          "MDA",
          "MEX",
          "MGL",
          "MKD",
          "MNE",
          "MON",
          "MOZ",
          "MRI",
          "NAM",
          "NED",
          "NEP",
          "NGR",
          "NIG",
          "NOR",
          "NZL",
          "PAK",
          "PAN",
          "PAR",
          "PER",
          "PHI",
          "POL",
          "POR",
          "PRK",
          "PUR",
          "QAT",
          "ROU",
          "RSA",
          "RUS",
          "SCG",
          "SEN",
          "SGP",
          "SLO",
          "SRB",
          "SRI",
          "SUD",
          "SUI",
          "SUR",
          "SVK",
          "SWE",
          "SYR",
          "TAN",
          "TCH",
          "TGA",
          "THA",
          "TJK",
          "TOG",
          "TPE",
          "TTO",
          "TUN",
          "TUR",
          "UAE",
          "UAR",
          "UGA",
          "UKR",
          "URS",
          "URU",
          "USA",
          "UZB",
          "VEN",
          "VIE",
          "WIF",
          "YUG",
          "ZAM",
          "ZIM"
         ],
         "y": [
          2,
          null,
          8,
          5,
          91,
          9,
          517,
          156,
          25,
          15,
          1,
          null,
          173,
          1,
          71,
          11,
          null,
          191,
          1,
          144,
          451,
          20,
          292,
          1,
          1,
          14,
          2,
          37,
          116,
          null,
          66,
          177,
          1,
          2,
          null,
          12,
          1,
          136,
          25,
          22,
          81,
          null,
          432,
          666,
          233,
          null,
          651,
          281,
          18,
          746,
          22,
          84,
          null,
          null,
          1,
          5,
          1,
          371,
          13,
          40,
          3,
          29,
          13,
          1,
          2,
          7,
          null,
          531,
          44,
          null,
          357,
          32,
          31,
          2,
          185,
          null,
          5,
          2,
          13,
          2,
          5,
          48,
          null,
          12,
          5,
          5,
          54,
          14,
          1,
          null,
          1,
          1,
          1,
          null,
          413,
          null,
          46,
          1,
          294,
          82,
          34,
          2,
          null,
          null,
          7,
          253,
          26,
          35,
          6,
          4,
          292,
          52,
          408,
          26,
          null,
          4,
          27,
          41,
          null,
          null,
          268,
          1,
          13,
          535,
          1,
          null,
          182,
          null,
          13,
          2,
          1,
          18,
          17,
          7,
          28,
          1,
          1,
          2,
          100,
          689,
          30,
          1358,
          17,
          10,
          null,
          5,
          93,
          1,
          1
         ]
        },
        {
         "marker": {
          "color": "silver"
         },
         "name": "Silver ",
         "type": "bar",
         "x": [
          "AFG",
          "AHO",
          "ALG",
          "ANZ",
          "ARG",
          "ARM",
          "AUS",
          "AUT",
          "AZE",
          "BAH",
          "BAR",
          "BDI",
          "BEL",
          "BER",
          "BLR",
          "BOH",
          "BOT",
          "BRA",
          "BRN",
          "BUL",
          "CAN",
          "CHI",
          "CHN",
          "CIV",
          "CMR",
          "COL",
          "CRC",
          "CRO",
          "CUB",
          "CYP",
          "CZE",
          "DEN",
          "DJI",
          "DOM",
          "ECU",
          "EGY",
          "ERI",
          "ESP",
          "EST",
          "ETH",
          "EUN",
          "FIJ",
          "FIN",
          "FRA",
          "FRG",
          "GAB",
          "GBR",
          "GDR",
          "GEO",
          "GER",
          "GHA",
          "GRE",
          "GRN",
          "GUA",
          "GUY",
          "HAI",
          "HKG",
          "HUN",
          "INA",
          "IND",
          "IOA",
          "IRI",
          "IRL",
          "IRQ",
          "ISL",
          "ISR",
          "ISV",
          "ITA",
          "JAM",
          "JOR",
          "JPN",
          "KAZ",
          "KEN",
          "KGZ",
          "KOR",
          "KOS",
          "KSA",
          "KUW",
          "LAT",
          "LIB",
          "LIE",
          "LTU",
          "LUX",
          "MAR",
          "MAS",
          "MDA",
          "MEX",
          "MGL",
          "MKD",
          "MNE",
          "MON",
          "MOZ",
          "MRI",
          "NAM",
          "NED",
          "NEP",
          "NGR",
          "NIG",
          "NOR",
          "NZL",
          "PAK",
          "PAN",
          "PAR",
          "PER",
          "PHI",
          "POL",
          "POR",
          "PRK",
          "PUR",
          "QAT",
          "ROU",
          "RSA",
          "RUS",
          "SCG",
          "SEN",
          "SGP",
          "SLO",
          "SRB",
          "SRI",
          "SUD",
          "SUI",
          "SUR",
          "SVK",
          "SWE",
          "SYR",
          "TAN",
          "TCH",
          "TGA",
          "THA",
          "TJK",
          "TOG",
          "TPE",
          "TTO",
          "TUN",
          "TUR",
          "UAE",
          "UAR",
          "UGA",
          "UKR",
          "URS",
          "URU",
          "USA",
          "UZB",
          "VEN",
          "VIE",
          "WIF",
          "YUG",
          "ZAM",
          "ZIM"
         ],
         "y": [
          null,
          1,
          4,
          4,
          92,
          5,
          455,
          186,
          12,
          11,
          null,
          1,
          197,
          null,
          44,
          1,
          1,
          175,
          1,
          144,
          438,
          9,
          347,
          1,
          1,
          9,
          1,
          54,
          129,
          1,
          36,
          241,
          null,
          2,
          1,
          8,
          null,
          243,
          12,
          9,
          71,
          null,
          270,
          610,
          194,
          1,
          739,
          327,
          6,
          674,
          1,
          109,
          1,
          1,
          null,
          1,
          2,
          332,
          17,
          19,
          1,
          21,
          13,
          null,
          15,
          1,
          1,
          531,
          75,
          null,
          309,
          25,
          41,
          1,
          232,
          null,
          1,
          null,
          19,
          2,
          2,
          7,
          4,
          5,
          11,
          3,
          26,
          10,
          null,
          14,
          null,
          null,
          null,
          4,
          340,
          null,
          30,
          1,
          361,
          56,
          45,
          null,
          17,
          14,
          3,
          195,
          11,
          16,
          2,
          1,
          200,
          47,
          367,
          26,
          1,
          4,
          13,
          29,
          2,
          1,
          248,
          null,
          19,
          522,
          1,
          2,
          225,
          1,
          8,
          1,
          null,
          28,
          8,
          3,
          27,
          null,
          1,
          3,
          52,
          732,
          2,
          1641,
          7,
          3,
          3,
          null,
          167,
          1,
          4
         ]
        },
        {
         "marker": {
          "color": "gold"
         },
         "name": "Gold ",
         "type": "bar",
         "x": [
          "AFG",
          "AHO",
          "ALG",
          "ANZ",
          "ARG",
          "ARM",
          "AUS",
          "AUT",
          "AZE",
          "BAH",
          "BAR",
          "BDI",
          "BEL",
          "BER",
          "BLR",
          "BOH",
          "BOT",
          "BRA",
          "BRN",
          "BUL",
          "CAN",
          "CHI",
          "CHN",
          "CIV",
          "CMR",
          "COL",
          "CRC",
          "CRO",
          "CUB",
          "CYP",
          "CZE",
          "DEN",
          "DJI",
          "DOM",
          "ECU",
          "EGY",
          "ERI",
          "ESP",
          "EST",
          "ETH",
          "EUN",
          "FIJ",
          "FIN",
          "FRA",
          "FRG",
          "GAB",
          "GBR",
          "GDR",
          "GEO",
          "GER",
          "GHA",
          "GRE",
          "GRN",
          "GUA",
          "GUY",
          "HAI",
          "HKG",
          "HUN",
          "INA",
          "IND",
          "IOA",
          "IRI",
          "IRL",
          "IRQ",
          "ISL",
          "ISR",
          "ISV",
          "ITA",
          "JAM",
          "JOR",
          "JPN",
          "KAZ",
          "KEN",
          "KGZ",
          "KOR",
          "KOS",
          "KSA",
          "KUW",
          "LAT",
          "LIB",
          "LIE",
          "LTU",
          "LUX",
          "MAR",
          "MAS",
          "MDA",
          "MEX",
          "MGL",
          "MKD",
          "MNE",
          "MON",
          "MOZ",
          "MRI",
          "NAM",
          "NED",
          "NEP",
          "NGR",
          "NIG",
          "NOR",
          "NZL",
          "PAK",
          "PAN",
          "PAR",
          "PER",
          "PHI",
          "POL",
          "POR",
          "PRK",
          "PUR",
          "QAT",
          "ROU",
          "RSA",
          "RUS",
          "SCG",
          "SEN",
          "SGP",
          "SLO",
          "SRB",
          "SRI",
          "SUD",
          "SUI",
          "SUR",
          "SVK",
          "SWE",
          "SYR",
          "TAN",
          "TCH",
          "TGA",
          "THA",
          "TJK",
          "TOG",
          "TPE",
          "TTO",
          "TUN",
          "TUR",
          "UAE",
          "UAR",
          "UGA",
          "UKR",
          "URS",
          "URU",
          "USA",
          "UZB",
          "VEN",
          "VIE",
          "WIF",
          "YUG",
          "ZAM",
          "ZIM"
         ],
         "y": [
          null,
          null,
          5,
          20,
          91,
          2,
          348,
          108,
          7,
          14,
          null,
          1,
          98,
          null,
          24,
          null,
          null,
          109,
          1,
          54,
          463,
          3,
          350,
          1,
          20,
          5,
          1,
          58,
          164,
          null,
          42,
          179,
          null,
          3,
          1,
          7,
          null,
          110,
          13,
          22,
          127,
          13,
          198,
          501,
          159,
          null,
          678,
          397,
          8,
          745,
          null,
          62,
          1,
          null,
          null,
          1,
          1,
          432,
          11,
          138,
          1,
          18,
          9,
          null,
          null,
          1,
          null,
          575,
          38,
          1,
          247,
          20,
          34,
          null,
          221,
          1,
          null,
          null,
          3,
          null,
          2,
          6,
          4,
          6,
          null,
          null,
          30,
          2,
          null,
          null,
          null,
          1,
          null,
          null,
          287,
          1,
          23,
          null,
          378,
          90,
          42,
          1,
          null,
          1,
          null,
          117,
          4,
          16,
          1,
          null,
          161,
          32,
          390,
          12,
          null,
          1,
          8,
          15,
          null,
          null,
          175,
          1,
          15,
          479,
          1,
          null,
          81,
          null,
          9,
          1,
          null,
          3,
          7,
          3,
          40,
          1,
          null,
          2,
          47,
          1082,
          31,
          2638,
          10,
          2,
          1,
          null,
          130,
          null,
          17
         ]
        }
       ],
       "layout": {
        "barmode": "relative",
        "template": {
         "data": {
          "bar": [
           {
            "error_x": {
             "color": "#2a3f5f"
            },
            "error_y": {
             "color": "#2a3f5f"
            },
            "marker": {
             "line": {
              "color": "#E5ECF6",
              "width": 0.5
             }
            },
            "type": "bar"
           }
          ],
          "barpolar": [
           {
            "marker": {
             "line": {
              "color": "#E5ECF6",
              "width": 0.5
             }
            },
            "type": "barpolar"
           }
          ],
          "carpet": [
           {
            "aaxis": {
             "endlinecolor": "#2a3f5f",
             "gridcolor": "white",
             "linecolor": "white",
             "minorgridcolor": "white",
             "startlinecolor": "#2a3f5f"
            },
            "baxis": {
             "endlinecolor": "#2a3f5f",
             "gridcolor": "white",
             "linecolor": "white",
             "minorgridcolor": "white",
             "startlinecolor": "#2a3f5f"
            },
            "type": "carpet"
           }
          ],
          "choropleth": [
           {
            "colorbar": {
             "outlinewidth": 0,
             "ticks": ""
            },
            "type": "choropleth"
           }
          ],
          "contour": [
           {
            "colorbar": {
             "outlinewidth": 0,
             "ticks": ""
            },
            "colorscale": [
             [
              0,
              "#0d0887"
             ],
             [
              0.1111111111111111,
              "#46039f"
             ],
             [
              0.2222222222222222,
              "#7201a8"
             ],
             [
              0.3333333333333333,
              "#9c179e"
             ],
             [
              0.4444444444444444,
              "#bd3786"
             ],
             [
              0.5555555555555556,
              "#d8576b"
             ],
             [
              0.6666666666666666,
              "#ed7953"
             ],
             [
              0.7777777777777778,
              "#fb9f3a"
             ],
             [
              0.8888888888888888,
              "#fdca26"
             ],
             [
              1,
              "#f0f921"
             ]
            ],
            "type": "contour"
           }
          ],
          "contourcarpet": [
           {
            "colorbar": {
             "outlinewidth": 0,
             "ticks": ""
            },
            "type": "contourcarpet"
           }
          ],
          "heatmap": [
           {
            "colorbar": {
             "outlinewidth": 0,
             "ticks": ""
            },
            "colorscale": [
             [
              0,
              "#0d0887"
             ],
             [
              0.1111111111111111,
              "#46039f"
             ],
             [
              0.2222222222222222,
              "#7201a8"
             ],
             [
              0.3333333333333333,
              "#9c179e"
             ],
             [
              0.4444444444444444,
              "#bd3786"
             ],
             [
              0.5555555555555556,
              "#d8576b"
             ],
             [
              0.6666666666666666,
              "#ed7953"
             ],
             [
              0.7777777777777778,
              "#fb9f3a"
             ],
             [
              0.8888888888888888,
              "#fdca26"
             ],
             [
              1,
              "#f0f921"
             ]
            ],
            "type": "heatmap"
           }
          ],
          "heatmapgl": [
           {
            "colorbar": {
             "outlinewidth": 0,
             "ticks": ""
            },
            "colorscale": [
             [
              0,
              "#0d0887"
             ],
             [
              0.1111111111111111,
              "#46039f"
             ],
             [
              0.2222222222222222,
              "#7201a8"
             ],
             [
              0.3333333333333333,
              "#9c179e"
             ],
             [
              0.4444444444444444,
              "#bd3786"
             ],
             [
              0.5555555555555556,
              "#d8576b"
             ],
             [
              0.6666666666666666,
              "#ed7953"
             ],
             [
              0.7777777777777778,
              "#fb9f3a"
             ],
             [
              0.8888888888888888,
              "#fdca26"
             ],
             [
              1,
              "#f0f921"
             ]
            ],
            "type": "heatmapgl"
           }
          ],
          "histogram": [
           {
            "marker": {
             "colorbar": {
              "outlinewidth": 0,
              "ticks": ""
             }
            },
            "type": "histogram"
           }
          ],
          "histogram2d": [
           {
            "colorbar": {
             "outlinewidth": 0,
             "ticks": ""
            },
            "colorscale": [
             [
              0,
              "#0d0887"
             ],
             [
              0.1111111111111111,
              "#46039f"
             ],
             [
              0.2222222222222222,
              "#7201a8"
             ],
             [
              0.3333333333333333,
              "#9c179e"
             ],
             [
              0.4444444444444444,
              "#bd3786"
             ],
             [
              0.5555555555555556,
              "#d8576b"
             ],
             [
              0.6666666666666666,
              "#ed7953"
             ],
             [
              0.7777777777777778,
              "#fb9f3a"
             ],
             [
              0.8888888888888888,
              "#fdca26"
             ],
             [
              1,
              "#f0f921"
             ]
            ],
            "type": "histogram2d"
           }
          ],
          "histogram2dcontour": [
           {
            "colorbar": {
             "outlinewidth": 0,
             "ticks": ""
            },
            "colorscale": [
             [
              0,
              "#0d0887"
             ],
             [
              0.1111111111111111,
              "#46039f"
             ],
             [
              0.2222222222222222,
              "#7201a8"
             ],
             [
              0.3333333333333333,
              "#9c179e"
             ],
             [
              0.4444444444444444,
              "#bd3786"
             ],
             [
              0.5555555555555556,
              "#d8576b"
             ],
             [
              0.6666666666666666,
              "#ed7953"
             ],
             [
              0.7777777777777778,
              "#fb9f3a"
             ],
             [
              0.8888888888888888,
              "#fdca26"
             ],
             [
              1,
              "#f0f921"
             ]
            ],
            "type": "histogram2dcontour"
           }
          ],
          "mesh3d": [
           {
            "colorbar": {
             "outlinewidth": 0,
             "ticks": ""
            },
            "type": "mesh3d"
           }
          ],
          "parcoords": [
           {
            "line": {
             "colorbar": {
              "outlinewidth": 0,
              "ticks": ""
             }
            },
            "type": "parcoords"
           }
          ],
          "pie": [
           {
            "automargin": true,
            "type": "pie"
           }
          ],
          "scatter": [
           {
            "marker": {
             "colorbar": {
              "outlinewidth": 0,
              "ticks": ""
             }
            },
            "type": "scatter"
           }
          ],
          "scatter3d": [
           {
            "line": {
             "colorbar": {
              "outlinewidth": 0,
              "ticks": ""
             }
            },
            "marker": {
             "colorbar": {
              "outlinewidth": 0,
              "ticks": ""
             }
            },
            "type": "scatter3d"
           }
          ],
          "scattercarpet": [
           {
            "marker": {
             "colorbar": {
              "outlinewidth": 0,
              "ticks": ""
             }
            },
            "type": "scattercarpet"
           }
          ],
          "scattergeo": [
           {
            "marker": {
             "colorbar": {
              "outlinewidth": 0,
              "ticks": ""
             }
            },
            "type": "scattergeo"
           }
          ],
          "scattergl": [
           {
            "marker": {
             "colorbar": {
              "outlinewidth": 0,
              "ticks": ""
             }
            },
            "type": "scattergl"
           }
          ],
          "scattermapbox": [
           {
            "marker": {
             "colorbar": {
              "outlinewidth": 0,
              "ticks": ""
             }
            },
            "type": "scattermapbox"
           }
          ],
          "scatterpolar": [
           {
            "marker": {
             "colorbar": {
              "outlinewidth": 0,
              "ticks": ""
             }
            },
            "type": "scatterpolar"
           }
          ],
          "scatterpolargl": [
           {
            "marker": {
             "colorbar": {
              "outlinewidth": 0,
              "ticks": ""
             }
            },
            "type": "scatterpolargl"
           }
          ],
          "scatterternary": [
           {
            "marker": {
             "colorbar": {
              "outlinewidth": 0,
              "ticks": ""
             }
            },
            "type": "scatterternary"
           }
          ],
          "surface": [
           {
            "colorbar": {
             "outlinewidth": 0,
             "ticks": ""
            },
            "colorscale": [
             [
              0,
              "#0d0887"
             ],
             [
              0.1111111111111111,
              "#46039f"
             ],
             [
              0.2222222222222222,
              "#7201a8"
             ],
             [
              0.3333333333333333,
              "#9c179e"
             ],
             [
              0.4444444444444444,
              "#bd3786"
             ],
             [
              0.5555555555555556,
              "#d8576b"
             ],
             [
              0.6666666666666666,
              "#ed7953"
             ],
             [
              0.7777777777777778,
              "#fb9f3a"
             ],
             [
              0.8888888888888888,
              "#fdca26"
             ],
             [
              1,
              "#f0f921"
             ]
            ],
            "type": "surface"
           }
          ],
          "table": [
           {
            "cells": {
             "fill": {
              "color": "#EBF0F8"
             },
             "line": {
              "color": "white"
             }
            },
            "header": {
             "fill": {
              "color": "#C8D4E3"
             },
             "line": {
              "color": "white"
             }
            },
            "type": "table"
           }
          ]
         },
         "layout": {
          "annotationdefaults": {
           "arrowcolor": "#2a3f5f",
           "arrowhead": 0,
           "arrowwidth": 1
          },
          "coloraxis": {
           "colorbar": {
            "outlinewidth": 0,
            "ticks": ""
           }
          },
          "colorscale": {
           "diverging": [
            [
             0,
             "#8e0152"
            ],
            [
             0.1,
             "#c51b7d"
            ],
            [
             0.2,
             "#de77ae"
            ],
            [
             0.3,
             "#f1b6da"
            ],
            [
             0.4,
             "#fde0ef"
            ],
            [
             0.5,
             "#f7f7f7"
            ],
            [
             0.6,
             "#e6f5d0"
            ],
            [
             0.7,
             "#b8e186"
            ],
            [
             0.8,
             "#7fbc41"
            ],
            [
             0.9,
             "#4d9221"
            ],
            [
             1,
             "#276419"
            ]
           ],
           "sequential": [
            [
             0,
             "#0d0887"
            ],
            [
             0.1111111111111111,
             "#46039f"
            ],
            [
             0.2222222222222222,
             "#7201a8"
            ],
            [
             0.3333333333333333,
             "#9c179e"
            ],
            [
             0.4444444444444444,
             "#bd3786"
            ],
            [
             0.5555555555555556,
             "#d8576b"
            ],
            [
             0.6666666666666666,
             "#ed7953"
            ],
            [
             0.7777777777777778,
             "#fb9f3a"
            ],
            [
             0.8888888888888888,
             "#fdca26"
            ],
            [
             1,
             "#f0f921"
            ]
           ],
           "sequentialminus": [
            [
             0,
             "#0d0887"
            ],
            [
             0.1111111111111111,
             "#46039f"
            ],
            [
             0.2222222222222222,
             "#7201a8"
            ],
            [
             0.3333333333333333,
             "#9c179e"
            ],
            [
             0.4444444444444444,
             "#bd3786"
            ],
            [
             0.5555555555555556,
             "#d8576b"
            ],
            [
             0.6666666666666666,
             "#ed7953"
            ],
            [
             0.7777777777777778,
             "#fb9f3a"
            ],
            [
             0.8888888888888888,
             "#fdca26"
            ],
            [
             1,
             "#f0f921"
            ]
           ]
          },
          "colorway": [
           "#636efa",
           "#EF553B",
           "#00cc96",
           "#ab63fa",
           "#FFA15A",
           "#19d3f3",
           "#FF6692",
           "#B6E880",
           "#FF97FF",
           "#FECB52"
          ],
          "font": {
           "color": "#2a3f5f"
          },
          "geo": {
           "bgcolor": "white",
           "lakecolor": "white",
           "landcolor": "#E5ECF6",
           "showlakes": true,
           "showland": true,
           "subunitcolor": "white"
          },
          "hoverlabel": {
           "align": "left"
          },
          "hovermode": "closest",
          "mapbox": {
           "style": "light"
          },
          "paper_bgcolor": "white",
          "plot_bgcolor": "#E5ECF6",
          "polar": {
           "angularaxis": {
            "gridcolor": "white",
            "linecolor": "white",
            "ticks": ""
           },
           "bgcolor": "#E5ECF6",
           "radialaxis": {
            "gridcolor": "white",
            "linecolor": "white",
            "ticks": ""
           }
          },
          "scene": {
           "xaxis": {
            "backgroundcolor": "#E5ECF6",
            "gridcolor": "white",
            "gridwidth": 2,
            "linecolor": "white",
            "showbackground": true,
            "ticks": "",
            "zerolinecolor": "white"
           },
           "yaxis": {
            "backgroundcolor": "#E5ECF6",
            "gridcolor": "white",
            "gridwidth": 2,
            "linecolor": "white",
            "showbackground": true,
            "ticks": "",
            "zerolinecolor": "white"
           },
           "zaxis": {
            "backgroundcolor": "#E5ECF6",
            "gridcolor": "white",
            "gridwidth": 2,
            "linecolor": "white",
            "showbackground": true,
            "ticks": "",
            "zerolinecolor": "white"
           }
          },
          "shapedefaults": {
           "line": {
            "color": "#2a3f5f"
           }
          },
          "ternary": {
           "aaxis": {
            "gridcolor": "white",
            "linecolor": "white",
            "ticks": ""
           },
           "baxis": {
            "gridcolor": "white",
            "linecolor": "white",
            "ticks": ""
           },
           "bgcolor": "#E5ECF6",
           "caxis": {
            "gridcolor": "white",
            "linecolor": "white",
            "ticks": ""
           }
          },
          "title": {
           "x": 0.05
          },
          "xaxis": {
           "automargin": true,
           "gridcolor": "white",
           "linecolor": "white",
           "ticks": "",
           "title": {
            "standoff": 15
           },
           "zerolinecolor": "white",
           "zerolinewidth": 2
          },
          "yaxis": {
           "automargin": true,
           "gridcolor": "white",
           "linecolor": "white",
           "ticks": "",
           "title": {
            "standoff": 15
           },
           "zerolinecolor": "white",
           "zerolinewidth": 2
          }
         }
        }
       }
      },
      "text/html": [
       "<div>                            <div id=\"e05d2e58-d913-4574-8b7d-aa61792269ba\" class=\"plotly-graph-div\" style=\"height:525px; width:100%;\"></div>            <script type=\"text/javascript\">                require([\"plotly\"], function(Plotly) {                    window.PLOTLYENV=window.PLOTLYENV || {};                                    if (document.getElementById(\"e05d2e58-d913-4574-8b7d-aa61792269ba\")) {                    Plotly.newPlot(                        \"e05d2e58-d913-4574-8b7d-aa61792269ba\",                        [{\"marker\": {\"color\": \"lightgoldenrodyellow\"}, \"name\": \"Bronze \", \"type\": \"bar\", \"x\": [\"AFG\", \"AHO\", \"ALG\", \"ANZ\", \"ARG\", \"ARM\", \"AUS\", \"AUT\", \"AZE\", \"BAH\", \"BAR\", \"BDI\", \"BEL\", \"BER\", \"BLR\", \"BOH\", \"BOT\", \"BRA\", \"BRN\", \"BUL\", \"CAN\", \"CHI\", \"CHN\", \"CIV\", \"CMR\", \"COL\", \"CRC\", \"CRO\", \"CUB\", \"CYP\", \"CZE\", \"DEN\", \"DJI\", \"DOM\", \"ECU\", \"EGY\", \"ERI\", \"ESP\", \"EST\", \"ETH\", \"EUN\", \"FIJ\", \"FIN\", \"FRA\", \"FRG\", \"GAB\", \"GBR\", \"GDR\", \"GEO\", \"GER\", \"GHA\", \"GRE\", \"GRN\", \"GUA\", \"GUY\", \"HAI\", \"HKG\", \"HUN\", \"INA\", \"IND\", \"IOA\", \"IRI\", \"IRL\", \"IRQ\", \"ISL\", \"ISR\", \"ISV\", \"ITA\", \"JAM\", \"JOR\", \"JPN\", \"KAZ\", \"KEN\", \"KGZ\", \"KOR\", \"KOS\", \"KSA\", \"KUW\", \"LAT\", \"LIB\", \"LIE\", \"LTU\", \"LUX\", \"MAR\", \"MAS\", \"MDA\", \"MEX\", \"MGL\", \"MKD\", \"MNE\", \"MON\", \"MOZ\", \"MRI\", \"NAM\", \"NED\", \"NEP\", \"NGR\", \"NIG\", \"NOR\", \"NZL\", \"PAK\", \"PAN\", \"PAR\", \"PER\", \"PHI\", \"POL\", \"POR\", \"PRK\", \"PUR\", \"QAT\", \"ROU\", \"RSA\", \"RUS\", \"SCG\", \"SEN\", \"SGP\", \"SLO\", \"SRB\", \"SRI\", \"SUD\", \"SUI\", \"SUR\", \"SVK\", \"SWE\", \"SYR\", \"TAN\", \"TCH\", \"TGA\", \"THA\", \"TJK\", \"TOG\", \"TPE\", \"TTO\", \"TUN\", \"TUR\", \"UAE\", \"UAR\", \"UGA\", \"UKR\", \"URS\", \"URU\", \"USA\", \"UZB\", \"VEN\", \"VIE\", \"WIF\", \"YUG\", \"ZAM\", \"ZIM\"], \"y\": [2.0, null, 8.0, 5.0, 91.0, 9.0, 517.0, 156.0, 25.0, 15.0, 1.0, null, 173.0, 1.0, 71.0, 11.0, null, 191.0, 1.0, 144.0, 451.0, 20.0, 292.0, 1.0, 1.0, 14.0, 2.0, 37.0, 116.0, null, 66.0, 177.0, 1.0, 2.0, null, 12.0, 1.0, 136.0, 25.0, 22.0, 81.0, null, 432.0, 666.0, 233.0, null, 651.0, 281.0, 18.0, 746.0, 22.0, 84.0, null, null, 1.0, 5.0, 1.0, 371.0, 13.0, 40.0, 3.0, 29.0, 13.0, 1.0, 2.0, 7.0, null, 531.0, 44.0, null, 357.0, 32.0, 31.0, 2.0, 185.0, null, 5.0, 2.0, 13.0, 2.0, 5.0, 48.0, null, 12.0, 5.0, 5.0, 54.0, 14.0, 1.0, null, 1.0, 1.0, 1.0, null, 413.0, null, 46.0, 1.0, 294.0, 82.0, 34.0, 2.0, null, null, 7.0, 253.0, 26.0, 35.0, 6.0, 4.0, 292.0, 52.0, 408.0, 26.0, null, 4.0, 27.0, 41.0, null, null, 268.0, 1.0, 13.0, 535.0, 1.0, null, 182.0, null, 13.0, 2.0, 1.0, 18.0, 17.0, 7.0, 28.0, 1.0, 1.0, 2.0, 100.0, 689.0, 30.0, 1358.0, 17.0, 10.0, null, 5.0, 93.0, 1.0, 1.0]}, {\"marker\": {\"color\": \"silver\"}, \"name\": \"Silver \", \"type\": \"bar\", \"x\": [\"AFG\", \"AHO\", \"ALG\", \"ANZ\", \"ARG\", \"ARM\", \"AUS\", \"AUT\", \"AZE\", \"BAH\", \"BAR\", \"BDI\", \"BEL\", \"BER\", \"BLR\", \"BOH\", \"BOT\", \"BRA\", \"BRN\", \"BUL\", \"CAN\", \"CHI\", \"CHN\", \"CIV\", \"CMR\", \"COL\", \"CRC\", \"CRO\", \"CUB\", \"CYP\", \"CZE\", \"DEN\", \"DJI\", \"DOM\", \"ECU\", \"EGY\", \"ERI\", \"ESP\", \"EST\", \"ETH\", \"EUN\", \"FIJ\", \"FIN\", \"FRA\", \"FRG\", \"GAB\", \"GBR\", \"GDR\", \"GEO\", \"GER\", \"GHA\", \"GRE\", \"GRN\", \"GUA\", \"GUY\", \"HAI\", \"HKG\", \"HUN\", \"INA\", \"IND\", \"IOA\", \"IRI\", \"IRL\", \"IRQ\", \"ISL\", \"ISR\", \"ISV\", \"ITA\", \"JAM\", \"JOR\", \"JPN\", \"KAZ\", \"KEN\", \"KGZ\", \"KOR\", \"KOS\", \"KSA\", \"KUW\", \"LAT\", \"LIB\", \"LIE\", \"LTU\", \"LUX\", \"MAR\", \"MAS\", \"MDA\", \"MEX\", \"MGL\", \"MKD\", \"MNE\", \"MON\", \"MOZ\", \"MRI\", \"NAM\", \"NED\", \"NEP\", \"NGR\", \"NIG\", \"NOR\", \"NZL\", \"PAK\", \"PAN\", \"PAR\", \"PER\", \"PHI\", \"POL\", \"POR\", \"PRK\", \"PUR\", \"QAT\", \"ROU\", \"RSA\", \"RUS\", \"SCG\", \"SEN\", \"SGP\", \"SLO\", \"SRB\", \"SRI\", \"SUD\", \"SUI\", \"SUR\", \"SVK\", \"SWE\", \"SYR\", \"TAN\", \"TCH\", \"TGA\", \"THA\", \"TJK\", \"TOG\", \"TPE\", \"TTO\", \"TUN\", \"TUR\", \"UAE\", \"UAR\", \"UGA\", \"UKR\", \"URS\", \"URU\", \"USA\", \"UZB\", \"VEN\", \"VIE\", \"WIF\", \"YUG\", \"ZAM\", \"ZIM\"], \"y\": [null, 1.0, 4.0, 4.0, 92.0, 5.0, 455.0, 186.0, 12.0, 11.0, null, 1.0, 197.0, null, 44.0, 1.0, 1.0, 175.0, 1.0, 144.0, 438.0, 9.0, 347.0, 1.0, 1.0, 9.0, 1.0, 54.0, 129.0, 1.0, 36.0, 241.0, null, 2.0, 1.0, 8.0, null, 243.0, 12.0, 9.0, 71.0, null, 270.0, 610.0, 194.0, 1.0, 739.0, 327.0, 6.0, 674.0, 1.0, 109.0, 1.0, 1.0, null, 1.0, 2.0, 332.0, 17.0, 19.0, 1.0, 21.0, 13.0, null, 15.0, 1.0, 1.0, 531.0, 75.0, null, 309.0, 25.0, 41.0, 1.0, 232.0, null, 1.0, null, 19.0, 2.0, 2.0, 7.0, 4.0, 5.0, 11.0, 3.0, 26.0, 10.0, null, 14.0, null, null, null, 4.0, 340.0, null, 30.0, 1.0, 361.0, 56.0, 45.0, null, 17.0, 14.0, 3.0, 195.0, 11.0, 16.0, 2.0, 1.0, 200.0, 47.0, 367.0, 26.0, 1.0, 4.0, 13.0, 29.0, 2.0, 1.0, 248.0, null, 19.0, 522.0, 1.0, 2.0, 225.0, 1.0, 8.0, 1.0, null, 28.0, 8.0, 3.0, 27.0, null, 1.0, 3.0, 52.0, 732.0, 2.0, 1641.0, 7.0, 3.0, 3.0, null, 167.0, 1.0, 4.0]}, {\"marker\": {\"color\": \"gold\"}, \"name\": \"Gold \", \"type\": \"bar\", \"x\": [\"AFG\", \"AHO\", \"ALG\", \"ANZ\", \"ARG\", \"ARM\", \"AUS\", \"AUT\", \"AZE\", \"BAH\", \"BAR\", \"BDI\", \"BEL\", \"BER\", \"BLR\", \"BOH\", \"BOT\", \"BRA\", \"BRN\", \"BUL\", \"CAN\", \"CHI\", \"CHN\", \"CIV\", \"CMR\", \"COL\", \"CRC\", \"CRO\", \"CUB\", \"CYP\", \"CZE\", \"DEN\", \"DJI\", \"DOM\", \"ECU\", \"EGY\", \"ERI\", \"ESP\", \"EST\", \"ETH\", \"EUN\", \"FIJ\", \"FIN\", \"FRA\", \"FRG\", \"GAB\", \"GBR\", \"GDR\", \"GEO\", \"GER\", \"GHA\", \"GRE\", \"GRN\", \"GUA\", \"GUY\", \"HAI\", \"HKG\", \"HUN\", \"INA\", \"IND\", \"IOA\", \"IRI\", \"IRL\", \"IRQ\", \"ISL\", \"ISR\", \"ISV\", \"ITA\", \"JAM\", \"JOR\", \"JPN\", \"KAZ\", \"KEN\", \"KGZ\", \"KOR\", \"KOS\", \"KSA\", \"KUW\", \"LAT\", \"LIB\", \"LIE\", \"LTU\", \"LUX\", \"MAR\", \"MAS\", \"MDA\", \"MEX\", \"MGL\", \"MKD\", \"MNE\", \"MON\", \"MOZ\", \"MRI\", \"NAM\", \"NED\", \"NEP\", \"NGR\", \"NIG\", \"NOR\", \"NZL\", \"PAK\", \"PAN\", \"PAR\", \"PER\", \"PHI\", \"POL\", \"POR\", \"PRK\", \"PUR\", \"QAT\", \"ROU\", \"RSA\", \"RUS\", \"SCG\", \"SEN\", \"SGP\", \"SLO\", \"SRB\", \"SRI\", \"SUD\", \"SUI\", \"SUR\", \"SVK\", \"SWE\", \"SYR\", \"TAN\", \"TCH\", \"TGA\", \"THA\", \"TJK\", \"TOG\", \"TPE\", \"TTO\", \"TUN\", \"TUR\", \"UAE\", \"UAR\", \"UGA\", \"UKR\", \"URS\", \"URU\", \"USA\", \"UZB\", \"VEN\", \"VIE\", \"WIF\", \"YUG\", \"ZAM\", \"ZIM\"], \"y\": [null, null, 5.0, 20.0, 91.0, 2.0, 348.0, 108.0, 7.0, 14.0, null, 1.0, 98.0, null, 24.0, null, null, 109.0, 1.0, 54.0, 463.0, 3.0, 350.0, 1.0, 20.0, 5.0, 1.0, 58.0, 164.0, null, 42.0, 179.0, null, 3.0, 1.0, 7.0, null, 110.0, 13.0, 22.0, 127.0, 13.0, 198.0, 501.0, 159.0, null, 678.0, 397.0, 8.0, 745.0, null, 62.0, 1.0, null, null, 1.0, 1.0, 432.0, 11.0, 138.0, 1.0, 18.0, 9.0, null, null, 1.0, null, 575.0, 38.0, 1.0, 247.0, 20.0, 34.0, null, 221.0, 1.0, null, null, 3.0, null, 2.0, 6.0, 4.0, 6.0, null, null, 30.0, 2.0, null, null, null, 1.0, null, null, 287.0, 1.0, 23.0, null, 378.0, 90.0, 42.0, 1.0, null, 1.0, null, 117.0, 4.0, 16.0, 1.0, null, 161.0, 32.0, 390.0, 12.0, null, 1.0, 8.0, 15.0, null, null, 175.0, 1.0, 15.0, 479.0, 1.0, null, 81.0, null, 9.0, 1.0, null, 3.0, 7.0, 3.0, 40.0, 1.0, null, 2.0, 47.0, 1082.0, 31.0, 2638.0, 10.0, 2.0, 1.0, null, 130.0, null, 17.0]}],                        {\"barmode\": \"relative\", \"template\": {\"data\": {\"bar\": [{\"error_x\": {\"color\": \"#2a3f5f\"}, \"error_y\": {\"color\": \"#2a3f5f\"}, \"marker\": {\"line\": {\"color\": \"#E5ECF6\", \"width\": 0.5}}, \"type\": \"bar\"}], \"barpolar\": [{\"marker\": {\"line\": {\"color\": \"#E5ECF6\", \"width\": 0.5}}, \"type\": \"barpolar\"}], \"carpet\": [{\"aaxis\": {\"endlinecolor\": \"#2a3f5f\", \"gridcolor\": \"white\", \"linecolor\": \"white\", \"minorgridcolor\": \"white\", \"startlinecolor\": \"#2a3f5f\"}, \"baxis\": {\"endlinecolor\": \"#2a3f5f\", \"gridcolor\": \"white\", \"linecolor\": \"white\", \"minorgridcolor\": \"white\", \"startlinecolor\": \"#2a3f5f\"}, \"type\": \"carpet\"}], \"choropleth\": [{\"colorbar\": {\"outlinewidth\": 0, \"ticks\": \"\"}, \"type\": \"choropleth\"}], \"contour\": [{\"colorbar\": {\"outlinewidth\": 0, \"ticks\": \"\"}, \"colorscale\": [[0.0, \"#0d0887\"], [0.1111111111111111, \"#46039f\"], [0.2222222222222222, \"#7201a8\"], [0.3333333333333333, \"#9c179e\"], [0.4444444444444444, \"#bd3786\"], [0.5555555555555556, \"#d8576b\"], [0.6666666666666666, \"#ed7953\"], [0.7777777777777778, \"#fb9f3a\"], [0.8888888888888888, \"#fdca26\"], [1.0, \"#f0f921\"]], \"type\": \"contour\"}], \"contourcarpet\": [{\"colorbar\": {\"outlinewidth\": 0, \"ticks\": \"\"}, \"type\": \"contourcarpet\"}], \"heatmap\": [{\"colorbar\": {\"outlinewidth\": 0, \"ticks\": \"\"}, \"colorscale\": [[0.0, \"#0d0887\"], [0.1111111111111111, \"#46039f\"], [0.2222222222222222, \"#7201a8\"], [0.3333333333333333, \"#9c179e\"], [0.4444444444444444, \"#bd3786\"], [0.5555555555555556, \"#d8576b\"], [0.6666666666666666, \"#ed7953\"], [0.7777777777777778, \"#fb9f3a\"], [0.8888888888888888, \"#fdca26\"], [1.0, \"#f0f921\"]], \"type\": \"heatmap\"}], \"heatmapgl\": [{\"colorbar\": {\"outlinewidth\": 0, \"ticks\": \"\"}, \"colorscale\": [[0.0, \"#0d0887\"], [0.1111111111111111, \"#46039f\"], [0.2222222222222222, \"#7201a8\"], [0.3333333333333333, \"#9c179e\"], [0.4444444444444444, \"#bd3786\"], [0.5555555555555556, \"#d8576b\"], [0.6666666666666666, \"#ed7953\"], [0.7777777777777778, \"#fb9f3a\"], [0.8888888888888888, \"#fdca26\"], [1.0, \"#f0f921\"]], \"type\": \"heatmapgl\"}], \"histogram\": [{\"marker\": {\"colorbar\": {\"outlinewidth\": 0, \"ticks\": \"\"}}, \"type\": \"histogram\"}], \"histogram2d\": [{\"colorbar\": {\"outlinewidth\": 0, \"ticks\": \"\"}, \"colorscale\": [[0.0, \"#0d0887\"], [0.1111111111111111, \"#46039f\"], [0.2222222222222222, \"#7201a8\"], [0.3333333333333333, \"#9c179e\"], [0.4444444444444444, \"#bd3786\"], [0.5555555555555556, \"#d8576b\"], [0.6666666666666666, \"#ed7953\"], [0.7777777777777778, \"#fb9f3a\"], [0.8888888888888888, \"#fdca26\"], [1.0, \"#f0f921\"]], \"type\": \"histogram2d\"}], \"histogram2dcontour\": [{\"colorbar\": {\"outlinewidth\": 0, \"ticks\": \"\"}, \"colorscale\": [[0.0, \"#0d0887\"], [0.1111111111111111, \"#46039f\"], [0.2222222222222222, \"#7201a8\"], [0.3333333333333333, \"#9c179e\"], [0.4444444444444444, \"#bd3786\"], [0.5555555555555556, \"#d8576b\"], [0.6666666666666666, \"#ed7953\"], [0.7777777777777778, \"#fb9f3a\"], [0.8888888888888888, \"#fdca26\"], [1.0, \"#f0f921\"]], \"type\": \"histogram2dcontour\"}], \"mesh3d\": [{\"colorbar\": {\"outlinewidth\": 0, \"ticks\": \"\"}, \"type\": \"mesh3d\"}], \"parcoords\": [{\"line\": {\"colorbar\": {\"outlinewidth\": 0, \"ticks\": \"\"}}, \"type\": \"parcoords\"}], \"pie\": [{\"automargin\": true, \"type\": \"pie\"}], \"scatter\": [{\"marker\": {\"colorbar\": {\"outlinewidth\": 0, \"ticks\": \"\"}}, \"type\": \"scatter\"}], \"scatter3d\": [{\"line\": {\"colorbar\": {\"outlinewidth\": 0, \"ticks\": \"\"}}, \"marker\": {\"colorbar\": {\"outlinewidth\": 0, \"ticks\": \"\"}}, \"type\": \"scatter3d\"}], \"scattercarpet\": [{\"marker\": {\"colorbar\": {\"outlinewidth\": 0, \"ticks\": \"\"}}, \"type\": \"scattercarpet\"}], \"scattergeo\": [{\"marker\": {\"colorbar\": {\"outlinewidth\": 0, \"ticks\": \"\"}}, \"type\": \"scattergeo\"}], \"scattergl\": [{\"marker\": {\"colorbar\": {\"outlinewidth\": 0, \"ticks\": \"\"}}, \"type\": \"scattergl\"}], \"scattermapbox\": [{\"marker\": {\"colorbar\": {\"outlinewidth\": 0, \"ticks\": \"\"}}, \"type\": \"scattermapbox\"}], \"scatterpolar\": [{\"marker\": {\"colorbar\": {\"outlinewidth\": 0, \"ticks\": \"\"}}, \"type\": \"scatterpolar\"}], \"scatterpolargl\": [{\"marker\": {\"colorbar\": {\"outlinewidth\": 0, \"ticks\": \"\"}}, \"type\": \"scatterpolargl\"}], \"scatterternary\": [{\"marker\": {\"colorbar\": {\"outlinewidth\": 0, \"ticks\": \"\"}}, \"type\": \"scatterternary\"}], \"surface\": [{\"colorbar\": {\"outlinewidth\": 0, \"ticks\": \"\"}, \"colorscale\": [[0.0, \"#0d0887\"], [0.1111111111111111, \"#46039f\"], [0.2222222222222222, \"#7201a8\"], [0.3333333333333333, \"#9c179e\"], [0.4444444444444444, \"#bd3786\"], [0.5555555555555556, \"#d8576b\"], [0.6666666666666666, \"#ed7953\"], [0.7777777777777778, \"#fb9f3a\"], [0.8888888888888888, \"#fdca26\"], [1.0, \"#f0f921\"]], \"type\": \"surface\"}], \"table\": [{\"cells\": {\"fill\": {\"color\": \"#EBF0F8\"}, \"line\": {\"color\": \"white\"}}, \"header\": {\"fill\": {\"color\": \"#C8D4E3\"}, \"line\": {\"color\": \"white\"}}, \"type\": \"table\"}]}, \"layout\": {\"annotationdefaults\": {\"arrowcolor\": \"#2a3f5f\", \"arrowhead\": 0, \"arrowwidth\": 1}, \"coloraxis\": {\"colorbar\": {\"outlinewidth\": 0, \"ticks\": \"\"}}, \"colorscale\": {\"diverging\": [[0, \"#8e0152\"], [0.1, \"#c51b7d\"], [0.2, \"#de77ae\"], [0.3, \"#f1b6da\"], [0.4, \"#fde0ef\"], [0.5, \"#f7f7f7\"], [0.6, \"#e6f5d0\"], [0.7, \"#b8e186\"], [0.8, \"#7fbc41\"], [0.9, \"#4d9221\"], [1, \"#276419\"]], \"sequential\": [[0.0, \"#0d0887\"], [0.1111111111111111, \"#46039f\"], [0.2222222222222222, \"#7201a8\"], [0.3333333333333333, \"#9c179e\"], [0.4444444444444444, \"#bd3786\"], [0.5555555555555556, \"#d8576b\"], [0.6666666666666666, \"#ed7953\"], [0.7777777777777778, \"#fb9f3a\"], [0.8888888888888888, \"#fdca26\"], [1.0, \"#f0f921\"]], \"sequentialminus\": [[0.0, \"#0d0887\"], [0.1111111111111111, \"#46039f\"], [0.2222222222222222, \"#7201a8\"], [0.3333333333333333, \"#9c179e\"], [0.4444444444444444, \"#bd3786\"], [0.5555555555555556, \"#d8576b\"], [0.6666666666666666, \"#ed7953\"], [0.7777777777777778, \"#fb9f3a\"], [0.8888888888888888, \"#fdca26\"], [1.0, \"#f0f921\"]]}, \"colorway\": [\"#636efa\", \"#EF553B\", \"#00cc96\", \"#ab63fa\", \"#FFA15A\", \"#19d3f3\", \"#FF6692\", \"#B6E880\", \"#FF97FF\", \"#FECB52\"], \"font\": {\"color\": \"#2a3f5f\"}, \"geo\": {\"bgcolor\": \"white\", \"lakecolor\": \"white\", \"landcolor\": \"#E5ECF6\", \"showlakes\": true, \"showland\": true, \"subunitcolor\": \"white\"}, \"hoverlabel\": {\"align\": \"left\"}, \"hovermode\": \"closest\", \"mapbox\": {\"style\": \"light\"}, \"paper_bgcolor\": \"white\", \"plot_bgcolor\": \"#E5ECF6\", \"polar\": {\"angularaxis\": {\"gridcolor\": \"white\", \"linecolor\": \"white\", \"ticks\": \"\"}, \"bgcolor\": \"#E5ECF6\", \"radialaxis\": {\"gridcolor\": \"white\", \"linecolor\": \"white\", \"ticks\": \"\"}}, \"scene\": {\"xaxis\": {\"backgroundcolor\": \"#E5ECF6\", \"gridcolor\": \"white\", \"gridwidth\": 2, \"linecolor\": \"white\", \"showbackground\": true, \"ticks\": \"\", \"zerolinecolor\": \"white\"}, \"yaxis\": {\"backgroundcolor\": \"#E5ECF6\", \"gridcolor\": \"white\", \"gridwidth\": 2, \"linecolor\": \"white\", \"showbackground\": true, \"ticks\": \"\", \"zerolinecolor\": \"white\"}, \"zaxis\": {\"backgroundcolor\": \"#E5ECF6\", \"gridcolor\": \"white\", \"gridwidth\": 2, \"linecolor\": \"white\", \"showbackground\": true, \"ticks\": \"\", \"zerolinecolor\": \"white\"}}, \"shapedefaults\": {\"line\": {\"color\": \"#2a3f5f\"}}, \"ternary\": {\"aaxis\": {\"gridcolor\": \"white\", \"linecolor\": \"white\", \"ticks\": \"\"}, \"baxis\": {\"gridcolor\": \"white\", \"linecolor\": \"white\", \"ticks\": \"\"}, \"bgcolor\": \"#E5ECF6\", \"caxis\": {\"gridcolor\": \"white\", \"linecolor\": \"white\", \"ticks\": \"\"}}, \"title\": {\"x\": 0.05}, \"xaxis\": {\"automargin\": true, \"gridcolor\": \"white\", \"linecolor\": \"white\", \"ticks\": \"\", \"title\": {\"standoff\": 15}, \"zerolinecolor\": \"white\", \"zerolinewidth\": 2}, \"yaxis\": {\"automargin\": true, \"gridcolor\": \"white\", \"linecolor\": \"white\", \"ticks\": \"\", \"title\": {\"standoff\": 15}, \"zerolinecolor\": \"white\", \"zerolinewidth\": 2}}}},                        {\"responsive\": true}                    ).then(function(){\n",
       "                            \n",
       "var gd = document.getElementById('e05d2e58-d913-4574-8b7d-aa61792269ba');\n",
       "var x = new MutationObserver(function (mutations, observer) {{\n",
       "        var display = window.getComputedStyle(gd).display;\n",
       "        if (!display || display === 'none') {{\n",
       "            console.log([gd, 'removed!']);\n",
       "            Plotly.purge(gd);\n",
       "            observer.disconnect();\n",
       "        }}\n",
       "}});\n",
       "\n",
       "// Listen for the removal of the full notebook cells\n",
       "var notebookContainer = gd.closest('#notebook-container');\n",
       "if (notebookContainer) {{\n",
       "    x.observe(notebookContainer, {childList: true});\n",
       "}}\n",
       "\n",
       "// Listen for the clearing of the current output cell\n",
       "var outputEl = gd.closest('.output');\n",
       "if (outputEl) {{\n",
       "    x.observe(outputEl, {childList: true});\n",
       "}}\n",
       "\n",
       "                        })                };                });            </script>        </div>"
      ]
     },
     "metadata": {},
     "output_type": "display_data"
    }
   ],
   "source": [
    "fig  =  go.Figure()\n",
    "fig.add_trace(go.Bar(x=data_medal['NOC'], y = data_medal['Bronze'], name='Bronze ', marker_color = 'lightgoldenrodyellow'))\n",
    "fig.add_trace(go.Bar(x=data_medal['NOC'], y = data_medal['Silver'], name='Silver ', marker_color='silver'))\n",
    "fig.add_trace(go.Bar(x=data_medal['NOC'], y = data_medal['Gold'], name='Gold ', marker_color='gold'))\n",
    "fig.update_layout(dict(barmode='relative'),dict(title='Medals per country', xaxis=dict(title='Countries'), yaxis=dict(title='Number of Medals')))\n",
    "fig.show()"
   ]
  },
  {
   "cell_type": "markdown",
   "metadata": {
    "ExecuteTime": {
     "end_time": "2020-12-07T13:50:01.698499Z",
     "start_time": "2020-12-07T13:50:01.658501Z"
    }
   },
   "source": [
    "From the chat above we can see that the USA have dominated the olympic medals."
   ]
  },
  {
   "cell_type": "code",
   "execution_count": null,
   "metadata": {},
   "outputs": [],
   "source": []
  },
  {
   "cell_type": "markdown",
   "metadata": {
    "ExecuteTime": {
     "end_time": "2020-12-07T13:50:49.026316Z",
     "start_time": "2020-12-07T13:50:48.951318Z"
    }
   },
   "source": [
    "### Latest Olympic"
   ]
  },
  {
   "cell_type": "code",
   "execution_count": 58,
   "metadata": {
    "ExecuteTime": {
     "end_time": "2020-12-08T16:37:04.886906Z",
     "start_time": "2020-12-08T16:37:04.863901Z"
    }
   },
   "outputs": [],
   "source": [
    "data_latest = data[data['Year']==2016]"
   ]
  },
  {
   "cell_type": "code",
   "execution_count": 59,
   "metadata": {
    "ExecuteTime": {
     "end_time": "2020-12-08T16:37:05.657756Z",
     "start_time": "2020-12-08T16:37:05.639776Z"
    }
   },
   "outputs": [],
   "source": [
    "data_latest.reset_index(inplace=True)"
   ]
  },
  {
   "cell_type": "code",
   "execution_count": 60,
   "metadata": {
    "ExecuteTime": {
     "end_time": "2020-12-08T16:37:06.409722Z",
     "start_time": "2020-12-08T16:37:06.319734Z"
    }
   },
   "outputs": [
    {
     "data": {
      "text/html": [
       "<div>\n",
       "<style scoped>\n",
       "    .dataframe tbody tr th:only-of-type {\n",
       "        vertical-align: middle;\n",
       "    }\n",
       "\n",
       "    .dataframe tbody tr th {\n",
       "        vertical-align: top;\n",
       "    }\n",
       "\n",
       "    .dataframe thead th {\n",
       "        text-align: right;\n",
       "    }\n",
       "</style>\n",
       "<table border=\"1\" class=\"dataframe\">\n",
       "  <thead>\n",
       "    <tr style=\"text-align: right;\">\n",
       "      <th></th>\n",
       "      <th>ID</th>\n",
       "      <th>Name</th>\n",
       "      <th>Sex</th>\n",
       "      <th>Age</th>\n",
       "      <th>Height</th>\n",
       "      <th>Weight</th>\n",
       "      <th>Team</th>\n",
       "      <th>NOC</th>\n",
       "      <th>Games</th>\n",
       "      <th>Year</th>\n",
       "      <th>Season</th>\n",
       "      <th>City</th>\n",
       "      <th>Sport</th>\n",
       "      <th>Event</th>\n",
       "      <th>Medal</th>\n",
       "    </tr>\n",
       "  </thead>\n",
       "  <tbody>\n",
       "    <tr>\n",
       "      <th>0</th>\n",
       "      <td>22</td>\n",
       "      <td>Andreea Aanei</td>\n",
       "      <td>F</td>\n",
       "      <td>22.0</td>\n",
       "      <td>170.0</td>\n",
       "      <td>125.0</td>\n",
       "      <td>Romania</td>\n",
       "      <td>ROU</td>\n",
       "      <td>2016 Summer</td>\n",
       "      <td>2016</td>\n",
       "      <td>Summer</td>\n",
       "      <td>Rio de Janeiro</td>\n",
       "      <td>Weightlifting</td>\n",
       "      <td>Weightlifting Women's Super-Heavyweight</td>\n",
       "      <td>NaN</td>\n",
       "    </tr>\n",
       "    <tr>\n",
       "      <th>1</th>\n",
       "      <td>51</td>\n",
       "      <td>Nstor Abad Sanjun</td>\n",
       "      <td>M</td>\n",
       "      <td>23.0</td>\n",
       "      <td>167.0</td>\n",
       "      <td>64.0</td>\n",
       "      <td>Spain</td>\n",
       "      <td>ESP</td>\n",
       "      <td>2016 Summer</td>\n",
       "      <td>2016</td>\n",
       "      <td>Summer</td>\n",
       "      <td>Rio de Janeiro</td>\n",
       "      <td>Gymnastics</td>\n",
       "      <td>Gymnastics Men's Individual All-Around</td>\n",
       "      <td>NaN</td>\n",
       "    </tr>\n",
       "    <tr>\n",
       "      <th>2</th>\n",
       "      <td>51</td>\n",
       "      <td>Nstor Abad Sanjun</td>\n",
       "      <td>M</td>\n",
       "      <td>23.0</td>\n",
       "      <td>167.0</td>\n",
       "      <td>64.0</td>\n",
       "      <td>Spain</td>\n",
       "      <td>ESP</td>\n",
       "      <td>2016 Summer</td>\n",
       "      <td>2016</td>\n",
       "      <td>Summer</td>\n",
       "      <td>Rio de Janeiro</td>\n",
       "      <td>Gymnastics</td>\n",
       "      <td>Gymnastics Men's Floor Exercise</td>\n",
       "      <td>NaN</td>\n",
       "    </tr>\n",
       "    <tr>\n",
       "      <th>3</th>\n",
       "      <td>51</td>\n",
       "      <td>Nstor Abad Sanjun</td>\n",
       "      <td>M</td>\n",
       "      <td>23.0</td>\n",
       "      <td>167.0</td>\n",
       "      <td>64.0</td>\n",
       "      <td>Spain</td>\n",
       "      <td>ESP</td>\n",
       "      <td>2016 Summer</td>\n",
       "      <td>2016</td>\n",
       "      <td>Summer</td>\n",
       "      <td>Rio de Janeiro</td>\n",
       "      <td>Gymnastics</td>\n",
       "      <td>Gymnastics Men's Parallel Bars</td>\n",
       "      <td>NaN</td>\n",
       "    </tr>\n",
       "    <tr>\n",
       "      <th>4</th>\n",
       "      <td>51</td>\n",
       "      <td>Nstor Abad Sanjun</td>\n",
       "      <td>M</td>\n",
       "      <td>23.0</td>\n",
       "      <td>167.0</td>\n",
       "      <td>64.0</td>\n",
       "      <td>Spain</td>\n",
       "      <td>ESP</td>\n",
       "      <td>2016 Summer</td>\n",
       "      <td>2016</td>\n",
       "      <td>Summer</td>\n",
       "      <td>Rio de Janeiro</td>\n",
       "      <td>Gymnastics</td>\n",
       "      <td>Gymnastics Men's Horizontal Bar</td>\n",
       "      <td>NaN</td>\n",
       "    </tr>\n",
       "    <tr>\n",
       "      <th>5</th>\n",
       "      <td>51</td>\n",
       "      <td>Nstor Abad Sanjun</td>\n",
       "      <td>M</td>\n",
       "      <td>23.0</td>\n",
       "      <td>167.0</td>\n",
       "      <td>64.0</td>\n",
       "      <td>Spain</td>\n",
       "      <td>ESP</td>\n",
       "      <td>2016 Summer</td>\n",
       "      <td>2016</td>\n",
       "      <td>Summer</td>\n",
       "      <td>Rio de Janeiro</td>\n",
       "      <td>Gymnastics</td>\n",
       "      <td>Gymnastics Men's Rings</td>\n",
       "      <td>NaN</td>\n",
       "    </tr>\n",
       "    <tr>\n",
       "      <th>6</th>\n",
       "      <td>51</td>\n",
       "      <td>Nstor Abad Sanjun</td>\n",
       "      <td>M</td>\n",
       "      <td>23.0</td>\n",
       "      <td>167.0</td>\n",
       "      <td>64.0</td>\n",
       "      <td>Spain</td>\n",
       "      <td>ESP</td>\n",
       "      <td>2016 Summer</td>\n",
       "      <td>2016</td>\n",
       "      <td>Summer</td>\n",
       "      <td>Rio de Janeiro</td>\n",
       "      <td>Gymnastics</td>\n",
       "      <td>Gymnastics Men's Pommelled Horse</td>\n",
       "      <td>NaN</td>\n",
       "    </tr>\n",
       "    <tr>\n",
       "      <th>7</th>\n",
       "      <td>55</td>\n",
       "      <td>Antonio Abadia Beci</td>\n",
       "      <td>M</td>\n",
       "      <td>26.0</td>\n",
       "      <td>170.0</td>\n",
       "      <td>65.0</td>\n",
       "      <td>Spain</td>\n",
       "      <td>ESP</td>\n",
       "      <td>2016 Summer</td>\n",
       "      <td>2016</td>\n",
       "      <td>Summer</td>\n",
       "      <td>Rio de Janeiro</td>\n",
       "      <td>Athletics</td>\n",
       "      <td>Athletics Men's 5,000 metres</td>\n",
       "      <td>NaN</td>\n",
       "    </tr>\n",
       "    <tr>\n",
       "      <th>8</th>\n",
       "      <td>62</td>\n",
       "      <td>Giovanni Abagnale</td>\n",
       "      <td>M</td>\n",
       "      <td>21.0</td>\n",
       "      <td>198.0</td>\n",
       "      <td>90.0</td>\n",
       "      <td>Italy</td>\n",
       "      <td>ITA</td>\n",
       "      <td>2016 Summer</td>\n",
       "      <td>2016</td>\n",
       "      <td>Summer</td>\n",
       "      <td>Rio de Janeiro</td>\n",
       "      <td>Rowing</td>\n",
       "      <td>Rowing Men's Coxless Pairs</td>\n",
       "      <td>Bronze</td>\n",
       "    </tr>\n",
       "    <tr>\n",
       "      <th>9</th>\n",
       "      <td>65</td>\n",
       "      <td>Patimat Abakarova</td>\n",
       "      <td>F</td>\n",
       "      <td>21.0</td>\n",
       "      <td>165.0</td>\n",
       "      <td>49.0</td>\n",
       "      <td>Azerbaijan</td>\n",
       "      <td>AZE</td>\n",
       "      <td>2016 Summer</td>\n",
       "      <td>2016</td>\n",
       "      <td>Summer</td>\n",
       "      <td>Rio de Janeiro</td>\n",
       "      <td>Taekwondo</td>\n",
       "      <td>Taekwondo Women's Flyweight</td>\n",
       "      <td>Bronze</td>\n",
       "    </tr>\n",
       "    <tr>\n",
       "      <th>10</th>\n",
       "      <td>73</td>\n",
       "      <td>Luc Abalo</td>\n",
       "      <td>M</td>\n",
       "      <td>31.0</td>\n",
       "      <td>182.0</td>\n",
       "      <td>86.0</td>\n",
       "      <td>France</td>\n",
       "      <td>FRA</td>\n",
       "      <td>2016 Summer</td>\n",
       "      <td>2016</td>\n",
       "      <td>Summer</td>\n",
       "      <td>Rio de Janeiro</td>\n",
       "      <td>Handball</td>\n",
       "      <td>Handball Men's Handball</td>\n",
       "      <td>Silver</td>\n",
       "    </tr>\n",
       "    <tr>\n",
       "      <th>11</th>\n",
       "      <td>105</td>\n",
       "      <td>Ilyas Abbadi</td>\n",
       "      <td>M</td>\n",
       "      <td>23.0</td>\n",
       "      <td>175.0</td>\n",
       "      <td>75.0</td>\n",
       "      <td>Algeria</td>\n",
       "      <td>ALG</td>\n",
       "      <td>2016 Summer</td>\n",
       "      <td>2016</td>\n",
       "      <td>Summer</td>\n",
       "      <td>Rio de Janeiro</td>\n",
       "      <td>Boxing</td>\n",
       "      <td>Boxing Men's Middleweight</td>\n",
       "      <td>NaN</td>\n",
       "    </tr>\n",
       "    <tr>\n",
       "      <th>12</th>\n",
       "      <td>110</td>\n",
       "      <td>Abubakar Abbas Abbas</td>\n",
       "      <td>M</td>\n",
       "      <td>20.0</td>\n",
       "      <td>175.0</td>\n",
       "      <td>66.0</td>\n",
       "      <td>Bahrain</td>\n",
       "      <td>BRN</td>\n",
       "      <td>2016 Summer</td>\n",
       "      <td>2016</td>\n",
       "      <td>Summer</td>\n",
       "      <td>Rio de Janeiro</td>\n",
       "      <td>Athletics</td>\n",
       "      <td>Athletics Men's 400 metres</td>\n",
       "      <td>NaN</td>\n",
       "    </tr>\n",
       "    <tr>\n",
       "      <th>13</th>\n",
       "      <td>135</td>\n",
       "      <td>Lois Abbingh</td>\n",
       "      <td>F</td>\n",
       "      <td>23.0</td>\n",
       "      <td>178.0</td>\n",
       "      <td>72.0</td>\n",
       "      <td>Netherlands</td>\n",
       "      <td>NED</td>\n",
       "      <td>2016 Summer</td>\n",
       "      <td>2016</td>\n",
       "      <td>Summer</td>\n",
       "      <td>Rio de Janeiro</td>\n",
       "      <td>Handball</td>\n",
       "      <td>Handball Women's Handball</td>\n",
       "      <td>NaN</td>\n",
       "    </tr>\n",
       "    <tr>\n",
       "      <th>14</th>\n",
       "      <td>138</td>\n",
       "      <td>Salwan Jasim Abbood Abbood</td>\n",
       "      <td>M</td>\n",
       "      <td>24.0</td>\n",
       "      <td>180.0</td>\n",
       "      <td>104.0</td>\n",
       "      <td>Iraq</td>\n",
       "      <td>IRQ</td>\n",
       "      <td>2016 Summer</td>\n",
       "      <td>2016</td>\n",
       "      <td>Summer</td>\n",
       "      <td>Rio de Janeiro</td>\n",
       "      <td>Weightlifting</td>\n",
       "      <td>Weightlifting Men's Heavyweight</td>\n",
       "      <td>NaN</td>\n",
       "    </tr>\n",
       "    <tr>\n",
       "      <th>15</th>\n",
       "      <td>141</td>\n",
       "      <td>Clare Abbott</td>\n",
       "      <td>F</td>\n",
       "      <td>30.0</td>\n",
       "      <td>167.0</td>\n",
       "      <td>58.0</td>\n",
       "      <td>Ireland</td>\n",
       "      <td>IRL</td>\n",
       "      <td>2016 Summer</td>\n",
       "      <td>2016</td>\n",
       "      <td>Summer</td>\n",
       "      <td>Rio de Janeiro</td>\n",
       "      <td>Equestrianism</td>\n",
       "      <td>Equestrianism Mixed Three-Day Event, Individual</td>\n",
       "      <td>NaN</td>\n",
       "    </tr>\n",
       "    <tr>\n",
       "      <th>16</th>\n",
       "      <td>141</td>\n",
       "      <td>Clare Abbott</td>\n",
       "      <td>F</td>\n",
       "      <td>30.0</td>\n",
       "      <td>167.0</td>\n",
       "      <td>58.0</td>\n",
       "      <td>Ireland</td>\n",
       "      <td>IRL</td>\n",
       "      <td>2016 Summer</td>\n",
       "      <td>2016</td>\n",
       "      <td>Summer</td>\n",
       "      <td>Rio de Janeiro</td>\n",
       "      <td>Equestrianism</td>\n",
       "      <td>Equestrianism Mixed Three-Day Event, Team</td>\n",
       "      <td>NaN</td>\n",
       "    </tr>\n",
       "    <tr>\n",
       "      <th>17</th>\n",
       "      <td>149</td>\n",
       "      <td>Mara Katherine Abbott</td>\n",
       "      <td>F</td>\n",
       "      <td>30.0</td>\n",
       "      <td>163.0</td>\n",
       "      <td>52.0</td>\n",
       "      <td>United States</td>\n",
       "      <td>USA</td>\n",
       "      <td>2016 Summer</td>\n",
       "      <td>2016</td>\n",
       "      <td>Summer</td>\n",
       "      <td>Rio de Janeiro</td>\n",
       "      <td>Cycling</td>\n",
       "      <td>Cycling Women's Road Race, Individual</td>\n",
       "      <td>NaN</td>\n",
       "    </tr>\n",
       "    <tr>\n",
       "      <th>18</th>\n",
       "      <td>161</td>\n",
       "      <td>Hossam Abdalla</td>\n",
       "      <td>M</td>\n",
       "      <td>28.0</td>\n",
       "      <td>203.0</td>\n",
       "      <td>97.0</td>\n",
       "      <td>Egypt</td>\n",
       "      <td>EGY</td>\n",
       "      <td>2016 Summer</td>\n",
       "      <td>2016</td>\n",
       "      <td>Summer</td>\n",
       "      <td>Rio de Janeiro</td>\n",
       "      <td>Volleyball</td>\n",
       "      <td>Volleyball Men's Volleyball</td>\n",
       "      <td>NaN</td>\n",
       "    </tr>\n",
       "    <tr>\n",
       "      <th>19</th>\n",
       "      <td>170</td>\n",
       "      <td>Maha Abdalsalam Gouda</td>\n",
       "      <td>F</td>\n",
       "      <td>18.0</td>\n",
       "      <td>172.0</td>\n",
       "      <td>61.0</td>\n",
       "      <td>Egypt</td>\n",
       "      <td>EGY</td>\n",
       "      <td>2016 Summer</td>\n",
       "      <td>2016</td>\n",
       "      <td>Summer</td>\n",
       "      <td>Rio de Janeiro</td>\n",
       "      <td>Diving</td>\n",
       "      <td>Diving Women's Platform</td>\n",
       "      <td>NaN</td>\n",
       "    </tr>\n",
       "    <tr>\n",
       "      <th>20</th>\n",
       "      <td>203</td>\n",
       "      <td>Ahmed Abdel Naeim</td>\n",
       "      <td>M</td>\n",
       "      <td>31.0</td>\n",
       "      <td>197.0</td>\n",
       "      <td>87.0</td>\n",
       "      <td>Egypt</td>\n",
       "      <td>EGY</td>\n",
       "      <td>2016 Summer</td>\n",
       "      <td>2016</td>\n",
       "      <td>Summer</td>\n",
       "      <td>Rio de Janeiro</td>\n",
       "      <td>Volleyball</td>\n",
       "      <td>Volleyball Men's Volleyball</td>\n",
       "      <td>NaN</td>\n",
       "    </tr>\n",
       "    <tr>\n",
       "      <th>21</th>\n",
       "      <td>213</td>\n",
       "      <td>Samy Abdel Razek</td>\n",
       "      <td>M</td>\n",
       "      <td>36.0</td>\n",
       "      <td>170.0</td>\n",
       "      <td>60.0</td>\n",
       "      <td>Egypt</td>\n",
       "      <td>EGY</td>\n",
       "      <td>2016 Summer</td>\n",
       "      <td>2016</td>\n",
       "      <td>Summer</td>\n",
       "      <td>Rio de Janeiro</td>\n",
       "      <td>Shooting</td>\n",
       "      <td>Shooting Men's Air Pistol, 10 metres</td>\n",
       "      <td>NaN</td>\n",
       "    </tr>\n",
       "    <tr>\n",
       "      <th>22</th>\n",
       "      <td>213</td>\n",
       "      <td>Samy Abdel Razek</td>\n",
       "      <td>M</td>\n",
       "      <td>36.0</td>\n",
       "      <td>170.0</td>\n",
       "      <td>60.0</td>\n",
       "      <td>Egypt</td>\n",
       "      <td>EGY</td>\n",
       "      <td>2016 Summer</td>\n",
       "      <td>2016</td>\n",
       "      <td>Summer</td>\n",
       "      <td>Rio de Janeiro</td>\n",
       "      <td>Shooting</td>\n",
       "      <td>Shooting Men's Free Pistol, 50 metres</td>\n",
       "      <td>NaN</td>\n",
       "    </tr>\n",
       "    <tr>\n",
       "      <th>23</th>\n",
       "      <td>225</td>\n",
       "      <td>Shaimaa Abdel-Latif-Hashad</td>\n",
       "      <td>F</td>\n",
       "      <td>35.0</td>\n",
       "      <td>165.0</td>\n",
       "      <td>57.0</td>\n",
       "      <td>Egypt</td>\n",
       "      <td>EGY</td>\n",
       "      <td>2016 Summer</td>\n",
       "      <td>2016</td>\n",
       "      <td>Summer</td>\n",
       "      <td>Rio de Janeiro</td>\n",
       "      <td>Shooting</td>\n",
       "      <td>Shooting Women's Air Rifle, 10 metres</td>\n",
       "      <td>NaN</td>\n",
       "    </tr>\n",
       "    <tr>\n",
       "      <th>24</th>\n",
       "      <td>227</td>\n",
       "      <td>Ahmed Abdelaal</td>\n",
       "      <td>M</td>\n",
       "      <td>27.0</td>\n",
       "      <td>188.0</td>\n",
       "      <td>89.0</td>\n",
       "      <td>Egypt</td>\n",
       "      <td>EGY</td>\n",
       "      <td>2016 Summer</td>\n",
       "      <td>2016</td>\n",
       "      <td>Summer</td>\n",
       "      <td>Rio de Janeiro</td>\n",
       "      <td>Volleyball</td>\n",
       "      <td>Volleyball Men's Volleyball</td>\n",
       "      <td>NaN</td>\n",
       "    </tr>\n",
       "    <tr>\n",
       "      <th>25</th>\n",
       "      <td>228</td>\n",
       "      <td>Mahmoud Abdelaal</td>\n",
       "      <td>M</td>\n",
       "      <td>24.0</td>\n",
       "      <td>176.0</td>\n",
       "      <td>60.0</td>\n",
       "      <td>Egypt</td>\n",
       "      <td>EGY</td>\n",
       "      <td>2016 Summer</td>\n",
       "      <td>2016</td>\n",
       "      <td>Summer</td>\n",
       "      <td>Rio de Janeiro</td>\n",
       "      <td>Boxing</td>\n",
       "      <td>Boxing Men's Lightweight</td>\n",
       "      <td>NaN</td>\n",
       "    </tr>\n",
       "    <tr>\n",
       "      <th>26</th>\n",
       "      <td>229</td>\n",
       "      <td>Mohamed Ali Abdelaal</td>\n",
       "      <td>M</td>\n",
       "      <td>26.0</td>\n",
       "      <td>175.0</td>\n",
       "      <td>81.0</td>\n",
       "      <td>Egypt</td>\n",
       "      <td>EGY</td>\n",
       "      <td>2016 Summer</td>\n",
       "      <td>2016</td>\n",
       "      <td>Summer</td>\n",
       "      <td>Rio de Janeiro</td>\n",
       "      <td>Judo</td>\n",
       "      <td>Judo Men's Half-Middleweight</td>\n",
       "      <td>NaN</td>\n",
       "    </tr>\n",
       "    <tr>\n",
       "      <th>27</th>\n",
       "      <td>232</td>\n",
       "      <td>Ibrahim Ramadan Ibrahim Abdelbaki</td>\n",
       "      <td>M</td>\n",
       "      <td>28.0</td>\n",
       "      <td>173.0</td>\n",
       "      <td>77.0</td>\n",
       "      <td>Egypt</td>\n",
       "      <td>EGY</td>\n",
       "      <td>2016 Summer</td>\n",
       "      <td>2016</td>\n",
       "      <td>Summer</td>\n",
       "      <td>Rio de Janeiro</td>\n",
       "      <td>Weightlifting</td>\n",
       "      <td>Weightlifting Men's Middleweight</td>\n",
       "      <td>NaN</td>\n",
       "    </tr>\n",
       "    <tr>\n",
       "      <th>28</th>\n",
       "      <td>236</td>\n",
       "      <td>Ragab Abdelhay Saad Abdelrazek Abdallah</td>\n",
       "      <td>M</td>\n",
       "      <td>25.0</td>\n",
       "      <td>170.0</td>\n",
       "      <td>94.0</td>\n",
       "      <td>Egypt</td>\n",
       "      <td>EGY</td>\n",
       "      <td>2016 Summer</td>\n",
       "      <td>2016</td>\n",
       "      <td>Summer</td>\n",
       "      <td>Rio de Janeiro</td>\n",
       "      <td>Weightlifting</td>\n",
       "      <td>Weightlifting Men's Middle-Heavyweight</td>\n",
       "      <td>NaN</td>\n",
       "    </tr>\n",
       "    <tr>\n",
       "      <th>29</th>\n",
       "      <td>239</td>\n",
       "      <td>Ayoub Abdellaoui</td>\n",
       "      <td>M</td>\n",
       "      <td>23.0</td>\n",
       "      <td>184.0</td>\n",
       "      <td>68.0</td>\n",
       "      <td>Algeria</td>\n",
       "      <td>ALG</td>\n",
       "      <td>2016 Summer</td>\n",
       "      <td>2016</td>\n",
       "      <td>Summer</td>\n",
       "      <td>Rio de Janeiro</td>\n",
       "      <td>Football</td>\n",
       "      <td>Football Men's Football</td>\n",
       "      <td>NaN</td>\n",
       "    </tr>\n",
       "    <tr>\n",
       "      <th>...</th>\n",
       "      <td>...</td>\n",
       "      <td>...</td>\n",
       "      <td>...</td>\n",
       "      <td>...</td>\n",
       "      <td>...</td>\n",
       "      <td>...</td>\n",
       "      <td>...</td>\n",
       "      <td>...</td>\n",
       "      <td>...</td>\n",
       "      <td>...</td>\n",
       "      <td>...</td>\n",
       "      <td>...</td>\n",
       "      <td>...</td>\n",
       "      <td>...</td>\n",
       "      <td>...</td>\n",
       "    </tr>\n",
       "    <tr>\n",
       "      <th>13658</th>\n",
       "      <td>135236</td>\n",
       "      <td>Hamid Reza Zooravand</td>\n",
       "      <td>M</td>\n",
       "      <td>26.0</td>\n",
       "      <td>176.0</td>\n",
       "      <td>66.0</td>\n",
       "      <td>Iran</td>\n",
       "      <td>IRI</td>\n",
       "      <td>2016 Summer</td>\n",
       "      <td>2016</td>\n",
       "      <td>Summer</td>\n",
       "      <td>Rio de Janeiro</td>\n",
       "      <td>Athletics</td>\n",
       "      <td>Athletics Men's 20 kilometres Walk</td>\n",
       "      <td>NaN</td>\n",
       "    </tr>\n",
       "    <tr>\n",
       "      <th>13659</th>\n",
       "      <td>135245</td>\n",
       "      <td>Milenko Zori</td>\n",
       "      <td>M</td>\n",
       "      <td>27.0</td>\n",
       "      <td>179.0</td>\n",
       "      <td>73.0</td>\n",
       "      <td>Serbia</td>\n",
       "      <td>SRB</td>\n",
       "      <td>2016 Summer</td>\n",
       "      <td>2016</td>\n",
       "      <td>Summer</td>\n",
       "      <td>Rio de Janeiro</td>\n",
       "      <td>Canoeing</td>\n",
       "      <td>Canoeing Men's Kayak Doubles, 1,000 metres</td>\n",
       "      <td>Silver</td>\n",
       "    </tr>\n",
       "    <tr>\n",
       "      <th>13660</th>\n",
       "      <td>135245</td>\n",
       "      <td>Milenko Zori</td>\n",
       "      <td>M</td>\n",
       "      <td>27.0</td>\n",
       "      <td>179.0</td>\n",
       "      <td>73.0</td>\n",
       "      <td>Serbia</td>\n",
       "      <td>SRB</td>\n",
       "      <td>2016 Summer</td>\n",
       "      <td>2016</td>\n",
       "      <td>Summer</td>\n",
       "      <td>Rio de Janeiro</td>\n",
       "      <td>Canoeing</td>\n",
       "      <td>Canoeing Men's Kayak Fours, 1,000 metres</td>\n",
       "      <td>NaN</td>\n",
       "    </tr>\n",
       "    <tr>\n",
       "      <th>13661</th>\n",
       "      <td>135254</td>\n",
       "      <td>Uro Zorman</td>\n",
       "      <td>M</td>\n",
       "      <td>36.0</td>\n",
       "      <td>190.0</td>\n",
       "      <td>98.0</td>\n",
       "      <td>Slovenia</td>\n",
       "      <td>SLO</td>\n",
       "      <td>2016 Summer</td>\n",
       "      <td>2016</td>\n",
       "      <td>Summer</td>\n",
       "      <td>Rio de Janeiro</td>\n",
       "      <td>Handball</td>\n",
       "      <td>Handball Men's Handball</td>\n",
       "      <td>NaN</td>\n",
       "    </tr>\n",
       "    <tr>\n",
       "      <th>13662</th>\n",
       "      <td>135273</td>\n",
       "      <td>Zou Yuchen</td>\n",
       "      <td>M</td>\n",
       "      <td>20.0</td>\n",
       "      <td>203.0</td>\n",
       "      <td>107.0</td>\n",
       "      <td>China</td>\n",
       "      <td>CHN</td>\n",
       "      <td>2016 Summer</td>\n",
       "      <td>2016</td>\n",
       "      <td>Summer</td>\n",
       "      <td>Rio de Janeiro</td>\n",
       "      <td>Basketball</td>\n",
       "      <td>Basketball Men's Basketball</td>\n",
       "      <td>NaN</td>\n",
       "    </tr>\n",
       "    <tr>\n",
       "      <th>13663</th>\n",
       "      <td>135275</td>\n",
       "      <td>Rizlen Al-Zouak</td>\n",
       "      <td>F</td>\n",
       "      <td>30.0</td>\n",
       "      <td>164.0</td>\n",
       "      <td>63.0</td>\n",
       "      <td>Morocco</td>\n",
       "      <td>MAR</td>\n",
       "      <td>2016 Summer</td>\n",
       "      <td>2016</td>\n",
       "      <td>Summer</td>\n",
       "      <td>Rio de Janeiro</td>\n",
       "      <td>Judo</td>\n",
       "      <td>Judo Women's Half-Middleweight</td>\n",
       "      <td>NaN</td>\n",
       "    </tr>\n",
       "    <tr>\n",
       "      <th>13664</th>\n",
       "      <td>135287</td>\n",
       "      <td>Houd Zourdani</td>\n",
       "      <td>M</td>\n",
       "      <td>22.0</td>\n",
       "      <td>165.0</td>\n",
       "      <td>66.0</td>\n",
       "      <td>Algeria</td>\n",
       "      <td>ALG</td>\n",
       "      <td>2016 Summer</td>\n",
       "      <td>2016</td>\n",
       "      <td>Summer</td>\n",
       "      <td>Rio de Janeiro</td>\n",
       "      <td>Judo</td>\n",
       "      <td>Judo Men's Half-Lightweight</td>\n",
       "      <td>NaN</td>\n",
       "    </tr>\n",
       "    <tr>\n",
       "      <th>13665</th>\n",
       "      <td>135312</td>\n",
       "      <td>Gyrgyi Zsivczky-Farkas</td>\n",
       "      <td>F</td>\n",
       "      <td>31.0</td>\n",
       "      <td>170.0</td>\n",
       "      <td>60.0</td>\n",
       "      <td>Hungary</td>\n",
       "      <td>HUN</td>\n",
       "      <td>2016 Summer</td>\n",
       "      <td>2016</td>\n",
       "      <td>Summer</td>\n",
       "      <td>Rio de Janeiro</td>\n",
       "      <td>Athletics</td>\n",
       "      <td>Athletics Women's Heptathlon</td>\n",
       "      <td>NaN</td>\n",
       "    </tr>\n",
       "    <tr>\n",
       "      <th>13666</th>\n",
       "      <td>135318</td>\n",
       "      <td>Zu Lijun</td>\n",
       "      <td>M</td>\n",
       "      <td>26.0</td>\n",
       "      <td>188.0</td>\n",
       "      <td>87.0</td>\n",
       "      <td>China</td>\n",
       "      <td>CHN</td>\n",
       "      <td>2016 Summer</td>\n",
       "      <td>2016</td>\n",
       "      <td>Summer</td>\n",
       "      <td>Rio de Janeiro</td>\n",
       "      <td>Swimming</td>\n",
       "      <td>Swimming Men's 10 kilometres Open Water</td>\n",
       "      <td>NaN</td>\n",
       "    </tr>\n",
       "    <tr>\n",
       "      <th>13667</th>\n",
       "      <td>135332</td>\n",
       "      <td>Shahar Zubari</td>\n",
       "      <td>M</td>\n",
       "      <td>29.0</td>\n",
       "      <td>177.0</td>\n",
       "      <td>68.0</td>\n",
       "      <td>Israel</td>\n",
       "      <td>ISR</td>\n",
       "      <td>2016 Summer</td>\n",
       "      <td>2016</td>\n",
       "      <td>Summer</td>\n",
       "      <td>Rio de Janeiro</td>\n",
       "      <td>Sailing</td>\n",
       "      <td>Sailing Men's Windsurfer</td>\n",
       "      <td>NaN</td>\n",
       "    </tr>\n",
       "    <tr>\n",
       "      <th>13668</th>\n",
       "      <td>135350</td>\n",
       "      <td>Petra Zublasing</td>\n",
       "      <td>F</td>\n",
       "      <td>27.0</td>\n",
       "      <td>165.0</td>\n",
       "      <td>55.0</td>\n",
       "      <td>Italy</td>\n",
       "      <td>ITA</td>\n",
       "      <td>2016 Summer</td>\n",
       "      <td>2016</td>\n",
       "      <td>Summer</td>\n",
       "      <td>Rio de Janeiro</td>\n",
       "      <td>Shooting</td>\n",
       "      <td>Shooting Women's Air Rifle, 10 metres</td>\n",
       "      <td>NaN</td>\n",
       "    </tr>\n",
       "    <tr>\n",
       "      <th>13669</th>\n",
       "      <td>135350</td>\n",
       "      <td>Petra Zublasing</td>\n",
       "      <td>F</td>\n",
       "      <td>27.0</td>\n",
       "      <td>165.0</td>\n",
       "      <td>55.0</td>\n",
       "      <td>Italy</td>\n",
       "      <td>ITA</td>\n",
       "      <td>2016 Summer</td>\n",
       "      <td>2016</td>\n",
       "      <td>Summer</td>\n",
       "      <td>Rio de Janeiro</td>\n",
       "      <td>Shooting</td>\n",
       "      <td>Shooting Women's Small-Bore Rifle, Three Posit...</td>\n",
       "      <td>NaN</td>\n",
       "    </tr>\n",
       "    <tr>\n",
       "      <th>13670</th>\n",
       "      <td>135367</td>\n",
       "      <td>Pietro Zucchetti</td>\n",
       "      <td>M</td>\n",
       "      <td>35.0</td>\n",
       "      <td>188.0</td>\n",
       "      <td>82.0</td>\n",
       "      <td>Italy</td>\n",
       "      <td>ITA</td>\n",
       "      <td>2016 Summer</td>\n",
       "      <td>2016</td>\n",
       "      <td>Summer</td>\n",
       "      <td>Rio de Janeiro</td>\n",
       "      <td>Sailing</td>\n",
       "      <td>Sailing Men's Skiff</td>\n",
       "      <td>NaN</td>\n",
       "    </tr>\n",
       "    <tr>\n",
       "      <th>13671</th>\n",
       "      <td>135410</td>\n",
       "      <td>Zaidatul Husniah Zulkifli</td>\n",
       "      <td>F</td>\n",
       "      <td>22.0</td>\n",
       "      <td>156.0</td>\n",
       "      <td>40.0</td>\n",
       "      <td>Malaysia</td>\n",
       "      <td>MAS</td>\n",
       "      <td>2016 Summer</td>\n",
       "      <td>2016</td>\n",
       "      <td>Summer</td>\n",
       "      <td>Rio de Janeiro</td>\n",
       "      <td>Athletics</td>\n",
       "      <td>Athletics Women's 100 metres</td>\n",
       "      <td>NaN</td>\n",
       "    </tr>\n",
       "    <tr>\n",
       "      <th>13672</th>\n",
       "      <td>135413</td>\n",
       "      <td>Mara Victoria Zuloaga Arcodia</td>\n",
       "      <td>F</td>\n",
       "      <td>28.0</td>\n",
       "      <td>175.0</td>\n",
       "      <td>70.0</td>\n",
       "      <td>Argentina</td>\n",
       "      <td>ARG</td>\n",
       "      <td>2016 Summer</td>\n",
       "      <td>2016</td>\n",
       "      <td>Summer</td>\n",
       "      <td>Rio de Janeiro</td>\n",
       "      <td>Hockey</td>\n",
       "      <td>Hockey Women's Hockey</td>\n",
       "      <td>NaN</td>\n",
       "    </tr>\n",
       "    <tr>\n",
       "      <th>13673</th>\n",
       "      <td>135421</td>\n",
       "      <td>Goretti Alejandra Zumaya Flores</td>\n",
       "      <td>F</td>\n",
       "      <td>19.0</td>\n",
       "      <td>165.0</td>\n",
       "      <td>65.0</td>\n",
       "      <td>Mexico</td>\n",
       "      <td>MEX</td>\n",
       "      <td>2016 Summer</td>\n",
       "      <td>2016</td>\n",
       "      <td>Summer</td>\n",
       "      <td>Rio de Janeiro</td>\n",
       "      <td>Shooting</td>\n",
       "      <td>Shooting Women's Air Rifle, 10 metres</td>\n",
       "      <td>NaN</td>\n",
       "    </tr>\n",
       "    <tr>\n",
       "      <th>13674</th>\n",
       "      <td>135424</td>\n",
       "      <td>Nadine Zumkehr</td>\n",
       "      <td>F</td>\n",
       "      <td>31.0</td>\n",
       "      <td>172.0</td>\n",
       "      <td>64.0</td>\n",
       "      <td>Switzerland-1</td>\n",
       "      <td>SUI</td>\n",
       "      <td>2016 Summer</td>\n",
       "      <td>2016</td>\n",
       "      <td>Summer</td>\n",
       "      <td>Rio de Janeiro</td>\n",
       "      <td>Beach Volleyball</td>\n",
       "      <td>Beach Volleyball Women's Beach Volleyball</td>\n",
       "      <td>NaN</td>\n",
       "    </tr>\n",
       "    <tr>\n",
       "      <th>13675</th>\n",
       "      <td>135431</td>\n",
       "      <td>Stipe uni</td>\n",
       "      <td>M</td>\n",
       "      <td>25.0</td>\n",
       "      <td>193.0</td>\n",
       "      <td>134.0</td>\n",
       "      <td>Croatia</td>\n",
       "      <td>CRO</td>\n",
       "      <td>2016 Summer</td>\n",
       "      <td>2016</td>\n",
       "      <td>Summer</td>\n",
       "      <td>Rio de Janeiro</td>\n",
       "      <td>Athletics</td>\n",
       "      <td>Athletics Men's Shot Put</td>\n",
       "      <td>NaN</td>\n",
       "    </tr>\n",
       "    <tr>\n",
       "      <th>13676</th>\n",
       "      <td>135453</td>\n",
       "      <td>Kelita Zupancic</td>\n",
       "      <td>F</td>\n",
       "      <td>26.0</td>\n",
       "      <td>169.0</td>\n",
       "      <td>70.0</td>\n",
       "      <td>Canada</td>\n",
       "      <td>CAN</td>\n",
       "      <td>2016 Summer</td>\n",
       "      <td>2016</td>\n",
       "      <td>Summer</td>\n",
       "      <td>Rio de Janeiro</td>\n",
       "      <td>Judo</td>\n",
       "      <td>Judo Women's Middleweight</td>\n",
       "      <td>NaN</td>\n",
       "    </tr>\n",
       "    <tr>\n",
       "      <th>13677</th>\n",
       "      <td>135477</td>\n",
       "      <td>Vaida sinait</td>\n",
       "      <td>F</td>\n",
       "      <td>28.0</td>\n",
       "      <td>167.0</td>\n",
       "      <td>50.0</td>\n",
       "      <td>Lithuania</td>\n",
       "      <td>LTU</td>\n",
       "      <td>2016 Summer</td>\n",
       "      <td>2016</td>\n",
       "      <td>Summer</td>\n",
       "      <td>Rio de Janeiro</td>\n",
       "      <td>Athletics</td>\n",
       "      <td>Athletics Women's Marathon</td>\n",
       "      <td>NaN</td>\n",
       "    </tr>\n",
       "    <tr>\n",
       "      <th>13678</th>\n",
       "      <td>135478</td>\n",
       "      <td>Henrikas ustautas</td>\n",
       "      <td>M</td>\n",
       "      <td>22.0</td>\n",
       "      <td>192.0</td>\n",
       "      <td>96.0</td>\n",
       "      <td>Lithuania</td>\n",
       "      <td>LTU</td>\n",
       "      <td>2016 Summer</td>\n",
       "      <td>2016</td>\n",
       "      <td>Summer</td>\n",
       "      <td>Rio de Janeiro</td>\n",
       "      <td>Canoeing</td>\n",
       "      <td>Canoeing Men's Canadian Singles, 200 metres</td>\n",
       "      <td>NaN</td>\n",
       "    </tr>\n",
       "    <tr>\n",
       "      <th>13679</th>\n",
       "      <td>135489</td>\n",
       "      <td>Anastasiya Valeryevna Zuyeva-Fesikova</td>\n",
       "      <td>F</td>\n",
       "      <td>26.0</td>\n",
       "      <td>182.0</td>\n",
       "      <td>71.0</td>\n",
       "      <td>Russia</td>\n",
       "      <td>RUS</td>\n",
       "      <td>2016 Summer</td>\n",
       "      <td>2016</td>\n",
       "      <td>Summer</td>\n",
       "      <td>Rio de Janeiro</td>\n",
       "      <td>Swimming</td>\n",
       "      <td>Swimming Women's 100 metres Backstroke</td>\n",
       "      <td>NaN</td>\n",
       "    </tr>\n",
       "    <tr>\n",
       "      <th>13680</th>\n",
       "      <td>135489</td>\n",
       "      <td>Anastasiya Valeryevna Zuyeva-Fesikova</td>\n",
       "      <td>F</td>\n",
       "      <td>26.0</td>\n",
       "      <td>182.0</td>\n",
       "      <td>71.0</td>\n",
       "      <td>Russia</td>\n",
       "      <td>RUS</td>\n",
       "      <td>2016 Summer</td>\n",
       "      <td>2016</td>\n",
       "      <td>Summer</td>\n",
       "      <td>Rio de Janeiro</td>\n",
       "      <td>Swimming</td>\n",
       "      <td>Swimming Women's 200 metres Backstroke</td>\n",
       "      <td>NaN</td>\n",
       "    </tr>\n",
       "    <tr>\n",
       "      <th>13681</th>\n",
       "      <td>135489</td>\n",
       "      <td>Anastasiya Valeryevna Zuyeva-Fesikova</td>\n",
       "      <td>F</td>\n",
       "      <td>26.0</td>\n",
       "      <td>182.0</td>\n",
       "      <td>71.0</td>\n",
       "      <td>Russia</td>\n",
       "      <td>RUS</td>\n",
       "      <td>2016 Summer</td>\n",
       "      <td>2016</td>\n",
       "      <td>Summer</td>\n",
       "      <td>Rio de Janeiro</td>\n",
       "      <td>Swimming</td>\n",
       "      <td>Swimming Women's 4 x 100 metres Medley Relay</td>\n",
       "      <td>NaN</td>\n",
       "    </tr>\n",
       "    <tr>\n",
       "      <th>13682</th>\n",
       "      <td>135525</td>\n",
       "      <td>Martin Zwicker</td>\n",
       "      <td>M</td>\n",
       "      <td>29.0</td>\n",
       "      <td>175.0</td>\n",
       "      <td>64.0</td>\n",
       "      <td>Germany</td>\n",
       "      <td>GER</td>\n",
       "      <td>2016 Summer</td>\n",
       "      <td>2016</td>\n",
       "      <td>Summer</td>\n",
       "      <td>Rio de Janeiro</td>\n",
       "      <td>Hockey</td>\n",
       "      <td>Hockey Men's Hockey</td>\n",
       "      <td>Bronze</td>\n",
       "    </tr>\n",
       "    <tr>\n",
       "      <th>13683</th>\n",
       "      <td>135528</td>\n",
       "      <td>Marc Zwiebler</td>\n",
       "      <td>M</td>\n",
       "      <td>32.0</td>\n",
       "      <td>181.0</td>\n",
       "      <td>75.0</td>\n",
       "      <td>Germany</td>\n",
       "      <td>GER</td>\n",
       "      <td>2016 Summer</td>\n",
       "      <td>2016</td>\n",
       "      <td>Summer</td>\n",
       "      <td>Rio de Janeiro</td>\n",
       "      <td>Badminton</td>\n",
       "      <td>Badminton Men's Singles</td>\n",
       "      <td>NaN</td>\n",
       "    </tr>\n",
       "    <tr>\n",
       "      <th>13684</th>\n",
       "      <td>135547</td>\n",
       "      <td>Viktoriya Viktorovna Zyabkina</td>\n",
       "      <td>F</td>\n",
       "      <td>23.0</td>\n",
       "      <td>174.0</td>\n",
       "      <td>62.0</td>\n",
       "      <td>Kazakhstan</td>\n",
       "      <td>KAZ</td>\n",
       "      <td>2016 Summer</td>\n",
       "      <td>2016</td>\n",
       "      <td>Summer</td>\n",
       "      <td>Rio de Janeiro</td>\n",
       "      <td>Athletics</td>\n",
       "      <td>Athletics Women's 100 metres</td>\n",
       "      <td>NaN</td>\n",
       "    </tr>\n",
       "    <tr>\n",
       "      <th>13685</th>\n",
       "      <td>135547</td>\n",
       "      <td>Viktoriya Viktorovna Zyabkina</td>\n",
       "      <td>F</td>\n",
       "      <td>23.0</td>\n",
       "      <td>174.0</td>\n",
       "      <td>62.0</td>\n",
       "      <td>Kazakhstan</td>\n",
       "      <td>KAZ</td>\n",
       "      <td>2016 Summer</td>\n",
       "      <td>2016</td>\n",
       "      <td>Summer</td>\n",
       "      <td>Rio de Janeiro</td>\n",
       "      <td>Athletics</td>\n",
       "      <td>Athletics Women's 200 metres</td>\n",
       "      <td>NaN</td>\n",
       "    </tr>\n",
       "    <tr>\n",
       "      <th>13686</th>\n",
       "      <td>135547</td>\n",
       "      <td>Viktoriya Viktorovna Zyabkina</td>\n",
       "      <td>F</td>\n",
       "      <td>23.0</td>\n",
       "      <td>174.0</td>\n",
       "      <td>62.0</td>\n",
       "      <td>Kazakhstan</td>\n",
       "      <td>KAZ</td>\n",
       "      <td>2016 Summer</td>\n",
       "      <td>2016</td>\n",
       "      <td>Summer</td>\n",
       "      <td>Rio de Janeiro</td>\n",
       "      <td>Athletics</td>\n",
       "      <td>Athletics Women's 4 x 100 metres Relay</td>\n",
       "      <td>NaN</td>\n",
       "    </tr>\n",
       "    <tr>\n",
       "      <th>13687</th>\n",
       "      <td>135568</td>\n",
       "      <td>Olga Igorevna Zyuzkova</td>\n",
       "      <td>F</td>\n",
       "      <td>33.0</td>\n",
       "      <td>171.0</td>\n",
       "      <td>69.0</td>\n",
       "      <td>Belarus</td>\n",
       "      <td>BLR</td>\n",
       "      <td>2016 Summer</td>\n",
       "      <td>2016</td>\n",
       "      <td>Summer</td>\n",
       "      <td>Rio de Janeiro</td>\n",
       "      <td>Basketball</td>\n",
       "      <td>Basketball Women's Basketball</td>\n",
       "      <td>NaN</td>\n",
       "    </tr>\n",
       "  </tbody>\n",
       "</table>\n",
       "<p>13688 rows × 15 columns</p>\n",
       "</div>"
      ],
      "text/plain": [
       "           ID                                     Name Sex   Age  Height  \\\n",
       "0          22                            Andreea Aanei   F  22.0   170.0   \n",
       "1          51                        Nstor Abad Sanjun   M  23.0   167.0   \n",
       "2          51                        Nstor Abad Sanjun   M  23.0   167.0   \n",
       "3          51                        Nstor Abad Sanjun   M  23.0   167.0   \n",
       "4          51                        Nstor Abad Sanjun   M  23.0   167.0   \n",
       "5          51                        Nstor Abad Sanjun   M  23.0   167.0   \n",
       "6          51                        Nstor Abad Sanjun   M  23.0   167.0   \n",
       "7          55                      Antonio Abadia Beci   M  26.0   170.0   \n",
       "8          62                        Giovanni Abagnale   M  21.0   198.0   \n",
       "9          65                        Patimat Abakarova   F  21.0   165.0   \n",
       "10         73                                Luc Abalo   M  31.0   182.0   \n",
       "11        105                             Ilyas Abbadi   M  23.0   175.0   \n",
       "12        110                     Abubakar Abbas Abbas   M  20.0   175.0   \n",
       "13        135                             Lois Abbingh   F  23.0   178.0   \n",
       "14        138               Salwan Jasim Abbood Abbood   M  24.0   180.0   \n",
       "15        141                             Clare Abbott   F  30.0   167.0   \n",
       "16        141                             Clare Abbott   F  30.0   167.0   \n",
       "17        149                    Mara Katherine Abbott   F  30.0   163.0   \n",
       "18        161                           Hossam Abdalla   M  28.0   203.0   \n",
       "19        170                    Maha Abdalsalam Gouda   F  18.0   172.0   \n",
       "20        203                        Ahmed Abdel Naeim   M  31.0   197.0   \n",
       "21        213                         Samy Abdel Razek   M  36.0   170.0   \n",
       "22        213                         Samy Abdel Razek   M  36.0   170.0   \n",
       "23        225               Shaimaa Abdel-Latif-Hashad   F  35.0   165.0   \n",
       "24        227                           Ahmed Abdelaal   M  27.0   188.0   \n",
       "25        228                         Mahmoud Abdelaal   M  24.0   176.0   \n",
       "26        229                     Mohamed Ali Abdelaal   M  26.0   175.0   \n",
       "27        232        Ibrahim Ramadan Ibrahim Abdelbaki   M  28.0   173.0   \n",
       "28        236  Ragab Abdelhay Saad Abdelrazek Abdallah   M  25.0   170.0   \n",
       "29        239                         Ayoub Abdellaoui   M  23.0   184.0   \n",
       "...       ...                                      ...  ..   ...     ...   \n",
       "13658  135236                     Hamid Reza Zooravand   M  26.0   176.0   \n",
       "13659  135245                             Milenko Zori   M  27.0   179.0   \n",
       "13660  135245                             Milenko Zori   M  27.0   179.0   \n",
       "13661  135254                               Uro Zorman   M  36.0   190.0   \n",
       "13662  135273                               Zou Yuchen   M  20.0   203.0   \n",
       "13663  135275                          Rizlen Al-Zouak   F  30.0   164.0   \n",
       "13664  135287                            Houd Zourdani   M  22.0   165.0   \n",
       "13665  135312                   Gyrgyi Zsivczky-Farkas   F  31.0   170.0   \n",
       "13666  135318                                 Zu Lijun   M  26.0   188.0   \n",
       "13667  135332                            Shahar Zubari   M  29.0   177.0   \n",
       "13668  135350                          Petra Zublasing   F  27.0   165.0   \n",
       "13669  135350                          Petra Zublasing   F  27.0   165.0   \n",
       "13670  135367                         Pietro Zucchetti   M  35.0   188.0   \n",
       "13671  135410                Zaidatul Husniah Zulkifli   F  22.0   156.0   \n",
       "13672  135413            Mara Victoria Zuloaga Arcodia   F  28.0   175.0   \n",
       "13673  135421          Goretti Alejandra Zumaya Flores   F  19.0   165.0   \n",
       "13674  135424                           Nadine Zumkehr   F  31.0   172.0   \n",
       "13675  135431                                Stipe uni   M  25.0   193.0   \n",
       "13676  135453                          Kelita Zupancic   F  26.0   169.0   \n",
       "13677  135477                             Vaida sinait   F  28.0   167.0   \n",
       "13678  135478                        Henrikas ustautas   M  22.0   192.0   \n",
       "13679  135489    Anastasiya Valeryevna Zuyeva-Fesikova   F  26.0   182.0   \n",
       "13680  135489    Anastasiya Valeryevna Zuyeva-Fesikova   F  26.0   182.0   \n",
       "13681  135489    Anastasiya Valeryevna Zuyeva-Fesikova   F  26.0   182.0   \n",
       "13682  135525                           Martin Zwicker   M  29.0   175.0   \n",
       "13683  135528                            Marc Zwiebler   M  32.0   181.0   \n",
       "13684  135547            Viktoriya Viktorovna Zyabkina   F  23.0   174.0   \n",
       "13685  135547            Viktoriya Viktorovna Zyabkina   F  23.0   174.0   \n",
       "13686  135547            Viktoriya Viktorovna Zyabkina   F  23.0   174.0   \n",
       "13687  135568                   Olga Igorevna Zyuzkova   F  33.0   171.0   \n",
       "\n",
       "       Weight           Team  NOC        Games  Year  Season            City  \\\n",
       "0       125.0        Romania  ROU  2016 Summer  2016  Summer  Rio de Janeiro   \n",
       "1        64.0          Spain  ESP  2016 Summer  2016  Summer  Rio de Janeiro   \n",
       "2        64.0          Spain  ESP  2016 Summer  2016  Summer  Rio de Janeiro   \n",
       "3        64.0          Spain  ESP  2016 Summer  2016  Summer  Rio de Janeiro   \n",
       "4        64.0          Spain  ESP  2016 Summer  2016  Summer  Rio de Janeiro   \n",
       "5        64.0          Spain  ESP  2016 Summer  2016  Summer  Rio de Janeiro   \n",
       "6        64.0          Spain  ESP  2016 Summer  2016  Summer  Rio de Janeiro   \n",
       "7        65.0          Spain  ESP  2016 Summer  2016  Summer  Rio de Janeiro   \n",
       "8        90.0          Italy  ITA  2016 Summer  2016  Summer  Rio de Janeiro   \n",
       "9        49.0     Azerbaijan  AZE  2016 Summer  2016  Summer  Rio de Janeiro   \n",
       "10       86.0         France  FRA  2016 Summer  2016  Summer  Rio de Janeiro   \n",
       "11       75.0        Algeria  ALG  2016 Summer  2016  Summer  Rio de Janeiro   \n",
       "12       66.0        Bahrain  BRN  2016 Summer  2016  Summer  Rio de Janeiro   \n",
       "13       72.0    Netherlands  NED  2016 Summer  2016  Summer  Rio de Janeiro   \n",
       "14      104.0           Iraq  IRQ  2016 Summer  2016  Summer  Rio de Janeiro   \n",
       "15       58.0        Ireland  IRL  2016 Summer  2016  Summer  Rio de Janeiro   \n",
       "16       58.0        Ireland  IRL  2016 Summer  2016  Summer  Rio de Janeiro   \n",
       "17       52.0  United States  USA  2016 Summer  2016  Summer  Rio de Janeiro   \n",
       "18       97.0          Egypt  EGY  2016 Summer  2016  Summer  Rio de Janeiro   \n",
       "19       61.0          Egypt  EGY  2016 Summer  2016  Summer  Rio de Janeiro   \n",
       "20       87.0          Egypt  EGY  2016 Summer  2016  Summer  Rio de Janeiro   \n",
       "21       60.0          Egypt  EGY  2016 Summer  2016  Summer  Rio de Janeiro   \n",
       "22       60.0          Egypt  EGY  2016 Summer  2016  Summer  Rio de Janeiro   \n",
       "23       57.0          Egypt  EGY  2016 Summer  2016  Summer  Rio de Janeiro   \n",
       "24       89.0          Egypt  EGY  2016 Summer  2016  Summer  Rio de Janeiro   \n",
       "25       60.0          Egypt  EGY  2016 Summer  2016  Summer  Rio de Janeiro   \n",
       "26       81.0          Egypt  EGY  2016 Summer  2016  Summer  Rio de Janeiro   \n",
       "27       77.0          Egypt  EGY  2016 Summer  2016  Summer  Rio de Janeiro   \n",
       "28       94.0          Egypt  EGY  2016 Summer  2016  Summer  Rio de Janeiro   \n",
       "29       68.0        Algeria  ALG  2016 Summer  2016  Summer  Rio de Janeiro   \n",
       "...       ...            ...  ...          ...   ...     ...             ...   \n",
       "13658    66.0           Iran  IRI  2016 Summer  2016  Summer  Rio de Janeiro   \n",
       "13659    73.0         Serbia  SRB  2016 Summer  2016  Summer  Rio de Janeiro   \n",
       "13660    73.0         Serbia  SRB  2016 Summer  2016  Summer  Rio de Janeiro   \n",
       "13661    98.0       Slovenia  SLO  2016 Summer  2016  Summer  Rio de Janeiro   \n",
       "13662   107.0          China  CHN  2016 Summer  2016  Summer  Rio de Janeiro   \n",
       "13663    63.0        Morocco  MAR  2016 Summer  2016  Summer  Rio de Janeiro   \n",
       "13664    66.0        Algeria  ALG  2016 Summer  2016  Summer  Rio de Janeiro   \n",
       "13665    60.0        Hungary  HUN  2016 Summer  2016  Summer  Rio de Janeiro   \n",
       "13666    87.0          China  CHN  2016 Summer  2016  Summer  Rio de Janeiro   \n",
       "13667    68.0         Israel  ISR  2016 Summer  2016  Summer  Rio de Janeiro   \n",
       "13668    55.0          Italy  ITA  2016 Summer  2016  Summer  Rio de Janeiro   \n",
       "13669    55.0          Italy  ITA  2016 Summer  2016  Summer  Rio de Janeiro   \n",
       "13670    82.0          Italy  ITA  2016 Summer  2016  Summer  Rio de Janeiro   \n",
       "13671    40.0       Malaysia  MAS  2016 Summer  2016  Summer  Rio de Janeiro   \n",
       "13672    70.0      Argentina  ARG  2016 Summer  2016  Summer  Rio de Janeiro   \n",
       "13673    65.0         Mexico  MEX  2016 Summer  2016  Summer  Rio de Janeiro   \n",
       "13674    64.0  Switzerland-1  SUI  2016 Summer  2016  Summer  Rio de Janeiro   \n",
       "13675   134.0        Croatia  CRO  2016 Summer  2016  Summer  Rio de Janeiro   \n",
       "13676    70.0         Canada  CAN  2016 Summer  2016  Summer  Rio de Janeiro   \n",
       "13677    50.0      Lithuania  LTU  2016 Summer  2016  Summer  Rio de Janeiro   \n",
       "13678    96.0      Lithuania  LTU  2016 Summer  2016  Summer  Rio de Janeiro   \n",
       "13679    71.0         Russia  RUS  2016 Summer  2016  Summer  Rio de Janeiro   \n",
       "13680    71.0         Russia  RUS  2016 Summer  2016  Summer  Rio de Janeiro   \n",
       "13681    71.0         Russia  RUS  2016 Summer  2016  Summer  Rio de Janeiro   \n",
       "13682    64.0        Germany  GER  2016 Summer  2016  Summer  Rio de Janeiro   \n",
       "13683    75.0        Germany  GER  2016 Summer  2016  Summer  Rio de Janeiro   \n",
       "13684    62.0     Kazakhstan  KAZ  2016 Summer  2016  Summer  Rio de Janeiro   \n",
       "13685    62.0     Kazakhstan  KAZ  2016 Summer  2016  Summer  Rio de Janeiro   \n",
       "13686    62.0     Kazakhstan  KAZ  2016 Summer  2016  Summer  Rio de Janeiro   \n",
       "13687    69.0        Belarus  BLR  2016 Summer  2016  Summer  Rio de Janeiro   \n",
       "\n",
       "                  Sport                                              Event  \\\n",
       "0         Weightlifting            Weightlifting Women's Super-Heavyweight   \n",
       "1            Gymnastics             Gymnastics Men's Individual All-Around   \n",
       "2            Gymnastics                    Gymnastics Men's Floor Exercise   \n",
       "3            Gymnastics                     Gymnastics Men's Parallel Bars   \n",
       "4            Gymnastics                    Gymnastics Men's Horizontal Bar   \n",
       "5            Gymnastics                             Gymnastics Men's Rings   \n",
       "6            Gymnastics                   Gymnastics Men's Pommelled Horse   \n",
       "7             Athletics                       Athletics Men's 5,000 metres   \n",
       "8                Rowing                         Rowing Men's Coxless Pairs   \n",
       "9             Taekwondo                        Taekwondo Women's Flyweight   \n",
       "10             Handball                            Handball Men's Handball   \n",
       "11               Boxing                          Boxing Men's Middleweight   \n",
       "12            Athletics                         Athletics Men's 400 metres   \n",
       "13             Handball                          Handball Women's Handball   \n",
       "14        Weightlifting                    Weightlifting Men's Heavyweight   \n",
       "15        Equestrianism    Equestrianism Mixed Three-Day Event, Individual   \n",
       "16        Equestrianism          Equestrianism Mixed Three-Day Event, Team   \n",
       "17              Cycling              Cycling Women's Road Race, Individual   \n",
       "18           Volleyball                        Volleyball Men's Volleyball   \n",
       "19               Diving                            Diving Women's Platform   \n",
       "20           Volleyball                        Volleyball Men's Volleyball   \n",
       "21             Shooting               Shooting Men's Air Pistol, 10 metres   \n",
       "22             Shooting              Shooting Men's Free Pistol, 50 metres   \n",
       "23             Shooting              Shooting Women's Air Rifle, 10 metres   \n",
       "24           Volleyball                        Volleyball Men's Volleyball   \n",
       "25               Boxing                           Boxing Men's Lightweight   \n",
       "26                 Judo                       Judo Men's Half-Middleweight   \n",
       "27        Weightlifting                   Weightlifting Men's Middleweight   \n",
       "28        Weightlifting             Weightlifting Men's Middle-Heavyweight   \n",
       "29             Football                            Football Men's Football   \n",
       "...                 ...                                                ...   \n",
       "13658         Athletics                 Athletics Men's 20 kilometres Walk   \n",
       "13659          Canoeing         Canoeing Men's Kayak Doubles, 1,000 metres   \n",
       "13660          Canoeing           Canoeing Men's Kayak Fours, 1,000 metres   \n",
       "13661          Handball                            Handball Men's Handball   \n",
       "13662        Basketball                        Basketball Men's Basketball   \n",
       "13663              Judo                     Judo Women's Half-Middleweight   \n",
       "13664              Judo                        Judo Men's Half-Lightweight   \n",
       "13665         Athletics                       Athletics Women's Heptathlon   \n",
       "13666          Swimming            Swimming Men's 10 kilometres Open Water   \n",
       "13667           Sailing                           Sailing Men's Windsurfer   \n",
       "13668          Shooting              Shooting Women's Air Rifle, 10 metres   \n",
       "13669          Shooting  Shooting Women's Small-Bore Rifle, Three Posit...   \n",
       "13670           Sailing                                Sailing Men's Skiff   \n",
       "13671         Athletics                       Athletics Women's 100 metres   \n",
       "13672            Hockey                              Hockey Women's Hockey   \n",
       "13673          Shooting              Shooting Women's Air Rifle, 10 metres   \n",
       "13674  Beach Volleyball          Beach Volleyball Women's Beach Volleyball   \n",
       "13675         Athletics                           Athletics Men's Shot Put   \n",
       "13676              Judo                          Judo Women's Middleweight   \n",
       "13677         Athletics                         Athletics Women's Marathon   \n",
       "13678          Canoeing        Canoeing Men's Canadian Singles, 200 metres   \n",
       "13679          Swimming             Swimming Women's 100 metres Backstroke   \n",
       "13680          Swimming             Swimming Women's 200 metres Backstroke   \n",
       "13681          Swimming       Swimming Women's 4 x 100 metres Medley Relay   \n",
       "13682            Hockey                                Hockey Men's Hockey   \n",
       "13683         Badminton                            Badminton Men's Singles   \n",
       "13684         Athletics                       Athletics Women's 100 metres   \n",
       "13685         Athletics                       Athletics Women's 200 metres   \n",
       "13686         Athletics             Athletics Women's 4 x 100 metres Relay   \n",
       "13687        Basketball                      Basketball Women's Basketball   \n",
       "\n",
       "        Medal  \n",
       "0         NaN  \n",
       "1         NaN  \n",
       "2         NaN  \n",
       "3         NaN  \n",
       "4         NaN  \n",
       "5         NaN  \n",
       "6         NaN  \n",
       "7         NaN  \n",
       "8      Bronze  \n",
       "9      Bronze  \n",
       "10     Silver  \n",
       "11        NaN  \n",
       "12        NaN  \n",
       "13        NaN  \n",
       "14        NaN  \n",
       "15        NaN  \n",
       "16        NaN  \n",
       "17        NaN  \n",
       "18        NaN  \n",
       "19        NaN  \n",
       "20        NaN  \n",
       "21        NaN  \n",
       "22        NaN  \n",
       "23        NaN  \n",
       "24        NaN  \n",
       "25        NaN  \n",
       "26        NaN  \n",
       "27        NaN  \n",
       "28        NaN  \n",
       "29        NaN  \n",
       "...       ...  \n",
       "13658     NaN  \n",
       "13659  Silver  \n",
       "13660     NaN  \n",
       "13661     NaN  \n",
       "13662     NaN  \n",
       "13663     NaN  \n",
       "13664     NaN  \n",
       "13665     NaN  \n",
       "13666     NaN  \n",
       "13667     NaN  \n",
       "13668     NaN  \n",
       "13669     NaN  \n",
       "13670     NaN  \n",
       "13671     NaN  \n",
       "13672     NaN  \n",
       "13673     NaN  \n",
       "13674     NaN  \n",
       "13675     NaN  \n",
       "13676     NaN  \n",
       "13677     NaN  \n",
       "13678     NaN  \n",
       "13679     NaN  \n",
       "13680     NaN  \n",
       "13681     NaN  \n",
       "13682  Bronze  \n",
       "13683     NaN  \n",
       "13684     NaN  \n",
       "13685     NaN  \n",
       "13686     NaN  \n",
       "13687     NaN  \n",
       "\n",
       "[13688 rows x 15 columns]"
      ]
     },
     "execution_count": 60,
     "metadata": {},
     "output_type": "execute_result"
    }
   ],
   "source": [
    "data_latest.drop(columns='index')"
   ]
  },
  {
   "cell_type": "code",
   "execution_count": 61,
   "metadata": {
    "ExecuteTime": {
     "end_time": "2020-12-08T16:37:06.928753Z",
     "start_time": "2020-12-08T16:37:06.900761Z"
    }
   },
   "outputs": [
    {
     "data": {
      "text/plain": [
       "index         0\n",
       "ID            0\n",
       "Name          0\n",
       "Sex           0\n",
       "Age           0\n",
       "Height      176\n",
       "Weight      223\n",
       "Team          0\n",
       "NOC           0\n",
       "Games         0\n",
       "Year          0\n",
       "Season        0\n",
       "City          0\n",
       "Sport         0\n",
       "Event         0\n",
       "Medal     11665\n",
       "dtype: int64"
      ]
     },
     "execution_count": 61,
     "metadata": {},
     "output_type": "execute_result"
    }
   ],
   "source": [
    "data_latest.isnull().sum()"
   ]
  },
  {
   "cell_type": "code",
   "execution_count": 62,
   "metadata": {
    "ExecuteTime": {
     "end_time": "2020-12-08T16:37:07.656138Z",
     "start_time": "2020-12-08T16:37:07.592149Z"
    }
   },
   "outputs": [
    {
     "data": {
      "text/html": [
       "<div>\n",
       "<style scoped>\n",
       "    .dataframe tbody tr th:only-of-type {\n",
       "        vertical-align: middle;\n",
       "    }\n",
       "\n",
       "    .dataframe tbody tr th {\n",
       "        vertical-align: top;\n",
       "    }\n",
       "\n",
       "    .dataframe thead th {\n",
       "        text-align: right;\n",
       "    }\n",
       "</style>\n",
       "<table border=\"1\" class=\"dataframe\">\n",
       "  <thead>\n",
       "    <tr style=\"text-align: right;\">\n",
       "      <th></th>\n",
       "      <th>index</th>\n",
       "      <th>ID</th>\n",
       "      <th>Age</th>\n",
       "      <th>Height</th>\n",
       "      <th>Weight</th>\n",
       "      <th>Year</th>\n",
       "    </tr>\n",
       "  </thead>\n",
       "  <tbody>\n",
       "    <tr>\n",
       "      <th>count</th>\n",
       "      <td>13688.000000</td>\n",
       "      <td>13688.000000</td>\n",
       "      <td>13688.000000</td>\n",
       "      <td>13512.000000</td>\n",
       "      <td>13465.000000</td>\n",
       "      <td>13688.0</td>\n",
       "    </tr>\n",
       "    <tr>\n",
       "      <th>mean</th>\n",
       "      <td>135366.955289</td>\n",
       "      <td>68145.304135</td>\n",
       "      <td>26.207919</td>\n",
       "      <td>176.034266</td>\n",
       "      <td>70.988637</td>\n",
       "      <td>2016.0</td>\n",
       "    </tr>\n",
       "    <tr>\n",
       "      <th>std</th>\n",
       "      <td>79683.915472</td>\n",
       "      <td>39735.448448</td>\n",
       "      <td>5.560367</td>\n",
       "      <td>11.440259</td>\n",
       "      <td>15.715083</td>\n",
       "      <td>0.0</td>\n",
       "    </tr>\n",
       "    <tr>\n",
       "      <th>min</th>\n",
       "      <td>80.000000</td>\n",
       "      <td>22.000000</td>\n",
       "      <td>13.000000</td>\n",
       "      <td>133.000000</td>\n",
       "      <td>30.000000</td>\n",
       "      <td>2016.0</td>\n",
       "    </tr>\n",
       "    <tr>\n",
       "      <th>25%</th>\n",
       "      <td>64650.750000</td>\n",
       "      <td>33079.000000</td>\n",
       "      <td>22.000000</td>\n",
       "      <td>168.000000</td>\n",
       "      <td>60.000000</td>\n",
       "      <td>2016.0</td>\n",
       "    </tr>\n",
       "    <tr>\n",
       "      <th>50%</th>\n",
       "      <td>138031.500000</td>\n",
       "      <td>69360.000000</td>\n",
       "      <td>26.000000</td>\n",
       "      <td>175.000000</td>\n",
       "      <td>69.000000</td>\n",
       "      <td>2016.0</td>\n",
       "    </tr>\n",
       "    <tr>\n",
       "      <th>75%</th>\n",
       "      <td>203569.250000</td>\n",
       "      <td>102201.000000</td>\n",
       "      <td>29.000000</td>\n",
       "      <td>184.000000</td>\n",
       "      <td>80.000000</td>\n",
       "      <td>2016.0</td>\n",
       "    </tr>\n",
       "    <tr>\n",
       "      <th>max</th>\n",
       "      <td>271110.000000</td>\n",
       "      <td>135568.000000</td>\n",
       "      <td>62.000000</td>\n",
       "      <td>218.000000</td>\n",
       "      <td>170.000000</td>\n",
       "      <td>2016.0</td>\n",
       "    </tr>\n",
       "  </tbody>\n",
       "</table>\n",
       "</div>"
      ],
      "text/plain": [
       "               index             ID           Age        Height        Weight  \\\n",
       "count   13688.000000   13688.000000  13688.000000  13512.000000  13465.000000   \n",
       "mean   135366.955289   68145.304135     26.207919    176.034266     70.988637   \n",
       "std     79683.915472   39735.448448      5.560367     11.440259     15.715083   \n",
       "min        80.000000      22.000000     13.000000    133.000000     30.000000   \n",
       "25%     64650.750000   33079.000000     22.000000    168.000000     60.000000   \n",
       "50%    138031.500000   69360.000000     26.000000    175.000000     69.000000   \n",
       "75%    203569.250000  102201.000000     29.000000    184.000000     80.000000   \n",
       "max    271110.000000  135568.000000     62.000000    218.000000    170.000000   \n",
       "\n",
       "          Year  \n",
       "count  13688.0  \n",
       "mean    2016.0  \n",
       "std        0.0  \n",
       "min     2016.0  \n",
       "25%     2016.0  \n",
       "50%     2016.0  \n",
       "75%     2016.0  \n",
       "max     2016.0  "
      ]
     },
     "execution_count": 62,
     "metadata": {},
     "output_type": "execute_result"
    }
   ],
   "source": [
    "data_latest.describe()"
   ]
  },
  {
   "cell_type": "code",
   "execution_count": 63,
   "metadata": {
    "ExecuteTime": {
     "end_time": "2020-12-08T16:37:08.323715Z",
     "start_time": "2020-12-08T16:37:08.279721Z"
    }
   },
   "outputs": [
    {
     "data": {
      "text/html": [
       "<div>\n",
       "<style scoped>\n",
       "    .dataframe tbody tr th:only-of-type {\n",
       "        vertical-align: middle;\n",
       "    }\n",
       "\n",
       "    .dataframe tbody tr th {\n",
       "        vertical-align: top;\n",
       "    }\n",
       "\n",
       "    .dataframe thead th {\n",
       "        text-align: right;\n",
       "    }\n",
       "</style>\n",
       "<table border=\"1\" class=\"dataframe\">\n",
       "  <thead>\n",
       "    <tr style=\"text-align: right;\">\n",
       "      <th></th>\n",
       "      <th>index</th>\n",
       "      <th>ID</th>\n",
       "      <th>Name</th>\n",
       "      <th>Sex</th>\n",
       "      <th>Age</th>\n",
       "      <th>Height</th>\n",
       "      <th>Weight</th>\n",
       "      <th>Team</th>\n",
       "      <th>NOC</th>\n",
       "      <th>Games</th>\n",
       "      <th>Year</th>\n",
       "      <th>Season</th>\n",
       "      <th>City</th>\n",
       "      <th>Sport</th>\n",
       "      <th>Event</th>\n",
       "      <th>Medal</th>\n",
       "    </tr>\n",
       "  </thead>\n",
       "  <tbody>\n",
       "    <tr>\n",
       "      <th>0</th>\n",
       "      <td>80</td>\n",
       "      <td>22</td>\n",
       "      <td>Andreea Aanei</td>\n",
       "      <td>F</td>\n",
       "      <td>22.0</td>\n",
       "      <td>170.0</td>\n",
       "      <td>125.0</td>\n",
       "      <td>Romania</td>\n",
       "      <td>ROU</td>\n",
       "      <td>2016 Summer</td>\n",
       "      <td>2016</td>\n",
       "      <td>Summer</td>\n",
       "      <td>Rio de Janeiro</td>\n",
       "      <td>Weightlifting</td>\n",
       "      <td>Weightlifting Women's Super-Heavyweight</td>\n",
       "      <td>NaN</td>\n",
       "    </tr>\n",
       "    <tr>\n",
       "      <th>1</th>\n",
       "      <td>139</td>\n",
       "      <td>51</td>\n",
       "      <td>Nstor Abad Sanjun</td>\n",
       "      <td>M</td>\n",
       "      <td>23.0</td>\n",
       "      <td>167.0</td>\n",
       "      <td>64.0</td>\n",
       "      <td>Spain</td>\n",
       "      <td>ESP</td>\n",
       "      <td>2016 Summer</td>\n",
       "      <td>2016</td>\n",
       "      <td>Summer</td>\n",
       "      <td>Rio de Janeiro</td>\n",
       "      <td>Gymnastics</td>\n",
       "      <td>Gymnastics Men's Individual All-Around</td>\n",
       "      <td>NaN</td>\n",
       "    </tr>\n",
       "    <tr>\n",
       "      <th>2</th>\n",
       "      <td>140</td>\n",
       "      <td>51</td>\n",
       "      <td>Nstor Abad Sanjun</td>\n",
       "      <td>M</td>\n",
       "      <td>23.0</td>\n",
       "      <td>167.0</td>\n",
       "      <td>64.0</td>\n",
       "      <td>Spain</td>\n",
       "      <td>ESP</td>\n",
       "      <td>2016 Summer</td>\n",
       "      <td>2016</td>\n",
       "      <td>Summer</td>\n",
       "      <td>Rio de Janeiro</td>\n",
       "      <td>Gymnastics</td>\n",
       "      <td>Gymnastics Men's Floor Exercise</td>\n",
       "      <td>NaN</td>\n",
       "    </tr>\n",
       "    <tr>\n",
       "      <th>3</th>\n",
       "      <td>141</td>\n",
       "      <td>51</td>\n",
       "      <td>Nstor Abad Sanjun</td>\n",
       "      <td>M</td>\n",
       "      <td>23.0</td>\n",
       "      <td>167.0</td>\n",
       "      <td>64.0</td>\n",
       "      <td>Spain</td>\n",
       "      <td>ESP</td>\n",
       "      <td>2016 Summer</td>\n",
       "      <td>2016</td>\n",
       "      <td>Summer</td>\n",
       "      <td>Rio de Janeiro</td>\n",
       "      <td>Gymnastics</td>\n",
       "      <td>Gymnastics Men's Parallel Bars</td>\n",
       "      <td>NaN</td>\n",
       "    </tr>\n",
       "    <tr>\n",
       "      <th>4</th>\n",
       "      <td>142</td>\n",
       "      <td>51</td>\n",
       "      <td>Nstor Abad Sanjun</td>\n",
       "      <td>M</td>\n",
       "      <td>23.0</td>\n",
       "      <td>167.0</td>\n",
       "      <td>64.0</td>\n",
       "      <td>Spain</td>\n",
       "      <td>ESP</td>\n",
       "      <td>2016 Summer</td>\n",
       "      <td>2016</td>\n",
       "      <td>Summer</td>\n",
       "      <td>Rio de Janeiro</td>\n",
       "      <td>Gymnastics</td>\n",
       "      <td>Gymnastics Men's Horizontal Bar</td>\n",
       "      <td>NaN</td>\n",
       "    </tr>\n",
       "  </tbody>\n",
       "</table>\n",
       "</div>"
      ],
      "text/plain": [
       "   index  ID               Name Sex   Age  Height  Weight     Team  NOC  \\\n",
       "0     80  22      Andreea Aanei   F  22.0   170.0   125.0  Romania  ROU   \n",
       "1    139  51  Nstor Abad Sanjun   M  23.0   167.0    64.0    Spain  ESP   \n",
       "2    140  51  Nstor Abad Sanjun   M  23.0   167.0    64.0    Spain  ESP   \n",
       "3    141  51  Nstor Abad Sanjun   M  23.0   167.0    64.0    Spain  ESP   \n",
       "4    142  51  Nstor Abad Sanjun   M  23.0   167.0    64.0    Spain  ESP   \n",
       "\n",
       "         Games  Year  Season            City          Sport  \\\n",
       "0  2016 Summer  2016  Summer  Rio de Janeiro  Weightlifting   \n",
       "1  2016 Summer  2016  Summer  Rio de Janeiro     Gymnastics   \n",
       "2  2016 Summer  2016  Summer  Rio de Janeiro     Gymnastics   \n",
       "3  2016 Summer  2016  Summer  Rio de Janeiro     Gymnastics   \n",
       "4  2016 Summer  2016  Summer  Rio de Janeiro     Gymnastics   \n",
       "\n",
       "                                     Event Medal  \n",
       "0  Weightlifting Women's Super-Heavyweight   NaN  \n",
       "1   Gymnastics Men's Individual All-Around   NaN  \n",
       "2          Gymnastics Men's Floor Exercise   NaN  \n",
       "3           Gymnastics Men's Parallel Bars   NaN  \n",
       "4          Gymnastics Men's Horizontal Bar   NaN  "
      ]
     },
     "execution_count": 63,
     "metadata": {},
     "output_type": "execute_result"
    }
   ],
   "source": [
    "data_latest.head()"
   ]
  },
  {
   "cell_type": "code",
   "execution_count": 64,
   "metadata": {
    "ExecuteTime": {
     "end_time": "2020-12-08T16:37:08.940559Z",
     "start_time": "2020-12-08T16:37:08.920567Z"
    }
   },
   "outputs": [],
   "source": [
    "height_mean = data_latest['Height'].mean()\n",
    "weight_mean = data_latest['Weight'].mean()"
   ]
  },
  {
   "cell_type": "code",
   "execution_count": 65,
   "metadata": {
    "ExecuteTime": {
     "end_time": "2020-12-08T16:37:09.634772Z",
     "start_time": "2020-12-08T16:37:09.615793Z"
    }
   },
   "outputs": [],
   "source": [
    "data_latest['Height'] = data_latest['Height'].fillna(height_mean)"
   ]
  },
  {
   "cell_type": "code",
   "execution_count": 66,
   "metadata": {
    "ExecuteTime": {
     "end_time": "2020-12-08T16:37:10.202770Z",
     "start_time": "2020-12-08T16:37:10.186776Z"
    }
   },
   "outputs": [],
   "source": [
    "data_latest['Weight'] = data_latest['Weight'].fillna(weight_mean)"
   ]
  },
  {
   "cell_type": "code",
   "execution_count": 67,
   "metadata": {
    "ExecuteTime": {
     "end_time": "2020-12-08T16:37:10.898881Z",
     "start_time": "2020-12-08T16:37:10.863888Z"
    }
   },
   "outputs": [
    {
     "data": {
      "text/plain": [
       "index         0\n",
       "ID            0\n",
       "Name          0\n",
       "Sex           0\n",
       "Age           0\n",
       "Height        0\n",
       "Weight        0\n",
       "Team          0\n",
       "NOC           0\n",
       "Games         0\n",
       "Year          0\n",
       "Season        0\n",
       "City          0\n",
       "Sport         0\n",
       "Event         0\n",
       "Medal     11665\n",
       "dtype: int64"
      ]
     },
     "execution_count": 67,
     "metadata": {},
     "output_type": "execute_result"
    }
   ],
   "source": [
    "data_latest.isnull().sum()"
   ]
  },
  {
   "cell_type": "code",
   "execution_count": 68,
   "metadata": {
    "ExecuteTime": {
     "end_time": "2020-12-08T16:37:11.435409Z",
     "start_time": "2020-12-08T16:37:11.424399Z"
    }
   },
   "outputs": [
    {
     "data": {
      "text/plain": [
       "array(['Romania', 'Spain', 'Italy', 'Azerbaijan', 'France', 'Algeria',\n",
       "       'Bahrain', 'Netherlands', 'Iraq', 'Ireland', 'United States',\n",
       "       'Egypt', 'Iran', 'Belgium', 'Cameroon', 'Kazakhstan', 'Brunei',\n",
       "       'Uzbekistan', 'Tajikistan', 'Russia', 'Canada', 'Germany',\n",
       "       'Mexico', 'Ethiopia', 'Sri Lanka', 'Armenia', 'Kenya', 'Nigeria',\n",
       "       'Brazil', 'Australia', 'Chile', 'Switzerland', 'Belarus', 'Guyana',\n",
       "       'Georgia', 'Portugal', 'Colombia', 'Djibouti', 'Jordan',\n",
       "       'Palestine', 'Saudi Arabia', 'India', 'Ghana', 'Honduras',\n",
       "       'El Salvador', 'Venezuela', 'Argentina', 'Turkmenistan', 'Japan',\n",
       "       'Saint Kitts and Nevis', 'Great Britain', 'New Zealand', 'Turkey',\n",
       "       'Eritrea', 'Uganda', 'Mongolia', 'Lithuania', 'Namibia',\n",
       "       'Kyrgyzstan', 'Puerto Rico', 'Malaysia', 'Samoa', 'Angola',\n",
       "       'South Africa', 'Greece', 'Norway', 'Cuba', 'Paraguay',\n",
       "       'Indonesia', 'Indonesia-1', 'Bangladesh', \"Cote d'Ivoire\",\n",
       "       'Trinidad and Tobago', 'China', 'Singapore', 'Morocco', 'Sweden',\n",
       "       'Ukraine', 'Tunisia', 'Individual Olympic Athletes', 'Oman',\n",
       "       'Qatar', 'United Arab Emirates', 'Moldova', 'Mauritius',\n",
       "       'Bulgaria', 'Serbia', 'Saint Vincent and the Grenadines',\n",
       "       'Austria', 'Niger', 'Costa Rica', 'Sudan', 'Madagascar',\n",
       "       'Pakistan', 'Chad', 'Bosnia and Herzegovina', 'Brazil-1',\n",
       "       'Philippines', 'Cayman Islands', 'Syria', 'Jamaica', 'Estonia',\n",
       "       'Seychelles', 'Ecuador', 'Panama', 'Gabon', 'Bahamas', 'Israel',\n",
       "       'Thailand', 'Botswana', 'Refugee Olympic Athletes', 'South Korea',\n",
       "       'Denmark', 'Cape Verde', 'Poland', 'Dominican Republic', 'Hungary',\n",
       "       'Czech Republic', 'Benin', 'Uruguay', 'Latvia', 'Andorra',\n",
       "       'Australia-2', 'Cyprus', 'Comoros', 'Libya', 'Hong Kong',\n",
       "       'Saint Lucia', 'Mozambique', 'Federated States of Micronesia',\n",
       "       'Togo', 'Mauritania', 'Yemen', 'Croatia', 'Antigua and Barbuda',\n",
       "       'United States-1', 'Afghanistan', 'Macedonia', 'Slovakia',\n",
       "       'Guinea', 'Canada-1', 'Fiji', 'Lebanon', 'Montenegro', 'Guatemala',\n",
       "       'Russia-2', 'Papua New Guinea', 'Zimbabwe', 'Gambia', 'Slovenia',\n",
       "       'Spain-1', 'Australia-1', 'Barbados', 'Cook Islands', 'Romania-1',\n",
       "       'Malta', 'Nepal', 'Canada-2', 'Sao Tome and Principe', 'Germany-2',\n",
       "       'Congo (Brazzaville)', 'Central African Republic', 'Senegal',\n",
       "       'Peru', 'Nauru', 'Netherlands-1', 'Guinea Bissau', 'Laos',\n",
       "       'Rwanda', 'Timor Leste', 'Albania', 'Italy-2', 'Luxembourg',\n",
       "       'Haiti', 'Bolivia', 'Finland', 'China-2', 'Chinese Taipei',\n",
       "       'South Korea-2', 'Grenada', 'Zambia', 'Malawi', 'North Korea',\n",
       "       'Cambodia', 'United States Virgin Islands', 'Mali',\n",
       "       'Marshall Islands', 'Monaco', 'Argentina-1', 'Argentina-2',\n",
       "       'Palau', 'Austria-2', 'Vietnam', 'Bermuda', 'Dominica',\n",
       "       'Equatorial Guinea', 'Brazil-2', 'United States-2', 'Poland-1',\n",
       "       'Tonga', 'Solomon Islands', 'Great Britain-1', 'Switzerland-2',\n",
       "       'China-1', 'Burundi', 'France-1', 'Kosovo', 'Germany-1', 'Iceland',\n",
       "       'British Virgin Islands', 'South Sudan', 'Liechtenstein',\n",
       "       'Switzerland-1', 'France-2', 'Tanzania', 'Czech Republic-2',\n",
       "       'Myanmar', 'Austria-1', 'Guam', 'Maldives', 'Sierra Leone',\n",
       "       'Belize', 'South Korea-1', 'Indonesia-2', 'American Samoa',\n",
       "       'Congo (Kinshasa)', 'Poland-2', 'Bhutan', 'Russia-1', 'Kiribati',\n",
       "       'Ukraine-2', 'Burkina Faso', 'Great Britain-2', 'Suriname',\n",
       "       'Liberia', 'Nicaragua', 'Lesotho', 'Spain-2', 'Italy-1', 'Vanuatu',\n",
       "       'Aruba', 'Swaziland', 'Romania-2', 'Somalia', 'Netherlands-2',\n",
       "       'San Marino', 'Czech Republic-1', 'Ukraine-1', 'Tuvalu'],\n",
       "      dtype=object)"
      ]
     },
     "execution_count": 68,
     "metadata": {},
     "output_type": "execute_result"
    }
   ],
   "source": [
    "data_latest['Team'].unique()"
   ]
  },
  {
   "cell_type": "code",
   "execution_count": 69,
   "metadata": {
    "ExecuteTime": {
     "end_time": "2020-12-08T16:37:12.241971Z",
     "start_time": "2020-12-08T16:37:12.143990Z"
    }
   },
   "outputs": [],
   "source": [
    "data_latest['Team'] = data_latest['Team'].str.split('-').str.get(0)"
   ]
  },
  {
   "cell_type": "code",
   "execution_count": 70,
   "metadata": {
    "ExecuteTime": {
     "end_time": "2020-12-08T16:37:12.893772Z",
     "start_time": "2020-12-08T16:37:12.879781Z"
    }
   },
   "outputs": [],
   "source": [
    "data_latest1 = data_latest['Team'].value_counts()"
   ]
  },
  {
   "cell_type": "code",
   "execution_count": 71,
   "metadata": {
    "ExecuteTime": {
     "end_time": "2020-12-08T16:37:13.513772Z",
     "start_time": "2020-12-08T16:37:13.495786Z"
    }
   },
   "outputs": [],
   "source": [
    "data_latest_1 = pd.DataFrame(data_latest1)"
   ]
  },
  {
   "cell_type": "code",
   "execution_count": 72,
   "metadata": {
    "ExecuteTime": {
     "end_time": "2020-12-08T16:37:14.129049Z",
     "start_time": "2020-12-08T16:37:14.112066Z"
    }
   },
   "outputs": [],
   "source": [
    "new_d = data_latest.loc[:,'Sex':'Team']"
   ]
  },
  {
   "cell_type": "code",
   "execution_count": 73,
   "metadata": {
    "ExecuteTime": {
     "end_time": "2020-12-08T16:37:14.822755Z",
     "start_time": "2020-12-08T16:37:14.794767Z"
    }
   },
   "outputs": [
    {
     "data": {
      "text/html": [
       "<div>\n",
       "<style scoped>\n",
       "    .dataframe tbody tr th:only-of-type {\n",
       "        vertical-align: middle;\n",
       "    }\n",
       "\n",
       "    .dataframe tbody tr th {\n",
       "        vertical-align: top;\n",
       "    }\n",
       "\n",
       "    .dataframe thead th {\n",
       "        text-align: right;\n",
       "    }\n",
       "</style>\n",
       "<table border=\"1\" class=\"dataframe\">\n",
       "  <thead>\n",
       "    <tr style=\"text-align: right;\">\n",
       "      <th></th>\n",
       "      <th>Sex</th>\n",
       "      <th>Age</th>\n",
       "      <th>Height</th>\n",
       "      <th>Weight</th>\n",
       "      <th>Team</th>\n",
       "    </tr>\n",
       "  </thead>\n",
       "  <tbody>\n",
       "    <tr>\n",
       "      <th>0</th>\n",
       "      <td>F</td>\n",
       "      <td>22.0</td>\n",
       "      <td>170.0</td>\n",
       "      <td>125.0</td>\n",
       "      <td>Romania</td>\n",
       "    </tr>\n",
       "    <tr>\n",
       "      <th>1</th>\n",
       "      <td>M</td>\n",
       "      <td>23.0</td>\n",
       "      <td>167.0</td>\n",
       "      <td>64.0</td>\n",
       "      <td>Spain</td>\n",
       "    </tr>\n",
       "    <tr>\n",
       "      <th>2</th>\n",
       "      <td>M</td>\n",
       "      <td>23.0</td>\n",
       "      <td>167.0</td>\n",
       "      <td>64.0</td>\n",
       "      <td>Spain</td>\n",
       "    </tr>\n",
       "    <tr>\n",
       "      <th>3</th>\n",
       "      <td>M</td>\n",
       "      <td>23.0</td>\n",
       "      <td>167.0</td>\n",
       "      <td>64.0</td>\n",
       "      <td>Spain</td>\n",
       "    </tr>\n",
       "    <tr>\n",
       "      <th>4</th>\n",
       "      <td>M</td>\n",
       "      <td>23.0</td>\n",
       "      <td>167.0</td>\n",
       "      <td>64.0</td>\n",
       "      <td>Spain</td>\n",
       "    </tr>\n",
       "  </tbody>\n",
       "</table>\n",
       "</div>"
      ],
      "text/plain": [
       "  Sex   Age  Height  Weight     Team\n",
       "0   F  22.0   170.0   125.0  Romania\n",
       "1   M  23.0   167.0    64.0    Spain\n",
       "2   M  23.0   167.0    64.0    Spain\n",
       "3   M  23.0   167.0    64.0    Spain\n",
       "4   M  23.0   167.0    64.0    Spain"
      ]
     },
     "execution_count": 73,
     "metadata": {},
     "output_type": "execute_result"
    }
   ],
   "source": [
    "new_d.head()\n"
   ]
  },
  {
   "cell_type": "code",
   "execution_count": 74,
   "metadata": {
    "ExecuteTime": {
     "end_time": "2020-12-08T16:37:15.554012Z",
     "start_time": "2020-12-08T16:37:15.529010Z"
    }
   },
   "outputs": [],
   "source": [
    "pie=new_d.groupby(\"Team\", as_index=False)['Age'].count()"
   ]
  },
  {
   "cell_type": "code",
   "execution_count": 75,
   "metadata": {
    "ExecuteTime": {
     "end_time": "2020-12-08T16:37:17.337895Z",
     "start_time": "2020-12-08T16:37:16.353833Z"
    }
   },
   "outputs": [
    {
     "data": {
      "application/vnd.plotly.v1+json": {
       "config": {
        "linkText": "Export to plot.ly",
        "plotlyServerURL": "https://plot.ly",
        "showLink": true
       },
       "data": [
        {
         "labels": [
          "Afghanistan",
          "Albania",
          "Algeria",
          "American Samoa",
          "Andorra",
          "Angola",
          "Antigua and Barbuda",
          "Argentina",
          "Armenia",
          "Aruba",
          "Australia",
          "Austria",
          "Azerbaijan",
          "Bahamas",
          "Bahrain",
          "Bangladesh",
          "Barbados",
          "Belarus",
          "Belgium",
          "Belize",
          "Benin",
          "Bermuda",
          "Bhutan",
          "Bolivia",
          "Bosnia and Herzegovina",
          "Botswana",
          "Brazil",
          "British Virgin Islands",
          "Brunei",
          "Bulgaria",
          "Burkina Faso",
          "Burundi",
          "Cambodia",
          "Cameroon",
          "Canada",
          "Cape Verde",
          "Cayman Islands",
          "Central African Republic",
          "Chad",
          "Chile",
          "China",
          "Chinese Taipei",
          "Colombia",
          "Comoros",
          "Congo (Brazzaville)",
          "Congo (Kinshasa)",
          "Cook Islands",
          "Costa Rica",
          "Cote d'Ivoire",
          "Croatia",
          "Cuba",
          "Cyprus",
          "Czech Republic",
          "Denmark",
          "Djibouti",
          "Dominica",
          "Dominican Republic",
          "Ecuador",
          "Egypt",
          "El Salvador",
          "Equatorial Guinea",
          "Eritrea",
          "Estonia",
          "Ethiopia",
          "Federated States of Micronesia",
          "Fiji",
          "Finland",
          "France",
          "Gabon",
          "Gambia",
          "Georgia",
          "Germany",
          "Ghana",
          "Great Britain",
          "Greece",
          "Grenada",
          "Guam",
          "Guatemala",
          "Guinea",
          "Guinea Bissau",
          "Guyana",
          "Haiti",
          "Honduras",
          "Hong Kong",
          "Hungary",
          "Iceland",
          "India",
          "Individual Olympic Athletes",
          "Indonesia",
          "Iran",
          "Iraq",
          "Ireland",
          "Israel",
          "Italy",
          "Jamaica",
          "Japan",
          "Jordan",
          "Kazakhstan",
          "Kenya",
          "Kiribati",
          "Kosovo",
          "Kyrgyzstan",
          "Laos",
          "Latvia",
          "Lebanon",
          "Lesotho",
          "Liberia",
          "Libya",
          "Liechtenstein",
          "Lithuania",
          "Luxembourg",
          "Macedonia",
          "Madagascar",
          "Malawi",
          "Malaysia",
          "Maldives",
          "Mali",
          "Malta",
          "Marshall Islands",
          "Mauritania",
          "Mauritius",
          "Mexico",
          "Moldova",
          "Monaco",
          "Mongolia",
          "Montenegro",
          "Morocco",
          "Mozambique",
          "Myanmar",
          "Namibia",
          "Nauru",
          "Nepal",
          "Netherlands",
          "New Zealand",
          "Nicaragua",
          "Niger",
          "Nigeria",
          "North Korea",
          "Norway",
          "Oman",
          "Pakistan",
          "Palau",
          "Palestine",
          "Panama",
          "Papua New Guinea",
          "Paraguay",
          "Peru",
          "Philippines",
          "Poland",
          "Portugal",
          "Puerto Rico",
          "Qatar",
          "Refugee Olympic Athletes",
          "Romania",
          "Russia",
          "Rwanda",
          "Saint Kitts and Nevis",
          "Saint Lucia",
          "Saint Vincent and the Grenadines",
          "Samoa",
          "San Marino",
          "Sao Tome and Principe",
          "Saudi Arabia",
          "Senegal",
          "Serbia",
          "Seychelles",
          "Sierra Leone",
          "Singapore",
          "Slovakia",
          "Slovenia",
          "Solomon Islands",
          "Somalia",
          "South Africa",
          "South Korea",
          "South Sudan",
          "Spain",
          "Sri Lanka",
          "Sudan",
          "Suriname",
          "Swaziland",
          "Sweden",
          "Switzerland",
          "Syria",
          "Tajikistan",
          "Tanzania",
          "Thailand",
          "Timor Leste",
          "Togo",
          "Tonga",
          "Trinidad and Tobago",
          "Tunisia",
          "Turkey",
          "Turkmenistan",
          "Tuvalu",
          "Uganda",
          "Ukraine",
          "United Arab Emirates",
          "United States",
          "United States Virgin Islands",
          "Uruguay",
          "Uzbekistan",
          "Vanuatu",
          "Venezuela",
          "Vietnam",
          "Yemen",
          "Zambia",
          "Zimbabwe"
         ],
         "marker": {
          "colors": [
           "rgba(127, 201, 127, 1.0)",
           "rgba(190, 174, 212, 1.0)",
           "rgba(253, 192, 134, 1.0)",
           "rgba(255, 255, 153, 1.0)",
           "rgba(56, 108, 176, 1.0)",
           "rgba(240, 2, 127, 1.0)",
           "rgba(191, 91, 23, 1.0)",
           "rgba(102, 102, 102, 1.0)",
           "rgba(102, 102, 102, 0.9690821256038646)",
           "rgba(127, 201, 127, 0.9690821256038646)",
           "rgba(190, 174, 212, 0.9690821256038646)",
           "rgba(253, 192, 134, 0.9690821256038646)",
           "rgba(255, 255, 153, 0.9690821256038646)",
           "rgba(56, 108, 176, 0.9690821256038646)",
           "rgba(240, 2, 127, 0.9690821256038646)",
           "rgba(191, 91, 23, 0.9690821256038646)",
           "rgba(191, 91, 23, 0.9381642512077295)",
           "rgba(102, 102, 102, 0.9381642512077295)",
           "rgba(127, 201, 127, 0.9381642512077295)",
           "rgba(190, 174, 212, 0.9381642512077295)",
           "rgba(253, 192, 134, 0.9381642512077295)",
           "rgba(255, 255, 153, 0.9381642512077295)",
           "rgba(56, 108, 176, 0.9381642512077295)",
           "rgba(240, 2, 127, 0.9381642512077295)",
           "rgba(240, 2, 127, 0.9072463768115941)",
           "rgba(191, 91, 23, 0.9072463768115941)",
           "rgba(102, 102, 102, 0.9072463768115941)",
           "rgba(127, 201, 127, 0.9072463768115941)",
           "rgba(190, 174, 212, 0.9072463768115941)",
           "rgba(253, 192, 134, 0.9072463768115941)",
           "rgba(255, 255, 153, 0.9072463768115941)",
           "rgba(56, 108, 176, 0.9072463768115941)",
           "rgba(56, 108, 176, 0.8763285024154588)",
           "rgba(240, 2, 127, 0.8763285024154588)",
           "rgba(191, 91, 23, 0.8763285024154588)",
           "rgba(102, 102, 102, 0.8763285024154588)",
           "rgba(127, 201, 127, 0.8763285024154588)",
           "rgba(190, 174, 212, 0.8763285024154588)",
           "rgba(253, 192, 134, 0.8763285024154588)",
           "rgba(255, 255, 153, 0.8763285024154588)",
           "rgba(255, 255, 153, 0.8454106280193237)",
           "rgba(56, 108, 176, 0.8454106280193237)",
           "rgba(240, 2, 127, 0.8454106280193237)",
           "rgba(191, 91, 23, 0.8454106280193237)",
           "rgba(102, 102, 102, 0.8454106280193237)",
           "rgba(127, 201, 127, 0.8454106280193237)",
           "rgba(190, 174, 212, 0.8454106280193237)",
           "rgba(253, 192, 134, 0.8454106280193237)",
           "rgba(253, 192, 134, 0.8144927536231883)",
           "rgba(255, 255, 153, 0.8144927536231883)",
           "rgba(56, 108, 176, 0.8144927536231883)",
           "rgba(240, 2, 127, 0.8144927536231883)",
           "rgba(191, 91, 23, 0.8144927536231883)",
           "rgba(102, 102, 102, 0.8144927536231883)",
           "rgba(127, 201, 127, 0.8144927536231883)",
           "rgba(190, 174, 212, 0.8144927536231883)",
           "rgba(190, 174, 212, 0.7835748792270532)",
           "rgba(253, 192, 134, 0.7835748792270532)",
           "rgba(255, 255, 153, 0.7835748792270532)",
           "rgba(56, 108, 176, 0.7835748792270532)",
           "rgba(240, 2, 127, 0.7835748792270532)",
           "rgba(191, 91, 23, 0.7835748792270532)",
           "rgba(102, 102, 102, 0.7835748792270532)",
           "rgba(127, 201, 127, 0.7835748792270532)",
           "rgba(127, 201, 127, 0.7526570048309178)",
           "rgba(190, 174, 212, 0.7526570048309178)",
           "rgba(253, 192, 134, 0.7526570048309178)",
           "rgba(255, 255, 153, 0.7526570048309178)",
           "rgba(56, 108, 176, 0.7526570048309178)",
           "rgba(240, 2, 127, 0.7526570048309178)",
           "rgba(191, 91, 23, 0.7526570048309178)",
           "rgba(102, 102, 102, 0.7526570048309178)",
           "rgba(102, 102, 102, 0.7217391304347824)",
           "rgba(127, 201, 127, 0.7217391304347824)",
           "rgba(190, 174, 212, 0.7217391304347824)",
           "rgba(253, 192, 134, 0.7217391304347824)",
           "rgba(255, 255, 153, 0.7217391304347824)",
           "rgba(56, 108, 176, 0.7217391304347824)",
           "rgba(240, 2, 127, 0.7217391304347824)",
           "rgba(191, 91, 23, 0.7217391304347824)",
           "rgba(191, 91, 23, 0.6908212560386473)",
           "rgba(102, 102, 102, 0.6908212560386473)",
           "rgba(127, 201, 127, 0.6908212560386473)",
           "rgba(190, 174, 212, 0.6908212560386473)",
           "rgba(253, 192, 134, 0.6908212560386473)",
           "rgba(255, 255, 153, 0.6908212560386473)",
           "rgba(56, 108, 176, 0.6908212560386473)",
           "rgba(240, 2, 127, 0.6908212560386473)",
           "rgba(240, 2, 127, 0.6599033816425119)",
           "rgba(191, 91, 23, 0.6599033816425119)",
           "rgba(102, 102, 102, 0.6599033816425119)",
           "rgba(127, 201, 127, 0.6599033816425119)",
           "rgba(190, 174, 212, 0.6599033816425119)",
           "rgba(253, 192, 134, 0.6599033816425119)",
           "rgba(255, 255, 153, 0.6599033816425119)",
           "rgba(56, 108, 176, 0.6599033816425119)",
           "rgba(56, 108, 176, 0.6289855072463766)",
           "rgba(240, 2, 127, 0.6289855072463766)",
           "rgba(191, 91, 23, 0.6289855072463766)",
           "rgba(102, 102, 102, 0.6289855072463766)",
           "rgba(127, 201, 127, 0.6289855072463766)",
           "rgba(190, 174, 212, 0.6289855072463766)",
           "rgba(253, 192, 134, 0.6289855072463766)",
           "rgba(255, 255, 153, 0.6289855072463766)",
           "rgba(255, 255, 153, 0.5980676328502414)",
           "rgba(56, 108, 176, 0.5980676328502414)",
           "rgba(240, 2, 127, 0.5980676328502414)",
           "rgba(191, 91, 23, 0.5980676328502414)",
           "rgba(102, 102, 102, 0.5980676328502414)",
           "rgba(127, 201, 127, 0.5980676328502414)",
           "rgba(190, 174, 212, 0.5980676328502414)",
           "rgba(253, 192, 134, 0.5980676328502414)",
           "rgba(253, 192, 134, 0.5671497584541061)",
           "rgba(255, 255, 153, 0.5671497584541061)",
           "rgba(56, 108, 176, 0.5671497584541061)",
           "rgba(240, 2, 127, 0.5671497584541061)",
           "rgba(191, 91, 23, 0.5671497584541061)",
           "rgba(102, 102, 102, 0.5671497584541061)",
           "rgba(127, 201, 127, 0.5671497584541061)",
           "rgba(190, 174, 212, 0.5671497584541061)",
           "rgba(190, 174, 212, 0.5362318840579707)",
           "rgba(253, 192, 134, 0.5362318840579707)",
           "rgba(255, 255, 153, 0.5362318840579707)",
           "rgba(56, 108, 176, 0.5362318840579707)",
           "rgba(240, 2, 127, 0.5362318840579707)",
           "rgba(191, 91, 23, 0.5362318840579707)",
           "rgba(102, 102, 102, 0.5362318840579707)",
           "rgba(127, 201, 127, 0.5362318840579707)",
           "rgba(127, 201, 127, 0.5053140096618356)",
           "rgba(190, 174, 212, 0.5053140096618356)",
           "rgba(253, 192, 134, 0.5053140096618356)",
           "rgba(255, 255, 153, 0.5053140096618356)",
           "rgba(56, 108, 176, 0.5053140096618356)",
           "rgba(240, 2, 127, 0.5053140096618356)",
           "rgba(191, 91, 23, 0.5053140096618356)",
           "rgba(102, 102, 102, 0.5053140096618356)",
           "rgba(102, 102, 102, 0.4743961352657003)",
           "rgba(127, 201, 127, 0.4743961352657003)",
           "rgba(190, 174, 212, 0.4743961352657003)",
           "rgba(253, 192, 134, 0.4743961352657003)",
           "rgba(255, 255, 153, 0.4743961352657003)",
           "rgba(56, 108, 176, 0.4743961352657003)",
           "rgba(240, 2, 127, 0.4743961352657003)",
           "rgba(191, 91, 23, 0.4743961352657003)",
           "rgba(191, 91, 23, 0.44347826086956516)",
           "rgba(102, 102, 102, 0.44347826086956516)",
           "rgba(127, 201, 127, 0.44347826086956516)",
           "rgba(190, 174, 212, 0.44347826086956516)",
           "rgba(253, 192, 134, 0.44347826086956516)",
           "rgba(255, 255, 153, 0.44347826086956516)",
           "rgba(56, 108, 176, 0.44347826086956516)",
           "rgba(240, 2, 127, 0.44347826086956516)",
           "rgba(240, 2, 127, 0.4125603864734298)",
           "rgba(191, 91, 23, 0.4125603864734298)",
           "rgba(102, 102, 102, 0.4125603864734298)",
           "rgba(127, 201, 127, 0.4125603864734298)",
           "rgba(190, 174, 212, 0.4125603864734298)",
           "rgba(253, 192, 134, 0.4125603864734298)",
           "rgba(255, 255, 153, 0.4125603864734298)",
           "rgba(56, 108, 176, 0.4125603864734298)",
           "rgba(56, 108, 176, 0.38164251207729444)",
           "rgba(240, 2, 127, 0.38164251207729444)",
           "rgba(191, 91, 23, 0.38164251207729444)",
           "rgba(102, 102, 102, 0.38164251207729444)",
           "rgba(127, 201, 127, 0.38164251207729444)",
           "rgba(190, 174, 212, 0.38164251207729444)",
           "rgba(253, 192, 134, 0.38164251207729444)",
           "rgba(255, 255, 153, 0.38164251207729444)",
           "rgba(255, 255, 153, 0.3507246376811593)",
           "rgba(56, 108, 176, 0.3507246376811593)",
           "rgba(240, 2, 127, 0.3507246376811593)",
           "rgba(191, 91, 23, 0.3507246376811593)",
           "rgba(102, 102, 102, 0.3507246376811593)",
           "rgba(127, 201, 127, 0.3507246376811593)",
           "rgba(190, 174, 212, 0.3507246376811593)",
           "rgba(253, 192, 134, 0.3507246376811593)",
           "rgba(253, 192, 134, 0.31980676328502394)",
           "rgba(255, 255, 153, 0.31980676328502394)",
           "rgba(56, 108, 176, 0.31980676328502394)",
           "rgba(240, 2, 127, 0.31980676328502394)",
           "rgba(191, 91, 23, 0.31980676328502394)",
           "rgba(102, 102, 102, 0.31980676328502394)",
           "rgba(127, 201, 127, 0.31980676328502394)",
           "rgba(190, 174, 212, 0.31980676328502394)",
           "rgba(190, 174, 212, 0.2888888888888886)",
           "rgba(253, 192, 134, 0.2888888888888886)",
           "rgba(255, 255, 153, 0.2888888888888886)",
           "rgba(56, 108, 176, 0.2888888888888886)",
           "rgba(240, 2, 127, 0.2888888888888886)",
           "rgba(191, 91, 23, 0.2888888888888886)",
           "rgba(102, 102, 102, 0.2888888888888886)",
           "rgba(127, 201, 127, 0.2888888888888886)",
           "rgba(127, 201, 127, 0.25797101449275345)",
           "rgba(190, 174, 212, 0.25797101449275345)",
           "rgba(253, 192, 134, 0.25797101449275345)",
           "rgba(255, 255, 153, 0.25797101449275345)",
           "rgba(56, 108, 176, 0.25797101449275345)",
           "rgba(240, 2, 127, 0.25797101449275345)",
           "rgba(191, 91, 23, 0.25797101449275345)",
           "rgba(102, 102, 102, 0.25797101449275345)",
           "rgba(102, 102, 102, 0.2270531400966181)",
           "rgba(127, 201, 127, 0.2270531400966181)",
           "rgba(190, 174, 212, 0.2270531400966181)",
           "rgba(253, 192, 134, 0.2270531400966181)",
           "rgba(255, 255, 153, 0.2270531400966181)",
           "rgba(56, 108, 176, 0.2270531400966181)",
           "rgba(240, 2, 127, 0.2270531400966181)"
          ]
         },
         "name": "",
         "type": "pie",
         "values": [
          3,
          6,
          74,
          4,
          4,
          26,
          9,
          232,
          34,
          7,
          518,
          85,
          69,
          38,
          33,
          7,
          13,
          142,
          138,
          3,
          6,
          8,
          2,
          12,
          11,
          14,
          583,
          4,
          3,
          58,
          5,
          10,
          6,
          22,
          405,
          5,
          5,
          6,
          2,
          47,
          499,
          67,
          157,
          4,
          10,
          4,
          9,
          12,
          15,
          93,
          143,
          21,
          135,
          143,
          8,
          2,
          30,
          40,
          137,
          10,
          1,
          12,
          49,
          38,
          5,
          53,
          67,
          512,
          6,
          4,
          45,
          536,
          15,
          478,
          104,
          6,
          5,
          25,
          5,
          5,
          7,
          10,
          23,
          47,
          204,
          14,
          130,
          9,
          31,
          67,
          20,
          93,
          59,
          399,
          77,
          436,
          8,
          123,
          80,
          3,
          8,
          19,
          5,
          33,
          9,
          9,
          3,
          7,
          3,
          80,
          15,
          6,
          6,
          5,
          42,
          4,
          6,
          8,
          5,
          2,
          11,
          139,
          23,
          8,
          46,
          35,
          52,
          8,
          8,
          11,
          2,
          7,
          329,
          232,
          5,
          6,
          77,
          38,
          77,
          4,
          7,
          6,
          6,
          14,
          8,
          11,
          34,
          13,
          289,
          106,
          41,
          42,
          12,
          121,
          406,
          7,
          9,
          5,
          4,
          9,
          4,
          3,
          11,
          22,
          127,
          10,
          4,
          32,
          63,
          70,
          3,
          2,
          155,
          263,
          3,
          363,
          10,
          6,
          6,
          2,
          186,
          152,
          7,
          7,
          7,
          58,
          3,
          5,
          7,
          43,
          65,
          119,
          9,
          1,
          23,
          272,
          12,
          719,
          7,
          17,
          80,
          4,
          105,
          28,
          3,
          7,
          31
         ]
        }
       ],
       "layout": {
        "legend": {
         "bgcolor": "#F5F6F9",
         "font": {
          "color": "#4D5663"
         }
        },
        "paper_bgcolor": "#F5F6F9",
        "plot_bgcolor": "#F5F6F9",
        "titlefont": {
         "color": "#4D5663"
        }
       }
      },
      "text/html": [
       "<div>                            <div id=\"3bb9fdfa-139f-4349-aac5-45f30ba3f24c\" class=\"plotly-graph-div\" style=\"height:525px; width:100%;\"></div>            <script type=\"text/javascript\">                require([\"plotly\"], function(Plotly) {                    window.PLOTLYENV=window.PLOTLYENV || {};\n",
       "                    window.PLOTLYENV.BASE_URL='https://plot.ly';                                    if (document.getElementById(\"3bb9fdfa-139f-4349-aac5-45f30ba3f24c\")) {                    Plotly.newPlot(                        \"3bb9fdfa-139f-4349-aac5-45f30ba3f24c\",                        [{\"labels\": [\"Afghanistan\", \"Albania\", \"Algeria\", \"American Samoa\", \"Andorra\", \"Angola\", \"Antigua and Barbuda\", \"Argentina\", \"Armenia\", \"Aruba\", \"Australia\", \"Austria\", \"Azerbaijan\", \"Bahamas\", \"Bahrain\", \"Bangladesh\", \"Barbados\", \"Belarus\", \"Belgium\", \"Belize\", \"Benin\", \"Bermuda\", \"Bhutan\", \"Bolivia\", \"Bosnia and Herzegovina\", \"Botswana\", \"Brazil\", \"British Virgin Islands\", \"Brunei\", \"Bulgaria\", \"Burkina Faso\", \"Burundi\", \"Cambodia\", \"Cameroon\", \"Canada\", \"Cape Verde\", \"Cayman Islands\", \"Central African Republic\", \"Chad\", \"Chile\", \"China\", \"Chinese Taipei\", \"Colombia\", \"Comoros\", \"Congo (Brazzaville)\", \"Congo (Kinshasa)\", \"Cook Islands\", \"Costa Rica\", \"Cote d'Ivoire\", \"Croatia\", \"Cuba\", \"Cyprus\", \"Czech Republic\", \"Denmark\", \"Djibouti\", \"Dominica\", \"Dominican Republic\", \"Ecuador\", \"Egypt\", \"El Salvador\", \"Equatorial Guinea\", \"Eritrea\", \"Estonia\", \"Ethiopia\", \"Federated States of Micronesia\", \"Fiji\", \"Finland\", \"France\", \"Gabon\", \"Gambia\", \"Georgia\", \"Germany\", \"Ghana\", \"Great Britain\", \"Greece\", \"Grenada\", \"Guam\", \"Guatemala\", \"Guinea\", \"Guinea Bissau\", \"Guyana\", \"Haiti\", \"Honduras\", \"Hong Kong\", \"Hungary\", \"Iceland\", \"India\", \"Individual Olympic Athletes\", \"Indonesia\", \"Iran\", \"Iraq\", \"Ireland\", \"Israel\", \"Italy\", \"Jamaica\", \"Japan\", \"Jordan\", \"Kazakhstan\", \"Kenya\", \"Kiribati\", \"Kosovo\", \"Kyrgyzstan\", \"Laos\", \"Latvia\", \"Lebanon\", \"Lesotho\", \"Liberia\", \"Libya\", \"Liechtenstein\", \"Lithuania\", \"Luxembourg\", \"Macedonia\", \"Madagascar\", \"Malawi\", \"Malaysia\", \"Maldives\", \"Mali\", \"Malta\", \"Marshall Islands\", \"Mauritania\", \"Mauritius\", \"Mexico\", \"Moldova\", \"Monaco\", \"Mongolia\", \"Montenegro\", \"Morocco\", \"Mozambique\", \"Myanmar\", \"Namibia\", \"Nauru\", \"Nepal\", \"Netherlands\", \"New Zealand\", \"Nicaragua\", \"Niger\", \"Nigeria\", \"North Korea\", \"Norway\", \"Oman\", \"Pakistan\", \"Palau\", \"Palestine\", \"Panama\", \"Papua New Guinea\", \"Paraguay\", \"Peru\", \"Philippines\", \"Poland\", \"Portugal\", \"Puerto Rico\", \"Qatar\", \"Refugee Olympic Athletes\", \"Romania\", \"Russia\", \"Rwanda\", \"Saint Kitts and Nevis\", \"Saint Lucia\", \"Saint Vincent and the Grenadines\", \"Samoa\", \"San Marino\", \"Sao Tome and Principe\", \"Saudi Arabia\", \"Senegal\", \"Serbia\", \"Seychelles\", \"Sierra Leone\", \"Singapore\", \"Slovakia\", \"Slovenia\", \"Solomon Islands\", \"Somalia\", \"South Africa\", \"South Korea\", \"South Sudan\", \"Spain\", \"Sri Lanka\", \"Sudan\", \"Suriname\", \"Swaziland\", \"Sweden\", \"Switzerland\", \"Syria\", \"Tajikistan\", \"Tanzania\", \"Thailand\", \"Timor Leste\", \"Togo\", \"Tonga\", \"Trinidad and Tobago\", \"Tunisia\", \"Turkey\", \"Turkmenistan\", \"Tuvalu\", \"Uganda\", \"Ukraine\", \"United Arab Emirates\", \"United States\", \"United States Virgin Islands\", \"Uruguay\", \"Uzbekistan\", \"Vanuatu\", \"Venezuela\", \"Vietnam\", \"Yemen\", \"Zambia\", \"Zimbabwe\"], \"marker\": {\"colors\": [\"rgba(127, 201, 127, 1.0)\", \"rgba(190, 174, 212, 1.0)\", \"rgba(253, 192, 134, 1.0)\", \"rgba(255, 255, 153, 1.0)\", \"rgba(56, 108, 176, 1.0)\", \"rgba(240, 2, 127, 1.0)\", \"rgba(191, 91, 23, 1.0)\", \"rgba(102, 102, 102, 1.0)\", \"rgba(102, 102, 102, 0.9690821256038646)\", \"rgba(127, 201, 127, 0.9690821256038646)\", \"rgba(190, 174, 212, 0.9690821256038646)\", \"rgba(253, 192, 134, 0.9690821256038646)\", \"rgba(255, 255, 153, 0.9690821256038646)\", \"rgba(56, 108, 176, 0.9690821256038646)\", \"rgba(240, 2, 127, 0.9690821256038646)\", \"rgba(191, 91, 23, 0.9690821256038646)\", \"rgba(191, 91, 23, 0.9381642512077295)\", \"rgba(102, 102, 102, 0.9381642512077295)\", \"rgba(127, 201, 127, 0.9381642512077295)\", \"rgba(190, 174, 212, 0.9381642512077295)\", \"rgba(253, 192, 134, 0.9381642512077295)\", \"rgba(255, 255, 153, 0.9381642512077295)\", \"rgba(56, 108, 176, 0.9381642512077295)\", \"rgba(240, 2, 127, 0.9381642512077295)\", \"rgba(240, 2, 127, 0.9072463768115941)\", \"rgba(191, 91, 23, 0.9072463768115941)\", \"rgba(102, 102, 102, 0.9072463768115941)\", \"rgba(127, 201, 127, 0.9072463768115941)\", \"rgba(190, 174, 212, 0.9072463768115941)\", \"rgba(253, 192, 134, 0.9072463768115941)\", \"rgba(255, 255, 153, 0.9072463768115941)\", \"rgba(56, 108, 176, 0.9072463768115941)\", \"rgba(56, 108, 176, 0.8763285024154588)\", \"rgba(240, 2, 127, 0.8763285024154588)\", \"rgba(191, 91, 23, 0.8763285024154588)\", \"rgba(102, 102, 102, 0.8763285024154588)\", \"rgba(127, 201, 127, 0.8763285024154588)\", \"rgba(190, 174, 212, 0.8763285024154588)\", \"rgba(253, 192, 134, 0.8763285024154588)\", \"rgba(255, 255, 153, 0.8763285024154588)\", \"rgba(255, 255, 153, 0.8454106280193237)\", \"rgba(56, 108, 176, 0.8454106280193237)\", \"rgba(240, 2, 127, 0.8454106280193237)\", \"rgba(191, 91, 23, 0.8454106280193237)\", \"rgba(102, 102, 102, 0.8454106280193237)\", \"rgba(127, 201, 127, 0.8454106280193237)\", \"rgba(190, 174, 212, 0.8454106280193237)\", \"rgba(253, 192, 134, 0.8454106280193237)\", \"rgba(253, 192, 134, 0.8144927536231883)\", \"rgba(255, 255, 153, 0.8144927536231883)\", \"rgba(56, 108, 176, 0.8144927536231883)\", \"rgba(240, 2, 127, 0.8144927536231883)\", \"rgba(191, 91, 23, 0.8144927536231883)\", \"rgba(102, 102, 102, 0.8144927536231883)\", \"rgba(127, 201, 127, 0.8144927536231883)\", \"rgba(190, 174, 212, 0.8144927536231883)\", \"rgba(190, 174, 212, 0.7835748792270532)\", \"rgba(253, 192, 134, 0.7835748792270532)\", \"rgba(255, 255, 153, 0.7835748792270532)\", \"rgba(56, 108, 176, 0.7835748792270532)\", \"rgba(240, 2, 127, 0.7835748792270532)\", \"rgba(191, 91, 23, 0.7835748792270532)\", \"rgba(102, 102, 102, 0.7835748792270532)\", \"rgba(127, 201, 127, 0.7835748792270532)\", \"rgba(127, 201, 127, 0.7526570048309178)\", \"rgba(190, 174, 212, 0.7526570048309178)\", \"rgba(253, 192, 134, 0.7526570048309178)\", \"rgba(255, 255, 153, 0.7526570048309178)\", \"rgba(56, 108, 176, 0.7526570048309178)\", \"rgba(240, 2, 127, 0.7526570048309178)\", \"rgba(191, 91, 23, 0.7526570048309178)\", \"rgba(102, 102, 102, 0.7526570048309178)\", \"rgba(102, 102, 102, 0.7217391304347824)\", \"rgba(127, 201, 127, 0.7217391304347824)\", \"rgba(190, 174, 212, 0.7217391304347824)\", \"rgba(253, 192, 134, 0.7217391304347824)\", \"rgba(255, 255, 153, 0.7217391304347824)\", \"rgba(56, 108, 176, 0.7217391304347824)\", \"rgba(240, 2, 127, 0.7217391304347824)\", \"rgba(191, 91, 23, 0.7217391304347824)\", \"rgba(191, 91, 23, 0.6908212560386473)\", \"rgba(102, 102, 102, 0.6908212560386473)\", \"rgba(127, 201, 127, 0.6908212560386473)\", \"rgba(190, 174, 212, 0.6908212560386473)\", \"rgba(253, 192, 134, 0.6908212560386473)\", \"rgba(255, 255, 153, 0.6908212560386473)\", \"rgba(56, 108, 176, 0.6908212560386473)\", \"rgba(240, 2, 127, 0.6908212560386473)\", \"rgba(240, 2, 127, 0.6599033816425119)\", \"rgba(191, 91, 23, 0.6599033816425119)\", \"rgba(102, 102, 102, 0.6599033816425119)\", \"rgba(127, 201, 127, 0.6599033816425119)\", \"rgba(190, 174, 212, 0.6599033816425119)\", \"rgba(253, 192, 134, 0.6599033816425119)\", \"rgba(255, 255, 153, 0.6599033816425119)\", \"rgba(56, 108, 176, 0.6599033816425119)\", \"rgba(56, 108, 176, 0.6289855072463766)\", \"rgba(240, 2, 127, 0.6289855072463766)\", \"rgba(191, 91, 23, 0.6289855072463766)\", \"rgba(102, 102, 102, 0.6289855072463766)\", \"rgba(127, 201, 127, 0.6289855072463766)\", \"rgba(190, 174, 212, 0.6289855072463766)\", \"rgba(253, 192, 134, 0.6289855072463766)\", \"rgba(255, 255, 153, 0.6289855072463766)\", \"rgba(255, 255, 153, 0.5980676328502414)\", \"rgba(56, 108, 176, 0.5980676328502414)\", \"rgba(240, 2, 127, 0.5980676328502414)\", \"rgba(191, 91, 23, 0.5980676328502414)\", \"rgba(102, 102, 102, 0.5980676328502414)\", \"rgba(127, 201, 127, 0.5980676328502414)\", \"rgba(190, 174, 212, 0.5980676328502414)\", \"rgba(253, 192, 134, 0.5980676328502414)\", \"rgba(253, 192, 134, 0.5671497584541061)\", \"rgba(255, 255, 153, 0.5671497584541061)\", \"rgba(56, 108, 176, 0.5671497584541061)\", \"rgba(240, 2, 127, 0.5671497584541061)\", \"rgba(191, 91, 23, 0.5671497584541061)\", \"rgba(102, 102, 102, 0.5671497584541061)\", \"rgba(127, 201, 127, 0.5671497584541061)\", \"rgba(190, 174, 212, 0.5671497584541061)\", \"rgba(190, 174, 212, 0.5362318840579707)\", \"rgba(253, 192, 134, 0.5362318840579707)\", \"rgba(255, 255, 153, 0.5362318840579707)\", \"rgba(56, 108, 176, 0.5362318840579707)\", \"rgba(240, 2, 127, 0.5362318840579707)\", \"rgba(191, 91, 23, 0.5362318840579707)\", \"rgba(102, 102, 102, 0.5362318840579707)\", \"rgba(127, 201, 127, 0.5362318840579707)\", \"rgba(127, 201, 127, 0.5053140096618356)\", \"rgba(190, 174, 212, 0.5053140096618356)\", \"rgba(253, 192, 134, 0.5053140096618356)\", \"rgba(255, 255, 153, 0.5053140096618356)\", \"rgba(56, 108, 176, 0.5053140096618356)\", \"rgba(240, 2, 127, 0.5053140096618356)\", \"rgba(191, 91, 23, 0.5053140096618356)\", \"rgba(102, 102, 102, 0.5053140096618356)\", \"rgba(102, 102, 102, 0.4743961352657003)\", \"rgba(127, 201, 127, 0.4743961352657003)\", \"rgba(190, 174, 212, 0.4743961352657003)\", \"rgba(253, 192, 134, 0.4743961352657003)\", \"rgba(255, 255, 153, 0.4743961352657003)\", \"rgba(56, 108, 176, 0.4743961352657003)\", \"rgba(240, 2, 127, 0.4743961352657003)\", \"rgba(191, 91, 23, 0.4743961352657003)\", \"rgba(191, 91, 23, 0.44347826086956516)\", \"rgba(102, 102, 102, 0.44347826086956516)\", \"rgba(127, 201, 127, 0.44347826086956516)\", \"rgba(190, 174, 212, 0.44347826086956516)\", \"rgba(253, 192, 134, 0.44347826086956516)\", \"rgba(255, 255, 153, 0.44347826086956516)\", \"rgba(56, 108, 176, 0.44347826086956516)\", \"rgba(240, 2, 127, 0.44347826086956516)\", \"rgba(240, 2, 127, 0.4125603864734298)\", \"rgba(191, 91, 23, 0.4125603864734298)\", \"rgba(102, 102, 102, 0.4125603864734298)\", \"rgba(127, 201, 127, 0.4125603864734298)\", \"rgba(190, 174, 212, 0.4125603864734298)\", \"rgba(253, 192, 134, 0.4125603864734298)\", \"rgba(255, 255, 153, 0.4125603864734298)\", \"rgba(56, 108, 176, 0.4125603864734298)\", \"rgba(56, 108, 176, 0.38164251207729444)\", \"rgba(240, 2, 127, 0.38164251207729444)\", \"rgba(191, 91, 23, 0.38164251207729444)\", \"rgba(102, 102, 102, 0.38164251207729444)\", \"rgba(127, 201, 127, 0.38164251207729444)\", \"rgba(190, 174, 212, 0.38164251207729444)\", \"rgba(253, 192, 134, 0.38164251207729444)\", \"rgba(255, 255, 153, 0.38164251207729444)\", \"rgba(255, 255, 153, 0.3507246376811593)\", \"rgba(56, 108, 176, 0.3507246376811593)\", \"rgba(240, 2, 127, 0.3507246376811593)\", \"rgba(191, 91, 23, 0.3507246376811593)\", \"rgba(102, 102, 102, 0.3507246376811593)\", \"rgba(127, 201, 127, 0.3507246376811593)\", \"rgba(190, 174, 212, 0.3507246376811593)\", \"rgba(253, 192, 134, 0.3507246376811593)\", \"rgba(253, 192, 134, 0.31980676328502394)\", \"rgba(255, 255, 153, 0.31980676328502394)\", \"rgba(56, 108, 176, 0.31980676328502394)\", \"rgba(240, 2, 127, 0.31980676328502394)\", \"rgba(191, 91, 23, 0.31980676328502394)\", \"rgba(102, 102, 102, 0.31980676328502394)\", \"rgba(127, 201, 127, 0.31980676328502394)\", \"rgba(190, 174, 212, 0.31980676328502394)\", \"rgba(190, 174, 212, 0.2888888888888886)\", \"rgba(253, 192, 134, 0.2888888888888886)\", \"rgba(255, 255, 153, 0.2888888888888886)\", \"rgba(56, 108, 176, 0.2888888888888886)\", \"rgba(240, 2, 127, 0.2888888888888886)\", \"rgba(191, 91, 23, 0.2888888888888886)\", \"rgba(102, 102, 102, 0.2888888888888886)\", \"rgba(127, 201, 127, 0.2888888888888886)\", \"rgba(127, 201, 127, 0.25797101449275345)\", \"rgba(190, 174, 212, 0.25797101449275345)\", \"rgba(253, 192, 134, 0.25797101449275345)\", \"rgba(255, 255, 153, 0.25797101449275345)\", \"rgba(56, 108, 176, 0.25797101449275345)\", \"rgba(240, 2, 127, 0.25797101449275345)\", \"rgba(191, 91, 23, 0.25797101449275345)\", \"rgba(102, 102, 102, 0.25797101449275345)\", \"rgba(102, 102, 102, 0.2270531400966181)\", \"rgba(127, 201, 127, 0.2270531400966181)\", \"rgba(190, 174, 212, 0.2270531400966181)\", \"rgba(253, 192, 134, 0.2270531400966181)\", \"rgba(255, 255, 153, 0.2270531400966181)\", \"rgba(56, 108, 176, 0.2270531400966181)\", \"rgba(240, 2, 127, 0.2270531400966181)\"]}, \"name\": \"\", \"type\": \"pie\", \"values\": [3, 6, 74, 4, 4, 26, 9, 232, 34, 7, 518, 85, 69, 38, 33, 7, 13, 142, 138, 3, 6, 8, 2, 12, 11, 14, 583, 4, 3, 58, 5, 10, 6, 22, 405, 5, 5, 6, 2, 47, 499, 67, 157, 4, 10, 4, 9, 12, 15, 93, 143, 21, 135, 143, 8, 2, 30, 40, 137, 10, 1, 12, 49, 38, 5, 53, 67, 512, 6, 4, 45, 536, 15, 478, 104, 6, 5, 25, 5, 5, 7, 10, 23, 47, 204, 14, 130, 9, 31, 67, 20, 93, 59, 399, 77, 436, 8, 123, 80, 3, 8, 19, 5, 33, 9, 9, 3, 7, 3, 80, 15, 6, 6, 5, 42, 4, 6, 8, 5, 2, 11, 139, 23, 8, 46, 35, 52, 8, 8, 11, 2, 7, 329, 232, 5, 6, 77, 38, 77, 4, 7, 6, 6, 14, 8, 11, 34, 13, 289, 106, 41, 42, 12, 121, 406, 7, 9, 5, 4, 9, 4, 3, 11, 22, 127, 10, 4, 32, 63, 70, 3, 2, 155, 263, 3, 363, 10, 6, 6, 2, 186, 152, 7, 7, 7, 58, 3, 5, 7, 43, 65, 119, 9, 1, 23, 272, 12, 719, 7, 17, 80, 4, 105, 28, 3, 7, 31]}],                        {\"legend\": {\"bgcolor\": \"#F5F6F9\", \"font\": {\"color\": \"#4D5663\"}}, \"paper_bgcolor\": \"#F5F6F9\", \"plot_bgcolor\": \"#F5F6F9\", \"titlefont\": {\"color\": \"#4D5663\"}},                        {\"showLink\": true, \"linkText\": \"Export to plot.ly\", \"plotlyServerURL\": \"https://plot.ly\", \"responsive\": true}                    ).then(function(){\n",
       "                            \n",
       "var gd = document.getElementById('3bb9fdfa-139f-4349-aac5-45f30ba3f24c');\n",
       "var x = new MutationObserver(function (mutations, observer) {{\n",
       "        var display = window.getComputedStyle(gd).display;\n",
       "        if (!display || display === 'none') {{\n",
       "            console.log([gd, 'removed!']);\n",
       "            Plotly.purge(gd);\n",
       "            observer.disconnect();\n",
       "        }}\n",
       "}});\n",
       "\n",
       "// Listen for the removal of the full notebook cells\n",
       "var notebookContainer = gd.closest('#notebook-container');\n",
       "if (notebookContainer) {{\n",
       "    x.observe(notebookContainer, {childList: true});\n",
       "}}\n",
       "\n",
       "// Listen for the clearing of the current output cell\n",
       "var outputEl = gd.closest('.output');\n",
       "if (outputEl) {{\n",
       "    x.observe(outputEl, {childList: true});\n",
       "}}\n",
       "\n",
       "                        })                };                });            </script>        </div>"
      ]
     },
     "metadata": {},
     "output_type": "display_data"
    }
   ],
   "source": [
    "pie.iplot(kind=\"pie\",\n",
    "         labels = \"Team\",\n",
    "         values=\"Age\",\n",
    "         colorscale=\"accent\",\n",
    "         )"
   ]
  },
  {
   "cell_type": "code",
   "execution_count": 76,
   "metadata": {
    "ExecuteTime": {
     "end_time": "2020-12-08T16:37:19.235352Z",
     "start_time": "2020-12-08T16:37:19.218355Z"
    }
   },
   "outputs": [],
   "source": [
    "olderst = data_latest[data_latest['Age'] == data_latest['Age'].max()]"
   ]
  },
  {
   "cell_type": "code",
   "execution_count": 77,
   "metadata": {
    "ExecuteTime": {
     "end_time": "2020-12-08T16:37:21.941596Z",
     "start_time": "2020-12-08T16:37:21.691784Z"
    }
   },
   "outputs": [
    {
     "ename": "ValueError",
     "evalue": "No axis named 62.0 for object type <class 'pandas.core.frame.DataFrame'>",
     "output_type": "error",
     "traceback": [
      "\u001b[1;31m---------------------------------------------------------------------------\u001b[0m",
      "\u001b[1;31mValueError\u001b[0m                                Traceback (most recent call last)",
      "\u001b[1;32m<ipython-input-77-e6f3501d4e58>\u001b[0m in \u001b[0;36m<module>\u001b[1;34m\u001b[0m\n\u001b[1;32m----> 1\u001b[1;33m \u001b[0mdata_latest\u001b[0m\u001b[1;33m.\u001b[0m\u001b[0mall\u001b[0m\u001b[1;33m(\u001b[0m\u001b[0mdata_latest\u001b[0m\u001b[1;33m[\u001b[0m\u001b[1;34m'Age'\u001b[0m\u001b[1;33m]\u001b[0m\u001b[1;33m.\u001b[0m\u001b[0mmax\u001b[0m\u001b[1;33m(\u001b[0m\u001b[1;33m)\u001b[0m\u001b[1;33m)\u001b[0m\u001b[1;33m\u001b[0m\u001b[1;33m\u001b[0m\u001b[0m\n\u001b[0m",
      "\u001b[1;32m~\\AppData\\Roaming\\Python\\Python37\\site-packages\\pandas\\core\\generic.py\u001b[0m in \u001b[0;36mlogical_func\u001b[1;34m(self, axis, bool_only, skipna, level, **kwargs)\u001b[0m\n\u001b[0;32m   9686\u001b[0m                                       skipna=skipna)\n\u001b[0;32m   9687\u001b[0m         return self._reduce(f, name, axis=axis, skipna=skipna,\n\u001b[1;32m-> 9688\u001b[1;33m                             numeric_only=bool_only, filter_type='bool')\n\u001b[0m\u001b[0;32m   9689\u001b[0m \u001b[1;33m\u001b[0m\u001b[0m\n\u001b[0;32m   9690\u001b[0m     \u001b[1;32mreturn\u001b[0m \u001b[0mset_function_name\u001b[0m\u001b[1;33m(\u001b[0m\u001b[0mlogical_func\u001b[0m\u001b[1;33m,\u001b[0m \u001b[0mname\u001b[0m\u001b[1;33m,\u001b[0m \u001b[0mcls\u001b[0m\u001b[1;33m)\u001b[0m\u001b[1;33m\u001b[0m\u001b[1;33m\u001b[0m\u001b[0m\n",
      "\u001b[1;32m~\\AppData\\Roaming\\Python\\Python37\\site-packages\\pandas\\core\\frame.py\u001b[0m in \u001b[0;36m_reduce\u001b[1;34m(self, op, name, axis, skipna, numeric_only, filter_type, **kwds)\u001b[0m\n\u001b[0;32m   6850\u001b[0m         \u001b[1;32melse\u001b[0m\u001b[1;33m:\u001b[0m\u001b[1;33m\u001b[0m\u001b[1;33m\u001b[0m\u001b[0m\n\u001b[0;32m   6851\u001b[0m             \u001b[1;31m# TODO: Make other agg func handle axis=None properly\u001b[0m\u001b[1;33m\u001b[0m\u001b[1;33m\u001b[0m\u001b[1;33m\u001b[0m\u001b[0m\n\u001b[1;32m-> 6852\u001b[1;33m             \u001b[0maxis\u001b[0m \u001b[1;33m=\u001b[0m \u001b[0mself\u001b[0m\u001b[1;33m.\u001b[0m\u001b[0m_get_axis_number\u001b[0m\u001b[1;33m(\u001b[0m\u001b[0maxis\u001b[0m\u001b[1;33m)\u001b[0m\u001b[1;33m\u001b[0m\u001b[1;33m\u001b[0m\u001b[0m\n\u001b[0m\u001b[0;32m   6853\u001b[0m             \u001b[0mlabels\u001b[0m \u001b[1;33m=\u001b[0m \u001b[0mself\u001b[0m\u001b[1;33m.\u001b[0m\u001b[0m_get_agg_axis\u001b[0m\u001b[1;33m(\u001b[0m\u001b[0maxis\u001b[0m\u001b[1;33m)\u001b[0m\u001b[1;33m\u001b[0m\u001b[1;33m\u001b[0m\u001b[0m\n\u001b[0;32m   6854\u001b[0m             \u001b[0mconstructor\u001b[0m \u001b[1;33m=\u001b[0m \u001b[0mself\u001b[0m\u001b[1;33m.\u001b[0m\u001b[0m_constructor\u001b[0m\u001b[1;33m\u001b[0m\u001b[1;33m\u001b[0m\u001b[0m\n",
      "\u001b[1;32m~\\AppData\\Roaming\\Python\\Python37\\site-packages\\pandas\\core\\generic.py\u001b[0m in \u001b[0;36m_get_axis_number\u001b[1;34m(self, axis)\u001b[0m\n\u001b[0;32m    373\u001b[0m                 \u001b[1;32mpass\u001b[0m\u001b[1;33m\u001b[0m\u001b[1;33m\u001b[0m\u001b[0m\n\u001b[0;32m    374\u001b[0m         raise ValueError('No axis named {0} for object type {1}'\n\u001b[1;32m--> 375\u001b[1;33m                          .format(axis, type(self)))\n\u001b[0m\u001b[0;32m    376\u001b[0m \u001b[1;33m\u001b[0m\u001b[0m\n\u001b[0;32m    377\u001b[0m     \u001b[1;32mdef\u001b[0m \u001b[0m_get_axis_name\u001b[0m\u001b[1;33m(\u001b[0m\u001b[0mself\u001b[0m\u001b[1;33m,\u001b[0m \u001b[0maxis\u001b[0m\u001b[1;33m)\u001b[0m\u001b[1;33m:\u001b[0m\u001b[1;33m\u001b[0m\u001b[1;33m\u001b[0m\u001b[0m\n",
      "\u001b[1;31mValueError\u001b[0m: No axis named 62.0 for object type <class 'pandas.core.frame.DataFrame'>"
     ]
    }
   ],
   "source": [
    "data_latest.all(data_latest['Age'].max())"
   ]
  },
  {
   "cell_type": "code",
   "execution_count": null,
   "metadata": {
    "ExecuteTime": {
     "end_time": "2020-12-07T21:31:48.663197Z",
     "start_time": "2020-12-07T21:31:48.378066Z"
    }
   },
   "outputs": [],
   "source": []
  },
  {
   "cell_type": "code",
   "execution_count": 78,
   "metadata": {
    "ExecuteTime": {
     "end_time": "2020-12-08T16:37:27.521384Z",
     "start_time": "2020-12-08T16:37:27.510381Z"
    }
   },
   "outputs": [
    {
     "name": "stdout",
     "output_type": "stream",
     "text": [
      "The oldest player to take part in olympics 2018 is : \n",
      "\n",
      "index                                        29912\n",
      "ID                                           15436\n",
      "Name                                Julie Brougham\n",
      "Sex                                              F\n",
      "Age                                             62\n",
      "Height                                         157\n",
      "Weight                                          48\n",
      "Team                                   New Zealand\n",
      "NOC                                            NZL\n",
      "Games                                  2016 Summer\n",
      "Year                                          2016\n",
      "Season                                      Summer\n",
      "City                                Rio de Janeiro\n",
      "Sport                                Equestrianism\n",
      "Event     Equestrianism Mixed Dressage, Individual\n",
      "Medal                                          NaN\n",
      "Name: 1612, dtype: object\n"
     ]
    }
   ],
   "source": [
    "print ( \"The oldest player to take part in olympics 2018 is : \\n\")\n",
    "print(data_latest.iloc[data_latest['Age'].idxmax()])"
   ]
  },
  {
   "cell_type": "code",
   "execution_count": 79,
   "metadata": {
    "ExecuteTime": {
     "end_time": "2020-12-08T16:37:28.713101Z",
     "start_time": "2020-12-08T16:37:28.691112Z"
    }
   },
   "outputs": [
    {
     "name": "stdout",
     "output_type": "stream",
     "text": [
      "The youngest player to take part in olympics 2018 is : \n",
      "\n",
      "index                                     49377\n",
      "ID                                        25434\n",
      "Name                            Ana Iulia Dascl\n",
      "Sex                                           F\n",
      "Age                                          13\n",
      "Height                                      183\n",
      "Weight                                       60\n",
      "Team                                    Romania\n",
      "NOC                                         ROU\n",
      "Games                               2016 Summer\n",
      "Year                                       2016\n",
      "Season                                   Summer\n",
      "City                             Rio de Janeiro\n",
      "Sport                                  Swimming\n",
      "Event     Swimming Women's 100 metres Freestyle\n",
      "Medal                                       NaN\n",
      "Name: 2662, dtype: object\n"
     ]
    }
   ],
   "source": [
    "print ( \"The youngest player to take part in olympics 2018 is : \\n\")\n",
    "print(data_latest.iloc[data_latest['Age'].idxmin()])"
   ]
  },
  {
   "cell_type": "code",
   "execution_count": null,
   "metadata": {},
   "outputs": [],
   "source": []
  }
 ],
 "metadata": {
  "kernelspec": {
   "display_name": "Python 3",
   "language": "python",
   "name": "python3"
  },
  "language_info": {
   "codemirror_mode": {
    "name": "ipython",
    "version": 3
   },
   "file_extension": ".py",
   "mimetype": "text/x-python",
   "name": "python",
   "nbconvert_exporter": "python",
   "pygments_lexer": "ipython3",
   "version": "3.7.1"
  },
  "toc": {
   "base_numbering": 1,
   "nav_menu": {},
   "number_sections": true,
   "sideBar": true,
   "skip_h1_title": false,
   "title_cell": "Table of Contents",
   "title_sidebar": "Contents",
   "toc_cell": false,
   "toc_position": {},
   "toc_section_display": true,
   "toc_window_display": false
  },
  "varInspector": {
   "cols": {
    "lenName": 16,
    "lenType": 16,
    "lenVar": 40
   },
   "kernels_config": {
    "python": {
     "delete_cmd_postfix": "",
     "delete_cmd_prefix": "del ",
     "library": "var_list.py",
     "varRefreshCmd": "print(var_dic_list())"
    },
    "r": {
     "delete_cmd_postfix": ") ",
     "delete_cmd_prefix": "rm(",
     "library": "var_list.r",
     "varRefreshCmd": "cat(var_dic_list()) "
    }
   },
   "types_to_exclude": [
    "module",
    "function",
    "builtin_function_or_method",
    "instance",
    "_Feature"
   ],
   "window_display": false
  }
 },
 "nbformat": 4,
 "nbformat_minor": 2
}
